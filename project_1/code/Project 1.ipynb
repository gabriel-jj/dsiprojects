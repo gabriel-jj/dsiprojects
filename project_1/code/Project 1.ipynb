{
 "cells": [
  {
   "cell_type": "markdown",
   "metadata": {},
   "source": [
    "# Project 1: SAT & ACT Analysis"
   ]
  },
  {
   "cell_type": "markdown",
   "metadata": {},
   "source": [
    "The first markdown cell in a notebook is a great place to provide an overview of your entire project. You will likely want to at least state your\n",
    "\n",
    "## Problem Statement"
   ]
  },
  {
   "cell_type": "markdown",
   "metadata": {},
   "source": [
    "The participation rate of ACT has decreased from year 2017 to 2018, in contrast to SAT which increases from year 2017 to 2018. In order to boost it's market share in the various states, what strategies can be implemented to encourage the graduates to take the ACT college admission test?"
   ]
  },
  {
   "cell_type": "markdown",
   "metadata": {},
   "source": [
    "## Executive Summary\n",
    "\n",
    "The objective of this report is to describe and infer our study of the two main standardized test used for college admission in the United States and recommend how the college board might increase participation amongst the graduating student in the state.\n",
    "\n",
    "The study included a detailed look at the aggregate scores and participation rate of each standardized test, ACT and SAT for year 2017 and 2018.\n",
    "\n",
    "It has been observed the participation rate is greatly influenced by the state decisions to make either one of the standardized test a mandatory for high school graduates. By standardizing on one test, it is proven that the graduates score is much constant as students are more prepared for the test. In one of the analysis, the drop in mean and median score for SAT 2017 and SAT 2018 compared to ACT score shows that the sudden change in test (e.g. from ACT to SAT) impacted the graduate's total score. It might be due to the fact the state student has been following the specific test syllabus since they joined the school hence a change in test might be disadvantage to them as the subject and test framework might be different.\n",
    "\n",
    "In order to increase the participation rates, the college board can consider incorporate both of the subject and test framework into the school syllabus itself so that graduates can be familiarize with the both test. With that they can allow the graduates to choose which test (or both) they are more comfortable or confident in, instead of restricting them to a mandatory one. In addition by eliminating barriers to the test, like subsidizing the test cost and offering the graduates greater flexibility to take the exams on weekdays and weekends, graduates that are less fortunate will be able to participate in any of the test.\n"
   ]
  },
  {
   "cell_type": "markdown",
   "metadata": {},
   "source": [
    "### Contents:\n",
    "- [2017 Data Import & Cleaning](#2017-Data-Import-and-Cleaning)\n",
    "- [2018 Data Import and Cleaning](#2018-Data-Import-and-Cleaning)\n",
    "- [Exploratory Data Analysis](#Exploratory-Data-Analysis)\n",
    "- [Data Visualization](#Visualize-the-data)\n",
    "- [Descriptive and Inferential Statistics](#Descriptive-and-Inferential-Statistics)\n",
    "- [Outside Research](#Outside-Research)\n",
    "- [Conclusions and Recommendations](#Conclusions-and-Recommendations)"
   ]
  },
  {
   "cell_type": "code",
   "execution_count": 1,
   "metadata": {},
   "outputs": [],
   "source": [
    "#Imports:\n",
    "\n",
    "import numpy as np\n",
    "import pandas as pd\n",
    "import matplotlib.pyplot as plt\n",
    "import scipy.stats as stats\n",
    "import seaborn as sns"
   ]
  },
  {
   "cell_type": "markdown",
   "metadata": {},
   "source": [
    "## 2017 Data Import and Cleaning"
   ]
  },
  {
   "cell_type": "markdown",
   "metadata": {},
   "source": [
    "#### 1. Read In SAT & ACT  Data\n",
    "\n",
    "Read in the `sat_2017.csv` and `act_2017.csv` files and assign them to appropriately named pandas dataframes."
   ]
  },
  {
   "cell_type": "code",
   "execution_count": 2,
   "metadata": {
    "scrolled": false
   },
   "outputs": [],
   "source": [
    "#Code:\n",
    "sat_2017 = pd.read_csv('data/sat_2017.csv')\n",
    "act_2017 = pd.read_csv('data/act_2017.csv')"
   ]
  },
  {
   "cell_type": "markdown",
   "metadata": {},
   "source": [
    "#### 2. Display Data\n",
    "\n",
    "Print the first 10 rows of each dataframe to your jupyter notebook"
   ]
  },
  {
   "cell_type": "code",
   "execution_count": 3,
   "metadata": {
    "scrolled": false
   },
   "outputs": [
    {
     "data": {
      "text/html": [
       "<div>\n",
       "<style scoped>\n",
       "    .dataframe tbody tr th:only-of-type {\n",
       "        vertical-align: middle;\n",
       "    }\n",
       "\n",
       "    .dataframe tbody tr th {\n",
       "        vertical-align: top;\n",
       "    }\n",
       "\n",
       "    .dataframe thead th {\n",
       "        text-align: right;\n",
       "    }\n",
       "</style>\n",
       "<table border=\"1\" class=\"dataframe\">\n",
       "  <thead>\n",
       "    <tr style=\"text-align: right;\">\n",
       "      <th></th>\n",
       "      <th>State</th>\n",
       "      <th>Participation</th>\n",
       "      <th>Evidence-Based Reading and Writing</th>\n",
       "      <th>Math</th>\n",
       "      <th>Total</th>\n",
       "    </tr>\n",
       "  </thead>\n",
       "  <tbody>\n",
       "    <tr>\n",
       "      <th>0</th>\n",
       "      <td>Alabama</td>\n",
       "      <td>5%</td>\n",
       "      <td>593</td>\n",
       "      <td>572</td>\n",
       "      <td>1165</td>\n",
       "    </tr>\n",
       "    <tr>\n",
       "      <th>1</th>\n",
       "      <td>Alaska</td>\n",
       "      <td>38%</td>\n",
       "      <td>547</td>\n",
       "      <td>533</td>\n",
       "      <td>1080</td>\n",
       "    </tr>\n",
       "    <tr>\n",
       "      <th>2</th>\n",
       "      <td>Arizona</td>\n",
       "      <td>30%</td>\n",
       "      <td>563</td>\n",
       "      <td>553</td>\n",
       "      <td>1116</td>\n",
       "    </tr>\n",
       "    <tr>\n",
       "      <th>3</th>\n",
       "      <td>Arkansas</td>\n",
       "      <td>3%</td>\n",
       "      <td>614</td>\n",
       "      <td>594</td>\n",
       "      <td>1208</td>\n",
       "    </tr>\n",
       "    <tr>\n",
       "      <th>4</th>\n",
       "      <td>California</td>\n",
       "      <td>53%</td>\n",
       "      <td>531</td>\n",
       "      <td>524</td>\n",
       "      <td>1055</td>\n",
       "    </tr>\n",
       "    <tr>\n",
       "      <th>5</th>\n",
       "      <td>Colorado</td>\n",
       "      <td>11%</td>\n",
       "      <td>606</td>\n",
       "      <td>595</td>\n",
       "      <td>1201</td>\n",
       "    </tr>\n",
       "    <tr>\n",
       "      <th>6</th>\n",
       "      <td>Connecticut</td>\n",
       "      <td>100%</td>\n",
       "      <td>530</td>\n",
       "      <td>512</td>\n",
       "      <td>1041</td>\n",
       "    </tr>\n",
       "    <tr>\n",
       "      <th>7</th>\n",
       "      <td>Delaware</td>\n",
       "      <td>100%</td>\n",
       "      <td>503</td>\n",
       "      <td>492</td>\n",
       "      <td>996</td>\n",
       "    </tr>\n",
       "    <tr>\n",
       "      <th>8</th>\n",
       "      <td>District of Columbia</td>\n",
       "      <td>100%</td>\n",
       "      <td>482</td>\n",
       "      <td>468</td>\n",
       "      <td>950</td>\n",
       "    </tr>\n",
       "    <tr>\n",
       "      <th>9</th>\n",
       "      <td>Florida</td>\n",
       "      <td>83%</td>\n",
       "      <td>520</td>\n",
       "      <td>497</td>\n",
       "      <td>1017</td>\n",
       "    </tr>\n",
       "  </tbody>\n",
       "</table>\n",
       "</div>"
      ],
      "text/plain": [
       "                  State Participation  Evidence-Based Reading and Writing  \\\n",
       "0               Alabama            5%                                 593   \n",
       "1                Alaska           38%                                 547   \n",
       "2               Arizona           30%                                 563   \n",
       "3              Arkansas            3%                                 614   \n",
       "4            California           53%                                 531   \n",
       "5              Colorado           11%                                 606   \n",
       "6           Connecticut          100%                                 530   \n",
       "7              Delaware          100%                                 503   \n",
       "8  District of Columbia          100%                                 482   \n",
       "9               Florida           83%                                 520   \n",
       "\n",
       "   Math  Total  \n",
       "0   572   1165  \n",
       "1   533   1080  \n",
       "2   553   1116  \n",
       "3   594   1208  \n",
       "4   524   1055  \n",
       "5   595   1201  \n",
       "6   512   1041  \n",
       "7   492    996  \n",
       "8   468    950  \n",
       "9   497   1017  "
      ]
     },
     "execution_count": 3,
     "metadata": {},
     "output_type": "execute_result"
    }
   ],
   "source": [
    "#Code:\n",
    "\n",
    "sat_2017.head(10)"
   ]
  },
  {
   "cell_type": "code",
   "execution_count": 4,
   "metadata": {
    "scrolled": true
   },
   "outputs": [
    {
     "data": {
      "text/html": [
       "<div>\n",
       "<style scoped>\n",
       "    .dataframe tbody tr th:only-of-type {\n",
       "        vertical-align: middle;\n",
       "    }\n",
       "\n",
       "    .dataframe tbody tr th {\n",
       "        vertical-align: top;\n",
       "    }\n",
       "\n",
       "    .dataframe thead th {\n",
       "        text-align: right;\n",
       "    }\n",
       "</style>\n",
       "<table border=\"1\" class=\"dataframe\">\n",
       "  <thead>\n",
       "    <tr style=\"text-align: right;\">\n",
       "      <th></th>\n",
       "      <th>State</th>\n",
       "      <th>Participation</th>\n",
       "      <th>English</th>\n",
       "      <th>Math</th>\n",
       "      <th>Reading</th>\n",
       "      <th>Science</th>\n",
       "      <th>Composite</th>\n",
       "    </tr>\n",
       "  </thead>\n",
       "  <tbody>\n",
       "    <tr>\n",
       "      <th>0</th>\n",
       "      <td>National</td>\n",
       "      <td>60%</td>\n",
       "      <td>20.3</td>\n",
       "      <td>20.7</td>\n",
       "      <td>21.4</td>\n",
       "      <td>21.0</td>\n",
       "      <td>21.0</td>\n",
       "    </tr>\n",
       "    <tr>\n",
       "      <th>1</th>\n",
       "      <td>Alabama</td>\n",
       "      <td>100%</td>\n",
       "      <td>18.9</td>\n",
       "      <td>18.4</td>\n",
       "      <td>19.7</td>\n",
       "      <td>19.4</td>\n",
       "      <td>19.2</td>\n",
       "    </tr>\n",
       "    <tr>\n",
       "      <th>2</th>\n",
       "      <td>Alaska</td>\n",
       "      <td>65%</td>\n",
       "      <td>18.7</td>\n",
       "      <td>19.8</td>\n",
       "      <td>20.4</td>\n",
       "      <td>19.9</td>\n",
       "      <td>19.8</td>\n",
       "    </tr>\n",
       "    <tr>\n",
       "      <th>3</th>\n",
       "      <td>Arizona</td>\n",
       "      <td>62%</td>\n",
       "      <td>18.6</td>\n",
       "      <td>19.8</td>\n",
       "      <td>20.1</td>\n",
       "      <td>19.8</td>\n",
       "      <td>19.7</td>\n",
       "    </tr>\n",
       "    <tr>\n",
       "      <th>4</th>\n",
       "      <td>Arkansas</td>\n",
       "      <td>100%</td>\n",
       "      <td>18.9</td>\n",
       "      <td>19.0</td>\n",
       "      <td>19.7</td>\n",
       "      <td>19.5</td>\n",
       "      <td>19.4</td>\n",
       "    </tr>\n",
       "    <tr>\n",
       "      <th>5</th>\n",
       "      <td>California</td>\n",
       "      <td>31%</td>\n",
       "      <td>22.5</td>\n",
       "      <td>22.7</td>\n",
       "      <td>23.1</td>\n",
       "      <td>22.2</td>\n",
       "      <td>22.8</td>\n",
       "    </tr>\n",
       "    <tr>\n",
       "      <th>6</th>\n",
       "      <td>Colorado</td>\n",
       "      <td>100%</td>\n",
       "      <td>20.1</td>\n",
       "      <td>20.3</td>\n",
       "      <td>21.2</td>\n",
       "      <td>20.9</td>\n",
       "      <td>20.8</td>\n",
       "    </tr>\n",
       "    <tr>\n",
       "      <th>7</th>\n",
       "      <td>Connecticut</td>\n",
       "      <td>31%</td>\n",
       "      <td>25.5</td>\n",
       "      <td>24.6</td>\n",
       "      <td>25.6</td>\n",
       "      <td>24.6</td>\n",
       "      <td>25.2</td>\n",
       "    </tr>\n",
       "    <tr>\n",
       "      <th>8</th>\n",
       "      <td>Delaware</td>\n",
       "      <td>18%</td>\n",
       "      <td>24.1</td>\n",
       "      <td>23.4</td>\n",
       "      <td>24.8</td>\n",
       "      <td>23.6</td>\n",
       "      <td>24.1</td>\n",
       "    </tr>\n",
       "    <tr>\n",
       "      <th>9</th>\n",
       "      <td>District of Columbia</td>\n",
       "      <td>32%</td>\n",
       "      <td>24.4</td>\n",
       "      <td>23.5</td>\n",
       "      <td>24.9</td>\n",
       "      <td>23.5</td>\n",
       "      <td>24.2</td>\n",
       "    </tr>\n",
       "  </tbody>\n",
       "</table>\n",
       "</div>"
      ],
      "text/plain": [
       "                  State Participation  English  Math  Reading  Science  \\\n",
       "0              National           60%     20.3  20.7     21.4     21.0   \n",
       "1               Alabama          100%     18.9  18.4     19.7     19.4   \n",
       "2                Alaska           65%     18.7  19.8     20.4     19.9   \n",
       "3               Arizona           62%     18.6  19.8     20.1     19.8   \n",
       "4              Arkansas          100%     18.9  19.0     19.7     19.5   \n",
       "5            California           31%     22.5  22.7     23.1     22.2   \n",
       "6              Colorado          100%     20.1  20.3     21.2     20.9   \n",
       "7           Connecticut           31%     25.5  24.6     25.6     24.6   \n",
       "8              Delaware           18%     24.1  23.4     24.8     23.6   \n",
       "9  District of Columbia           32%     24.4  23.5     24.9     23.5   \n",
       "\n",
       "  Composite  \n",
       "0      21.0  \n",
       "1      19.2  \n",
       "2      19.8  \n",
       "3      19.7  \n",
       "4      19.4  \n",
       "5      22.8  \n",
       "6      20.8  \n",
       "7      25.2  \n",
       "8      24.1  \n",
       "9      24.2  "
      ]
     },
     "execution_count": 4,
     "metadata": {},
     "output_type": "execute_result"
    }
   ],
   "source": [
    "act_2017.head(10)"
   ]
  },
  {
   "cell_type": "markdown",
   "metadata": {},
   "source": [
    "#### 3. Verbally Describe Data\n",
    "\n",
    "Take your time looking through the data and thoroughly describe the data in the markdown cell below. "
   ]
  },
  {
   "cell_type": "markdown",
   "metadata": {},
   "source": [
    "SAT - there are 5 columns namely State, Participation, Evidence-Based Reading and Writing, Math and\tTotal\n",
    "\n",
    "ACT - there are 7 columns namely Sate, Participation, English, Math, Reading, Science and Composite"
   ]
  },
  {
   "cell_type": "markdown",
   "metadata": {},
   "source": [
    "#### 4a. Does the data look complete? "
   ]
  },
  {
   "cell_type": "markdown",
   "metadata": {},
   "source": [
    "In SAT there is a missing row on national data "
   ]
  },
  {
   "cell_type": "markdown",
   "metadata": {},
   "source": [
    "#### 4b. Are there any obvious issues with the observations?\n",
    "\n",
    "**What is the minimum *possible* value for each test/subtest? What is the maximum *possible* value?**\n",
    "\n",
    "Consider comparing any questionable values to the sources of your data:\n",
    "- [SAT](https://blog.collegevine.com/here-are-the-average-sat-scores-by-state/)\n",
    "- [ACT](https://blog.prepscholar.com/act-scores-by-state-averages-highs-and-lows)"
   ]
  },
  {
   "cell_type": "markdown",
   "metadata": {},
   "source": [
    "The SAT is scored on a scale of 400-1600\n",
    "\n",
    "The ACT will be scored on a scale of 1-36"
   ]
  },
  {
   "cell_type": "markdown",
   "metadata": {},
   "source": [
    "#### 4c. Fix any errors you identified\n",
    "\n",
    "**The data is available** so there's no need to guess or calculate anything. If you didn't find any errors, continue to the next step."
   ]
  },
  {
   "cell_type": "code",
   "execution_count": 5,
   "metadata": {
    "scrolled": true
   },
   "outputs": [
    {
     "data": {
      "text/html": [
       "<div>\n",
       "<style scoped>\n",
       "    .dataframe tbody tr th:only-of-type {\n",
       "        vertical-align: middle;\n",
       "    }\n",
       "\n",
       "    .dataframe tbody tr th {\n",
       "        vertical-align: top;\n",
       "    }\n",
       "\n",
       "    .dataframe thead th {\n",
       "        text-align: right;\n",
       "    }\n",
       "</style>\n",
       "<table border=\"1\" class=\"dataframe\">\n",
       "  <thead>\n",
       "    <tr style=\"text-align: right;\">\n",
       "      <th></th>\n",
       "      <th>State</th>\n",
       "      <th>Participation</th>\n",
       "      <th>English</th>\n",
       "      <th>Math</th>\n",
       "      <th>Reading</th>\n",
       "      <th>Science</th>\n",
       "      <th>Composite</th>\n",
       "    </tr>\n",
       "  </thead>\n",
       "  <tbody>\n",
       "    <tr>\n",
       "      <th>0</th>\n",
       "      <td>National</td>\n",
       "      <td>60%</td>\n",
       "      <td>20.3</td>\n",
       "      <td>20.7</td>\n",
       "      <td>21.4</td>\n",
       "      <td>21.0</td>\n",
       "      <td>21.0</td>\n",
       "    </tr>\n",
       "    <tr>\n",
       "      <th>1</th>\n",
       "      <td>Alabama</td>\n",
       "      <td>100%</td>\n",
       "      <td>18.9</td>\n",
       "      <td>18.4</td>\n",
       "      <td>19.7</td>\n",
       "      <td>19.4</td>\n",
       "      <td>19.2</td>\n",
       "    </tr>\n",
       "    <tr>\n",
       "      <th>2</th>\n",
       "      <td>Alaska</td>\n",
       "      <td>65%</td>\n",
       "      <td>18.7</td>\n",
       "      <td>19.8</td>\n",
       "      <td>20.4</td>\n",
       "      <td>19.9</td>\n",
       "      <td>19.8</td>\n",
       "    </tr>\n",
       "    <tr>\n",
       "      <th>3</th>\n",
       "      <td>Arizona</td>\n",
       "      <td>62%</td>\n",
       "      <td>18.6</td>\n",
       "      <td>19.8</td>\n",
       "      <td>20.1</td>\n",
       "      <td>19.8</td>\n",
       "      <td>19.7</td>\n",
       "    </tr>\n",
       "    <tr>\n",
       "      <th>4</th>\n",
       "      <td>Arkansas</td>\n",
       "      <td>100%</td>\n",
       "      <td>18.9</td>\n",
       "      <td>19.0</td>\n",
       "      <td>19.7</td>\n",
       "      <td>19.5</td>\n",
       "      <td>19.4</td>\n",
       "    </tr>\n",
       "  </tbody>\n",
       "</table>\n",
       "</div>"
      ],
      "text/plain": [
       "      State Participation  English  Math  Reading  Science Composite\n",
       "0  National           60%     20.3  20.7     21.4     21.0      21.0\n",
       "1   Alabama          100%     18.9  18.4     19.7     19.4      19.2\n",
       "2    Alaska           65%     18.7  19.8     20.4     19.9      19.8\n",
       "3   Arizona           62%     18.6  19.8     20.1     19.8      19.7\n",
       "4  Arkansas          100%     18.9  19.0     19.7     19.5      19.4"
      ]
     },
     "execution_count": 5,
     "metadata": {},
     "output_type": "execute_result"
    }
   ],
   "source": [
    "# Fix the error values the respective correct value\n",
    "\n",
    "act_2017.loc[21,'Science'] = 23.2\n",
    "act_2017.loc[51,'Composite'] = 20.2\n",
    "act_2017.head()"
   ]
  },
  {
   "cell_type": "code",
   "execution_count": 6,
   "metadata": {
    "scrolled": true
   },
   "outputs": [
    {
     "data": {
      "text/html": [
       "<div>\n",
       "<style scoped>\n",
       "    .dataframe tbody tr th:only-of-type {\n",
       "        vertical-align: middle;\n",
       "    }\n",
       "\n",
       "    .dataframe tbody tr th {\n",
       "        vertical-align: top;\n",
       "    }\n",
       "\n",
       "    .dataframe thead th {\n",
       "        text-align: right;\n",
       "    }\n",
       "</style>\n",
       "<table border=\"1\" class=\"dataframe\">\n",
       "  <thead>\n",
       "    <tr style=\"text-align: right;\">\n",
       "      <th></th>\n",
       "      <th>State</th>\n",
       "      <th>Participation</th>\n",
       "      <th>Evidence-Based Reading and Writing</th>\n",
       "      <th>Math</th>\n",
       "      <th>Total</th>\n",
       "    </tr>\n",
       "  </thead>\n",
       "  <tbody>\n",
       "    <tr>\n",
       "      <th>0</th>\n",
       "      <td>Alabama</td>\n",
       "      <td>5%</td>\n",
       "      <td>593</td>\n",
       "      <td>572</td>\n",
       "      <td>1165</td>\n",
       "    </tr>\n",
       "    <tr>\n",
       "      <th>1</th>\n",
       "      <td>Alaska</td>\n",
       "      <td>38%</td>\n",
       "      <td>547</td>\n",
       "      <td>533</td>\n",
       "      <td>1080</td>\n",
       "    </tr>\n",
       "    <tr>\n",
       "      <th>2</th>\n",
       "      <td>Arizona</td>\n",
       "      <td>30%</td>\n",
       "      <td>563</td>\n",
       "      <td>553</td>\n",
       "      <td>1116</td>\n",
       "    </tr>\n",
       "    <tr>\n",
       "      <th>3</th>\n",
       "      <td>Arkansas</td>\n",
       "      <td>3%</td>\n",
       "      <td>614</td>\n",
       "      <td>594</td>\n",
       "      <td>1208</td>\n",
       "    </tr>\n",
       "    <tr>\n",
       "      <th>4</th>\n",
       "      <td>California</td>\n",
       "      <td>53%</td>\n",
       "      <td>531</td>\n",
       "      <td>524</td>\n",
       "      <td>1055</td>\n",
       "    </tr>\n",
       "  </tbody>\n",
       "</table>\n",
       "</div>"
      ],
      "text/plain": [
       "        State Participation  Evidence-Based Reading and Writing  Math  Total\n",
       "0     Alabama            5%                                 593   572   1165\n",
       "1      Alaska           38%                                 547   533   1080\n",
       "2     Arizona           30%                                 563   553   1116\n",
       "3    Arkansas            3%                                 614   594   1208\n",
       "4  California           53%                                 531   524   1055"
      ]
     },
     "execution_count": 6,
     "metadata": {},
     "output_type": "execute_result"
    }
   ],
   "source": [
    "# Fix the error values the respective correct value\n",
    "\n",
    "sat_2017.loc[20,'Math'] = 524\n",
    "sat_2017.head()"
   ]
  },
  {
   "cell_type": "markdown",
   "metadata": {},
   "source": [
    "#### 5. What are your data types? \n",
    "Display the data types of each feature. "
   ]
  },
  {
   "cell_type": "code",
   "execution_count": 7,
   "metadata": {},
   "outputs": [
    {
     "data": {
      "text/plain": [
       "State                                 object\n",
       "Participation                         object\n",
       "Evidence-Based Reading and Writing     int64\n",
       "Math                                   int64\n",
       "Total                                  int64\n",
       "dtype: object"
      ]
     },
     "execution_count": 7,
     "metadata": {},
     "output_type": "execute_result"
    }
   ],
   "source": [
    "# Display data types\n",
    "\n",
    "sat_2017.dtypes"
   ]
  },
  {
   "cell_type": "code",
   "execution_count": 8,
   "metadata": {},
   "outputs": [
    {
     "data": {
      "text/plain": [
       "State             object\n",
       "Participation     object\n",
       "English          float64\n",
       "Math             float64\n",
       "Reading          float64\n",
       "Science          float64\n",
       "Composite         object\n",
       "dtype: object"
      ]
     },
     "execution_count": 8,
     "metadata": {},
     "output_type": "execute_result"
    }
   ],
   "source": [
    "act_2017.dtypes"
   ]
  },
  {
   "cell_type": "markdown",
   "metadata": {},
   "source": [
    "What did you learn?\n",
    "- Do any of them seem odd?  \n",
    "- Which ones are not as they should be?  "
   ]
  },
  {
   "cell_type": "markdown",
   "metadata": {},
   "source": [
    "Answer: \n",
    "\n",
    "ACT: The Composite and Participation data type should'nt be an object, it should be float type\n",
    "\n",
    "SAT: The Participation data type should'nt be an object\n"
   ]
  },
  {
   "cell_type": "markdown",
   "metadata": {},
   "source": [
    "#### 6. Fix Incorrect Data Types\n",
    "Based on what you discovered above, use appropriate methods to re-type incorrectly typed data.\n",
    "- Define a function that will allow you to convert participation rates to an appropriate numeric type. Use `map` or `apply` to change these columns in each dataframe."
   ]
  },
  {
   "cell_type": "code",
   "execution_count": 9,
   "metadata": {
    "scrolled": true
   },
   "outputs": [],
   "source": [
    "\n",
    "def convert_float(x):\n",
    "    \n",
    "    \"\"\"\n",
    "    Convert the percentage string to a float percentage\n",
    "    - remove % symbol\n",
    "    - divide by 100 to make decimal \n",
    "    \n",
    "    \"\"\"\n",
    "    \n",
    "    new = x.replace('%','')\n",
    "    return float(new)/100\n",
    "\n",
    "# Apply function to act_2017 \"Participation\"\n",
    "act_2017[\"Participation\"] = act_2017[\"Participation\"].apply(convert_float)\n",
    "\n",
    "# Apply function to sat_2017 \"Participation\"\n",
    "sat_2017[\"Participation\"] = sat_2017[\"Participation\"].apply(convert_float)\n",
    "\n"
   ]
  },
  {
   "cell_type": "code",
   "execution_count": 10,
   "metadata": {},
   "outputs": [
    {
     "data": {
      "text/plain": [
       "State             object\n",
       "Participation    float64\n",
       "English          float64\n",
       "Math             float64\n",
       "Reading          float64\n",
       "Science          float64\n",
       "Composite         object\n",
       "dtype: object"
      ]
     },
     "execution_count": 10,
     "metadata": {},
     "output_type": "execute_result"
    }
   ],
   "source": [
    "act_2017.dtypes"
   ]
  },
  {
   "cell_type": "markdown",
   "metadata": {},
   "source": [
    "- Fix any individual values preventing other columns from being the appropriate type."
   ]
  },
  {
   "cell_type": "code",
   "execution_count": 11,
   "metadata": {
    "scrolled": true
   },
   "outputs": [],
   "source": [
    "# Change \"Composite\" data type to float\n",
    "\n",
    "act_2017[\"Composite\"] = act_2017[\"Composite\"].astype(float)"
   ]
  },
  {
   "cell_type": "markdown",
   "metadata": {},
   "source": [
    "- Finish your data modifications by making sure the columns are now typed appropriately."
   ]
  },
  {
   "cell_type": "markdown",
   "metadata": {},
   "source": [
    "- Display the data types again to confirm they are correct."
   ]
  },
  {
   "cell_type": "code",
   "execution_count": 12,
   "metadata": {},
   "outputs": [
    {
     "data": {
      "text/plain": [
       "State                                  object\n",
       "Participation                         float64\n",
       "Evidence-Based Reading and Writing      int64\n",
       "Math                                    int64\n",
       "Total                                   int64\n",
       "dtype: object"
      ]
     },
     "execution_count": 12,
     "metadata": {},
     "output_type": "execute_result"
    }
   ],
   "source": [
    "# Check the data types\n",
    "\n",
    "sat_2017.dtypes"
   ]
  },
  {
   "cell_type": "code",
   "execution_count": 13,
   "metadata": {},
   "outputs": [
    {
     "data": {
      "text/plain": [
       "State             object\n",
       "Participation    float64\n",
       "English          float64\n",
       "Math             float64\n",
       "Reading          float64\n",
       "Science          float64\n",
       "Composite        float64\n",
       "dtype: object"
      ]
     },
     "execution_count": 13,
     "metadata": {},
     "output_type": "execute_result"
    }
   ],
   "source": [
    "act_2017.dtypes"
   ]
  },
  {
   "cell_type": "markdown",
   "metadata": {},
   "source": [
    "#### 7. Rename Columns\n",
    "Change the names of the columns to more expressive names so that you can tell the difference the SAT columns and the ACT columns. Your solution should map all column names being changed at once (no repeated singular name-changes). **We will be combining these data with some of the data from 2018, and so you should name columns in an appropriate way**.\n",
    "\n",
    "**Guidelines**:\n",
    "- Column names should be all lowercase (you will thank yourself when you start pushing data to SQL later in the course)\n",
    "- Column names should not contain spaces (underscores will suffice--this allows for using the `df.column_name` method to access columns in addition to `df['column_name']`.\n",
    "- Column names should be unique and informative (the only feature that we actually share between dataframes is the state)."
   ]
  },
  {
   "cell_type": "code",
   "execution_count": 14,
   "metadata": {},
   "outputs": [],
   "source": [
    "# changing both the act_2017 and sat_2017 column names to lowercase\n",
    "\n",
    "sat_2017.columns = sat_2017.columns.str.lower()\n",
    "act_2017.columns = act_2017.columns.str.lower()"
   ]
  },
  {
   "cell_type": "code",
   "execution_count": 15,
   "metadata": {},
   "outputs": [],
   "source": [
    "# Renaming the columns to differentiate sat_2017 and act_2017\n",
    "\n",
    "sat_2017.columns = ['state','sat_part','sat_ebrw','sat_math','sat_total']\n",
    "act_2017.columns = ['state','act_part','act_eng','act_math','act_read','act_sci','act_comp']"
   ]
  },
  {
   "cell_type": "markdown",
   "metadata": {},
   "source": [
    "#### 8. Create a data dictionary\n",
    "\n",
    "Now that we've fixed our data, and given it appropriate names, let's create a [data dictionary](http://library.ucmerced.edu/node/10249). \n",
    "\n",
    "A data dictionary provides a quick overview of features/variables/columns, alongside data types and descriptions. The more descriptive you can be, the more useful this document is.\n",
    "\n",
    "Example of a Fictional Data Dictionary Entry: \n",
    "\n",
    "|Feature|Type|Dataset|Description|\n",
    "|---|---|---|---|\n",
    "|**county_pop**|*integer*|2010 census|The population of the county (units in thousands, where 2.5 represents 2500 people).| \n",
    "|**per_poverty**|*float*|2010 census|The percent of the county over the age of 18 living below the 200% of official US poverty rate (units percent to two decimal places 98.10 means 98.1%)|\n",
    "\n",
    "[Here's a quick link to a short guide for formatting markdown in Jupyter notebooks](https://jupyter-notebook.readthedocs.io/en/stable/examples/Notebook/Working%20With%20Markdown%20Cells.html).\n",
    "\n",
    "Provided is the skeleton for formatting a markdown table, with columns headers that will help you create a data dictionary to quickly summarize your data, as well as some examples. **This would be a great thing to copy and paste into your custom README for this project.**"
   ]
  },
  {
   "cell_type": "markdown",
   "metadata": {},
   "source": [
    "\n",
    "\n",
    "|Feature|Type|Dataset|Description|\n",
    "|:---|:---|---|:---|\n",
    "|**state**|*object*|ACT 2017|The states in the United States of America\n",
    "|**act_part**|*float*|ACT 2017|The percent of the graduates tested (units percent to two decimal places 0.98 means 98%)\n",
    "|**act_eng**|*float*|ACT 2017|The average score of the language on a scale of 1-36\n",
    "|**act_math**|*float*|ACT 2017|The average score of the language on a scale of 1-36\n",
    "|**act_read**|*float*|ACT 2017|The average score of the language on a scale of 1-36 \n",
    "|**act_sci**|*float*|ACT 2017|The average score of the language on a scale of 1-36\n",
    "|**act_comp**|*float*|ACT 2017|The average composite score of all the language on a scale of 1-36\n",
    "|**sat_part**|*float*|SAT 2017|The percent of the graduates tested (units percent to two decimal places 0.98 means 98%)\n",
    "|**sat_ebrw**|*int*|SAT 2017|The score of evidence-based reading and writing on a scale of 200-800 \n",
    "|**sat_math**|*int*|SAT 2017|The score of math on a scale of 200-800 \n",
    "|**sat_total**|*int*|SAT 2017|The total score of all the languages on a scale of 400-1600\n",
    "|**act18_part**|*float*|ACT 2018|The percent of the graduates tested (units percent to two decimal places 0.98 means 98%)\n",
    "|**act18_eng**|*float*|ACT 2018|The average score of the language on a scale of 1-36\n",
    "|**act18_math**|*float*|ACT 2018|The average score of the language on a scale of 1-36\n",
    "|**act18_read**|*float*|ACT 2018|The average score of the language on a scale of 1-36\n",
    "|**act18_sci**|*float*|ACT 2018|The average score of the language on a scale of 1-36\n",
    "|**act18_comp**|*float*|ACT 2018|The average composite score of all the language on a scale of 1-36\n",
    "|**sat_part**|*float*|SAT 2018|The percent of the graduates tested (units percent to two decimal places 0.98 means 98%)\n",
    "|**sat_ebrw**|*int*|SAT 2018|The score of evidence-based reading and writing on a scale of 200-800 \n",
    "|**sat_math**|*int*|SAT 2018|The score of math on a scale of 200-800 \n",
    "|**sat_total**|*int*|SAT 2018|The total score of all the languages on a scale of 400-1600"
   ]
  },
  {
   "cell_type": "markdown",
   "metadata": {},
   "source": [
    "#### 9. Drop unnecessary rows\n",
    "\n",
    "One of our dataframes contains an extra row. Identify and remove this from the dataframe."
   ]
  },
  {
   "cell_type": "code",
   "execution_count": 16,
   "metadata": {},
   "outputs": [
    {
     "data": {
      "text/html": [
       "<div>\n",
       "<style scoped>\n",
       "    .dataframe tbody tr th:only-of-type {\n",
       "        vertical-align: middle;\n",
       "    }\n",
       "\n",
       "    .dataframe tbody tr th {\n",
       "        vertical-align: top;\n",
       "    }\n",
       "\n",
       "    .dataframe thead th {\n",
       "        text-align: right;\n",
       "    }\n",
       "</style>\n",
       "<table border=\"1\" class=\"dataframe\">\n",
       "  <thead>\n",
       "    <tr style=\"text-align: right;\">\n",
       "      <th></th>\n",
       "      <th>state</th>\n",
       "      <th>act_part</th>\n",
       "      <th>act_eng</th>\n",
       "      <th>act_math</th>\n",
       "      <th>act_read</th>\n",
       "      <th>act_sci</th>\n",
       "      <th>act_comp</th>\n",
       "    </tr>\n",
       "  </thead>\n",
       "  <tbody>\n",
       "    <tr>\n",
       "      <th>0</th>\n",
       "      <td>National</td>\n",
       "      <td>0.60</td>\n",
       "      <td>20.3</td>\n",
       "      <td>20.7</td>\n",
       "      <td>21.4</td>\n",
       "      <td>21.0</td>\n",
       "      <td>21.0</td>\n",
       "    </tr>\n",
       "    <tr>\n",
       "      <th>1</th>\n",
       "      <td>Alabama</td>\n",
       "      <td>1.00</td>\n",
       "      <td>18.9</td>\n",
       "      <td>18.4</td>\n",
       "      <td>19.7</td>\n",
       "      <td>19.4</td>\n",
       "      <td>19.2</td>\n",
       "    </tr>\n",
       "    <tr>\n",
       "      <th>2</th>\n",
       "      <td>Alaska</td>\n",
       "      <td>0.65</td>\n",
       "      <td>18.7</td>\n",
       "      <td>19.8</td>\n",
       "      <td>20.4</td>\n",
       "      <td>19.9</td>\n",
       "      <td>19.8</td>\n",
       "    </tr>\n",
       "    <tr>\n",
       "      <th>3</th>\n",
       "      <td>Arizona</td>\n",
       "      <td>0.62</td>\n",
       "      <td>18.6</td>\n",
       "      <td>19.8</td>\n",
       "      <td>20.1</td>\n",
       "      <td>19.8</td>\n",
       "      <td>19.7</td>\n",
       "    </tr>\n",
       "    <tr>\n",
       "      <th>4</th>\n",
       "      <td>Arkansas</td>\n",
       "      <td>1.00</td>\n",
       "      <td>18.9</td>\n",
       "      <td>19.0</td>\n",
       "      <td>19.7</td>\n",
       "      <td>19.5</td>\n",
       "      <td>19.4</td>\n",
       "    </tr>\n",
       "  </tbody>\n",
       "</table>\n",
       "</div>"
      ],
      "text/plain": [
       "      state  act_part  act_eng  act_math  act_read  act_sci  act_comp\n",
       "0  National      0.60     20.3      20.7      21.4     21.0      21.0\n",
       "1   Alabama      1.00     18.9      18.4      19.7     19.4      19.2\n",
       "2    Alaska      0.65     18.7      19.8      20.4     19.9      19.8\n",
       "3   Arizona      0.62     18.6      19.8      20.1     19.8      19.7\n",
       "4  Arkansas      1.00     18.9      19.0      19.7     19.5      19.4"
      ]
     },
     "execution_count": 16,
     "metadata": {},
     "output_type": "execute_result"
    }
   ],
   "source": [
    "act_2017.head()"
   ]
  },
  {
   "cell_type": "code",
   "execution_count": 17,
   "metadata": {},
   "outputs": [],
   "source": [
    "# dropped the \"national\" role\n",
    "\n",
    "act_2017.drop(0,inplace=True)"
   ]
  },
  {
   "cell_type": "code",
   "execution_count": 18,
   "metadata": {},
   "outputs": [
    {
     "data": {
      "text/html": [
       "<div>\n",
       "<style scoped>\n",
       "    .dataframe tbody tr th:only-of-type {\n",
       "        vertical-align: middle;\n",
       "    }\n",
       "\n",
       "    .dataframe tbody tr th {\n",
       "        vertical-align: top;\n",
       "    }\n",
       "\n",
       "    .dataframe thead th {\n",
       "        text-align: right;\n",
       "    }\n",
       "</style>\n",
       "<table border=\"1\" class=\"dataframe\">\n",
       "  <thead>\n",
       "    <tr style=\"text-align: right;\">\n",
       "      <th></th>\n",
       "      <th>state</th>\n",
       "      <th>act_part</th>\n",
       "      <th>act_eng</th>\n",
       "      <th>act_math</th>\n",
       "      <th>act_read</th>\n",
       "      <th>act_sci</th>\n",
       "      <th>act_comp</th>\n",
       "    </tr>\n",
       "  </thead>\n",
       "  <tbody>\n",
       "    <tr>\n",
       "      <th>1</th>\n",
       "      <td>Alabama</td>\n",
       "      <td>1.00</td>\n",
       "      <td>18.9</td>\n",
       "      <td>18.4</td>\n",
       "      <td>19.7</td>\n",
       "      <td>19.4</td>\n",
       "      <td>19.2</td>\n",
       "    </tr>\n",
       "    <tr>\n",
       "      <th>2</th>\n",
       "      <td>Alaska</td>\n",
       "      <td>0.65</td>\n",
       "      <td>18.7</td>\n",
       "      <td>19.8</td>\n",
       "      <td>20.4</td>\n",
       "      <td>19.9</td>\n",
       "      <td>19.8</td>\n",
       "    </tr>\n",
       "    <tr>\n",
       "      <th>3</th>\n",
       "      <td>Arizona</td>\n",
       "      <td>0.62</td>\n",
       "      <td>18.6</td>\n",
       "      <td>19.8</td>\n",
       "      <td>20.1</td>\n",
       "      <td>19.8</td>\n",
       "      <td>19.7</td>\n",
       "    </tr>\n",
       "    <tr>\n",
       "      <th>4</th>\n",
       "      <td>Arkansas</td>\n",
       "      <td>1.00</td>\n",
       "      <td>18.9</td>\n",
       "      <td>19.0</td>\n",
       "      <td>19.7</td>\n",
       "      <td>19.5</td>\n",
       "      <td>19.4</td>\n",
       "    </tr>\n",
       "    <tr>\n",
       "      <th>5</th>\n",
       "      <td>California</td>\n",
       "      <td>0.31</td>\n",
       "      <td>22.5</td>\n",
       "      <td>22.7</td>\n",
       "      <td>23.1</td>\n",
       "      <td>22.2</td>\n",
       "      <td>22.8</td>\n",
       "    </tr>\n",
       "  </tbody>\n",
       "</table>\n",
       "</div>"
      ],
      "text/plain": [
       "        state  act_part  act_eng  act_math  act_read  act_sci  act_comp\n",
       "1     Alabama      1.00     18.9      18.4      19.7     19.4      19.2\n",
       "2      Alaska      0.65     18.7      19.8      20.4     19.9      19.8\n",
       "3     Arizona      0.62     18.6      19.8      20.1     19.8      19.7\n",
       "4    Arkansas      1.00     18.9      19.0      19.7     19.5      19.4\n",
       "5  California      0.31     22.5      22.7      23.1     22.2      22.8"
      ]
     },
     "execution_count": 18,
     "metadata": {},
     "output_type": "execute_result"
    }
   ],
   "source": [
    "act_2017.head()"
   ]
  },
  {
   "cell_type": "markdown",
   "metadata": {},
   "source": [
    "#### 10. Merge Dataframes\n",
    "\n",
    "Join the 2017 ACT and SAT dataframes using the state in each dataframe as the key. Assign this to a new variable."
   ]
  },
  {
   "cell_type": "code",
   "execution_count": 19,
   "metadata": {},
   "outputs": [],
   "source": [
    "# Merge act_2017 with sat_2017\n",
    "\n",
    "admission_test = pd.merge(act_2017,sat_2017,on='state')"
   ]
  },
  {
   "cell_type": "code",
   "execution_count": 20,
   "metadata": {},
   "outputs": [
    {
     "data": {
      "text/html": [
       "<div>\n",
       "<style scoped>\n",
       "    .dataframe tbody tr th:only-of-type {\n",
       "        vertical-align: middle;\n",
       "    }\n",
       "\n",
       "    .dataframe tbody tr th {\n",
       "        vertical-align: top;\n",
       "    }\n",
       "\n",
       "    .dataframe thead th {\n",
       "        text-align: right;\n",
       "    }\n",
       "</style>\n",
       "<table border=\"1\" class=\"dataframe\">\n",
       "  <thead>\n",
       "    <tr style=\"text-align: right;\">\n",
       "      <th></th>\n",
       "      <th>state</th>\n",
       "      <th>act_part</th>\n",
       "      <th>act_eng</th>\n",
       "      <th>act_math</th>\n",
       "      <th>act_read</th>\n",
       "      <th>act_sci</th>\n",
       "      <th>act_comp</th>\n",
       "      <th>sat_part</th>\n",
       "      <th>sat_ebrw</th>\n",
       "      <th>sat_math</th>\n",
       "      <th>sat_total</th>\n",
       "    </tr>\n",
       "  </thead>\n",
       "  <tbody>\n",
       "    <tr>\n",
       "      <th>0</th>\n",
       "      <td>Alabama</td>\n",
       "      <td>1.00</td>\n",
       "      <td>18.9</td>\n",
       "      <td>18.4</td>\n",
       "      <td>19.7</td>\n",
       "      <td>19.4</td>\n",
       "      <td>19.2</td>\n",
       "      <td>0.05</td>\n",
       "      <td>593</td>\n",
       "      <td>572</td>\n",
       "      <td>1165</td>\n",
       "    </tr>\n",
       "    <tr>\n",
       "      <th>1</th>\n",
       "      <td>Alaska</td>\n",
       "      <td>0.65</td>\n",
       "      <td>18.7</td>\n",
       "      <td>19.8</td>\n",
       "      <td>20.4</td>\n",
       "      <td>19.9</td>\n",
       "      <td>19.8</td>\n",
       "      <td>0.38</td>\n",
       "      <td>547</td>\n",
       "      <td>533</td>\n",
       "      <td>1080</td>\n",
       "    </tr>\n",
       "    <tr>\n",
       "      <th>2</th>\n",
       "      <td>Arizona</td>\n",
       "      <td>0.62</td>\n",
       "      <td>18.6</td>\n",
       "      <td>19.8</td>\n",
       "      <td>20.1</td>\n",
       "      <td>19.8</td>\n",
       "      <td>19.7</td>\n",
       "      <td>0.30</td>\n",
       "      <td>563</td>\n",
       "      <td>553</td>\n",
       "      <td>1116</td>\n",
       "    </tr>\n",
       "    <tr>\n",
       "      <th>3</th>\n",
       "      <td>Arkansas</td>\n",
       "      <td>1.00</td>\n",
       "      <td>18.9</td>\n",
       "      <td>19.0</td>\n",
       "      <td>19.7</td>\n",
       "      <td>19.5</td>\n",
       "      <td>19.4</td>\n",
       "      <td>0.03</td>\n",
       "      <td>614</td>\n",
       "      <td>594</td>\n",
       "      <td>1208</td>\n",
       "    </tr>\n",
       "    <tr>\n",
       "      <th>4</th>\n",
       "      <td>California</td>\n",
       "      <td>0.31</td>\n",
       "      <td>22.5</td>\n",
       "      <td>22.7</td>\n",
       "      <td>23.1</td>\n",
       "      <td>22.2</td>\n",
       "      <td>22.8</td>\n",
       "      <td>0.53</td>\n",
       "      <td>531</td>\n",
       "      <td>524</td>\n",
       "      <td>1055</td>\n",
       "    </tr>\n",
       "  </tbody>\n",
       "</table>\n",
       "</div>"
      ],
      "text/plain": [
       "        state  act_part  act_eng  act_math  act_read  act_sci  act_comp  \\\n",
       "0     Alabama      1.00     18.9      18.4      19.7     19.4      19.2   \n",
       "1      Alaska      0.65     18.7      19.8      20.4     19.9      19.8   \n",
       "2     Arizona      0.62     18.6      19.8      20.1     19.8      19.7   \n",
       "3    Arkansas      1.00     18.9      19.0      19.7     19.5      19.4   \n",
       "4  California      0.31     22.5      22.7      23.1     22.2      22.8   \n",
       "\n",
       "   sat_part  sat_ebrw  sat_math  sat_total  \n",
       "0      0.05       593       572       1165  \n",
       "1      0.38       547       533       1080  \n",
       "2      0.30       563       553       1116  \n",
       "3      0.03       614       594       1208  \n",
       "4      0.53       531       524       1055  "
      ]
     },
     "execution_count": 20,
     "metadata": {},
     "output_type": "execute_result"
    }
   ],
   "source": [
    "admission_test.head()"
   ]
  },
  {
   "cell_type": "markdown",
   "metadata": {},
   "source": [
    "#### 11. Save your cleaned, merged dataframe\n",
    "\n",
    "Use a relative path to save out your data as `combined_2017.csv`."
   ]
  },
  {
   "cell_type": "code",
   "execution_count": 21,
   "metadata": {},
   "outputs": [],
   "source": [
    "admission_test.to_csv('data/admission_test.csv',index=False)"
   ]
  },
  {
   "cell_type": "markdown",
   "metadata": {},
   "source": [
    "## 2018 Data Import and Cleaning"
   ]
  },
  {
   "cell_type": "markdown",
   "metadata": {},
   "source": [
    "Links to the 2018 ACT and SAT data are provided in the README. These data live in PDFs, and so you'll get to enjoy practicing some *manual* data collection. Save these data as a CSV in your `data` directory, and import, explore, and clean these data in the same way you did above. **Make sure you comment on your steps so it is clear *why* you are doing each process**."
   ]
  },
  {
   "cell_type": "code",
   "execution_count": 22,
   "metadata": {},
   "outputs": [],
   "source": [
    "# import sat_2018 and act_2018 csv file\n",
    "\n",
    "sat_2018 = pd.read_csv('data/sat_2018.csv')\n",
    "act_2018 = pd.read_csv('data/act_2018_updated.csv')"
   ]
  },
  {
   "cell_type": "code",
   "execution_count": 23,
   "metadata": {},
   "outputs": [],
   "source": [
    "\"\"\"\n",
    "use existing define function convert_float\n",
    "- remove % symbol\n",
    "- divide by 100\n",
    "\"\"\"   \n",
    "# apply function to act_2018 participation\n",
    "\n",
    "sat_2018[\"Participation\"] = sat_2018[\"Participation\"].apply(convert_float)"
   ]
  },
  {
   "cell_type": "code",
   "execution_count": 24,
   "metadata": {},
   "outputs": [],
   "source": [
    "# Convert sat_2018 columns name to lower case\n",
    "\n",
    "sat_2018.columns = sat_2018.columns.str.lower()"
   ]
  },
  {
   "cell_type": "code",
   "execution_count": 25,
   "metadata": {},
   "outputs": [],
   "source": [
    "# Rename sat_2018 columns\n",
    "\n",
    "sat_2018.columns = ['state','sat18_part','sat18_ebrw','sat18_math','sat18_total']"
   ]
  },
  {
   "cell_type": "code",
   "execution_count": 26,
   "metadata": {},
   "outputs": [
    {
     "data": {
      "text/plain": [
       "state           object\n",
       "sat18_part     float64\n",
       "sat18_ebrw       int64\n",
       "sat18_math       int64\n",
       "sat18_total      int64\n",
       "dtype: object"
      ]
     },
     "execution_count": 26,
     "metadata": {},
     "output_type": "execute_result"
    }
   ],
   "source": [
    "# check dtypes\n",
    "\n",
    "sat_2018.dtypes"
   ]
  },
  {
   "cell_type": "code",
   "execution_count": 27,
   "metadata": {},
   "outputs": [
    {
     "data": {
      "text/plain": [
       "State                             object\n",
       "Percentage of Students Tested      int64\n",
       "Average Composite Score          float64\n",
       "Average English Score            float64\n",
       "Average Math Score               float64\n",
       "Average Reading Score            float64\n",
       "Average Science Score            float64\n",
       "dtype: object"
      ]
     },
     "execution_count": 27,
     "metadata": {},
     "output_type": "execute_result"
    }
   ],
   "source": [
    "# check dtypes \n",
    "act_2018.dtypes"
   ]
  },
  {
   "cell_type": "code",
   "execution_count": 28,
   "metadata": {},
   "outputs": [],
   "source": [
    "# Convert act_2018 columns name to lower case\n",
    "\n",
    "act_2018.columns = act_2018.columns.str.lower()"
   ]
  },
  {
   "cell_type": "code",
   "execution_count": 29,
   "metadata": {},
   "outputs": [],
   "source": [
    "# Rename act_2018 columns\n",
    "\n",
    "act_2018.columns = ['state','act18_part','act18_eng','act18_math','act18_read','act18_sci','act18_comp']"
   ]
  },
  {
   "cell_type": "code",
   "execution_count": 30,
   "metadata": {},
   "outputs": [],
   "source": [
    "# change dtypes from int to float\n",
    "\n",
    "act_2018['act18_part'] = act_2018.act18_part.apply(lambda x: float(x/100))"
   ]
  },
  {
   "cell_type": "code",
   "execution_count": 31,
   "metadata": {},
   "outputs": [
    {
     "data": {
      "text/plain": [
       "state          object\n",
       "act18_part    float64\n",
       "act18_eng     float64\n",
       "act18_math    float64\n",
       "act18_read    float64\n",
       "act18_sci     float64\n",
       "act18_comp    float64\n",
       "dtype: object"
      ]
     },
     "execution_count": 31,
     "metadata": {},
     "output_type": "execute_result"
    }
   ],
   "source": [
    "# check dtypes\n",
    "\n",
    "act_2018.dtypes"
   ]
  },
  {
   "cell_type": "markdown",
   "metadata": {},
   "source": [
    "#### Combine your 2017 and 2018 data into a single dataframe\n",
    "Joining on state names should work, assuming you formatted all your state names identically. Make sure none of your columns (other than state) have identical names. Do yourself a favor and decide if you're encoding participation rates as floats or integers and standardize this across your datasets.\n",
    "\n",
    "Save the contents of this merged dataframe as `final.csv`.\n",
    "\n",
    "**Use this combined dataframe for the remainder of the project**."
   ]
  },
  {
   "cell_type": "code",
   "execution_count": 32,
   "metadata": {},
   "outputs": [],
   "source": [
    "# Merge act_2018 and sat_2018 as admission_test2018\n",
    "\n",
    "admission_test2018 = pd.merge(act_2018,sat_2018,on='state')"
   ]
  },
  {
   "cell_type": "code",
   "execution_count": 33,
   "metadata": {},
   "outputs": [],
   "source": [
    "# Merge admission_test and admission_test2018\n",
    "\n",
    "final = pd.merge(admission_test,admission_test2018,on='state')"
   ]
  },
  {
   "cell_type": "code",
   "execution_count": 34,
   "metadata": {},
   "outputs": [],
   "source": [
    "# Save merged dataframe\n",
    "\n",
    "final.to_csv('data/final.csv',index=False)"
   ]
  },
  {
   "cell_type": "markdown",
   "metadata": {},
   "source": [
    "## Exploratory Data Analysis\n",
    "\n",
    "\n",
    "### Summary Statistics\n",
    "Transpose the output of pandas `describe` method to create a quick overview of each numeric feature."
   ]
  },
  {
   "cell_type": "code",
   "execution_count": 35,
   "metadata": {},
   "outputs": [
    {
     "data": {
      "text/html": [
       "<div>\n",
       "<style scoped>\n",
       "    .dataframe tbody tr th:only-of-type {\n",
       "        vertical-align: middle;\n",
       "    }\n",
       "\n",
       "    .dataframe tbody tr th {\n",
       "        vertical-align: top;\n",
       "    }\n",
       "\n",
       "    .dataframe thead th {\n",
       "        text-align: right;\n",
       "    }\n",
       "</style>\n",
       "<table border=\"1\" class=\"dataframe\">\n",
       "  <thead>\n",
       "    <tr style=\"text-align: right;\">\n",
       "      <th></th>\n",
       "      <th>act_part</th>\n",
       "      <th>act_eng</th>\n",
       "      <th>act_math</th>\n",
       "      <th>act_read</th>\n",
       "      <th>act_sci</th>\n",
       "      <th>act_comp</th>\n",
       "      <th>sat_part</th>\n",
       "      <th>sat_ebrw</th>\n",
       "      <th>sat_math</th>\n",
       "      <th>sat_total</th>\n",
       "      <th>act18_part</th>\n",
       "      <th>act18_eng</th>\n",
       "      <th>act18_math</th>\n",
       "      <th>act18_read</th>\n",
       "      <th>act18_sci</th>\n",
       "      <th>act18_comp</th>\n",
       "      <th>sat18_part</th>\n",
       "      <th>sat18_ebrw</th>\n",
       "      <th>sat18_math</th>\n",
       "      <th>sat18_total</th>\n",
       "    </tr>\n",
       "  </thead>\n",
       "  <tbody>\n",
       "    <tr>\n",
       "      <th>count</th>\n",
       "      <td>51.000000</td>\n",
       "      <td>51.000000</td>\n",
       "      <td>51.000000</td>\n",
       "      <td>51.000000</td>\n",
       "      <td>51.000000</td>\n",
       "      <td>51.000000</td>\n",
       "      <td>51.000000</td>\n",
       "      <td>51.000000</td>\n",
       "      <td>51.000000</td>\n",
       "      <td>51.000000</td>\n",
       "      <td>51.000000</td>\n",
       "      <td>51.000000</td>\n",
       "      <td>51.000000</td>\n",
       "      <td>51.000000</td>\n",
       "      <td>51.000000</td>\n",
       "      <td>51.000000</td>\n",
       "      <td>51.000000</td>\n",
       "      <td>51.000000</td>\n",
       "      <td>51.000000</td>\n",
       "      <td>51.000000</td>\n",
       "    </tr>\n",
       "    <tr>\n",
       "      <th>mean</th>\n",
       "      <td>0.652549</td>\n",
       "      <td>20.931373</td>\n",
       "      <td>21.182353</td>\n",
       "      <td>22.013725</td>\n",
       "      <td>21.450980</td>\n",
       "      <td>21.519608</td>\n",
       "      <td>0.398039</td>\n",
       "      <td>569.117647</td>\n",
       "      <td>556.882353</td>\n",
       "      <td>1126.098039</td>\n",
       "      <td>0.616471</td>\n",
       "      <td>21.486275</td>\n",
       "      <td>20.988235</td>\n",
       "      <td>21.125490</td>\n",
       "      <td>22.015686</td>\n",
       "      <td>21.345098</td>\n",
       "      <td>0.457451</td>\n",
       "      <td>563.686275</td>\n",
       "      <td>556.235294</td>\n",
       "      <td>1120.019608</td>\n",
       "    </tr>\n",
       "    <tr>\n",
       "      <th>std</th>\n",
       "      <td>0.321408</td>\n",
       "      <td>2.353677</td>\n",
       "      <td>1.981989</td>\n",
       "      <td>2.067271</td>\n",
       "      <td>1.739353</td>\n",
       "      <td>2.020695</td>\n",
       "      <td>0.352766</td>\n",
       "      <td>45.666901</td>\n",
       "      <td>47.121395</td>\n",
       "      <td>92.494812</td>\n",
       "      <td>0.340810</td>\n",
       "      <td>2.106278</td>\n",
       "      <td>2.446356</td>\n",
       "      <td>2.035765</td>\n",
       "      <td>2.167245</td>\n",
       "      <td>1.870114</td>\n",
       "      <td>0.373143</td>\n",
       "      <td>47.502627</td>\n",
       "      <td>47.772623</td>\n",
       "      <td>94.155083</td>\n",
       "    </tr>\n",
       "    <tr>\n",
       "      <th>min</th>\n",
       "      <td>0.080000</td>\n",
       "      <td>16.300000</td>\n",
       "      <td>18.000000</td>\n",
       "      <td>18.100000</td>\n",
       "      <td>18.200000</td>\n",
       "      <td>17.800000</td>\n",
       "      <td>0.020000</td>\n",
       "      <td>482.000000</td>\n",
       "      <td>468.000000</td>\n",
       "      <td>950.000000</td>\n",
       "      <td>0.070000</td>\n",
       "      <td>17.700000</td>\n",
       "      <td>16.600000</td>\n",
       "      <td>17.800000</td>\n",
       "      <td>18.000000</td>\n",
       "      <td>17.900000</td>\n",
       "      <td>0.020000</td>\n",
       "      <td>480.000000</td>\n",
       "      <td>480.000000</td>\n",
       "      <td>977.000000</td>\n",
       "    </tr>\n",
       "    <tr>\n",
       "      <th>25%</th>\n",
       "      <td>0.310000</td>\n",
       "      <td>19.000000</td>\n",
       "      <td>19.400000</td>\n",
       "      <td>20.450000</td>\n",
       "      <td>19.950000</td>\n",
       "      <td>19.800000</td>\n",
       "      <td>0.040000</td>\n",
       "      <td>533.500000</td>\n",
       "      <td>523.500000</td>\n",
       "      <td>1055.500000</td>\n",
       "      <td>0.285000</td>\n",
       "      <td>19.950000</td>\n",
       "      <td>19.100000</td>\n",
       "      <td>19.400000</td>\n",
       "      <td>20.450000</td>\n",
       "      <td>19.850000</td>\n",
       "      <td>0.045000</td>\n",
       "      <td>534.500000</td>\n",
       "      <td>522.500000</td>\n",
       "      <td>1057.500000</td>\n",
       "    </tr>\n",
       "    <tr>\n",
       "      <th>50%</th>\n",
       "      <td>0.690000</td>\n",
       "      <td>20.700000</td>\n",
       "      <td>20.900000</td>\n",
       "      <td>21.800000</td>\n",
       "      <td>21.300000</td>\n",
       "      <td>21.400000</td>\n",
       "      <td>0.380000</td>\n",
       "      <td>559.000000</td>\n",
       "      <td>548.000000</td>\n",
       "      <td>1107.000000</td>\n",
       "      <td>0.660000</td>\n",
       "      <td>21.300000</td>\n",
       "      <td>20.200000</td>\n",
       "      <td>20.700000</td>\n",
       "      <td>21.600000</td>\n",
       "      <td>21.100000</td>\n",
       "      <td>0.520000</td>\n",
       "      <td>552.000000</td>\n",
       "      <td>544.000000</td>\n",
       "      <td>1098.000000</td>\n",
       "    </tr>\n",
       "    <tr>\n",
       "      <th>75%</th>\n",
       "      <td>1.000000</td>\n",
       "      <td>23.300000</td>\n",
       "      <td>23.100000</td>\n",
       "      <td>24.150000</td>\n",
       "      <td>23.200000</td>\n",
       "      <td>23.600000</td>\n",
       "      <td>0.660000</td>\n",
       "      <td>613.000000</td>\n",
       "      <td>599.000000</td>\n",
       "      <td>1212.000000</td>\n",
       "      <td>1.000000</td>\n",
       "      <td>23.550000</td>\n",
       "      <td>23.700000</td>\n",
       "      <td>23.150000</td>\n",
       "      <td>24.100000</td>\n",
       "      <td>23.050000</td>\n",
       "      <td>0.775000</td>\n",
       "      <td>610.500000</td>\n",
       "      <td>593.500000</td>\n",
       "      <td>1204.000000</td>\n",
       "    </tr>\n",
       "    <tr>\n",
       "      <th>max</th>\n",
       "      <td>1.000000</td>\n",
       "      <td>25.500000</td>\n",
       "      <td>25.300000</td>\n",
       "      <td>26.000000</td>\n",
       "      <td>24.900000</td>\n",
       "      <td>25.500000</td>\n",
       "      <td>1.000000</td>\n",
       "      <td>644.000000</td>\n",
       "      <td>651.000000</td>\n",
       "      <td>1295.000000</td>\n",
       "      <td>1.000000</td>\n",
       "      <td>25.600000</td>\n",
       "      <td>26.000000</td>\n",
       "      <td>25.200000</td>\n",
       "      <td>26.100000</td>\n",
       "      <td>24.900000</td>\n",
       "      <td>1.000000</td>\n",
       "      <td>643.000000</td>\n",
       "      <td>655.000000</td>\n",
       "      <td>1298.000000</td>\n",
       "    </tr>\n",
       "  </tbody>\n",
       "</table>\n",
       "</div>"
      ],
      "text/plain": [
       "        act_part    act_eng   act_math   act_read    act_sci   act_comp  \\\n",
       "count  51.000000  51.000000  51.000000  51.000000  51.000000  51.000000   \n",
       "mean    0.652549  20.931373  21.182353  22.013725  21.450980  21.519608   \n",
       "std     0.321408   2.353677   1.981989   2.067271   1.739353   2.020695   \n",
       "min     0.080000  16.300000  18.000000  18.100000  18.200000  17.800000   \n",
       "25%     0.310000  19.000000  19.400000  20.450000  19.950000  19.800000   \n",
       "50%     0.690000  20.700000  20.900000  21.800000  21.300000  21.400000   \n",
       "75%     1.000000  23.300000  23.100000  24.150000  23.200000  23.600000   \n",
       "max     1.000000  25.500000  25.300000  26.000000  24.900000  25.500000   \n",
       "\n",
       "        sat_part    sat_ebrw    sat_math    sat_total  act18_part  act18_eng  \\\n",
       "count  51.000000   51.000000   51.000000    51.000000   51.000000  51.000000   \n",
       "mean    0.398039  569.117647  556.882353  1126.098039    0.616471  21.486275   \n",
       "std     0.352766   45.666901   47.121395    92.494812    0.340810   2.106278   \n",
       "min     0.020000  482.000000  468.000000   950.000000    0.070000  17.700000   \n",
       "25%     0.040000  533.500000  523.500000  1055.500000    0.285000  19.950000   \n",
       "50%     0.380000  559.000000  548.000000  1107.000000    0.660000  21.300000   \n",
       "75%     0.660000  613.000000  599.000000  1212.000000    1.000000  23.550000   \n",
       "max     1.000000  644.000000  651.000000  1295.000000    1.000000  25.600000   \n",
       "\n",
       "       act18_math  act18_read  act18_sci  act18_comp  sat18_part  sat18_ebrw  \\\n",
       "count   51.000000   51.000000  51.000000   51.000000   51.000000   51.000000   \n",
       "mean    20.988235   21.125490  22.015686   21.345098    0.457451  563.686275   \n",
       "std      2.446356    2.035765   2.167245    1.870114    0.373143   47.502627   \n",
       "min     16.600000   17.800000  18.000000   17.900000    0.020000  480.000000   \n",
       "25%     19.100000   19.400000  20.450000   19.850000    0.045000  534.500000   \n",
       "50%     20.200000   20.700000  21.600000   21.100000    0.520000  552.000000   \n",
       "75%     23.700000   23.150000  24.100000   23.050000    0.775000  610.500000   \n",
       "max     26.000000   25.200000  26.100000   24.900000    1.000000  643.000000   \n",
       "\n",
       "       sat18_math  sat18_total  \n",
       "count   51.000000    51.000000  \n",
       "mean   556.235294  1120.019608  \n",
       "std     47.772623    94.155083  \n",
       "min    480.000000   977.000000  \n",
       "25%    522.500000  1057.500000  \n",
       "50%    544.000000  1098.000000  \n",
       "75%    593.500000  1204.000000  \n",
       "max    655.000000  1298.000000  "
      ]
     },
     "execution_count": 35,
     "metadata": {},
     "output_type": "execute_result"
    }
   ],
   "source": [
    "final.describe()"
   ]
  },
  {
   "cell_type": "markdown",
   "metadata": {},
   "source": [
    "#### Manually calculate standard deviation\n",
    "\n",
    "$$\\sigma = \\sqrt{\\frac{1}{n}\\sum_{i=1}^n(x_i - \\mu)^2}$$\n",
    "\n",
    "- Write a function to calculate standard deviation using the formula above"
   ]
  },
  {
   "cell_type": "code",
   "execution_count": 36,
   "metadata": {},
   "outputs": [],
   "source": [
    "# standard deviation\n",
    "\n",
    "def stddev(data):\n",
    "    mu = final[data].mean()\n",
    "    summation = sum([(i-mu)**2 for i in data])\n",
    "    average = summation/len(data)\n",
    "    std = average**0.5\n",
    "\n",
    "    return std"
   ]
  },
  {
   "cell_type": "code",
   "execution_count": 37,
   "metadata": {},
   "outputs": [],
   "source": [
    "# sample standard deviation\n",
    "\n",
    "def stddev_sample(data):\n",
    "    mu = (sum(data))/(len(data))\n",
    "    summation = sum([(i-mu)**2 for i in data])\n",
    "    average = summation/(len(data)-1)\n",
    "    std = average**0.5\n",
    "\n",
    "    return std"
   ]
  },
  {
   "cell_type": "code",
   "execution_count": 38,
   "metadata": {},
   "outputs": [
    {
     "data": {
      "text/html": [
       "<div>\n",
       "<style scoped>\n",
       "    .dataframe tbody tr th:only-of-type {\n",
       "        vertical-align: middle;\n",
       "    }\n",
       "\n",
       "    .dataframe tbody tr th {\n",
       "        vertical-align: top;\n",
       "    }\n",
       "\n",
       "    .dataframe thead th {\n",
       "        text-align: right;\n",
       "    }\n",
       "</style>\n",
       "<table border=\"1\" class=\"dataframe\">\n",
       "  <thead>\n",
       "    <tr style=\"text-align: right;\">\n",
       "      <th></th>\n",
       "      <th>act_part</th>\n",
       "      <th>act_eng</th>\n",
       "      <th>act_math</th>\n",
       "      <th>act_read</th>\n",
       "      <th>act_sci</th>\n",
       "      <th>act_comp</th>\n",
       "      <th>sat_part</th>\n",
       "      <th>sat_ebrw</th>\n",
       "      <th>sat_math</th>\n",
       "      <th>sat_total</th>\n",
       "      <th>act18_part</th>\n",
       "      <th>act18_eng</th>\n",
       "      <th>act18_math</th>\n",
       "      <th>act18_read</th>\n",
       "      <th>act18_sci</th>\n",
       "      <th>act18_comp</th>\n",
       "      <th>sat18_part</th>\n",
       "      <th>sat18_ebrw</th>\n",
       "      <th>sat18_math</th>\n",
       "      <th>sat18_total</th>\n",
       "    </tr>\n",
       "  </thead>\n",
       "  <tbody>\n",
       "    <tr>\n",
       "      <th>stddev_sample</th>\n",
       "      <td>0.321408</td>\n",
       "      <td>2.353677</td>\n",
       "      <td>1.981989</td>\n",
       "      <td>2.067271</td>\n",
       "      <td>1.739353</td>\n",
       "      <td>2.020695</td>\n",
       "      <td>0.352766</td>\n",
       "      <td>45.666901</td>\n",
       "      <td>47.121395</td>\n",
       "      <td>92.494812</td>\n",
       "      <td>0.34081</td>\n",
       "      <td>2.106278</td>\n",
       "      <td>2.446356</td>\n",
       "      <td>2.035765</td>\n",
       "      <td>2.167245</td>\n",
       "      <td>1.870114</td>\n",
       "      <td>0.373143</td>\n",
       "      <td>47.502627</td>\n",
       "      <td>47.772623</td>\n",
       "      <td>94.155083</td>\n",
       "    </tr>\n",
       "  </tbody>\n",
       "</table>\n",
       "</div>"
      ],
      "text/plain": [
       "               act_part   act_eng  act_math  act_read   act_sci  act_comp  \\\n",
       "stddev_sample  0.321408  2.353677  1.981989  2.067271  1.739353  2.020695   \n",
       "\n",
       "               sat_part   sat_ebrw   sat_math  sat_total  act18_part  \\\n",
       "stddev_sample  0.352766  45.666901  47.121395  92.494812     0.34081   \n",
       "\n",
       "               act18_eng  act18_math  act18_read  act18_sci  act18_comp  \\\n",
       "stddev_sample   2.106278    2.446356    2.035765   2.167245    1.870114   \n",
       "\n",
       "               sat18_part  sat18_ebrw  sat18_math  sat18_total  \n",
       "stddev_sample    0.373143   47.502627   47.772623    94.155083  "
      ]
     },
     "execution_count": 38,
     "metadata": {},
     "output_type": "execute_result"
    }
   ],
   "source": [
    "final.agg([stddev_sample])"
   ]
  },
  {
   "cell_type": "markdown",
   "metadata": {},
   "source": [
    "- Use a **dictionary comprehension** to apply your standard deviation function to each numeric column in the dataframe.  **No loops**  \n",
    "- Assign the output to variable `sd` as a dictionary where: \n",
    "    - Each column name is now a key \n",
    "    - That standard deviation of the column is the value \n",
    "     \n",
    "*Example Output :* `{'ACT_Math': 120, 'ACT_Reading': 120, ...}`"
   ]
  },
  {
   "cell_type": "code",
   "execution_count": 39,
   "metadata": {},
   "outputs": [
    {
     "data": {
      "text/plain": [
       "{'act_part': 0.32140842015886834,\n",
       " 'act_eng': 2.35367713980303,\n",
       " 'act_math': 1.9819894936505533,\n",
       " 'act_read': 2.0672706264873146,\n",
       " 'act_sci': 1.7393530462812443,\n",
       " 'act_comp': 2.020694891154341,\n",
       " 'sat_part': 0.35276632270013036,\n",
       " 'sat_ebrw': 45.66690138768932,\n",
       " 'sat_math': 47.12139516560329,\n",
       " 'sat_total': 92.49481172519046,\n",
       " 'act18_part': 0.3408097623567245,\n",
       " 'act18_eng': 2.1062781969951776,\n",
       " 'act18_math': 2.4463562339793055,\n",
       " 'act18_read': 2.035764538177723,\n",
       " 'act18_sci': 2.1672445684804105,\n",
       " 'act18_comp': 1.8701137639716146,\n",
       " 'sat18_part': 0.37314256330391965,\n",
       " 'sat18_ebrw': 47.50262737831599,\n",
       " 'sat18_math': 47.77262322095955,\n",
       " 'sat18_total': 94.15508275097599}"
      ]
     },
     "execution_count": 39,
     "metadata": {},
     "output_type": "execute_result"
    }
   ],
   "source": [
    "{data: stddev_sample(final[data]) for data in final._get_numeric_data().columns}"
   ]
  },
  {
   "cell_type": "markdown",
   "metadata": {},
   "source": [
    "Do your manually calculated standard deviations match up with the output from pandas `describe`? What about numpy's `std` method?"
   ]
  },
  {
   "cell_type": "code",
   "execution_count": 40,
   "metadata": {},
   "outputs": [
    {
     "data": {
      "text/plain": [
       "act_part        0.321408\n",
       "act_eng         2.353677\n",
       "act_math        1.981989\n",
       "act_read        2.067271\n",
       "act_sci         1.739353\n",
       "act_comp        2.020695\n",
       "sat_part        0.352766\n",
       "sat_ebrw       45.666901\n",
       "sat_math       47.121395\n",
       "sat_total      92.494812\n",
       "act18_part      0.340810\n",
       "act18_eng       2.106278\n",
       "act18_math      2.446356\n",
       "act18_read      2.035765\n",
       "act18_sci       2.167245\n",
       "act18_comp      1.870114\n",
       "sat18_part      0.373143\n",
       "sat18_ebrw     47.502627\n",
       "sat18_math     47.772623\n",
       "sat18_total    94.155083\n",
       "dtype: float64"
      ]
     },
     "execution_count": 40,
     "metadata": {},
     "output_type": "execute_result"
    }
   ],
   "source": [
    "# Using numpy std method to test on act_part\n",
    "\n",
    "std_error = np.std(final,ddof=1)\n",
    "std_error"
   ]
  },
  {
   "cell_type": "markdown",
   "metadata": {},
   "source": [
    "**ANS**: Yes, the manually calculated standard deviations and numpy's method does match."
   ]
  },
  {
   "cell_type": "markdown",
   "metadata": {},
   "source": [
    "#### Investigate trends in the data\n",
    "Using sorting and/or masking (along with the `.head` method to not print our entire dataframe), consider the following questions:\n",
    "\n",
    "- Which states have the highest and lowest participation rates for the:\n",
    "    - 2017 SAT?\n",
    "    - 2018 SAT?\n",
    "    - 2017 ACT?\n",
    "    - 2018 ACT?\n",
    "- Which states have the highest and lowest mean total/composite scores for the:\n",
    "    - 2017 SAT?\n",
    "    - 2018 SAT?\n",
    "    - 2017 ACT?\n",
    "    - 2018 ACT?\n",
    "- Do any states with 100% participation on a given test have a rate change year-to-year?\n",
    "- Do any states show have >50% participation on *both* tests either year?\n",
    "\n",
    "Based on what you've just observed, have you identified any states that you're especially interested in? **Make a note of these and state *why* you think they're interesting**.\n",
    "\n",
    "**You should comment on your findings at each step in a markdown cell below your code block**. Make sure you include at least one example of sorting your dataframe by a column, and one example of using boolean filtering (i.e., masking) to select a subset of the dataframe."
   ]
  },
  {
   "cell_type": "code",
   "execution_count": 41,
   "metadata": {},
   "outputs": [
    {
     "data": {
      "text/html": [
       "<div>\n",
       "<style scoped>\n",
       "    .dataframe tbody tr th:only-of-type {\n",
       "        vertical-align: middle;\n",
       "    }\n",
       "\n",
       "    .dataframe tbody tr th {\n",
       "        vertical-align: top;\n",
       "    }\n",
       "\n",
       "    .dataframe thead th {\n",
       "        text-align: right;\n",
       "    }\n",
       "</style>\n",
       "<table border=\"1\" class=\"dataframe\">\n",
       "  <thead>\n",
       "    <tr style=\"text-align: right;\">\n",
       "      <th></th>\n",
       "      <th>state</th>\n",
       "      <th>act_part</th>\n",
       "      <th>act_eng</th>\n",
       "      <th>act_math</th>\n",
       "      <th>act_read</th>\n",
       "      <th>act_sci</th>\n",
       "      <th>act_comp</th>\n",
       "      <th>sat_part</th>\n",
       "      <th>sat_ebrw</th>\n",
       "      <th>sat_math</th>\n",
       "      <th>...</th>\n",
       "      <th>act18_part</th>\n",
       "      <th>act18_eng</th>\n",
       "      <th>act18_math</th>\n",
       "      <th>act18_read</th>\n",
       "      <th>act18_sci</th>\n",
       "      <th>act18_comp</th>\n",
       "      <th>sat18_part</th>\n",
       "      <th>sat18_ebrw</th>\n",
       "      <th>sat18_math</th>\n",
       "      <th>sat18_total</th>\n",
       "    </tr>\n",
       "  </thead>\n",
       "  <tbody>\n",
       "    <tr>\n",
       "      <th>8</th>\n",
       "      <td>District of Columbia</td>\n",
       "      <td>0.32</td>\n",
       "      <td>24.4</td>\n",
       "      <td>23.5</td>\n",
       "      <td>24.9</td>\n",
       "      <td>23.5</td>\n",
       "      <td>24.2</td>\n",
       "      <td>1.00</td>\n",
       "      <td>482</td>\n",
       "      <td>468</td>\n",
       "      <td>...</td>\n",
       "      <td>0.32</td>\n",
       "      <td>23.6</td>\n",
       "      <td>23.7</td>\n",
       "      <td>22.7</td>\n",
       "      <td>24.4</td>\n",
       "      <td>23.0</td>\n",
       "      <td>0.92</td>\n",
       "      <td>497</td>\n",
       "      <td>480</td>\n",
       "      <td>977</td>\n",
       "    </tr>\n",
       "    <tr>\n",
       "      <th>22</th>\n",
       "      <td>Michigan</td>\n",
       "      <td>0.29</td>\n",
       "      <td>24.1</td>\n",
       "      <td>23.7</td>\n",
       "      <td>24.5</td>\n",
       "      <td>23.8</td>\n",
       "      <td>24.1</td>\n",
       "      <td>1.00</td>\n",
       "      <td>509</td>\n",
       "      <td>495</td>\n",
       "      <td>...</td>\n",
       "      <td>0.22</td>\n",
       "      <td>24.4</td>\n",
       "      <td>24.5</td>\n",
       "      <td>23.9</td>\n",
       "      <td>24.7</td>\n",
       "      <td>23.9</td>\n",
       "      <td>1.00</td>\n",
       "      <td>511</td>\n",
       "      <td>499</td>\n",
       "      <td>1011</td>\n",
       "    </tr>\n",
       "    <tr>\n",
       "      <th>6</th>\n",
       "      <td>Connecticut</td>\n",
       "      <td>0.31</td>\n",
       "      <td>25.5</td>\n",
       "      <td>24.6</td>\n",
       "      <td>25.6</td>\n",
       "      <td>24.6</td>\n",
       "      <td>25.2</td>\n",
       "      <td>1.00</td>\n",
       "      <td>530</td>\n",
       "      <td>512</td>\n",
       "      <td>...</td>\n",
       "      <td>0.26</td>\n",
       "      <td>25.6</td>\n",
       "      <td>26.0</td>\n",
       "      <td>24.8</td>\n",
       "      <td>26.1</td>\n",
       "      <td>24.9</td>\n",
       "      <td>1.00</td>\n",
       "      <td>535</td>\n",
       "      <td>519</td>\n",
       "      <td>1053</td>\n",
       "    </tr>\n",
       "    <tr>\n",
       "      <th>7</th>\n",
       "      <td>Delaware</td>\n",
       "      <td>0.18</td>\n",
       "      <td>24.1</td>\n",
       "      <td>23.4</td>\n",
       "      <td>24.8</td>\n",
       "      <td>23.6</td>\n",
       "      <td>24.1</td>\n",
       "      <td>1.00</td>\n",
       "      <td>503</td>\n",
       "      <td>492</td>\n",
       "      <td>...</td>\n",
       "      <td>0.17</td>\n",
       "      <td>23.2</td>\n",
       "      <td>23.7</td>\n",
       "      <td>23.1</td>\n",
       "      <td>24.5</td>\n",
       "      <td>23.4</td>\n",
       "      <td>1.00</td>\n",
       "      <td>505</td>\n",
       "      <td>492</td>\n",
       "      <td>998</td>\n",
       "    </tr>\n",
       "    <tr>\n",
       "      <th>29</th>\n",
       "      <td>New Hampshire</td>\n",
       "      <td>0.18</td>\n",
       "      <td>25.4</td>\n",
       "      <td>25.1</td>\n",
       "      <td>26.0</td>\n",
       "      <td>24.9</td>\n",
       "      <td>25.5</td>\n",
       "      <td>0.96</td>\n",
       "      <td>532</td>\n",
       "      <td>520</td>\n",
       "      <td>...</td>\n",
       "      <td>0.16</td>\n",
       "      <td>25.1</td>\n",
       "      <td>25.1</td>\n",
       "      <td>24.7</td>\n",
       "      <td>25.6</td>\n",
       "      <td>24.4</td>\n",
       "      <td>0.96</td>\n",
       "      <td>535</td>\n",
       "      <td>528</td>\n",
       "      <td>1063</td>\n",
       "    </tr>\n",
       "  </tbody>\n",
       "</table>\n",
       "<p>5 rows × 21 columns</p>\n",
       "</div>"
      ],
      "text/plain": [
       "                   state  act_part  act_eng  act_math  act_read  act_sci  \\\n",
       "8   District of Columbia      0.32     24.4      23.5      24.9     23.5   \n",
       "22              Michigan      0.29     24.1      23.7      24.5     23.8   \n",
       "6            Connecticut      0.31     25.5      24.6      25.6     24.6   \n",
       "7               Delaware      0.18     24.1      23.4      24.8     23.6   \n",
       "29         New Hampshire      0.18     25.4      25.1      26.0     24.9   \n",
       "\n",
       "    act_comp  sat_part  sat_ebrw  sat_math  ...  act18_part  act18_eng  \\\n",
       "8       24.2      1.00       482       468  ...        0.32       23.6   \n",
       "22      24.1      1.00       509       495  ...        0.22       24.4   \n",
       "6       25.2      1.00       530       512  ...        0.26       25.6   \n",
       "7       24.1      1.00       503       492  ...        0.17       23.2   \n",
       "29      25.5      0.96       532       520  ...        0.16       25.1   \n",
       "\n",
       "    act18_math  act18_read  act18_sci  act18_comp  sat18_part  sat18_ebrw  \\\n",
       "8         23.7        22.7       24.4        23.0        0.92         497   \n",
       "22        24.5        23.9       24.7        23.9        1.00         511   \n",
       "6         26.0        24.8       26.1        24.9        1.00         535   \n",
       "7         23.7        23.1       24.5        23.4        1.00         505   \n",
       "29        25.1        24.7       25.6        24.4        0.96         535   \n",
       "\n",
       "    sat18_math  sat18_total  \n",
       "8          480          977  \n",
       "22         499         1011  \n",
       "6          519         1053  \n",
       "7          492          998  \n",
       "29         528         1063  \n",
       "\n",
       "[5 rows x 21 columns]"
      ]
     },
     "execution_count": 41,
     "metadata": {},
     "output_type": "execute_result"
    }
   ],
   "source": [
    "# states with highest participation rate for 2017 SAT\n",
    "\n",
    "final.sort_values(['sat_part'], ascending=False).head()"
   ]
  },
  {
   "cell_type": "code",
   "execution_count": 42,
   "metadata": {},
   "outputs": [
    {
     "data": {
      "text/html": [
       "<div>\n",
       "<style scoped>\n",
       "    .dataframe tbody tr th:only-of-type {\n",
       "        vertical-align: middle;\n",
       "    }\n",
       "\n",
       "    .dataframe tbody tr th {\n",
       "        vertical-align: top;\n",
       "    }\n",
       "\n",
       "    .dataframe thead th {\n",
       "        text-align: right;\n",
       "    }\n",
       "</style>\n",
       "<table border=\"1\" class=\"dataframe\">\n",
       "  <thead>\n",
       "    <tr style=\"text-align: right;\">\n",
       "      <th></th>\n",
       "      <th>state</th>\n",
       "      <th>act_part</th>\n",
       "      <th>act_eng</th>\n",
       "      <th>act_math</th>\n",
       "      <th>act_read</th>\n",
       "      <th>act_sci</th>\n",
       "      <th>act_comp</th>\n",
       "      <th>sat_part</th>\n",
       "      <th>sat_ebrw</th>\n",
       "      <th>sat_math</th>\n",
       "      <th>...</th>\n",
       "      <th>act18_part</th>\n",
       "      <th>act18_eng</th>\n",
       "      <th>act18_math</th>\n",
       "      <th>act18_read</th>\n",
       "      <th>act18_sci</th>\n",
       "      <th>act18_comp</th>\n",
       "      <th>sat18_part</th>\n",
       "      <th>sat18_ebrw</th>\n",
       "      <th>sat18_math</th>\n",
       "      <th>sat18_total</th>\n",
       "    </tr>\n",
       "  </thead>\n",
       "  <tbody>\n",
       "    <tr>\n",
       "      <th>0</th>\n",
       "      <td>Alabama</td>\n",
       "      <td>1.0</td>\n",
       "      <td>18.9</td>\n",
       "      <td>18.4</td>\n",
       "      <td>19.7</td>\n",
       "      <td>19.4</td>\n",
       "      <td>19.2</td>\n",
       "      <td>0.05</td>\n",
       "      <td>593</td>\n",
       "      <td>572</td>\n",
       "      <td>...</td>\n",
       "      <td>1.0</td>\n",
       "      <td>19.1</td>\n",
       "      <td>18.9</td>\n",
       "      <td>18.3</td>\n",
       "      <td>19.6</td>\n",
       "      <td>19.0</td>\n",
       "      <td>0.06</td>\n",
       "      <td>595</td>\n",
       "      <td>571</td>\n",
       "      <td>1166</td>\n",
       "    </tr>\n",
       "    <tr>\n",
       "      <th>3</th>\n",
       "      <td>Arkansas</td>\n",
       "      <td>1.0</td>\n",
       "      <td>18.9</td>\n",
       "      <td>19.0</td>\n",
       "      <td>19.7</td>\n",
       "      <td>19.5</td>\n",
       "      <td>19.4</td>\n",
       "      <td>0.03</td>\n",
       "      <td>614</td>\n",
       "      <td>594</td>\n",
       "      <td>...</td>\n",
       "      <td>1.0</td>\n",
       "      <td>19.4</td>\n",
       "      <td>19.1</td>\n",
       "      <td>18.9</td>\n",
       "      <td>19.7</td>\n",
       "      <td>19.4</td>\n",
       "      <td>0.05</td>\n",
       "      <td>592</td>\n",
       "      <td>576</td>\n",
       "      <td>1169</td>\n",
       "    </tr>\n",
       "    <tr>\n",
       "      <th>17</th>\n",
       "      <td>Kentucky</td>\n",
       "      <td>1.0</td>\n",
       "      <td>19.6</td>\n",
       "      <td>19.4</td>\n",
       "      <td>20.5</td>\n",
       "      <td>20.1</td>\n",
       "      <td>20.0</td>\n",
       "      <td>0.04</td>\n",
       "      <td>631</td>\n",
       "      <td>616</td>\n",
       "      <td>...</td>\n",
       "      <td>1.0</td>\n",
       "      <td>20.2</td>\n",
       "      <td>19.9</td>\n",
       "      <td>19.7</td>\n",
       "      <td>20.8</td>\n",
       "      <td>20.1</td>\n",
       "      <td>0.04</td>\n",
       "      <td>630</td>\n",
       "      <td>618</td>\n",
       "      <td>1248</td>\n",
       "    </tr>\n",
       "    <tr>\n",
       "      <th>18</th>\n",
       "      <td>Louisiana</td>\n",
       "      <td>1.0</td>\n",
       "      <td>19.4</td>\n",
       "      <td>18.8</td>\n",
       "      <td>19.8</td>\n",
       "      <td>19.6</td>\n",
       "      <td>19.5</td>\n",
       "      <td>0.04</td>\n",
       "      <td>611</td>\n",
       "      <td>586</td>\n",
       "      <td>...</td>\n",
       "      <td>1.0</td>\n",
       "      <td>19.2</td>\n",
       "      <td>19.0</td>\n",
       "      <td>18.5</td>\n",
       "      <td>19.6</td>\n",
       "      <td>19.1</td>\n",
       "      <td>0.04</td>\n",
       "      <td>615</td>\n",
       "      <td>595</td>\n",
       "      <td>1210</td>\n",
       "    </tr>\n",
       "    <tr>\n",
       "      <th>24</th>\n",
       "      <td>Mississippi</td>\n",
       "      <td>1.0</td>\n",
       "      <td>18.2</td>\n",
       "      <td>18.1</td>\n",
       "      <td>18.8</td>\n",
       "      <td>18.8</td>\n",
       "      <td>18.6</td>\n",
       "      <td>0.02</td>\n",
       "      <td>634</td>\n",
       "      <td>607</td>\n",
       "      <td>...</td>\n",
       "      <td>1.0</td>\n",
       "      <td>18.6</td>\n",
       "      <td>18.2</td>\n",
       "      <td>18.1</td>\n",
       "      <td>18.9</td>\n",
       "      <td>18.6</td>\n",
       "      <td>0.03</td>\n",
       "      <td>630</td>\n",
       "      <td>606</td>\n",
       "      <td>1236</td>\n",
       "    </tr>\n",
       "    <tr>\n",
       "      <th>25</th>\n",
       "      <td>Missouri</td>\n",
       "      <td>1.0</td>\n",
       "      <td>19.8</td>\n",
       "      <td>19.9</td>\n",
       "      <td>20.8</td>\n",
       "      <td>20.5</td>\n",
       "      <td>20.4</td>\n",
       "      <td>0.03</td>\n",
       "      <td>640</td>\n",
       "      <td>631</td>\n",
       "      <td>...</td>\n",
       "      <td>1.0</td>\n",
       "      <td>20.0</td>\n",
       "      <td>19.5</td>\n",
       "      <td>19.7</td>\n",
       "      <td>20.5</td>\n",
       "      <td>20.0</td>\n",
       "      <td>0.04</td>\n",
       "      <td>633</td>\n",
       "      <td>629</td>\n",
       "      <td>1262</td>\n",
       "    </tr>\n",
       "    <tr>\n",
       "      <th>26</th>\n",
       "      <td>Montana</td>\n",
       "      <td>1.0</td>\n",
       "      <td>19.0</td>\n",
       "      <td>20.2</td>\n",
       "      <td>21.0</td>\n",
       "      <td>20.5</td>\n",
       "      <td>20.3</td>\n",
       "      <td>0.10</td>\n",
       "      <td>605</td>\n",
       "      <td>591</td>\n",
       "      <td>...</td>\n",
       "      <td>1.0</td>\n",
       "      <td>20.0</td>\n",
       "      <td>18.7</td>\n",
       "      <td>19.9</td>\n",
       "      <td>20.7</td>\n",
       "      <td>20.0</td>\n",
       "      <td>0.10</td>\n",
       "      <td>606</td>\n",
       "      <td>592</td>\n",
       "      <td>1198</td>\n",
       "    </tr>\n",
       "    <tr>\n",
       "      <th>28</th>\n",
       "      <td>Nevada</td>\n",
       "      <td>1.0</td>\n",
       "      <td>16.3</td>\n",
       "      <td>18.0</td>\n",
       "      <td>18.1</td>\n",
       "      <td>18.2</td>\n",
       "      <td>17.8</td>\n",
       "      <td>0.26</td>\n",
       "      <td>563</td>\n",
       "      <td>553</td>\n",
       "      <td>...</td>\n",
       "      <td>1.0</td>\n",
       "      <td>17.7</td>\n",
       "      <td>16.6</td>\n",
       "      <td>17.8</td>\n",
       "      <td>18.0</td>\n",
       "      <td>17.9</td>\n",
       "      <td>0.23</td>\n",
       "      <td>574</td>\n",
       "      <td>566</td>\n",
       "      <td>1140</td>\n",
       "    </tr>\n",
       "    <tr>\n",
       "      <th>33</th>\n",
       "      <td>North Carolina</td>\n",
       "      <td>1.0</td>\n",
       "      <td>17.8</td>\n",
       "      <td>19.3</td>\n",
       "      <td>19.6</td>\n",
       "      <td>19.3</td>\n",
       "      <td>19.1</td>\n",
       "      <td>0.49</td>\n",
       "      <td>546</td>\n",
       "      <td>535</td>\n",
       "      <td>...</td>\n",
       "      <td>1.0</td>\n",
       "      <td>19.1</td>\n",
       "      <td>18.0</td>\n",
       "      <td>19.3</td>\n",
       "      <td>19.5</td>\n",
       "      <td>19.2</td>\n",
       "      <td>0.52</td>\n",
       "      <td>554</td>\n",
       "      <td>543</td>\n",
       "      <td>1098</td>\n",
       "    </tr>\n",
       "    <tr>\n",
       "      <th>36</th>\n",
       "      <td>Oklahoma</td>\n",
       "      <td>1.0</td>\n",
       "      <td>18.5</td>\n",
       "      <td>18.8</td>\n",
       "      <td>20.1</td>\n",
       "      <td>19.6</td>\n",
       "      <td>19.4</td>\n",
       "      <td>0.07</td>\n",
       "      <td>530</td>\n",
       "      <td>517</td>\n",
       "      <td>...</td>\n",
       "      <td>1.0</td>\n",
       "      <td>19.3</td>\n",
       "      <td>18.4</td>\n",
       "      <td>18.8</td>\n",
       "      <td>20.1</td>\n",
       "      <td>19.4</td>\n",
       "      <td>0.08</td>\n",
       "      <td>541</td>\n",
       "      <td>521</td>\n",
       "      <td>1062</td>\n",
       "    </tr>\n",
       "    <tr>\n",
       "      <th>40</th>\n",
       "      <td>South Carolina</td>\n",
       "      <td>1.0</td>\n",
       "      <td>17.5</td>\n",
       "      <td>18.6</td>\n",
       "      <td>19.1</td>\n",
       "      <td>18.9</td>\n",
       "      <td>18.7</td>\n",
       "      <td>0.50</td>\n",
       "      <td>543</td>\n",
       "      <td>521</td>\n",
       "      <td>...</td>\n",
       "      <td>1.0</td>\n",
       "      <td>18.3</td>\n",
       "      <td>17.3</td>\n",
       "      <td>18.2</td>\n",
       "      <td>18.6</td>\n",
       "      <td>18.5</td>\n",
       "      <td>0.55</td>\n",
       "      <td>547</td>\n",
       "      <td>523</td>\n",
       "      <td>1070</td>\n",
       "    </tr>\n",
       "    <tr>\n",
       "      <th>42</th>\n",
       "      <td>Tennessee</td>\n",
       "      <td>1.0</td>\n",
       "      <td>19.5</td>\n",
       "      <td>19.2</td>\n",
       "      <td>20.1</td>\n",
       "      <td>19.9</td>\n",
       "      <td>19.8</td>\n",
       "      <td>0.05</td>\n",
       "      <td>623</td>\n",
       "      <td>604</td>\n",
       "      <td>...</td>\n",
       "      <td>1.0</td>\n",
       "      <td>19.6</td>\n",
       "      <td>19.4</td>\n",
       "      <td>19.1</td>\n",
       "      <td>19.9</td>\n",
       "      <td>19.6</td>\n",
       "      <td>0.06</td>\n",
       "      <td>624</td>\n",
       "      <td>607</td>\n",
       "      <td>1231</td>\n",
       "    </tr>\n",
       "    <tr>\n",
       "      <th>44</th>\n",
       "      <td>Utah</td>\n",
       "      <td>1.0</td>\n",
       "      <td>19.5</td>\n",
       "      <td>19.9</td>\n",
       "      <td>20.8</td>\n",
       "      <td>20.6</td>\n",
       "      <td>20.3</td>\n",
       "      <td>0.03</td>\n",
       "      <td>624</td>\n",
       "      <td>614</td>\n",
       "      <td>...</td>\n",
       "      <td>1.0</td>\n",
       "      <td>20.4</td>\n",
       "      <td>19.7</td>\n",
       "      <td>19.9</td>\n",
       "      <td>20.9</td>\n",
       "      <td>20.5</td>\n",
       "      <td>0.04</td>\n",
       "      <td>480</td>\n",
       "      <td>530</td>\n",
       "      <td>1010</td>\n",
       "    </tr>\n",
       "    <tr>\n",
       "      <th>49</th>\n",
       "      <td>Wisconsin</td>\n",
       "      <td>1.0</td>\n",
       "      <td>19.7</td>\n",
       "      <td>20.4</td>\n",
       "      <td>20.6</td>\n",
       "      <td>20.9</td>\n",
       "      <td>20.5</td>\n",
       "      <td>0.03</td>\n",
       "      <td>642</td>\n",
       "      <td>649</td>\n",
       "      <td>...</td>\n",
       "      <td>1.0</td>\n",
       "      <td>20.5</td>\n",
       "      <td>19.8</td>\n",
       "      <td>20.3</td>\n",
       "      <td>20.6</td>\n",
       "      <td>20.8</td>\n",
       "      <td>0.03</td>\n",
       "      <td>641</td>\n",
       "      <td>653</td>\n",
       "      <td>1294</td>\n",
       "    </tr>\n",
       "    <tr>\n",
       "      <th>50</th>\n",
       "      <td>Wyoming</td>\n",
       "      <td>1.0</td>\n",
       "      <td>19.4</td>\n",
       "      <td>19.8</td>\n",
       "      <td>20.8</td>\n",
       "      <td>20.6</td>\n",
       "      <td>20.2</td>\n",
       "      <td>0.03</td>\n",
       "      <td>626</td>\n",
       "      <td>604</td>\n",
       "      <td>...</td>\n",
       "      <td>1.0</td>\n",
       "      <td>20.0</td>\n",
       "      <td>19.0</td>\n",
       "      <td>19.7</td>\n",
       "      <td>20.6</td>\n",
       "      <td>20.3</td>\n",
       "      <td>0.03</td>\n",
       "      <td>633</td>\n",
       "      <td>625</td>\n",
       "      <td>1257</td>\n",
       "    </tr>\n",
       "  </tbody>\n",
       "</table>\n",
       "<p>15 rows × 21 columns</p>\n",
       "</div>"
      ],
      "text/plain": [
       "             state  act_part  act_eng  act_math  act_read  act_sci  act_comp  \\\n",
       "0          Alabama       1.0     18.9      18.4      19.7     19.4      19.2   \n",
       "3         Arkansas       1.0     18.9      19.0      19.7     19.5      19.4   \n",
       "17        Kentucky       1.0     19.6      19.4      20.5     20.1      20.0   \n",
       "18       Louisiana       1.0     19.4      18.8      19.8     19.6      19.5   \n",
       "24     Mississippi       1.0     18.2      18.1      18.8     18.8      18.6   \n",
       "25        Missouri       1.0     19.8      19.9      20.8     20.5      20.4   \n",
       "26         Montana       1.0     19.0      20.2      21.0     20.5      20.3   \n",
       "28          Nevada       1.0     16.3      18.0      18.1     18.2      17.8   \n",
       "33  North Carolina       1.0     17.8      19.3      19.6     19.3      19.1   \n",
       "36        Oklahoma       1.0     18.5      18.8      20.1     19.6      19.4   \n",
       "40  South Carolina       1.0     17.5      18.6      19.1     18.9      18.7   \n",
       "42       Tennessee       1.0     19.5      19.2      20.1     19.9      19.8   \n",
       "44            Utah       1.0     19.5      19.9      20.8     20.6      20.3   \n",
       "49       Wisconsin       1.0     19.7      20.4      20.6     20.9      20.5   \n",
       "50         Wyoming       1.0     19.4      19.8      20.8     20.6      20.2   \n",
       "\n",
       "    sat_part  sat_ebrw  sat_math  ...  act18_part  act18_eng  act18_math  \\\n",
       "0       0.05       593       572  ...         1.0       19.1        18.9   \n",
       "3       0.03       614       594  ...         1.0       19.4        19.1   \n",
       "17      0.04       631       616  ...         1.0       20.2        19.9   \n",
       "18      0.04       611       586  ...         1.0       19.2        19.0   \n",
       "24      0.02       634       607  ...         1.0       18.6        18.2   \n",
       "25      0.03       640       631  ...         1.0       20.0        19.5   \n",
       "26      0.10       605       591  ...         1.0       20.0        18.7   \n",
       "28      0.26       563       553  ...         1.0       17.7        16.6   \n",
       "33      0.49       546       535  ...         1.0       19.1        18.0   \n",
       "36      0.07       530       517  ...         1.0       19.3        18.4   \n",
       "40      0.50       543       521  ...         1.0       18.3        17.3   \n",
       "42      0.05       623       604  ...         1.0       19.6        19.4   \n",
       "44      0.03       624       614  ...         1.0       20.4        19.7   \n",
       "49      0.03       642       649  ...         1.0       20.5        19.8   \n",
       "50      0.03       626       604  ...         1.0       20.0        19.0   \n",
       "\n",
       "    act18_read  act18_sci  act18_comp  sat18_part  sat18_ebrw  sat18_math  \\\n",
       "0         18.3       19.6        19.0        0.06         595         571   \n",
       "3         18.9       19.7        19.4        0.05         592         576   \n",
       "17        19.7       20.8        20.1        0.04         630         618   \n",
       "18        18.5       19.6        19.1        0.04         615         595   \n",
       "24        18.1       18.9        18.6        0.03         630         606   \n",
       "25        19.7       20.5        20.0        0.04         633         629   \n",
       "26        19.9       20.7        20.0        0.10         606         592   \n",
       "28        17.8       18.0        17.9        0.23         574         566   \n",
       "33        19.3       19.5        19.2        0.52         554         543   \n",
       "36        18.8       20.1        19.4        0.08         541         521   \n",
       "40        18.2       18.6        18.5        0.55         547         523   \n",
       "42        19.1       19.9        19.6        0.06         624         607   \n",
       "44        19.9       20.9        20.5        0.04         480         530   \n",
       "49        20.3       20.6        20.8        0.03         641         653   \n",
       "50        19.7       20.6        20.3        0.03         633         625   \n",
       "\n",
       "    sat18_total  \n",
       "0          1166  \n",
       "3          1169  \n",
       "17         1248  \n",
       "18         1210  \n",
       "24         1236  \n",
       "25         1262  \n",
       "26         1198  \n",
       "28         1140  \n",
       "33         1098  \n",
       "36         1062  \n",
       "40         1070  \n",
       "42         1231  \n",
       "44         1010  \n",
       "49         1294  \n",
       "50         1257  \n",
       "\n",
       "[15 rows x 21 columns]"
      ]
     },
     "execution_count": 42,
     "metadata": {},
     "output_type": "execute_result"
    }
   ],
   "source": [
    "# States where both 2017 and 2018 100% participation for ACT\n",
    "\n",
    "final[(final['act_part'] == 1) & (final['act18_part'] == 1)]"
   ]
  },
  {
   "cell_type": "code",
   "execution_count": 43,
   "metadata": {},
   "outputs": [
    {
     "data": {
      "text/html": [
       "<div>\n",
       "<style scoped>\n",
       "    .dataframe tbody tr th:only-of-type {\n",
       "        vertical-align: middle;\n",
       "    }\n",
       "\n",
       "    .dataframe tbody tr th {\n",
       "        vertical-align: top;\n",
       "    }\n",
       "\n",
       "    .dataframe thead th {\n",
       "        text-align: right;\n",
       "    }\n",
       "</style>\n",
       "<table border=\"1\" class=\"dataframe\">\n",
       "  <thead>\n",
       "    <tr style=\"text-align: right;\">\n",
       "      <th></th>\n",
       "      <th>state</th>\n",
       "      <th>act_part</th>\n",
       "      <th>act_eng</th>\n",
       "      <th>act_math</th>\n",
       "      <th>act_read</th>\n",
       "      <th>act_sci</th>\n",
       "      <th>act_comp</th>\n",
       "      <th>sat_part</th>\n",
       "      <th>sat_ebrw</th>\n",
       "      <th>sat_math</th>\n",
       "      <th>...</th>\n",
       "      <th>act18_part</th>\n",
       "      <th>act18_eng</th>\n",
       "      <th>act18_math</th>\n",
       "      <th>act18_read</th>\n",
       "      <th>act18_sci</th>\n",
       "      <th>act18_comp</th>\n",
       "      <th>sat18_part</th>\n",
       "      <th>sat18_ebrw</th>\n",
       "      <th>sat18_math</th>\n",
       "      <th>sat18_total</th>\n",
       "    </tr>\n",
       "  </thead>\n",
       "  <tbody>\n",
       "    <tr>\n",
       "      <th>6</th>\n",
       "      <td>Connecticut</td>\n",
       "      <td>0.31</td>\n",
       "      <td>25.5</td>\n",
       "      <td>24.6</td>\n",
       "      <td>25.6</td>\n",
       "      <td>24.6</td>\n",
       "      <td>25.2</td>\n",
       "      <td>1.0</td>\n",
       "      <td>530</td>\n",
       "      <td>512</td>\n",
       "      <td>...</td>\n",
       "      <td>0.26</td>\n",
       "      <td>25.6</td>\n",
       "      <td>26.0</td>\n",
       "      <td>24.8</td>\n",
       "      <td>26.1</td>\n",
       "      <td>24.9</td>\n",
       "      <td>1.0</td>\n",
       "      <td>535</td>\n",
       "      <td>519</td>\n",
       "      <td>1053</td>\n",
       "    </tr>\n",
       "    <tr>\n",
       "      <th>7</th>\n",
       "      <td>Delaware</td>\n",
       "      <td>0.18</td>\n",
       "      <td>24.1</td>\n",
       "      <td>23.4</td>\n",
       "      <td>24.8</td>\n",
       "      <td>23.6</td>\n",
       "      <td>24.1</td>\n",
       "      <td>1.0</td>\n",
       "      <td>503</td>\n",
       "      <td>492</td>\n",
       "      <td>...</td>\n",
       "      <td>0.17</td>\n",
       "      <td>23.2</td>\n",
       "      <td>23.7</td>\n",
       "      <td>23.1</td>\n",
       "      <td>24.5</td>\n",
       "      <td>23.4</td>\n",
       "      <td>1.0</td>\n",
       "      <td>505</td>\n",
       "      <td>492</td>\n",
       "      <td>998</td>\n",
       "    </tr>\n",
       "    <tr>\n",
       "      <th>22</th>\n",
       "      <td>Michigan</td>\n",
       "      <td>0.29</td>\n",
       "      <td>24.1</td>\n",
       "      <td>23.7</td>\n",
       "      <td>24.5</td>\n",
       "      <td>23.8</td>\n",
       "      <td>24.1</td>\n",
       "      <td>1.0</td>\n",
       "      <td>509</td>\n",
       "      <td>495</td>\n",
       "      <td>...</td>\n",
       "      <td>0.22</td>\n",
       "      <td>24.4</td>\n",
       "      <td>24.5</td>\n",
       "      <td>23.9</td>\n",
       "      <td>24.7</td>\n",
       "      <td>23.9</td>\n",
       "      <td>1.0</td>\n",
       "      <td>511</td>\n",
       "      <td>499</td>\n",
       "      <td>1011</td>\n",
       "    </tr>\n",
       "  </tbody>\n",
       "</table>\n",
       "<p>3 rows × 21 columns</p>\n",
       "</div>"
      ],
      "text/plain": [
       "          state  act_part  act_eng  act_math  act_read  act_sci  act_comp  \\\n",
       "6   Connecticut      0.31     25.5      24.6      25.6     24.6      25.2   \n",
       "7      Delaware      0.18     24.1      23.4      24.8     23.6      24.1   \n",
       "22     Michigan      0.29     24.1      23.7      24.5     23.8      24.1   \n",
       "\n",
       "    sat_part  sat_ebrw  sat_math  ...  act18_part  act18_eng  act18_math  \\\n",
       "6        1.0       530       512  ...        0.26       25.6        26.0   \n",
       "7        1.0       503       492  ...        0.17       23.2        23.7   \n",
       "22       1.0       509       495  ...        0.22       24.4        24.5   \n",
       "\n",
       "    act18_read  act18_sci  act18_comp  sat18_part  sat18_ebrw  sat18_math  \\\n",
       "6         24.8       26.1        24.9         1.0         535         519   \n",
       "7         23.1       24.5        23.4         1.0         505         492   \n",
       "22        23.9       24.7        23.9         1.0         511         499   \n",
       "\n",
       "    sat18_total  \n",
       "6          1053  \n",
       "7           998  \n",
       "22         1011  \n",
       "\n",
       "[3 rows x 21 columns]"
      ]
     },
     "execution_count": 43,
     "metadata": {},
     "output_type": "execute_result"
    }
   ],
   "source": [
    "# States where both 2017 and 2018 100% participation for SAT \n",
    "\n",
    "final[(final['sat_part'] == 1) & (final['sat18_part'] == 1)]"
   ]
  },
  {
   "cell_type": "markdown",
   "metadata": {},
   "source": [
    "## Visualize the data\n",
    "\n",
    "There's not a magic bullet recommendation for the right number of plots to understand a given dataset, but visualizing your data is *always* a good idea. Not only does it allow you to quickly convey your findings (even if you have a non-technical audience), it will often reveal trends in your data that escaped you when you were looking only at numbers.\n",
    "\n",
    "Some recommendations on plotting:\n",
    "- Plots have titles\n",
    "- Plots have axis labels\n",
    "- Plots have appropriate tick labels\n",
    "- All text is legible in a plot\n",
    "- Plots demonstrate meaningful and valid relationships\n",
    "- Plots are interpreted to aid understanding\n",
    "\n",
    "There is such a thing as too many plots, and there are a *lot* of bad plots. You might make some! (But hopefully not with the guided prompts below)."
   ]
  },
  {
   "cell_type": "markdown",
   "metadata": {},
   "source": [
    "#### Use Seaborn's heatmap with pandas `.corr()` to visualize correlations between all numeric features\n",
    "\n",
    "Heatmaps are generally not appropriate for presentations, and should often be excluded from reports as they can be visually overwhelming. **However**, they can be extremely useful in identify relationships of potential interest (as well as identifying potential collinearity before modeling).\n",
    "\n",
    "*example*:\n",
    "```python\n",
    "sns.heatmap(df.corr())\n",
    "```\n",
    "\n",
    "Please take time to format your output, adding a title. Look through some of the additional arguments and options. (Axis labels aren't really necessary, as long as the title is informative)."
   ]
  },
  {
   "cell_type": "code",
   "execution_count": 44,
   "metadata": {},
   "outputs": [
    {
     "data": {
      "image/png": "[encoded data removed]",
      "text/plain": [
       "<Figure size 1296x1008 with 2 Axes>"
      ]
     },
     "metadata": {
      "needs_background": "light"
     },
     "output_type": "display_data"
    }
   ],
   "source": [
    "fig,ax = plt.subplots(figsize=(18,14))\n",
    "\n",
    "# Set the title.\n",
    "ax.set_title('Correlation table of SAT & ACT', fontsize=25, y=1);\n",
    "\n",
    "# Masking\n",
    "mask = np.zeros_like(final.corr())\n",
    "mask[np.triu_indices_from(mask)] = True\n",
    "ax = sns.heatmap(final.corr(), mask=mask, vmax=.3, square=True, annot = True, cmap='Blues')"
   ]
  },
  {
   "cell_type": "markdown",
   "metadata": {},
   "source": [
    "### Inference\n",
    "\n",
    "There is a high negative correlation between the SAT participation and ACT participation for both 2017 and 2018"
   ]
  },
  {
   "cell_type": "markdown",
   "metadata": {},
   "source": [
    "#### Define a custom function to subplot histograms\n",
    "\n",
    "We have data for two tests for two years. We only have composite (and not subtest scores) for the 2018 ACT. We should write a function that will take the names of 2+ columns and subplot histograms. While you can use pandas plotting or Seaborn here, matplotlib gives you greater control over all aspects of your plots.\n",
    "\n",
    "[Helpful Link for Plotting Multiple Figures](https://matplotlib.org/users/pyplot_tutorial.html#working-with-multiple-figures-and-axes)\n",
    "\n",
    "Here's some starter code:"
   ]
  },
  {
   "cell_type": "code",
   "execution_count": 45,
   "metadata": {},
   "outputs": [],
   "source": [
    "def subplot_histograms(dataframe, list_of_columns, list_of_titles, list_of_xlabels):\n",
    "    \n",
    "    nrows = int(np.ceil(len(list_of_columns)/2)) # Makes sure you have enough rows\n",
    "    \n",
    "    fig, ax = plt.subplots(nrows=nrows, ncols=2, figsize=(14, 16)) # grid of subplots\n",
    "    \n",
    "    ax = ax.ravel() # Ravel turns a matrix into a vector, which is easier to iterate\n",
    "    \n",
    "    for i, column in enumerate(list_of_columns): # Gives us an index value to get into all our lists\n",
    "        ax[i].hist(dataframe[column],bins = 10,edgecolor='k')\n",
    "        ax[i].set_title(f'{list_of_titles[i]}',fontsize=15, pad=10)\n",
    "        ax[i].set_xlabel(f'{list_of_xlabels[i]}',fontsize=12)\n",
    "        ax[i].set_ylabel('frequency',fontsize=12)\n",
    "        ax[i].axvline(dataframe[column].mean(), color='r', linestyle='dashed', linewidth=1)\n",
    "        ax[i].axvline(dataframe[column].median(), color='b', linestyle='dashed', linewidth=1)"
   ]
  },
  {
   "cell_type": "markdown",
   "metadata": {},
   "source": [
    "#### Plot and interpret histograms \n",
    "For each of the following:\n",
    "- Participation rates for SAT & ACT\n",
    "- Math scores for SAT & ACT\n",
    "- Reading/verbal scores for SAT & ACT"
   ]
  },
  {
   "cell_type": "code",
   "execution_count": 46,
   "metadata": {},
   "outputs": [
    {
     "data": {
      "text/html": [
       "<div>\n",
       "<style scoped>\n",
       "    .dataframe tbody tr th:only-of-type {\n",
       "        vertical-align: middle;\n",
       "    }\n",
       "\n",
       "    .dataframe tbody tr th {\n",
       "        vertical-align: top;\n",
       "    }\n",
       "\n",
       "    .dataframe thead th {\n",
       "        text-align: right;\n",
       "    }\n",
       "</style>\n",
       "<table border=\"1\" class=\"dataframe\">\n",
       "  <thead>\n",
       "    <tr style=\"text-align: right;\">\n",
       "      <th></th>\n",
       "      <th>state</th>\n",
       "      <th>act_part</th>\n",
       "      <th>act_eng</th>\n",
       "      <th>act_math</th>\n",
       "      <th>act_read</th>\n",
       "      <th>act_sci</th>\n",
       "      <th>act_comp</th>\n",
       "      <th>sat_part</th>\n",
       "      <th>sat_ebrw</th>\n",
       "      <th>sat_math</th>\n",
       "      <th>...</th>\n",
       "      <th>act18_part</th>\n",
       "      <th>act18_eng</th>\n",
       "      <th>act18_math</th>\n",
       "      <th>act18_read</th>\n",
       "      <th>act18_sci</th>\n",
       "      <th>act18_comp</th>\n",
       "      <th>sat18_part</th>\n",
       "      <th>sat18_ebrw</th>\n",
       "      <th>sat18_math</th>\n",
       "      <th>sat18_total</th>\n",
       "    </tr>\n",
       "  </thead>\n",
       "  <tbody>\n",
       "    <tr>\n",
       "      <th>0</th>\n",
       "      <td>Alabama</td>\n",
       "      <td>1.00</td>\n",
       "      <td>18.9</td>\n",
       "      <td>18.4</td>\n",
       "      <td>19.7</td>\n",
       "      <td>19.4</td>\n",
       "      <td>19.2</td>\n",
       "      <td>0.05</td>\n",
       "      <td>593</td>\n",
       "      <td>572</td>\n",
       "      <td>...</td>\n",
       "      <td>1.00</td>\n",
       "      <td>19.1</td>\n",
       "      <td>18.9</td>\n",
       "      <td>18.3</td>\n",
       "      <td>19.6</td>\n",
       "      <td>19.0</td>\n",
       "      <td>0.06</td>\n",
       "      <td>595</td>\n",
       "      <td>571</td>\n",
       "      <td>1166</td>\n",
       "    </tr>\n",
       "    <tr>\n",
       "      <th>1</th>\n",
       "      <td>Alaska</td>\n",
       "      <td>0.65</td>\n",
       "      <td>18.7</td>\n",
       "      <td>19.8</td>\n",
       "      <td>20.4</td>\n",
       "      <td>19.9</td>\n",
       "      <td>19.8</td>\n",
       "      <td>0.38</td>\n",
       "      <td>547</td>\n",
       "      <td>533</td>\n",
       "      <td>...</td>\n",
       "      <td>0.33</td>\n",
       "      <td>20.8</td>\n",
       "      <td>19.8</td>\n",
       "      <td>20.6</td>\n",
       "      <td>21.6</td>\n",
       "      <td>20.7</td>\n",
       "      <td>0.43</td>\n",
       "      <td>562</td>\n",
       "      <td>544</td>\n",
       "      <td>1106</td>\n",
       "    </tr>\n",
       "    <tr>\n",
       "      <th>2</th>\n",
       "      <td>Arizona</td>\n",
       "      <td>0.62</td>\n",
       "      <td>18.6</td>\n",
       "      <td>19.8</td>\n",
       "      <td>20.1</td>\n",
       "      <td>19.8</td>\n",
       "      <td>19.7</td>\n",
       "      <td>0.30</td>\n",
       "      <td>563</td>\n",
       "      <td>553</td>\n",
       "      <td>...</td>\n",
       "      <td>0.66</td>\n",
       "      <td>19.2</td>\n",
       "      <td>18.2</td>\n",
       "      <td>19.4</td>\n",
       "      <td>19.5</td>\n",
       "      <td>19.2</td>\n",
       "      <td>0.29</td>\n",
       "      <td>577</td>\n",
       "      <td>572</td>\n",
       "      <td>1149</td>\n",
       "    </tr>\n",
       "    <tr>\n",
       "      <th>3</th>\n",
       "      <td>Arkansas</td>\n",
       "      <td>1.00</td>\n",
       "      <td>18.9</td>\n",
       "      <td>19.0</td>\n",
       "      <td>19.7</td>\n",
       "      <td>19.5</td>\n",
       "      <td>19.4</td>\n",
       "      <td>0.03</td>\n",
       "      <td>614</td>\n",
       "      <td>594</td>\n",
       "      <td>...</td>\n",
       "      <td>1.00</td>\n",
       "      <td>19.4</td>\n",
       "      <td>19.1</td>\n",
       "      <td>18.9</td>\n",
       "      <td>19.7</td>\n",
       "      <td>19.4</td>\n",
       "      <td>0.05</td>\n",
       "      <td>592</td>\n",
       "      <td>576</td>\n",
       "      <td>1169</td>\n",
       "    </tr>\n",
       "    <tr>\n",
       "      <th>4</th>\n",
       "      <td>California</td>\n",
       "      <td>0.31</td>\n",
       "      <td>22.5</td>\n",
       "      <td>22.7</td>\n",
       "      <td>23.1</td>\n",
       "      <td>22.2</td>\n",
       "      <td>22.8</td>\n",
       "      <td>0.53</td>\n",
       "      <td>531</td>\n",
       "      <td>524</td>\n",
       "      <td>...</td>\n",
       "      <td>0.27</td>\n",
       "      <td>22.7</td>\n",
       "      <td>22.5</td>\n",
       "      <td>22.5</td>\n",
       "      <td>23.0</td>\n",
       "      <td>22.1</td>\n",
       "      <td>0.60</td>\n",
       "      <td>540</td>\n",
       "      <td>536</td>\n",
       "      <td>1076</td>\n",
       "    </tr>\n",
       "  </tbody>\n",
       "</table>\n",
       "<p>5 rows × 21 columns</p>\n",
       "</div>"
      ],
      "text/plain": [
       "        state  act_part  act_eng  act_math  act_read  act_sci  act_comp  \\\n",
       "0     Alabama      1.00     18.9      18.4      19.7     19.4      19.2   \n",
       "1      Alaska      0.65     18.7      19.8      20.4     19.9      19.8   \n",
       "2     Arizona      0.62     18.6      19.8      20.1     19.8      19.7   \n",
       "3    Arkansas      1.00     18.9      19.0      19.7     19.5      19.4   \n",
       "4  California      0.31     22.5      22.7      23.1     22.2      22.8   \n",
       "\n",
       "   sat_part  sat_ebrw  sat_math  ...  act18_part  act18_eng  act18_math  \\\n",
       "0      0.05       593       572  ...        1.00       19.1        18.9   \n",
       "1      0.38       547       533  ...        0.33       20.8        19.8   \n",
       "2      0.30       563       553  ...        0.66       19.2        18.2   \n",
       "3      0.03       614       594  ...        1.00       19.4        19.1   \n",
       "4      0.53       531       524  ...        0.27       22.7        22.5   \n",
       "\n",
       "   act18_read  act18_sci  act18_comp  sat18_part  sat18_ebrw  sat18_math  \\\n",
       "0        18.3       19.6        19.0        0.06         595         571   \n",
       "1        20.6       21.6        20.7        0.43         562         544   \n",
       "2        19.4       19.5        19.2        0.29         577         572   \n",
       "3        18.9       19.7        19.4        0.05         592         576   \n",
       "4        22.5       23.0        22.1        0.60         540         536   \n",
       "\n",
       "   sat18_total  \n",
       "0         1166  \n",
       "1         1106  \n",
       "2         1149  \n",
       "3         1169  \n",
       "4         1076  \n",
       "\n",
       "[5 rows x 21 columns]"
      ]
     },
     "execution_count": 46,
     "metadata": {},
     "output_type": "execute_result"
    }
   ],
   "source": [
    "final.head()"
   ]
  },
  {
   "cell_type": "markdown",
   "metadata": {},
   "source": [
    "#### Participation rates for SAT & ACT"
   ]
  },
  {
   "cell_type": "code",
   "execution_count": 47,
   "metadata": {
    "scrolled": false
   },
   "outputs": [
    {
     "data": {
      "image/png": "[encoded data removed]",
      "text/plain": [
       "<Figure size 1008x1152 with 4 Axes>"
      ]
     },
     "metadata": {
      "needs_background": "light"
     },
     "output_type": "display_data"
    }
   ],
   "source": [
    "subplot_histograms(final,['sat_part','act_part','sat18_part','act18_part'],['Sat participation','ACT participation','SAT 2018 participation','ACT 2018 participation'],['sat_part','act_part','sat18_part','act18_part'])"
   ]
  },
  {
   "cell_type": "markdown",
   "metadata": {},
   "source": [
    "#### Math scores for SAT & ACT"
   ]
  },
  {
   "cell_type": "code",
   "execution_count": 48,
   "metadata": {},
   "outputs": [
    {
     "data": {
      "image/png": "[encoded data removed]",
      "text/plain": [
       "<Figure size 1008x1152 with 4 Axes>"
      ]
     },
     "metadata": {
      "needs_background": "light"
     },
     "output_type": "display_data"
    }
   ],
   "source": [
    "subplot_histograms(final,['sat_math','act_math','sat18_math','act18_math'],['Sat math score','ACT math score','SAT 2018 math score','ACT 2018 math score'],['sat_math','act_math','sat18_math','act18_math'])"
   ]
  },
  {
   "cell_type": "code",
   "execution_count": 49,
   "metadata": {},
   "outputs": [
    {
     "data": {
      "text/html": [
       "<div>\n",
       "<style scoped>\n",
       "    .dataframe tbody tr th:only-of-type {\n",
       "        vertical-align: middle;\n",
       "    }\n",
       "\n",
       "    .dataframe tbody tr th {\n",
       "        vertical-align: top;\n",
       "    }\n",
       "\n",
       "    .dataframe thead th {\n",
       "        text-align: right;\n",
       "    }\n",
       "</style>\n",
       "<table border=\"1\" class=\"dataframe\">\n",
       "  <thead>\n",
       "    <tr style=\"text-align: right;\">\n",
       "      <th></th>\n",
       "      <th>state</th>\n",
       "      <th>act_part</th>\n",
       "      <th>act_eng</th>\n",
       "      <th>act_math</th>\n",
       "      <th>act_read</th>\n",
       "      <th>act_sci</th>\n",
       "      <th>act_comp</th>\n",
       "      <th>sat_part</th>\n",
       "      <th>sat_ebrw</th>\n",
       "      <th>sat_math</th>\n",
       "      <th>...</th>\n",
       "      <th>act18_part</th>\n",
       "      <th>act18_eng</th>\n",
       "      <th>act18_math</th>\n",
       "      <th>act18_read</th>\n",
       "      <th>act18_sci</th>\n",
       "      <th>act18_comp</th>\n",
       "      <th>sat18_part</th>\n",
       "      <th>sat18_ebrw</th>\n",
       "      <th>sat18_math</th>\n",
       "      <th>sat18_total</th>\n",
       "    </tr>\n",
       "  </thead>\n",
       "  <tbody>\n",
       "    <tr>\n",
       "      <th>0</th>\n",
       "      <td>Alabama</td>\n",
       "      <td>1.00</td>\n",
       "      <td>18.9</td>\n",
       "      <td>18.4</td>\n",
       "      <td>19.7</td>\n",
       "      <td>19.4</td>\n",
       "      <td>19.2</td>\n",
       "      <td>0.05</td>\n",
       "      <td>593</td>\n",
       "      <td>572</td>\n",
       "      <td>...</td>\n",
       "      <td>1.00</td>\n",
       "      <td>19.1</td>\n",
       "      <td>18.9</td>\n",
       "      <td>18.3</td>\n",
       "      <td>19.6</td>\n",
       "      <td>19.0</td>\n",
       "      <td>0.06</td>\n",
       "      <td>595</td>\n",
       "      <td>571</td>\n",
       "      <td>1166</td>\n",
       "    </tr>\n",
       "    <tr>\n",
       "      <th>1</th>\n",
       "      <td>Alaska</td>\n",
       "      <td>0.65</td>\n",
       "      <td>18.7</td>\n",
       "      <td>19.8</td>\n",
       "      <td>20.4</td>\n",
       "      <td>19.9</td>\n",
       "      <td>19.8</td>\n",
       "      <td>0.38</td>\n",
       "      <td>547</td>\n",
       "      <td>533</td>\n",
       "      <td>...</td>\n",
       "      <td>0.33</td>\n",
       "      <td>20.8</td>\n",
       "      <td>19.8</td>\n",
       "      <td>20.6</td>\n",
       "      <td>21.6</td>\n",
       "      <td>20.7</td>\n",
       "      <td>0.43</td>\n",
       "      <td>562</td>\n",
       "      <td>544</td>\n",
       "      <td>1106</td>\n",
       "    </tr>\n",
       "    <tr>\n",
       "      <th>2</th>\n",
       "      <td>Arizona</td>\n",
       "      <td>0.62</td>\n",
       "      <td>18.6</td>\n",
       "      <td>19.8</td>\n",
       "      <td>20.1</td>\n",
       "      <td>19.8</td>\n",
       "      <td>19.7</td>\n",
       "      <td>0.30</td>\n",
       "      <td>563</td>\n",
       "      <td>553</td>\n",
       "      <td>...</td>\n",
       "      <td>0.66</td>\n",
       "      <td>19.2</td>\n",
       "      <td>18.2</td>\n",
       "      <td>19.4</td>\n",
       "      <td>19.5</td>\n",
       "      <td>19.2</td>\n",
       "      <td>0.29</td>\n",
       "      <td>577</td>\n",
       "      <td>572</td>\n",
       "      <td>1149</td>\n",
       "    </tr>\n",
       "    <tr>\n",
       "      <th>3</th>\n",
       "      <td>Arkansas</td>\n",
       "      <td>1.00</td>\n",
       "      <td>18.9</td>\n",
       "      <td>19.0</td>\n",
       "      <td>19.7</td>\n",
       "      <td>19.5</td>\n",
       "      <td>19.4</td>\n",
       "      <td>0.03</td>\n",
       "      <td>614</td>\n",
       "      <td>594</td>\n",
       "      <td>...</td>\n",
       "      <td>1.00</td>\n",
       "      <td>19.4</td>\n",
       "      <td>19.1</td>\n",
       "      <td>18.9</td>\n",
       "      <td>19.7</td>\n",
       "      <td>19.4</td>\n",
       "      <td>0.05</td>\n",
       "      <td>592</td>\n",
       "      <td>576</td>\n",
       "      <td>1169</td>\n",
       "    </tr>\n",
       "    <tr>\n",
       "      <th>4</th>\n",
       "      <td>California</td>\n",
       "      <td>0.31</td>\n",
       "      <td>22.5</td>\n",
       "      <td>22.7</td>\n",
       "      <td>23.1</td>\n",
       "      <td>22.2</td>\n",
       "      <td>22.8</td>\n",
       "      <td>0.53</td>\n",
       "      <td>531</td>\n",
       "      <td>524</td>\n",
       "      <td>...</td>\n",
       "      <td>0.27</td>\n",
       "      <td>22.7</td>\n",
       "      <td>22.5</td>\n",
       "      <td>22.5</td>\n",
       "      <td>23.0</td>\n",
       "      <td>22.1</td>\n",
       "      <td>0.60</td>\n",
       "      <td>540</td>\n",
       "      <td>536</td>\n",
       "      <td>1076</td>\n",
       "    </tr>\n",
       "  </tbody>\n",
       "</table>\n",
       "<p>5 rows × 21 columns</p>\n",
       "</div>"
      ],
      "text/plain": [
       "        state  act_part  act_eng  act_math  act_read  act_sci  act_comp  \\\n",
       "0     Alabama      1.00     18.9      18.4      19.7     19.4      19.2   \n",
       "1      Alaska      0.65     18.7      19.8      20.4     19.9      19.8   \n",
       "2     Arizona      0.62     18.6      19.8      20.1     19.8      19.7   \n",
       "3    Arkansas      1.00     18.9      19.0      19.7     19.5      19.4   \n",
       "4  California      0.31     22.5      22.7      23.1     22.2      22.8   \n",
       "\n",
       "   sat_part  sat_ebrw  sat_math  ...  act18_part  act18_eng  act18_math  \\\n",
       "0      0.05       593       572  ...        1.00       19.1        18.9   \n",
       "1      0.38       547       533  ...        0.33       20.8        19.8   \n",
       "2      0.30       563       553  ...        0.66       19.2        18.2   \n",
       "3      0.03       614       594  ...        1.00       19.4        19.1   \n",
       "4      0.53       531       524  ...        0.27       22.7        22.5   \n",
       "\n",
       "   act18_read  act18_sci  act18_comp  sat18_part  sat18_ebrw  sat18_math  \\\n",
       "0        18.3       19.6        19.0        0.06         595         571   \n",
       "1        20.6       21.6        20.7        0.43         562         544   \n",
       "2        19.4       19.5        19.2        0.29         577         572   \n",
       "3        18.9       19.7        19.4        0.05         592         576   \n",
       "4        22.5       23.0        22.1        0.60         540         536   \n",
       "\n",
       "   sat18_total  \n",
       "0         1166  \n",
       "1         1106  \n",
       "2         1149  \n",
       "3         1169  \n",
       "4         1076  \n",
       "\n",
       "[5 rows x 21 columns]"
      ]
     },
     "execution_count": 49,
     "metadata": {},
     "output_type": "execute_result"
    }
   ],
   "source": [
    "final.head()"
   ]
  },
  {
   "cell_type": "markdown",
   "metadata": {},
   "source": [
    "#### Reading/verbal scores for SAT & ACT"
   ]
  },
  {
   "cell_type": "code",
   "execution_count": 50,
   "metadata": {},
   "outputs": [
    {
     "data": {
      "image/png": "[encoded data removed]",
      "text/plain": [
       "<Figure size 1008x1152 with 4 Axes>"
      ]
     },
     "metadata": {
      "needs_background": "light"
     },
     "output_type": "display_data"
    }
   ],
   "source": [
    "subplot_histograms(final,['sat_ebrw','act_read','sat18_ebrw','act18_read'],['Sat ebrw score','ACT read score','SAT 2018 ebrw score','ACT 2018 read score'],['sat_ebrw','act_read','sat18_ebrw','act18_read'])"
   ]
  },
  {
   "cell_type": "markdown",
   "metadata": {},
   "source": [
    "#### Plot and interpret scatter plots\n",
    "\n",
    "For each of the following:\n",
    "- SAT vs. ACT math scores for 2017\n",
    "- SAT vs. ACT verbal/reading scores for 2017\n",
    "- SAT vs. ACT total/composite scores for 2017\n",
    "- Total scores for SAT 2017 vs. 2018\n",
    "- Composite scores for ACT 2017 vs. 2018\n",
    "\n",
    "Plot the two variables against each other using matplotlib or Seaborn\n",
    "\n",
    "Your plots should show:\n",
    "- Two clearly labeled axes\n",
    "- A proper title\n",
    "- Using colors and symbols that are clear and unmistakable\n",
    "\n",
    "**Feel free to write a custom function, and subplot if you'd like.** Functions save both time and space.\n"
   ]
  },
  {
   "cell_type": "code",
   "execution_count": 51,
   "metadata": {},
   "outputs": [],
   "source": [
    "def scatter_plot(dataframe, x_axis, y_axis):\n",
    "    \n",
    "    # Establish the size of the figure.\n",
    "    fig, ax = plt.subplots(figsize=(20, 9))\n",
    "\n",
    "    # Create scatter plot \n",
    "    plt.scatter(dataframe[f'{x_axis}'],\n",
    "                dataframe[f'{y_axis}'],color=['midnightblue'],alpha=0.8);\n",
    "    \n",
    "    # title, xlabel and y label\n",
    "    plt.title(f\"{x_axis} versus {y_axis}\", fontsize = 20, pad=10)\n",
    "    plt.ylabel(f\"{y_axis}\", fontsize = 15)\n",
    "    plt.xlabel(f\"{x_axis}\", fontsize = 15);\n",
    "    \n",
    "    # removing top and right borders\n",
    "    ax.spines['top'].set_visible(False)\n",
    "    ax.spines['right'].set_visible(False)\n",
    "    ax.grid(color='grey', linestyle='-', linewidth=0.25, alpha=0.8)\n",
    "    "
   ]
  },
  {
   "cell_type": "markdown",
   "metadata": {},
   "source": [
    "#### SAT vs. ACT math scores for 2017"
   ]
  },
  {
   "cell_type": "code",
   "execution_count": 52,
   "metadata": {},
   "outputs": [
    {
     "data": {
      "image/png": "[encoded data removed]",
      "text/plain": [
       "<Figure size 1440x648 with 1 Axes>"
      ]
     },
     "metadata": {
      "needs_background": "light"
     },
     "output_type": "display_data"
    }
   ],
   "source": [
    "scatter_plot(final,'sat_math','act_math')"
   ]
  },
  {
   "cell_type": "markdown",
   "metadata": {},
   "source": [
    "#### SAT vs. ACT verbal/reading scores for 2017"
   ]
  },
  {
   "cell_type": "code",
   "execution_count": 53,
   "metadata": {},
   "outputs": [
    {
     "data": {
      "image/png": "[encoded data removed]",
      "text/plain": [
       "<Figure size 1440x648 with 1 Axes>"
      ]
     },
     "metadata": {
      "needs_background": "light"
     },
     "output_type": "display_data"
    }
   ],
   "source": [
    "scatter_plot(final,'sat_ebrw','act_read')"
   ]
  },
  {
   "cell_type": "markdown",
   "metadata": {},
   "source": [
    "#### SAT vs. ACT total/composite scores for 2017"
   ]
  },
  {
   "cell_type": "code",
   "execution_count": 54,
   "metadata": {},
   "outputs": [
    {
     "data": {
      "image/png": "[encoded data removed]",
      "text/plain": [
       "<Figure size 1440x648 with 1 Axes>"
      ]
     },
     "metadata": {
      "needs_background": "light"
     },
     "output_type": "display_data"
    }
   ],
   "source": [
    "scatter_plot(final,'sat_total','act_comp')"
   ]
  },
  {
   "cell_type": "markdown",
   "metadata": {},
   "source": [
    "#### Total scores for SAT 2017 vs. 2018"
   ]
  },
  {
   "cell_type": "code",
   "execution_count": 55,
   "metadata": {},
   "outputs": [
    {
     "data": {
      "image/png": "[encoded data removed]",
      "text/plain": [
       "<Figure size 1440x648 with 1 Axes>"
      ]
     },
     "metadata": {
      "needs_background": "light"
     },
     "output_type": "display_data"
    }
   ],
   "source": [
    "scatter_plot(final,'sat_total','sat18_total')"
   ]
  },
  {
   "cell_type": "markdown",
   "metadata": {},
   "source": [
    "#### Composite scores for ACT 2017 vs. 2018"
   ]
  },
  {
   "cell_type": "code",
   "execution_count": 56,
   "metadata": {},
   "outputs": [
    {
     "data": {
      "image/png": "[encoded data removed]",
      "text/plain": [
       "<Figure size 1440x648 with 1 Axes>"
      ]
     },
     "metadata": {
      "needs_background": "light"
     },
     "output_type": "display_data"
    }
   ],
   "source": [
    "scatter_plot(final,'act_comp','act18_comp')"
   ]
  },
  {
   "cell_type": "markdown",
   "metadata": {},
   "source": [
    "#### Plot and interpret boxplots\n",
    "\n",
    "For each numeric variable in the dataframe create a boxplot using Seaborn. Boxplots demonstrate central tendency and spread in variables. In a certain sense, these are somewhat redundant with histograms, but you may be better able to identify clear outliers or differences in IQR, etc.\n",
    "\n",
    "Multiple values can be plotted to a single boxplot as long as they are of the same relative scale (meaning they have similar min/max values).\n",
    "\n",
    "Each boxplot should:\n",
    "- Only include variables of a similar scale\n",
    "- Have clear labels for each variable\n",
    "- Have appropriate titles and labels"
   ]
  },
  {
   "cell_type": "code",
   "execution_count": 57,
   "metadata": {},
   "outputs": [
    {
     "data": {
      "image/png": "[encoded data removed]",
      "text/plain": [
       "<Figure size 1440x648 with 1 Axes>"
      ]
     },
     "metadata": {
      "needs_background": "light"
     },
     "output_type": "display_data"
    }
   ],
   "source": [
    "#plt.figure(figsize=(15, 9))\n",
    "\n",
    "fig, ax = plt.subplots(figsize=(20, 9))\n",
    "\n",
    "plt.title('Comparison of scores across ACT subjects and composite',fontsize=20,pad=10)\n",
    "plt.xlabel('ACT',fontsize=13)\n",
    "plt.ylabel('score',fontsize=13)\n",
    "\n",
    "final.boxplot(column = ['act_eng','act_math','act_sci','act_read','act_comp','act18_eng','act18_math','act18_sci','act18_read','act18_comp']);"
   ]
  },
  {
   "cell_type": "code",
   "execution_count": 58,
   "metadata": {},
   "outputs": [
    {
     "data": {
      "image/png": "[encoded data removed]",
      "text/plain": [
       "<Figure size 1440x648 with 1 Axes>"
      ]
     },
     "metadata": {
      "needs_background": "light"
     },
     "output_type": "display_data"
    }
   ],
   "source": [
    "#plt.figure(figsize=(15, 9))\n",
    "\n",
    "fig, ax = plt.subplots(figsize=(20, 9))\n",
    "\n",
    "plt.title('Comparison of scores across SAT subjects and Total',fontsize=20,pad=10)\n",
    "plt.xlabel('SAT',fontsize=13)\n",
    "plt.ylabel('score',fontsize=13)\n",
    "\n",
    "final.boxplot(column = ['sat_ebrw','sat_math','sat_total','sat18_ebrw','sat18_math','sat18_total']);"
   ]
  },
  {
   "cell_type": "code",
   "execution_count": 59,
   "metadata": {},
   "outputs": [
    {
     "data": {
      "image/png": "[encoded data removed]",
      "text/plain": [
       "<Figure size 1440x648 with 1 Axes>"
      ]
     },
     "metadata": {
      "needs_background": "light"
     },
     "output_type": "display_data"
    }
   ],
   "source": [
    "#plt.figure(figsize=(15, 9))\n",
    "\n",
    "fig, ax = plt.subplots(figsize=(20, 9))\n",
    "\n",
    "plt.title('Comparison of participation rates across SAT & ACT',fontsize=20,pad=10)\n",
    "plt.xlabel('Type of test',fontsize=13)\n",
    "plt.ylabel('Percentage',fontsize=13)\n",
    "\n",
    "final.boxplot(column = ['act_part','sat_part','act18_part','sat18_part']);"
   ]
  },
  {
   "cell_type": "markdown",
   "metadata": {},
   "source": [
    "#### Feel free to do additional plots below\n",
    "*(do research and choose your own chart types & variables)*\n",
    "\n",
    "Are there any additional trends or relationships you haven't explored? Was there something interesting you saw that you'd like to dive further into? It's likely that there are a few more plots you might want to generate to support your narrative and recommendations that you are building toward. **As always, make sure you're interpreting your plots as you go**."
   ]
  },
  {
   "cell_type": "code",
   "execution_count": 60,
   "metadata": {},
   "outputs": [
    {
     "data": {
      "image/png": "[encoded data removed]",
      "text/plain": [
       "<Figure size 1440x648 with 1 Axes>"
      ]
     },
     "metadata": {
      "needs_background": "light"
     },
     "output_type": "display_data"
    }
   ],
   "source": [
    "    fig, ax = plt.subplots(figsize=(20, 9))\n",
    "\n",
    "    # Create scatter plot \n",
    "    plt.scatter(final['act_comp'],\n",
    "                final['act_part'],color=['midnightblue'],alpha=0.8);\n",
    "    \n",
    "    # title, xlabel and y label\n",
    "    plt.title('ACT Composite versus ACT Participation', fontsize = 20, pad=10)\n",
    "    plt.ylabel('ACT Part', fontsize = 15)\n",
    "    plt.xlabel('ACT Comp', fontsize = 15);\n",
    "    \n",
    "    # removing top and right borders\n",
    "    ax.spines['top'].set_visible(False)\n",
    "    ax.spines['right'].set_visible(False)\n",
    "    ax.grid(color='grey', linestyle='-', linewidth=0.25, alpha=0.8)"
   ]
  },
  {
   "cell_type": "code",
   "execution_count": 61,
   "metadata": {},
   "outputs": [
    {
     "data": {
      "image/png": "[encoded data removed]",
      "text/plain": [
       "<Figure size 1440x648 with 1 Axes>"
      ]
     },
     "metadata": {
      "needs_background": "light"
     },
     "output_type": "display_data"
    }
   ],
   "source": [
    "    fig, ax = plt.subplots(figsize=(20, 9))\n",
    "\n",
    "    # Create scatter plot \n",
    "    plt.scatter(final['sat_total'],\n",
    "                final['sat_part'],color=['midnightblue'],alpha=0.8);\n",
    "    \n",
    "    # title, xlabel and y label\n",
    "    plt.title('SAT Total versus SAT Participation', fontsize = 20, pad=10)\n",
    "    plt.ylabel('SAT Part', fontsize = 15)\n",
    "    plt.xlabel('SAT Total', fontsize = 15);\n",
    "    \n",
    "    # removing top and right borders\n",
    "    ax.spines['top'].set_visible(False)\n",
    "    ax.spines['right'].set_visible(False)\n",
    "    ax.grid(color='grey', linestyle='-', linewidth=0.25, alpha=0.8)"
   ]
  },
  {
   "cell_type": "markdown",
   "metadata": {},
   "source": [
    "### Inference\n",
    "\n",
    "The two scatter charts above shows a distinctive relationship between participation rate and composite score. It was observed that the high composite scores mainly comes from the states with low participation."
   ]
  },
  {
   "cell_type": "code",
   "execution_count": 62,
   "metadata": {},
   "outputs": [
    {
     "data": {
      "image/png": "[encoded data removed]",
      "text/plain": [
       "<Figure size 1080x576 with 1 Axes>"
      ]
     },
     "metadata": {
      "needs_background": "light"
     },
     "output_type": "display_data"
    }
   ],
   "source": [
    "# Plot the mean of participation rate for each year \n",
    "final[['act_part','act18_part','sat_part','sat18_part']].mean().plot(kind='bar',figsize=(15,8));\n",
    "\n",
    "# title, xlabel and y label\n",
    "plt.title('Participation rate for each test',fontsize=20,pad=10)\n",
    "plt.xlabel('Test',fontsize=13)\n",
    "plt.ylabel('Percentage',fontsize=13);"
   ]
  },
  {
   "cell_type": "markdown",
   "metadata": {},
   "source": [
    "### Inference\n",
    "\n",
    "The bar chart above shows the participation rate for different test in 2017 and 2018. We can observe that there is a slight drop in participation rate for ACT from 2017 to 2018 while there is a significant increase in participation rate for SAT. It could probably mean that the high school graduates are more inclined to SAT. Hence it's worth investigating reason for the increase and decrease in participation rates."
   ]
  },
  {
   "cell_type": "markdown",
   "metadata": {},
   "source": [
    "#### (Optional): Using Tableau, create a choropleth map for each variable using a map of the US. \n",
    "\n",
    "Save this plot as an image file in an images directory, provide a relative path, and insert the image into notebook in markdown."
   ]
  },
  {
   "cell_type": "markdown",
   "metadata": {},
   "source": [
    "![](image/act2017.png)"
   ]
  },
  {
   "cell_type": "markdown",
   "metadata": {},
   "source": [
    "![](image/act2018.png)"
   ]
  },
  {
   "cell_type": "markdown",
   "metadata": {},
   "source": [
    "![](image/sat2017.png)"
   ]
  },
  {
   "cell_type": "markdown",
   "metadata": {},
   "source": [
    "![](image/sat2018.png)"
   ]
  },
  {
   "cell_type": "markdown",
   "metadata": {},
   "source": [
    "![](image/act2017part.png)"
   ]
  },
  {
   "cell_type": "markdown",
   "metadata": {},
   "source": [
    "![](image/act2018part.png)"
   ]
  },
  {
   "cell_type": "markdown",
   "metadata": {},
   "source": [
    "![](image/sat2017part.png)"
   ]
  },
  {
   "cell_type": "markdown",
   "metadata": {},
   "source": [
    "![](image/sat2018part.png)"
   ]
  },
  {
   "cell_type": "markdown",
   "metadata": {},
   "source": [
    "### Inference\n",
    "\n",
    "The rise in the SAT participation rate from 2017 to 2018 might be explained by the fact that more states make it mandatory for their graduates to take the SAT."
   ]
  },
  {
   "cell_type": "markdown",
   "metadata": {},
   "source": [
    "## Descriptive and Inferential Statistics"
   ]
  },
  {
   "cell_type": "markdown",
   "metadata": {},
   "source": [
    "#### Summarizing Distributions\n",
    "\n",
    "Above, we used pandas `describe` to provide quick summary statistics of our numeric columns. We also demonstrated many visual relationships.\n",
    "\n",
    "As data scientists, having a complete understanding of data is imperative prior to modeling.\n",
    "\n",
    "While we will continue to build our analytic tools, we know that measures of *central tendency*, *spread*, and *shape/skewness* provide a quick summary of distributions.\n",
    "\n",
    "For each variable in your data, summarize the underlying distributions (in words & statistics)\n",
    " - Be thorough in your verbal description of these distributions.\n",
    " - Be sure to back up these summaries with statistics."
   ]
  },
  {
   "cell_type": "markdown",
   "metadata": {},
   "source": [
    "**Participation rate**\n",
    "\n",
    "From the subplot histograms plotted earlier, we can see that for SAT participation in both year are slightly right skewed/positive skewed and there is some spreading effect of the mode, median and mean. The mode of the SAT participation rates is at the far left where there is the highest observation (peak) of frequency, followed by median which is greater than mode and mean greater than the median as there is some extreme values on the right. It was observed that the greater the skewed, the greater the spreading effect of the mean, median and mode. \n",
    "\n",
    "As for the ACT participation we can see that it is left/negative skewed. As explained above, it means that the mode of the ACT participation rate is far right where the highest observation of frequency lies, followed by median which is lesser than mode and mean which is lesser than median as there is extreme values on the left.\n",
    "\n",
    "**Math score**\n",
    "\n",
    "The math score of both ACT and SAT for both year is right/positive skewed. It shows that the mean is greater than the median and the median is greater than mode and that tell us that for the math exam, majority of the students underperformed the national average score. \n",
    "\n",
    "**Reading/Verbal score**\n",
    "\n",
    "Likewise for reading/verbal score of both ACT and SAT for both year is right/positive skewed. It also shows that the mean is greater than the median and the median is greater than mode (other than SAT 2018, which mode is greater than mean and median) and that tell us that for the math exam, majority of the students underperformed the national average score. \n",
    "\n",
    "**Total/Composite score**\n",
    "\n",
    "Referring to the subplot histogram plotted below, the total/composite score of both ACT and SAT for both year is right/positive skewed. It also shows that the mean is greater than the median and the median is greater than mode. Similarly majority of the students underperformed the national average score, however it is shown that the 2018 graduates cohort that took the SAT exam fare poorer than the 2017 cohort as there are more underperformers. "
   ]
  },
  {
   "cell_type": "code",
   "execution_count": 63,
   "metadata": {},
   "outputs": [
    {
     "data": {
      "image/png": "[encoded data removed]",
      "text/plain": [
       "<Figure size 1008x1152 with 4 Axes>"
      ]
     },
     "metadata": {
      "needs_background": "light"
     },
     "output_type": "display_data"
    }
   ],
   "source": [
    "subplot_histograms(final,['sat_total','act_comp','sat18_total','act18_comp'],['SAT total score','ACT composite score','SAT 2018 total score','ACT 2018 composite score'],['sat_total','act_comp','sat18_total','act18_comp'])"
   ]
  },
  {
   "cell_type": "markdown",
   "metadata": {},
   "source": [
    "### Inference\n",
    "\n",
    "The change in mean and median for SAT 2017 and SAT 2018 compared to ACT shows that the sudden change in test (e.g. from ACT to SAT) impacted the total score due to the fact the state student has been following the specific test syllabus sincce they joined. Hence a change in test might be disadvantage to them as the subject and test framework might be different. "
   ]
  },
  {
   "cell_type": "markdown",
   "metadata": {},
   "source": [
    "\n",
    "#### Distributions in the data\n",
    "\n",
    "In this dataset, each data represents a sample from a population.                        \n",
    "For example, for ACT math test:\n",
    "- Population: the test results of all the students who take this test, nation-wide.\n",
    "- Population mean: is the national average of ACT math test (total scores/total no. of test takers) \n",
    "- Sample: the state means of ACT math test. We have 51 samples (51 states)\n",
    "\n",
    "***According to CLT, we generally assuming that data we sample from a population will be normally distributed. Do we observe this trend?***"
   ]
  },
  {
   "cell_type": "markdown",
   "metadata": {},
   "source": [
    "Does This Assumption Hold for:\n",
    "    - Math\n",
    "    - Reading\n",
    "    - Rates\n",
    "Explain your answers for each distribution and how you think this will affect estimates made from these data."
   ]
  },
  {
   "cell_type": "markdown",
   "metadata": {},
   "source": [
    "**Answer**: \n",
    "\n",
    "Although according to the central limit theorem (CLT) that with a sample size of more than 30, the data will tend to normalise towards a normal distribution. However by looking at the histogram plotted above, with a sample size of 51, we can observe that the sample data is not normally distributed and the assumption holds for Math, Reading and Rates as well."
   ]
  },
  {
   "cell_type": "markdown",
   "metadata": {},
   "source": [
    "#### Estimate Limits of Data\n",
    "\n",
    "Suppose we only seek to understand the relationship between SAT and ACT participation rates in 2017. \n",
    "\n",
    "##### Does it make sense to conduct statistical inference given these data specifically? \n",
    "\n",
    "Why or why not?\n",
    "\n",
    "*(think about granularity, aggregation, the relationships between populations size & rates...consider the actually populations these data describe in answering this question)*"
   ]
  },
  {
   "cell_type": "markdown",
   "metadata": {},
   "source": [
    "***Answer:*** \n",
    "\n",
    "It doesn't make sense as the sample data is not normally distributed and any statistical inference from these data might not be accurate nor reliable. Reasons being could be in some states, students have the freedom to take both of the SAT and ACT test or the selection of the samples can be bias."
   ]
  },
  {
   "cell_type": "markdown",
   "metadata": {},
   "source": [
    "##### Is it appropriate to compare *these* specific SAT and ACT math scores  - can we say students with higher SAT math score is better than those with lower ACT math score, or vice versa?\n",
    "\n",
    "Why or why not?"
   ]
  },
  {
   "cell_type": "markdown",
   "metadata": {},
   "source": [
    "***Answer***: \n",
    "\n",
    "No we cannot. \n",
    "\n",
    "Reason being there are other factors that may affect the scores such as time allocation for the exam, the way the exam is carried out (SAT separates math into calculator and non calculator categories), provision of Math formula reference guide and the emphasis of math concept (some tested more on algebra or geometry)."
   ]
  },
  {
   "cell_type": "markdown",
   "metadata": {},
   "source": [
    "#### Statistical Evaluation of Distributions \n",
    "\n",
    "**If you feel it's appropriate**, using methods we discussed in class, run hypothesis tests to compare variables of interest in our dataset. "
   ]
  },
  {
   "cell_type": "markdown",
   "metadata": {},
   "source": [
    "#### To  test if the change in SAT participation rate from 2017 to 2018 is significant\n",
    "\n",
    "**𝐻0**:  The true mean difference in participation rate between SAT 2017 and SAT 2018 is 0.\n",
    "\n",
    "**𝐻𝐴**: The true mean difference in participation rate between SAT 2017 and SAT 2018 is NOT 0."
   ]
  },
  {
   "cell_type": "code",
   "execution_count": 64,
   "metadata": {},
   "outputs": [],
   "source": [
    "# two separate vectors\n",
    "\n",
    "sat_2017 = final['sat_part']\n",
    "sat_2018 = final['sat18_part']"
   ]
  },
  {
   "cell_type": "code",
   "execution_count": 65,
   "metadata": {},
   "outputs": [],
   "source": [
    "# Import scipy.stats\n",
    "from scipy import stats"
   ]
  },
  {
   "cell_type": "code",
   "execution_count": 66,
   "metadata": {},
   "outputs": [
    {
     "data": {
      "text/plain": [
       "Ttest_indResult(statistic=-0.8262650776952397, pvalue=0.4106269778595497)"
      ]
     },
     "execution_count": 66,
     "metadata": {},
     "output_type": "execute_result"
    }
   ],
   "source": [
    "# Conduct our t-test.\n",
    "stats.ttest_ind(sat_2017, sat_2018, equal_var=False)"
   ]
  },
  {
   "cell_type": "markdown",
   "metadata": {},
   "source": [
    "**Conclusion**\n",
    "\n",
    "Because our  𝑝 -value is greater than our  𝛼=0.05 , we fail to reject our null hypothesis. We do not have enough evidence to conclude that the mean participation rate differs between year 2017 and year 2018."
   ]
  },
  {
   "cell_type": "markdown",
   "metadata": {},
   "source": [
    "## Outside Research"
   ]
  },
  {
   "cell_type": "markdown",
   "metadata": {},
   "source": [
    "Based upon your observations, choose **three** states that demonstrate interesting trends in their SAT and/or ACT participation rates. Spend some time doing outside research on state policies that might influence these rates, and summarize your findings below. **Feel free to go back and create new plots that highlight these states of interest**. If you bring in any outside tables or charts, make sure you are explicit about having borrowed them. If you quote any text, make sure that it renders as being quoted. (Make sure that you cite your sources -- check with you local instructor for citation preferences)."
   ]
  },
  {
   "cell_type": "code",
   "execution_count": 67,
   "metadata": {},
   "outputs": [
    {
     "data": {
      "image/png": "[encoded data removed]",
      "text/plain": [
       "<Figure size 720x576 with 1 Axes>"
      ]
     },
     "metadata": {},
     "output_type": "display_data"
    }
   ],
   "source": [
    "# resetting style\n",
    "plt.style.use('fivethirtyeight')\n",
    "\n",
    "#final.loc[final['state']=='Illinois',['sat_part','sat18_part']].plot(kind='bar',figsize=(12,8));\n",
    "final.loc[13,['sat_part','sat18_part']].plot(kind='bar',figsize=(10,8));\n",
    "\n",
    "# title, xlabel and y label\n",
    "plt.title('SAT Participation rate for Illinois',fontsize=20,pad=10)\n",
    "plt.xlabel('Year',fontsize=13)\n",
    "plt.ylabel('Percentage',fontsize=13);\n"
   ]
  },
  {
   "cell_type": "markdown",
   "metadata": {},
   "source": [
    "### Inference\n",
    "\n",
    "**(1) Illinois** \n",
    "\n",
    "The state SAT participation rate increase from 9% to 99% from 2017 to 2018. It could due to the reason that Illinois participated in the SAT School Day which the state gave the SAT to public school students for free. \n",
    "\n",
    "**Source**:\n",
    "[SAT School Day](https://reports.collegeboard.org/archive/sat-suite-program-results/2018/sat-school-day)"
   ]
  },
  {
   "cell_type": "code",
   "execution_count": 68,
   "metadata": {},
   "outputs": [
    {
     "data": {
      "image/png": "[encoded data removed]",
      "text/plain": [
       "<Figure size 720x576 with 1 Axes>"
      ]
     },
     "metadata": {},
     "output_type": "display_data"
    }
   ],
   "source": [
    "#final.loc[final['state']=='Illinois',['sat_part','sat18_part']].plot(kind='bar',figsize=(12,8));\n",
    "final.loc[1,['act_part','act18_part']].plot(kind='bar',figsize=(10,8));\n",
    "\n",
    "# title, xlabel and y label\n",
    "plt.title('SAT Participation rate for Alaska',fontsize=20,pad=10)\n",
    "plt.xlabel('Year',fontsize=13)\n",
    "plt.ylabel('Percentage',fontsize=13);"
   ]
  },
  {
   "cell_type": "markdown",
   "metadata": {},
   "source": [
    "### Inference\n",
    "**(2) Alaska** \n",
    "\n",
    "The state ACT rate dropped almost 50% from 2017 to 2018. One possible reason might be the introduction of the new version of SAT exam in 2016 and since then, the number of ACT test takers has actually declined. Reason being the new version of SAT has fewer sections and increased overall time allocated for the exam which means student might see it as an advantage over ACT. \n",
    "\n",
    "**Source**:\n",
    "[New SAT vs Old SAT](https://blog.prepscholar.com/new-sat-vs-old-sat-quick-summary)"
   ]
  },
  {
   "cell_type": "code",
   "execution_count": 69,
   "metadata": {
    "scrolled": false
   },
   "outputs": [
    {
     "data": {
      "image/png": "[encoded data removed]",
      "text/plain": [
       "<Figure size 720x576 with 1 Axes>"
      ]
     },
     "metadata": {},
     "output_type": "display_data"
    }
   ],
   "source": [
    "fig, ax = plt.subplots(figsize=(10, 8))\n",
    "\n",
    "plt.bar(['act_part','act18_part'],final.loc[28,['act_part','act18_part']],width=0.4)\n",
    "\n",
    "# title, xlabel and y label\n",
    "plt.title('ACT Participation rate for Nevada ',fontsize=20,pad=10)\n",
    "plt.xlabel('Year',fontsize=13)\n",
    "plt.ylabel('Percentage',fontsize=13);"
   ]
  },
  {
   "cell_type": "markdown",
   "metadata": {},
   "source": [
    "### Inference\n",
    "\n",
    "**(3) Nevada** \n",
    "\n",
    "Since there are more possible reasons for students to take the SAT exam under the new version, However for states like Nevada still maintain a ACT participation rate of 100% for both years. The reason was due to the Nevada state making it mandatory for all students to take ACT exam before they graduate. \n",
    "\n",
    "**Source**:\n",
    "[NEVADA Mandatory ACT Testing](https://www.reviewjournal.com/local/education/nevada-falls-to-last-among-states-with-mandatory-act-testing/)"
   ]
  },
  {
   "cell_type": "markdown",
   "metadata": {},
   "source": [
    "## Conclusions and Recommendations"
   ]
  },
  {
   "cell_type": "markdown",
   "metadata": {},
   "source": [
    "Based on your exploration of the data, what are you key takeaways and recommendations? Choose one state with a lower participation rate and provide a suggestion for how the College Board might increase participation amongst graduating seniors in this state. Are there additional data you desire that would better inform your investigations?"
   ]
  },
  {
   "cell_type": "markdown",
   "metadata": {},
   "source": [
    "It has been observed the participation rate is greatly influenced by the state decisions to make either one of the standardized test a mandatory for high school graduates. By standardizing on one test, it is proven that the graduates score is much constant as students are more prepared for the test. In one of the analysis, the drop in mean and median score for SAT 2017 and SAT 2018 compared to ACT score shows that the sudden change in test (e.g. from ACT to SAT) impacted the graduate's total score. It might be due to the fact the state student has been following the specific test syllabus since they joined the school hence a change in test might be disadvantage to them as the subject and test framework might be different.\n",
    "\n",
    "In order to increase the participation rates, the college board can consider incorporate both of the subject and test framework into the school syllabus itself so that graduates can be familiarize with the both test. With that they can allow the graduates to choose which test (or both) they are more comfortable or confident in, instead of restricting them to a mandatory one. In addition by eliminating barriers to the test, like subsidizing the test cost and offering the graduates greater flexibility to take the exams on weekdays and weekends, graduates that are less fortunate will be able to participate in any of the test. \n"
   ]
  },
  {
   "cell_type": "code",
   "execution_count": null,
   "metadata": {},
   "outputs": [],
   "source": []
  }
 ],
 "metadata": {
  "anaconda-cloud": {},
  "kernelspec": {
   "display_name": "Python 3",
   "language": "python",
   "name": "python3"
  },
  "language_info": {
   "codemirror_mode": {
    "name": "ipython",
    "version": 3
   },
   "file_extension": ".py",
   "mimetype": "text/x-python",
   "name": "python",
   "nbconvert_exporter": "python",
   "pygments_lexer": "ipython3",
   "version": "3.7.6"
  },
  "varInspector": {
   "cols": {
    "lenName": 16,
    "lenType": 16,
    "lenVar": 40
   },
   "kernels_config": {
    "python": {
     "delete_cmd_postfix": "",
     "delete_cmd_prefix": "del ",
     "library": "var_list.py",
     "varRefreshCmd": "print(var_dic_list())"
    },
    "r": {
     "delete_cmd_postfix": ") ",
     "delete_cmd_prefix": "rm(",
     "library": "var_list.r",
     "varRefreshCmd": "cat(var_dic_list()) "
    }
   },
   "types_to_exclude": [
    "module",
    "function",
    "builtin_function_or_method",
    "instance",
    "_Feature"
   ],
   "window_display": false
  }
 },
 "nbformat": 4,
 "nbformat_minor": 2
}
