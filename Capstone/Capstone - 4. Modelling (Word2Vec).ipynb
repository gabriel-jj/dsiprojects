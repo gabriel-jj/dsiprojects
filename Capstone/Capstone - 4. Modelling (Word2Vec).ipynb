{
 "cells": [
  {
   "cell_type": "code",
   "execution_count": 75,
   "metadata": {},
   "outputs": [],
   "source": [
    "# Import libraries\n",
    "import pandas as pd\n",
    "import numpy as np\n",
    "import logging\n",
    "import matplotlib.pyplot as plt\n",
    "import seaborn as sns\n",
    "\n",
    "# Gensim\n",
    "from gensim.models import Word2Vec\n",
    "import gensim\n",
    "from itertools import islice\n",
    "\n",
    "# Nltk\n",
    "import nltk\n",
    "\n",
    "# Sklearn\n",
    "from sklearn.linear_model import LogisticRegression\n",
    "from sklearn.metrics import confusion_matrix, roc_auc_score, classification_report\n",
    "from sklearn.preprocessing import LabelBinarizer\n",
    "\n",
    "%matplotlib inline"
   ]
  },
  {
   "cell_type": "code",
   "execution_count": 5,
   "metadata": {},
   "outputs": [],
   "source": [
    "df = pd.read_csv('Data/airline_labelled.csv',parse_dates=['date'])"
   ]
  },
  {
   "cell_type": "code",
   "execution_count": 6,
   "metadata": {},
   "outputs": [
    {
     "data": {
      "text/html": [
       "<div>\n",
       "<style scoped>\n",
       "    .dataframe tbody tr th:only-of-type {\n",
       "        vertical-align: middle;\n",
       "    }\n",
       "\n",
       "    .dataframe tbody tr th {\n",
       "        vertical-align: top;\n",
       "    }\n",
       "\n",
       "    .dataframe thead th {\n",
       "        text-align: right;\n",
       "    }\n",
       "</style>\n",
       "<table border=\"1\" class=\"dataframe\">\n",
       "  <thead>\n",
       "    <tr style=\"text-align: right;\">\n",
       "      <th></th>\n",
       "      <th>airline_name</th>\n",
       "      <th>author</th>\n",
       "      <th>date</th>\n",
       "      <th>content</th>\n",
       "      <th>dominant_topic</th>\n",
       "    </tr>\n",
       "  </thead>\n",
       "  <tbody>\n",
       "    <tr>\n",
       "      <th>0</th>\n",
       "      <td>british airways</td>\n",
       "      <td>russ king</td>\n",
       "      <td>1970-01-01</td>\n",
       "      <td>sin-lhr ba12 b747-436 first class. old aircraf...</td>\n",
       "      <td>0.0</td>\n",
       "    </tr>\n",
       "    <tr>\n",
       "      <th>1</th>\n",
       "      <td>jet airways</td>\n",
       "      <td>mike vaz</td>\n",
       "      <td>2007-04-14</td>\n",
       "      <td>stansted to las vegas return. check-in for bot...</td>\n",
       "      <td>0.0</td>\n",
       "    </tr>\n",
       "    <tr>\n",
       "      <th>2</th>\n",
       "      <td>jet airways</td>\n",
       "      <td>j patton</td>\n",
       "      <td>2007-04-14</td>\n",
       "      <td>stn-las-stn very enjoyable trip on both flight...</td>\n",
       "      <td>0.0</td>\n",
       "    </tr>\n",
       "    <tr>\n",
       "      <th>3</th>\n",
       "      <td>jet airways</td>\n",
       "      <td>andres mesa</td>\n",
       "      <td>2007-04-19</td>\n",
       "      <td>stn-las-stn. slow check-in resulted from repet...</td>\n",
       "      <td>0.0</td>\n",
       "    </tr>\n",
       "    <tr>\n",
       "      <th>4</th>\n",
       "      <td>tacv cabo</td>\n",
       "      <td>j van den berg</td>\n",
       "      <td>2007-04-19</td>\n",
       "      <td>all domestic flights (5 in total) were on time...</td>\n",
       "      <td>0.0</td>\n",
       "    </tr>\n",
       "  </tbody>\n",
       "</table>\n",
       "</div>"
      ],
      "text/plain": [
       "      airline_name          author       date  \\\n",
       "0  british airways       russ king 1970-01-01   \n",
       "1      jet airways        mike vaz 2007-04-14   \n",
       "2      jet airways        j patton 2007-04-14   \n",
       "3      jet airways     andres mesa 2007-04-19   \n",
       "4        tacv cabo  j van den berg 2007-04-19   \n",
       "\n",
       "                                             content  dominant_topic  \n",
       "0  sin-lhr ba12 b747-436 first class. old aircraf...             0.0  \n",
       "1  stansted to las vegas return. check-in for bot...             0.0  \n",
       "2  stn-las-stn very enjoyable trip on both flight...             0.0  \n",
       "3  stn-las-stn. slow check-in resulted from repet...             0.0  \n",
       "4  all domestic flights (5 in total) were on time...             0.0  "
      ]
     },
     "execution_count": 6,
     "metadata": {},
     "output_type": "execute_result"
    }
   ],
   "source": [
    "df.head()"
   ]
  },
  {
   "cell_type": "markdown",
   "metadata": {},
   "source": [
    "### Pretrained Word2Vec\n",
    "We will use a pretrained word2vec model from Google News Vectors to train our datasets. It's is a 300 dimensional vector and has trained on 3 million words and phrases. Below we will explore some vocabs that's in the pretrained set."
   ]
  },
  {
   "cell_type": "code",
   "execution_count": 8,
   "metadata": {},
   "outputs": [],
   "source": [
    "wv = gensim.models.KeyedVectors.load_word2vec_format(\"GoogleNews-vectors-negative300.bin.gz\",binary=True)\n",
    "wv.init_sims(replace=True)"
   ]
  },
  {
   "cell_type": "code",
   "execution_count": 12,
   "metadata": {},
   "outputs": [
    {
     "data": {
      "text/plain": [
       "['company',\n",
       " 'any',\n",
       " 'team',\n",
       " 'against',\n",
       " 'off',\n",
       " 'This',\n",
       " 'most',\n",
       " 'made',\n",
       " 'through',\n",
       " 'make',\n",
       " 'second',\n",
       " 'state',\n",
       " 'well',\n",
       " 'day',\n",
       " 'season',\n",
       " 'says',\n",
       " 'week',\n",
       " 'where',\n",
       " 'while',\n",
       " 'down']"
      ]
     },
     "execution_count": 12,
     "metadata": {},
     "output_type": "execute_result"
    }
   ],
   "source": [
    "# Explore some vocab\n",
    "list(islice(wv.vocab,100,120))"
   ]
  },
  {
   "cell_type": "code",
   "execution_count": 15,
   "metadata": {},
   "outputs": [
    {
     "data": {
      "text/plain": [
       "array([[ 0.06731994, -0.05344657,  0.01899059, ..., -0.09324721,\n",
       "        -0.00733469, -0.00514565],\n",
       "       [ 0.05295623,  0.06545979,  0.06619529, ..., -0.03585578,\n",
       "         0.01089464, -0.04707221],\n",
       "       [-0.00851202, -0.03422449,  0.03228392, ...,  0.05151315,\n",
       "        -0.02522733,  0.01746507],\n",
       "       ...,\n",
       "       [-0.0200327 , -0.09257349, -0.01978385, ..., -0.01667318,\n",
       "        -0.01368694,  0.04753101],\n",
       "       [ 0.02795097, -0.02753379,  0.03087122, ..., -0.00756136,\n",
       "         0.02304912,  0.01626997],\n",
       "       [ 0.03380508, -0.03380508, -0.00294652, ...,  0.05957004,\n",
       "         0.05408813,  0.00973038]], dtype=float32)"
      ]
     },
     "execution_count": 15,
     "metadata": {},
     "output_type": "execute_result"
    }
   ],
   "source": [
    "wv.vectors_norm"
   ]
  },
  {
   "cell_type": "code",
   "execution_count": 23,
   "metadata": {},
   "outputs": [
    {
     "data": {
      "text/plain": [
       "300"
      ]
     },
     "execution_count": 23,
     "metadata": {},
     "output_type": "execute_result"
    }
   ],
   "source": [
    "wv.vector_size"
   ]
  },
  {
   "cell_type": "markdown",
   "metadata": {},
   "source": [
    "### Average word2vec representation\n",
    "We multiply the BoW vector with the word embedding matrix and divide by the total number of words in the document to get the average word2vec representation. By doing average, we can reduce dimension of the vectors"
   ]
  },
  {
   "cell_type": "code",
   "execution_count": 48,
   "metadata": {},
   "outputs": [],
   "source": [
    "# BOW average vector approach\n",
    "\n",
    "def word_averaging(wv, words):\n",
    "    all_words, mean = set(), []\n",
    "    \n",
    "    # isinstance(object, classinfo) returns true or false, if word is array\n",
    "    for word in words:\n",
    "        if isinstance(word, np.ndarray):\n",
    "            mean.append(word)\n",
    "        elif word in wv.vocab:\n",
    "            #syn0norm = unit-normalized versions, magnitude of 1\n",
    "            mean.append(wv.syn0norm[wv.vocab[word].index])\n",
    "            all_words.add(wv.vocab[word].index)\n",
    "    \n",
    "    if not mean:\n",
    "        logging.warning(\"cannot compute similarity with no input %s\", words)\n",
    "        # FIXME: remove these examples in pre-processing\n",
    "        return np.zeros(wv.vector_size)\n",
    "    \n",
    "    # matutils.unitvec can return a unitvector of a different dtype from the input vector if the input dtype isn't np.float.\n",
    "    mean = gensim.matutils.unitvec(np.array(mean).mean(axis=0).astype(np.float32))\n",
    "    return mean\n",
    "\n",
    "def word_averaging_list(wv, text_list):\n",
    "    # Stack arrays in sequence vertically (row wise)\n",
    "    return np.vstack([word_averaging(wv, post) for post in text_list])"
   ]
  },
  {
   "cell_type": "code",
   "execution_count": 32,
   "metadata": {},
   "outputs": [],
   "source": [
    "# Create a Tokenize function\n",
    "\n",
    "def w2v_tokenize_text(text):\n",
    "    tokens = []\n",
    "    for sent in nltk.sent_tokenize(text, language='english'):\n",
    "        for word in nltk.word_tokenize(sent, language='english'):\n",
    "            if len(word) < 2:\n",
    "                continue\n",
    "            tokens.append(word)\n",
    "    return tokens"
   ]
  },
  {
   "cell_type": "code",
   "execution_count": 63,
   "metadata": {},
   "outputs": [],
   "source": [
    "# Split train and test by dates\n",
    "train = df[df['date'] <= '2017-12-31']\n",
    "test = df[df['date'] > '2017-12-31']\n",
    "y_train = train['dominant_topic']\n",
    "y_test = test['dominant_topic']"
   ]
  },
  {
   "cell_type": "code",
   "execution_count": 53,
   "metadata": {},
   "outputs": [
    {
     "data": {
      "text/html": [
       "<div>\n",
       "<style scoped>\n",
       "    .dataframe tbody tr th:only-of-type {\n",
       "        vertical-align: middle;\n",
       "    }\n",
       "\n",
       "    .dataframe tbody tr th {\n",
       "        vertical-align: top;\n",
       "    }\n",
       "\n",
       "    .dataframe thead th {\n",
       "        text-align: right;\n",
       "    }\n",
       "</style>\n",
       "<table border=\"1\" class=\"dataframe\">\n",
       "  <thead>\n",
       "    <tr style=\"text-align: right;\">\n",
       "      <th></th>\n",
       "      <th>airline_name</th>\n",
       "      <th>author</th>\n",
       "      <th>date</th>\n",
       "      <th>content</th>\n",
       "      <th>dominant_topic</th>\n",
       "    </tr>\n",
       "  </thead>\n",
       "  <tbody>\n",
       "    <tr>\n",
       "      <th>0</th>\n",
       "      <td>british airways</td>\n",
       "      <td>russ king</td>\n",
       "      <td>1970-01-01</td>\n",
       "      <td>sin-lhr ba12 b747-436 first class. old aircraf...</td>\n",
       "      <td>0.0</td>\n",
       "    </tr>\n",
       "    <tr>\n",
       "      <th>1</th>\n",
       "      <td>jet airways</td>\n",
       "      <td>mike vaz</td>\n",
       "      <td>2007-04-14</td>\n",
       "      <td>stansted to las vegas return. check-in for bot...</td>\n",
       "      <td>0.0</td>\n",
       "    </tr>\n",
       "    <tr>\n",
       "      <th>2</th>\n",
       "      <td>jet airways</td>\n",
       "      <td>j patton</td>\n",
       "      <td>2007-04-14</td>\n",
       "      <td>stn-las-stn very enjoyable trip on both flight...</td>\n",
       "      <td>0.0</td>\n",
       "    </tr>\n",
       "    <tr>\n",
       "      <th>3</th>\n",
       "      <td>jet airways</td>\n",
       "      <td>andres mesa</td>\n",
       "      <td>2007-04-19</td>\n",
       "      <td>stn-las-stn. slow check-in resulted from repet...</td>\n",
       "      <td>0.0</td>\n",
       "    </tr>\n",
       "    <tr>\n",
       "      <th>4</th>\n",
       "      <td>tacv cabo</td>\n",
       "      <td>j van den berg</td>\n",
       "      <td>2007-04-19</td>\n",
       "      <td>all domestic flights (5 in total) were on time...</td>\n",
       "      <td>0.0</td>\n",
       "    </tr>\n",
       "  </tbody>\n",
       "</table>\n",
       "</div>"
      ],
      "text/plain": [
       "      airline_name          author       date  \\\n",
       "0  british airways       russ king 1970-01-01   \n",
       "1      jet airways        mike vaz 2007-04-14   \n",
       "2      jet airways        j patton 2007-04-14   \n",
       "3      jet airways     andres mesa 2007-04-19   \n",
       "4        tacv cabo  j van den berg 2007-04-19   \n",
       "\n",
       "                                             content  dominant_topic  \n",
       "0  sin-lhr ba12 b747-436 first class. old aircraf...             0.0  \n",
       "1  stansted to las vegas return. check-in for bot...             0.0  \n",
       "2  stn-las-stn very enjoyable trip on both flight...             0.0  \n",
       "3  stn-las-stn. slow check-in resulted from repet...             0.0  \n",
       "4  all domestic flights (5 in total) were on time...             0.0  "
      ]
     },
     "execution_count": 53,
     "metadata": {},
     "output_type": "execute_result"
    }
   ],
   "source": [
    "train.head()"
   ]
  },
  {
   "cell_type": "code",
   "execution_count": 37,
   "metadata": {},
   "outputs": [],
   "source": [
    "# Tokenize text\n",
    "test_tokenized = test.apply(lambda r: w2v_tokenize_text(r['content']), axis=1).values\n",
    "train_tokenized = train.apply(lambda r: w2v_tokenize_text(r['content']), axis=1).values"
   ]
  },
  {
   "cell_type": "code",
   "execution_count": 77,
   "metadata": {},
   "outputs": [
    {
     "data": {
      "text/plain": [
       "array([list(['flew', 'manchester', 'to', 'islamabad', 'the', 'worst', 'business', 'class', \"'ve\", 'ever', 'flown', 'seats', 'look', 'worn', 'out', 'mechanical', 'issues', 'with', 'the', 'seats', 'tvs', 'do', \"n't\", 'work', 'bad', 'food', 'served', 'from', 'aluminium', 'trays', 'smelly', 'small', 'toilets', 'porter', 'service', 'terrible', 'and', 'overall', 'bad', 'experience', 'would', \"n't\", 'recommend', 'pakistan', 'intl', 'airlines']),\n",
       "       list(['flew', 'premium', 'economy', 'from', 'london', 'to', 'cape', 'town', 'on', 'british', 'airways', 'having', 'flown', 'premium', 'economy', 'before', 'had', 'certain', 'expectations', 'of', 'what', 'would', 'be', 'getting', 'but', 'was', 'sorely', 'disappointed', 'this', 'was', 'by', 'far', 'the', 'most', 'expensive', 'premium', 'economy', 'have', 'ever', 'flown', 'and', 'unfortunately', 'also', 'by', 'far', 'the', 'worst', 'the', 'plane', 'was', 'old', 'and', 'tired', 'and', 'clearly', 'in', 'need', 'of', 'some', 'refurbishment', 'from', 'premium', 'economy', 'expected', 'wider', 'seats', 'and', 'more', 'legroom', 'the', 'seats', 'were', 'cramped', 'and', 'the', 'remote', 'for', 'the', 'entertainment', 'system', 'was', 'located', 'in', 'the', 'side', 'of', 'the', 'seat', 'where', 'was', 'constantly', 'pushing', 'against', 'it', 'finally', 'gave', 'up', 'and', 'hung', 'the', 'remote', 'control', 'over', 'the', 'side', 'of', 'the', 'seat', 'the', 'personal', 'entertainment', 'system', 'with', 'noise-reducing', 'headphones', 'the', 'screen', 'was', 'tiny', 'the', 'blind', 'next', 'to', 'me', 'could', 'not', 'be', 'pulled', 'down', 'the', 'headphones', 'were', 'plugged', 'into', 'the', 'side', 'of', 'the', 'seat', 'where', 'kept', 'knocking', 'them', 'but', 'the', 'quality', 'was', 'inferior', 'to', 'the', 'point', 'that', 'spent', 'the', 'flight', 'having', 'to', 'hold', 'the', 'headphones', 'plugged', 'in', 'so', 'that', 'could', 'actually', 'hear', 'anything', 'expected', 'to', 'board', 'ahead', 'of', 'economy', 'passengers', 'with', 'priority', 'boarding', 'no', 'priority', 'boarding', 'at', 'all', 'find', 'it', 'shocking', 'that', 'ba', 'charges', 'exorbitant', 'prices', 'to', 'fly', 'planes', 'that', 'quite', 'clearly', 'are', 'on', 'their', 'last', 'legs', 'needed', 'to', 'change', 'my', 'return', 'flight', 'after', 'having', 'tried', 'several', 'times', 'with', 'no', 'success', 'phoned', 'ba', 'and', 'was', 'on', 'hold', 'for', 'about', '15', 'minutes', 'after', 'which', 'gave', 'up', 'and', 'just', 'cancelled', 'the', 'flight', 'which', 'worked', 'first', 'time', 'booked', 'flight', 'on', 'another', 'airline', 'and', 'for', 'just', 'â£200', 'more', 'got', 'seat', 'in', 'business', 'class', 'that', 'was', 'absolutely', 'brilliant'])],\n",
       "      dtype=object)"
      ]
     },
     "execution_count": 77,
     "metadata": {},
     "output_type": "execute_result"
    }
   ],
   "source": [
    "test_tokenized[:2]"
   ]
  },
  {
   "cell_type": "code",
   "execution_count": 51,
   "metadata": {},
   "outputs": [
    {
     "name": "stderr",
     "output_type": "stream",
     "text": [
      "C:\\Users\\gchoo\\anaconda3\\envs\\dl4nlp\\lib\\site-packages\\ipykernel_launcher.py:10: DeprecationWarning: Call to deprecated `syn0norm` (Attribute will be removed in 4.0.0, use self.vectors_norm instead).\n",
      "  # Remove the CWD from sys.path while we load stuff.\n",
      "WARNING:root:cannot compute similarity with no input ['mad-svo-mad']\n",
      "WARNING:root:cannot compute similarity with no input ['lhr-cgn']\n",
      "WARNING:root:cannot compute similarity with no input ['dca-atl-dca', 'md-90']\n",
      "WARNING:root:cannot compute similarity with no input ['stn-dub-stn']\n"
     ]
    }
   ],
   "source": [
    "# Averaging tokenize text\n",
    "X_train_word_average = word_averaging_list(wv,train_tokenized)\n",
    "X_test_word_average = word_averaging_list(wv,test_tokenized)"
   ]
  },
  {
   "cell_type": "code",
   "execution_count": 57,
   "metadata": {},
   "outputs": [
    {
     "data": {
      "text/plain": [
       "array([ 0.03855583,  0.02293988,  0.0243175 ,  0.09698774, -0.09340201,\n",
       "       -0.02126228,  0.0293866 , -0.10031077,  0.10609463,  0.10181746,\n",
       "       -0.03744389, -0.1354602 , -0.01802098, -0.01221187, -0.10858347,\n",
       "        0.07815687,  0.09911077,  0.09642324, -0.00184779, -0.05632067,\n",
       "       -0.03024218,  0.05706937, -0.00166114, -0.03423094,  0.07369345,\n",
       "        0.00205456, -0.13007781,  0.08679852,  0.04906381,  0.00141344,\n",
       "       -0.04515434,  0.02652031, -0.0422762 ,  0.00792837,  0.04088963,\n",
       "       -0.03686946, -0.01559873, -0.01054891,  0.02955604,  0.04862857,\n",
       "        0.11407555, -0.00877851,  0.11789803, -0.01848984,  0.00807505,\n",
       "       -0.02454089, -0.0087773 ,  0.03716027,  0.0503075 , -0.018153  ,\n",
       "        0.0127256 ,  0.02885719, -0.01947165, -0.04743275,  0.00466029,\n",
       "        0.03577635, -0.01874493, -0.06742712,  0.06548651, -0.06118277,\n",
       "       -0.04810713,  0.08295099, -0.12666249, -0.12798911, -0.03935873,\n",
       "       -0.01003899, -0.04934446,  0.11099124, -0.05471089,  0.0983483 ,\n",
       "        0.05977205,  0.04132557,  0.07226077,  0.0281975 , -0.14765681,\n",
       "       -0.03284233,  0.08708019,  0.10019838,  0.05344851,  0.11866867,\n",
       "        0.03162067, -0.06682757,  0.04507702,  0.00081374, -0.04732389,\n",
       "       -0.06919266, -0.07081401,  0.12511213,  0.01772844,  0.01390937,\n",
       "        0.04778116,  0.02460706, -0.06250665, -0.08431289, -0.01022625,\n",
       "       -0.06775004,  0.03441506,  0.03012836, -0.00703622,  0.01605901,\n",
       "       -0.02531474, -0.04515367,  0.029818  ,  0.00859903, -0.03807943,\n",
       "       -0.03713706, -0.00832373, -0.05526184,  0.03555632, -0.06967502,\n",
       "       -0.03781907,  0.00908274, -0.03850503, -0.03604044,  0.05205658,\n",
       "        0.00811068,  0.04205598, -0.03319094,  0.07548986,  0.09520076,\n",
       "       -0.13193643, -0.01089699, -0.06564923,  0.06103632, -0.06962502,\n",
       "       -0.00609774, -0.04514243, -0.06053883,  0.05144932,  0.01853764,\n",
       "        0.00350391, -0.0727835 , -0.08395077, -0.01548646, -0.03865285,\n",
       "       -0.05783826,  0.03259884, -0.01514807, -0.00960867,  0.03372794,\n",
       "        0.04271134, -0.07760378,  0.06102938, -0.0156486 ,  0.02479035,\n",
       "        0.00274893, -0.07674456, -0.07200909, -0.07731315,  0.03946749,\n",
       "        0.04852969,  0.05841683, -0.0731395 ,  0.00931224, -0.01443071,\n",
       "       -0.02646367, -0.06656136, -0.10615856, -0.06888228, -0.01659255,\n",
       "       -0.02501138,  0.09132783,  0.05632179,  0.02436547,  0.01924244,\n",
       "       -0.06469922,  0.00580051, -0.00022921,  0.00776793, -0.07944102,\n",
       "       -0.17687356, -0.06065725, -0.05375392, -0.08357169, -0.03205868,\n",
       "       -0.03220782,  0.04655066, -0.12955174, -0.01154186, -0.00174273,\n",
       "       -0.07742963, -0.06940632, -0.00253066,  0.00748973, -0.00085684,\n",
       "       -0.02393339, -0.01544717,  0.03264014,  0.0865019 ,  0.04392713,\n",
       "        0.02265759,  0.01066702,  0.0179805 , -0.00083793, -0.0703309 ,\n",
       "        0.05275344, -0.04434126, -0.02216805, -0.05949168, -0.12021116,\n",
       "        0.03784008,  0.03680718, -0.05713247,  0.01160023,  0.02102683,\n",
       "       -0.01208622, -0.02232638, -0.0187739 ,  0.00759478,  0.01246583,\n",
       "       -0.03712291,  0.05179815, -0.03959649,  0.06078953, -0.0933689 ,\n",
       "        0.06294812,  0.12334837,  0.01524219, -0.11639667,  0.02956915,\n",
       "       -0.02333427,  0.0068062 ,  0.00065989, -0.01063098,  0.07410494,\n",
       "       -0.01751141,  0.04147173,  0.03829437,  0.01858163, -0.00810222,\n",
       "        0.01164315, -0.07511506,  0.05434699,  0.02932755,  0.0360039 ,\n",
       "        0.00118443, -0.03099222, -0.05474077,  0.07598931,  0.0294282 ,\n",
       "        0.0541703 , -0.01464496,  0.0252619 , -0.13816942,  0.00265591,\n",
       "        0.00426842,  0.02979131,  0.02299792, -0.04613426, -0.01379962,\n",
       "        0.00487844,  0.00697832,  0.06676374,  0.04274953,  0.05101721,\n",
       "       -0.04461381,  0.05146536,  0.06361256, -0.07363547, -0.0522892 ,\n",
       "        0.00118472,  0.00745296, -0.06995454,  0.06602303,  0.03397836,\n",
       "        0.12641412, -0.00944582, -0.04799439, -0.07677931,  0.00584206,\n",
       "        0.05315765,  0.08638618,  0.12194653,  0.027292  ,  0.02966987,\n",
       "       -0.07839614, -0.03272989, -0.15562896, -0.04625851, -0.05073005,\n",
       "        0.02232757, -0.00688192,  0.02432538,  0.03683981,  0.04171192,\n",
       "        0.00633705, -0.0845071 , -0.03914893,  0.00715211,  0.07413956,\n",
       "       -0.10939624,  0.03334027, -0.06947847,  0.05387156,  0.00087032,\n",
       "        0.03542307, -0.00385366, -0.0082635 ,  0.03756766, -0.0530603 ])"
      ]
     },
     "execution_count": 57,
     "metadata": {},
     "output_type": "execute_result"
    }
   ],
   "source": [
    "X_train_word_average[0]"
   ]
  },
  {
   "cell_type": "markdown",
   "metadata": {},
   "source": [
    "### Modelling"
   ]
  },
  {
   "cell_type": "code",
   "execution_count": 55,
   "metadata": {},
   "outputs": [],
   "source": [
    "logreg = LogisticRegression(n_jobs=1, C=1e5, max_iter=1000)"
   ]
  },
  {
   "cell_type": "code",
   "execution_count": 56,
   "metadata": {},
   "outputs": [],
   "source": [
    "logreg = logreg.fit(X_train_word_average, train['dominant_topic'])"
   ]
  },
  {
   "cell_type": "code",
   "execution_count": 64,
   "metadata": {},
   "outputs": [
    {
     "data": {
      "text/plain": [
       "0.9219619932821056"
      ]
     },
     "execution_count": 64,
     "metadata": {},
     "output_type": "execute_result"
    }
   ],
   "source": [
    "logreg.score(X_train_word_average,y_train )"
   ]
  },
  {
   "cell_type": "code",
   "execution_count": 65,
   "metadata": {},
   "outputs": [
    {
     "data": {
      "text/plain": [
       "0.9264408328438092"
      ]
     },
     "execution_count": 65,
     "metadata": {},
     "output_type": "execute_result"
    }
   ],
   "source": [
    "logreg.score(X_test_word_average,y_test )"
   ]
  },
  {
   "cell_type": "code",
   "execution_count": 60,
   "metadata": {},
   "outputs": [],
   "source": [
    "y_pred = logreg.predict(X_test_word_average)"
   ]
  },
  {
   "cell_type": "code",
   "execution_count": 67,
   "metadata": {},
   "outputs": [
    {
     "data": {
      "text/plain": [
       "array([[5193,  186,   80],\n",
       "       [ 288, 8121,  167],\n",
       "       [ 143,  263,  880]], dtype=int64)"
      ]
     },
     "execution_count": 67,
     "metadata": {},
     "output_type": "execute_result"
    }
   ],
   "source": [
    "# Confusion matrix\n",
    "word2vec_matrix = confusion_matrix(y_test,y_pred)\n",
    "word2vec_matrix"
   ]
  },
  {
   "cell_type": "code",
   "execution_count": 71,
   "metadata": {},
   "outputs": [
    {
     "data": {
      "image/png": "[encoded data removed]",
      "text/plain": [
       "<Figure size 504x360 with 2 Axes>"
      ]
     },
     "metadata": {
      "needs_background": "light"
     },
     "output_type": "display_data"
    }
   ],
   "source": [
    "# Plot Confusion matrix\n",
    "label_names=[0,1,2]\n",
    "fig, ax = plt.subplots(figsize=(7,5))\n",
    "tick_marks = np.arange(len(label_names))\n",
    "plt.xticks(tick_marks, label_names)\n",
    "plt.yticks(tick_marks, label_names)\n",
    "sns.heatmap(pd.DataFrame(word2vec_matrix), annot=True, cmap=\"coolwarm\" ,fmt='g')\n",
    "ax.xaxis.set_label_position(\"bottom\")\n",
    "plt.tight_layout()\n",
    "plt.title('Confusion matrix', y=1.1, fontsize=15)\n",
    "plt.ylabel('Actual label')\n",
    "plt.xlabel('Predicted label');"
   ]
  },
  {
   "cell_type": "code",
   "execution_count": 73,
   "metadata": {},
   "outputs": [
    {
     "name": "stdout",
     "output_type": "stream",
     "text": [
      "              precision    recall  f1-score   support\n",
      "\n",
      "         0.0       0.92      0.95      0.94      5459\n",
      "         1.0       0.95      0.95      0.95      8576\n",
      "         2.0       0.78      0.68      0.73      1286\n",
      "\n",
      "    accuracy                           0.93     15321\n",
      "   macro avg       0.88      0.86      0.87     15321\n",
      "weighted avg       0.92      0.93      0.93     15321\n",
      "\n"
     ]
    }
   ],
   "source": [
    "# Classification score\n",
    "word2vec_report = classification_report(\n",
    "    digits=2,\n",
    "    y_true=y_test,\n",
    "    y_pred=y_pred\n",
    ")\n",
    "\n",
    "print(word2vec_report)"
   ]
  },
  {
   "cell_type": "code",
   "execution_count": 76,
   "metadata": {},
   "outputs": [
    {
     "data": {
      "text/plain": [
       "0.9091067797119319"
      ]
     },
     "execution_count": 76,
     "metadata": {},
     "output_type": "execute_result"
    }
   ],
   "source": [
    "# ROC AUC score\n",
    "def multiclass_roc_auc_score(y_test, y_pred, average=\"macro\"):\n",
    "    lb = LabelBinarizer()\n",
    "    lb.fit(y_test)\n",
    "\n",
    "    y_test = lb.transform(y_test)\n",
    "    y_pred = lb.transform(y_pred)\n",
    "\n",
    "    return roc_auc_score(y_test, y_pred, average=average)\n",
    "\n",
    "multiclass_roc_auc_score(y_test,y_pred)"
   ]
  }
 ],
 "metadata": {
  "kernelspec": {
   "display_name": "Python 3",
   "language": "python",
   "name": "python3"
  },
  "language_info": {
   "codemirror_mode": {
    "name": "ipython",
    "version": 3
   },
   "file_extension": ".py",
   "mimetype": "text/x-python",
   "name": "python",
   "nbconvert_exporter": "python",
   "pygments_lexer": "ipython3",
   "version": "3.6.10"
  }
 },
 "nbformat": 4,
 "nbformat_minor": 4
}
