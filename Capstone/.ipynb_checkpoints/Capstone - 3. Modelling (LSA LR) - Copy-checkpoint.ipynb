{
 "cells": [
  {
   "cell_type": "code",
   "execution_count": 1,
   "metadata": {},
   "outputs": [
    {
     "name": "stderr",
     "output_type": "stream",
     "text": [
      "C:\\Users\\gchoo\\anaconda3\\envs\\dl4nlp\\lib\\site-packages\\sklearn\\utils\\deprecation.py:143: FutureWarning: The sklearn.metrics.scorer module is  deprecated in version 0.22 and will be removed in version 0.24. The corresponding classes / functions should instead be imported from sklearn.metrics. Anything that cannot be imported from sklearn.metrics is now part of the private API.\n",
      "  warnings.warn(message, FutureWarning)\n",
      "C:\\Users\\gchoo\\anaconda3\\envs\\dl4nlp\\lib\\site-packages\\sklearn\\utils\\deprecation.py:143: FutureWarning: The sklearn.feature_selection.base module is  deprecated in version 0.22 and will be removed in version 0.24. The corresponding classes / functions should instead be imported from sklearn.feature_selection. Anything that cannot be imported from sklearn.feature_selection is now part of the private API.\n",
      "  warnings.warn(message, FutureWarning)\n"
     ]
    }
   ],
   "source": [
    "# Import libraries\n",
    "import pandas as pd\n",
    "import spacy\n",
    "import re\n",
    "import matplotlib.pyplot as plt\n",
    "import seaborn as sns\n",
    "import eli5\n",
    "import numpy as np\n",
    "\n",
    "# Gensim\n",
    "import gensim, logging, warnings\n",
    "import gensim.corpora as corpora\n",
    "from gensim.utils import simple_preprocess\n",
    "\n",
    "# nltk\n",
    "import nltk\n",
    "from nltk.corpus import stopwords\n",
    "from tqdm.notebook import tqdm\n",
    "\n",
    "# sklearn\n",
    "from sklearn.linear_model import LogisticRegression\n",
    "from sklearn.naive_bayes import MultinomialNB\n",
    "from sklearn.pipeline import Pipeline, make_pipeline\n",
    "from sklearn.feature_extraction.text import TfidfVectorizer\n",
    "from sklearn.decomposition import TruncatedSVD\n",
    "from sklearn.model_selection import GridSearchCV\n",
    "from sklearn.metrics import confusion_matrix, roc_auc_score, classification_report\n",
    "from sklearn.preprocessing import LabelBinarizer\n",
    "\n",
    "%matplotlib inline"
   ]
  },
  {
   "cell_type": "code",
   "execution_count": 2,
   "metadata": {},
   "outputs": [],
   "source": [
    "df = pd.read_csv('Data/airline_labelled.csv',parse_dates=['date'])"
   ]
  },
  {
   "cell_type": "code",
   "execution_count": 3,
   "metadata": {},
   "outputs": [
    {
     "data": {
      "text/html": [
       "<div>\n",
       "<style scoped>\n",
       "    .dataframe tbody tr th:only-of-type {\n",
       "        vertical-align: middle;\n",
       "    }\n",
       "\n",
       "    .dataframe tbody tr th {\n",
       "        vertical-align: top;\n",
       "    }\n",
       "\n",
       "    .dataframe thead th {\n",
       "        text-align: right;\n",
       "    }\n",
       "</style>\n",
       "<table border=\"1\" class=\"dataframe\">\n",
       "  <thead>\n",
       "    <tr style=\"text-align: right;\">\n",
       "      <th></th>\n",
       "      <th>airline_name</th>\n",
       "      <th>author</th>\n",
       "      <th>date</th>\n",
       "      <th>content</th>\n",
       "      <th>dominant_topic</th>\n",
       "    </tr>\n",
       "  </thead>\n",
       "  <tbody>\n",
       "    <tr>\n",
       "      <th>0</th>\n",
       "      <td>british airways</td>\n",
       "      <td>russ king</td>\n",
       "      <td>1970-01-01</td>\n",
       "      <td>sin-lhr ba12 b747-436 first class. old aircraf...</td>\n",
       "      <td>0.0</td>\n",
       "    </tr>\n",
       "    <tr>\n",
       "      <th>1</th>\n",
       "      <td>jet airways</td>\n",
       "      <td>mike vaz</td>\n",
       "      <td>2007-04-14</td>\n",
       "      <td>stansted to las vegas return. check-in for bot...</td>\n",
       "      <td>0.0</td>\n",
       "    </tr>\n",
       "    <tr>\n",
       "      <th>2</th>\n",
       "      <td>jet airways</td>\n",
       "      <td>j patton</td>\n",
       "      <td>2007-04-14</td>\n",
       "      <td>stn-las-stn very enjoyable trip on both flight...</td>\n",
       "      <td>0.0</td>\n",
       "    </tr>\n",
       "    <tr>\n",
       "      <th>3</th>\n",
       "      <td>jet airways</td>\n",
       "      <td>andres mesa</td>\n",
       "      <td>2007-04-19</td>\n",
       "      <td>stn-las-stn. slow check-in resulted from repet...</td>\n",
       "      <td>0.0</td>\n",
       "    </tr>\n",
       "    <tr>\n",
       "      <th>4</th>\n",
       "      <td>tacv cabo</td>\n",
       "      <td>j van den berg</td>\n",
       "      <td>2007-04-19</td>\n",
       "      <td>all domestic flights (5 in total) were on time...</td>\n",
       "      <td>0.0</td>\n",
       "    </tr>\n",
       "  </tbody>\n",
       "</table>\n",
       "</div>"
      ],
      "text/plain": [
       "      airline_name          author       date  \\\n",
       "0  british airways       russ king 1970-01-01   \n",
       "1      jet airways        mike vaz 2007-04-14   \n",
       "2      jet airways        j patton 2007-04-14   \n",
       "3      jet airways     andres mesa 2007-04-19   \n",
       "4        tacv cabo  j van den berg 2007-04-19   \n",
       "\n",
       "                                             content  dominant_topic  \n",
       "0  sin-lhr ba12 b747-436 first class. old aircraf...             0.0  \n",
       "1  stansted to las vegas return. check-in for bot...             0.0  \n",
       "2  stn-las-stn very enjoyable trip on both flight...             0.0  \n",
       "3  stn-las-stn. slow check-in resulted from repet...             0.0  \n",
       "4  all domestic flights (5 in total) were on time...             0.0  "
      ]
     },
     "execution_count": 3,
     "metadata": {},
     "output_type": "execute_result"
    }
   ],
   "source": [
    "df.head()"
   ]
  },
  {
   "cell_type": "code",
   "execution_count": 4,
   "metadata": {},
   "outputs": [
    {
     "data": {
      "text/plain": [
       "(80520, 5)"
      ]
     },
     "execution_count": 4,
     "metadata": {},
     "output_type": "execute_result"
    }
   ],
   "source": [
    "df.shape"
   ]
  },
  {
   "cell_type": "code",
   "execution_count": 5,
   "metadata": {},
   "outputs": [
    {
     "name": "stdout",
     "output_type": "stream",
     "text": [
      "<class 'pandas.core.frame.DataFrame'>\n",
      "RangeIndex: 80520 entries, 0 to 80519\n",
      "Data columns (total 5 columns):\n",
      " #   Column          Non-Null Count  Dtype         \n",
      "---  ------          --------------  -----         \n",
      " 0   airline_name    80520 non-null  object        \n",
      " 1   author          80520 non-null  object        \n",
      " 2   date            80520 non-null  datetime64[ns]\n",
      " 3   content         80520 non-null  object        \n",
      " 4   dominant_topic  80520 non-null  float64       \n",
      "dtypes: datetime64[ns](1), float64(1), object(3)\n",
      "memory usage: 3.1+ MB\n"
     ]
    }
   ],
   "source": [
    "df.info()"
   ]
  },
  {
   "cell_type": "code",
   "execution_count": 6,
   "metadata": {},
   "outputs": [
    {
     "data": {
      "text/plain": [
       "airline_name      0\n",
       "author            0\n",
       "date              0\n",
       "content           0\n",
       "dominant_topic    0\n",
       "dtype: int64"
      ]
     },
     "execution_count": 6,
     "metadata": {},
     "output_type": "execute_result"
    }
   ],
   "source": [
    "# Check for null\n",
    "df.isnull().sum()"
   ]
  },
  {
   "cell_type": "code",
   "execution_count": 7,
   "metadata": {},
   "outputs": [
    {
     "data": {
      "image/png": "[encoded data removed]",
      "text/plain": [
       "<Figure size 720x576 with 1 Axes>"
      ]
     },
     "metadata": {
      "needs_background": "light"
     },
     "output_type": "display_data"
    }
   ],
   "source": [
    "topicvalue = df['dominant_topic'].value_counts()\n",
    "plt.figure(figsize=[10,8])\n",
    "sns.set_style(\"dark\")\n",
    "sns.barplot(topicvalue.index, topicvalue.values, alpha=0.8)\n",
    "plt.title('Number of occurances in each topic',fontsize=15)\n",
    "plt.ylabel('Number of Occurrences', fontsize=12)\n",
    "plt.xlabel('Topic', fontsize=12)\n",
    "plt.show()"
   ]
  },
  {
   "cell_type": "markdown",
   "metadata": {},
   "source": [
    "### Data Cleaning"
   ]
  },
  {
   "cell_type": "code",
   "execution_count": 8,
   "metadata": {},
   "outputs": [
    {
     "data": {
      "text/html": [
       "<div>\n",
       "<style scoped>\n",
       "    .dataframe tbody tr th:only-of-type {\n",
       "        vertical-align: middle;\n",
       "    }\n",
       "\n",
       "    .dataframe tbody tr th {\n",
       "        vertical-align: top;\n",
       "    }\n",
       "\n",
       "    .dataframe thead th {\n",
       "        text-align: right;\n",
       "    }\n",
       "</style>\n",
       "<table border=\"1\" class=\"dataframe\">\n",
       "  <thead>\n",
       "    <tr style=\"text-align: right;\">\n",
       "      <th></th>\n",
       "      <th>airline_name</th>\n",
       "      <th>author</th>\n",
       "      <th>date</th>\n",
       "      <th>content</th>\n",
       "      <th>dominant_topic</th>\n",
       "    </tr>\n",
       "  </thead>\n",
       "  <tbody>\n",
       "    <tr>\n",
       "      <th>0</th>\n",
       "      <td>british airways</td>\n",
       "      <td>russ king</td>\n",
       "      <td>1970-01-01</td>\n",
       "      <td>sin lhr ba12 b747 436 first class old aircraft...</td>\n",
       "      <td>0.0</td>\n",
       "    </tr>\n",
       "    <tr>\n",
       "      <th>1</th>\n",
       "      <td>jet airways</td>\n",
       "      <td>mike vaz</td>\n",
       "      <td>2007-04-14</td>\n",
       "      <td>stansted to las vegas return check in for both...</td>\n",
       "      <td>0.0</td>\n",
       "    </tr>\n",
       "    <tr>\n",
       "      <th>2</th>\n",
       "      <td>jet airways</td>\n",
       "      <td>j patton</td>\n",
       "      <td>2007-04-14</td>\n",
       "      <td>stn las stn very enjoyable trip on both flight...</td>\n",
       "      <td>0.0</td>\n",
       "    </tr>\n",
       "    <tr>\n",
       "      <th>3</th>\n",
       "      <td>jet airways</td>\n",
       "      <td>andres mesa</td>\n",
       "      <td>2007-04-19</td>\n",
       "      <td>stn las stn slow check in resulted from repeti...</td>\n",
       "      <td>0.0</td>\n",
       "    </tr>\n",
       "    <tr>\n",
       "      <th>4</th>\n",
       "      <td>tacv cabo</td>\n",
       "      <td>j van den berg</td>\n",
       "      <td>2007-04-19</td>\n",
       "      <td>all domestic flights 5 in total were on time t...</td>\n",
       "      <td>0.0</td>\n",
       "    </tr>\n",
       "  </tbody>\n",
       "</table>\n",
       "</div>"
      ],
      "text/plain": [
       "      airline_name          author       date  \\\n",
       "0  british airways       russ king 1970-01-01   \n",
       "1      jet airways        mike vaz 2007-04-14   \n",
       "2      jet airways        j patton 2007-04-14   \n",
       "3      jet airways     andres mesa 2007-04-19   \n",
       "4        tacv cabo  j van den berg 2007-04-19   \n",
       "\n",
       "                                             content  dominant_topic  \n",
       "0  sin lhr ba12 b747 436 first class old aircraft...             0.0  \n",
       "1  stansted to las vegas return check in for both...             0.0  \n",
       "2  stn las stn very enjoyable trip on both flight...             0.0  \n",
       "3  stn las stn slow check in resulted from repeti...             0.0  \n",
       "4  all domestic flights 5 in total were on time t...             0.0  "
      ]
     },
     "execution_count": 8,
     "metadata": {},
     "output_type": "execute_result"
    }
   ],
   "source": [
    "# Keep only alphabet, digit and space:\n",
    "df['content'] = df['content'].map(lambda s: re.sub(r'[\\W_]+', ' ', s))\n",
    "df.head()"
   ]
  },
  {
   "cell_type": "code",
   "execution_count": 9,
   "metadata": {},
   "outputs": [],
   "source": [
    "# Remove non-english words\n",
    "import nltk\n",
    "words = set(nltk.corpus.words.words())\n",
    "\n",
    "for i, sent in enumerate(df.loc[:,'content']):\n",
    "    \" \".join(w for w in nltk.wordpunct_tokenize(sent) \\\n",
    "                                if w.lower() in words or not w.isalpha())"
   ]
  },
  {
   "cell_type": "code",
   "execution_count": 10,
   "metadata": {},
   "outputs": [
    {
     "data": {
      "text/html": [
       "<div>\n",
       "<style scoped>\n",
       "    .dataframe tbody tr th:only-of-type {\n",
       "        vertical-align: middle;\n",
       "    }\n",
       "\n",
       "    .dataframe tbody tr th {\n",
       "        vertical-align: top;\n",
       "    }\n",
       "\n",
       "    .dataframe thead th {\n",
       "        text-align: right;\n",
       "    }\n",
       "</style>\n",
       "<table border=\"1\" class=\"dataframe\">\n",
       "  <thead>\n",
       "    <tr style=\"text-align: right;\">\n",
       "      <th></th>\n",
       "      <th>airline_name</th>\n",
       "      <th>author</th>\n",
       "      <th>date</th>\n",
       "      <th>content</th>\n",
       "      <th>dominant_topic</th>\n",
       "    </tr>\n",
       "  </thead>\n",
       "  <tbody>\n",
       "    <tr>\n",
       "      <th>0</th>\n",
       "      <td>british airways</td>\n",
       "      <td>russ king</td>\n",
       "      <td>1970-01-01</td>\n",
       "      <td>sin lhr ba12 b747 436 first class old aircraft...</td>\n",
       "      <td>0.0</td>\n",
       "    </tr>\n",
       "    <tr>\n",
       "      <th>1</th>\n",
       "      <td>jet airways</td>\n",
       "      <td>mike vaz</td>\n",
       "      <td>2007-04-14</td>\n",
       "      <td>stansted to las vegas return check in for both...</td>\n",
       "      <td>0.0</td>\n",
       "    </tr>\n",
       "    <tr>\n",
       "      <th>2</th>\n",
       "      <td>jet airways</td>\n",
       "      <td>j patton</td>\n",
       "      <td>2007-04-14</td>\n",
       "      <td>stn las stn very enjoyable trip on both flight...</td>\n",
       "      <td>0.0</td>\n",
       "    </tr>\n",
       "    <tr>\n",
       "      <th>3</th>\n",
       "      <td>jet airways</td>\n",
       "      <td>andres mesa</td>\n",
       "      <td>2007-04-19</td>\n",
       "      <td>stn las stn slow check in resulted from repeti...</td>\n",
       "      <td>0.0</td>\n",
       "    </tr>\n",
       "    <tr>\n",
       "      <th>4</th>\n",
       "      <td>tacv cabo</td>\n",
       "      <td>j van den berg</td>\n",
       "      <td>2007-04-19</td>\n",
       "      <td>all domestic flights 5 in total were on time t...</td>\n",
       "      <td>0.0</td>\n",
       "    </tr>\n",
       "  </tbody>\n",
       "</table>\n",
       "</div>"
      ],
      "text/plain": [
       "      airline_name          author       date  \\\n",
       "0  british airways       russ king 1970-01-01   \n",
       "1      jet airways        mike vaz 2007-04-14   \n",
       "2      jet airways        j patton 2007-04-14   \n",
       "3      jet airways     andres mesa 2007-04-19   \n",
       "4        tacv cabo  j van den berg 2007-04-19   \n",
       "\n",
       "                                             content  dominant_topic  \n",
       "0  sin lhr ba12 b747 436 first class old aircraft...             0.0  \n",
       "1  stansted to las vegas return check in for both...             0.0  \n",
       "2  stn las stn very enjoyable trip on both flight...             0.0  \n",
       "3  stn las stn slow check in resulted from repeti...             0.0  \n",
       "4  all domestic flights 5 in total were on time t...             0.0  "
      ]
     },
     "execution_count": 10,
     "metadata": {},
     "output_type": "execute_result"
    }
   ],
   "source": [
    "# Sanity check\n",
    "df.head()"
   ]
  },
  {
   "cell_type": "markdown",
   "metadata": {},
   "source": [
    "### Pre-processing"
   ]
  },
  {
   "cell_type": "code",
   "execution_count": 11,
   "metadata": {},
   "outputs": [
    {
     "name": "stdout",
     "output_type": "stream",
     "text": [
      "65199\n",
      "15321\n"
     ]
    }
   ],
   "source": [
    "# Number of reviews before year 2018\n",
    "print(len(df[df['date'] <= '2017-12-31']))\n",
    "\n",
    "# Number of reviews for year 2018 onwards\n",
    "print(len(df[df['date'] > '2017-12-31']))"
   ]
  },
  {
   "cell_type": "code",
   "execution_count": 12,
   "metadata": {},
   "outputs": [
    {
     "data": {
      "text/plain": [
       "0.0    0.620868\n",
       "1.0    0.285802\n",
       "2.0    0.093330\n",
       "Name: dominant_topic, dtype: float64"
      ]
     },
     "execution_count": 12,
     "metadata": {},
     "output_type": "execute_result"
    }
   ],
   "source": [
    "# Before Year 2018\n",
    "df[df['date'] <= '2017-12-31']['dominant_topic'].value_counts(normalize=True)"
   ]
  },
  {
   "cell_type": "code",
   "execution_count": 13,
   "metadata": {},
   "outputs": [
    {
     "data": {
      "text/plain": [
       "1.0    0.559755\n",
       "0.0    0.356308\n",
       "2.0    0.083937\n",
       "Name: dominant_topic, dtype: float64"
      ]
     },
     "execution_count": 13,
     "metadata": {},
     "output_type": "execute_result"
    }
   ],
   "source": [
    "# Year 2018 onwards\n",
    "df[df['date'] > '2017-12-31']['dominant_topic'].value_counts(normalize=True)"
   ]
  },
  {
   "cell_type": "code",
   "execution_count": 14,
   "metadata": {},
   "outputs": [
    {
     "data": {
      "text/plain": [
       "0.23498826669120693"
      ]
     },
     "execution_count": 14,
     "metadata": {},
     "output_type": "execute_result"
    }
   ],
   "source": [
    "# test to train ratio\n",
    "len(df[df['date'] > '2017-12-31']) / len(df[df['date'] <= '2017-12-31'])"
   ]
  },
  {
   "cell_type": "code",
   "execution_count": 15,
   "metadata": {},
   "outputs": [],
   "source": [
    "# Split train and test by dates\n",
    "train = df[df['date'] <= '2017-12-31']\n",
    "test = df[df['date'] > '2017-12-31']"
   ]
  },
  {
   "cell_type": "code",
   "execution_count": 16,
   "metadata": {},
   "outputs": [],
   "source": [
    "# Train-test-split\n",
    "X_train = train['content']\n",
    "y_train = train['dominant_topic']\n",
    "X_test = test['content']\n",
    "y_test = test['dominant_topic']"
   ]
  },
  {
   "cell_type": "markdown",
   "metadata": {},
   "source": [
    "## Modelling"
   ]
  },
  {
   "cell_type": "markdown",
   "metadata": {},
   "source": [
    "### Using LSA and Logistic Regression. \n",
    "\n",
    "Words are represented as high-dimensional vectors in this semantic space. SVD will reduce dimensionality and remove noise."
   ]
  },
  {
   "cell_type": "code",
   "execution_count": 17,
   "metadata": {},
   "outputs": [],
   "source": [
    "# Using the best params\n",
    "pipeline = Pipeline(steps=[('tvec', TfidfVectorizer()),\n",
    "                           ('svd', TruncatedSVD(n_components=1000)),\n",
    "                           ('lr', LogisticRegression(max_iter=1000))])"
   ]
  },
  {
   "cell_type": "code",
   "execution_count": null,
   "metadata": {},
   "outputs": [],
   "source": [
    "# Fit the pipeline model with the training data\n",
    "pipeline.fit(X_train,y_train)"
   ]
  },
  {
   "cell_type": "code",
   "execution_count": null,
   "metadata": {},
   "outputs": [],
   "source": [
    "# Test with sample review\n",
    "text=['I am so disappointed with JAL charging a cancellation fee on my ticket from Melbourne to Tokyo in this time of crisis. As Australia announced a travel ban on March 17, my family and I had to cancel our trip to Japan. Upon receiving my refund in my account however I noticed that I was short $1200. Upon contacting the JAL Australia office however, I was told that there had been a cancellation fee applied, as my refund was processed 1 day before their policy update.']\n",
    "pipeline.predict(text)"
   ]
  },
  {
   "cell_type": "code",
   "execution_count": null,
   "metadata": {},
   "outputs": [],
   "source": [
    "# Import joblib\n",
    "from joblib import dump"
   ]
  },
  {
   "cell_type": "code",
   "execution_count": null,
   "metadata": {},
   "outputs": [],
   "source": [
    "# dump the pipeline model\n",
    "dump(pipeline, filename=\"text_classification2.joblib\")"
   ]
  }
 ],
 "metadata": {
  "kernelspec": {
   "display_name": "Python 3",
   "language": "python",
   "name": "python3"
  },
  "language_info": {
   "codemirror_mode": {
    "name": "ipython",
    "version": 3
   },
   "file_extension": ".py",
   "mimetype": "text/x-python",
   "name": "python",
   "nbconvert_exporter": "python",
   "pygments_lexer": "ipython3",
   "version": "3.6.10"
  }
 },
 "nbformat": 4,
 "nbformat_minor": 4
}
