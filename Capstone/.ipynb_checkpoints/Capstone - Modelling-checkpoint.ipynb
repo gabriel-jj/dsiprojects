{
 "cells": [
  {
   "cell_type": "code",
   "execution_count": 3,
   "metadata": {},
   "outputs": [],
   "source": [
    "# Import libraries\n",
    "import pandas as pd\n",
    "import spacy\n",
    "import re\n",
    "import matplotlib.pyplot as plt\n",
    "import seaborn as sns\n",
    "import eli5\n",
    "\n",
    "# Gensim\n",
    "import gensim, logging, warnings\n",
    "import gensim.corpora as corpora\n",
    "from gensim.utils import simple_preprocess\n",
    "\n",
    "# nltk\n",
    "import nltk\n",
    "from nltk.corpus import stopwords\n",
    "from tqdm.notebook import tqdm\n",
    "\n",
    "# sklearn\n",
    "from sklearn.linear_model import LogisticRegression\n",
    "from sklearn.naive_bayes import MultinomialNB\n",
    "from sklearn.pipeline import Pipeline, make_pipeline\n",
    "from sklearn.feature_extraction.text import TfidfVectorizer\n",
    "from sklearn.decomposition import TruncatedSVD"
   ]
  },
  {
   "cell_type": "code",
   "execution_count": 14,
   "metadata": {},
   "outputs": [],
   "source": [
    "df = pd.read_csv('Data/airline_labelled.csv',parse_dates=['date'])"
   ]
  },
  {
   "cell_type": "code",
   "execution_count": 15,
   "metadata": {},
   "outputs": [
    {
     "data": {
      "text/html": [
       "<div>\n",
       "<style scoped>\n",
       "    .dataframe tbody tr th:only-of-type {\n",
       "        vertical-align: middle;\n",
       "    }\n",
       "\n",
       "    .dataframe tbody tr th {\n",
       "        vertical-align: top;\n",
       "    }\n",
       "\n",
       "    .dataframe thead th {\n",
       "        text-align: right;\n",
       "    }\n",
       "</style>\n",
       "<table border=\"1\" class=\"dataframe\">\n",
       "  <thead>\n",
       "    <tr style=\"text-align: right;\">\n",
       "      <th></th>\n",
       "      <th>airline_name</th>\n",
       "      <th>author</th>\n",
       "      <th>date</th>\n",
       "      <th>content</th>\n",
       "      <th>dominant_topic</th>\n",
       "    </tr>\n",
       "  </thead>\n",
       "  <tbody>\n",
       "    <tr>\n",
       "      <th>0</th>\n",
       "      <td>british airways</td>\n",
       "      <td>russ king</td>\n",
       "      <td>1970-01-01</td>\n",
       "      <td>sin-lhr ba12 b747-436 first class. old aircraf...</td>\n",
       "      <td>0.0</td>\n",
       "    </tr>\n",
       "    <tr>\n",
       "      <th>1</th>\n",
       "      <td>jet airways</td>\n",
       "      <td>mike vaz</td>\n",
       "      <td>2007-04-14</td>\n",
       "      <td>stansted to las vegas return. check-in for bot...</td>\n",
       "      <td>0.0</td>\n",
       "    </tr>\n",
       "    <tr>\n",
       "      <th>2</th>\n",
       "      <td>jet airways</td>\n",
       "      <td>j patton</td>\n",
       "      <td>2007-04-14</td>\n",
       "      <td>stn-las-stn very enjoyable trip on both flight...</td>\n",
       "      <td>0.0</td>\n",
       "    </tr>\n",
       "    <tr>\n",
       "      <th>3</th>\n",
       "      <td>jet airways</td>\n",
       "      <td>andres mesa</td>\n",
       "      <td>2007-04-19</td>\n",
       "      <td>stn-las-stn. slow check-in resulted from repet...</td>\n",
       "      <td>0.0</td>\n",
       "    </tr>\n",
       "    <tr>\n",
       "      <th>4</th>\n",
       "      <td>tacv cabo</td>\n",
       "      <td>j van den berg</td>\n",
       "      <td>2007-04-19</td>\n",
       "      <td>all domestic flights (5 in total) were on time...</td>\n",
       "      <td>0.0</td>\n",
       "    </tr>\n",
       "  </tbody>\n",
       "</table>\n",
       "</div>"
      ],
      "text/plain": [
       "      airline_name          author       date  \\\n",
       "0  british airways       russ king 1970-01-01   \n",
       "1      jet airways        mike vaz 2007-04-14   \n",
       "2      jet airways        j patton 2007-04-14   \n",
       "3      jet airways     andres mesa 2007-04-19   \n",
       "4        tacv cabo  j van den berg 2007-04-19   \n",
       "\n",
       "                                             content  dominant_topic  \n",
       "0  sin-lhr ba12 b747-436 first class. old aircraf...             0.0  \n",
       "1  stansted to las vegas return. check-in for bot...             0.0  \n",
       "2  stn-las-stn very enjoyable trip on both flight...             0.0  \n",
       "3  stn-las-stn. slow check-in resulted from repet...             0.0  \n",
       "4  all domestic flights (5 in total) were on time...             0.0  "
      ]
     },
     "execution_count": 15,
     "metadata": {},
     "output_type": "execute_result"
    }
   ],
   "source": [
    "df.head()"
   ]
  },
  {
   "cell_type": "code",
   "execution_count": 16,
   "metadata": {},
   "outputs": [
    {
     "data": {
      "text/plain": [
       "(80520, 5)"
      ]
     },
     "execution_count": 16,
     "metadata": {},
     "output_type": "execute_result"
    }
   ],
   "source": [
    "df.shape"
   ]
  },
  {
   "cell_type": "code",
   "execution_count": 17,
   "metadata": {},
   "outputs": [
    {
     "name": "stdout",
     "output_type": "stream",
     "text": [
      "<class 'pandas.core.frame.DataFrame'>\n",
      "RangeIndex: 80520 entries, 0 to 80519\n",
      "Data columns (total 5 columns):\n",
      " #   Column          Non-Null Count  Dtype         \n",
      "---  ------          --------------  -----         \n",
      " 0   airline_name    80520 non-null  object        \n",
      " 1   author          80520 non-null  object        \n",
      " 2   date            80520 non-null  datetime64[ns]\n",
      " 3   content         80520 non-null  object        \n",
      " 4   dominant_topic  80520 non-null  float64       \n",
      "dtypes: datetime64[ns](1), float64(1), object(3)\n",
      "memory usage: 3.1+ MB\n"
     ]
    }
   ],
   "source": [
    "df.info()"
   ]
  },
  {
   "cell_type": "code",
   "execution_count": 18,
   "metadata": {},
   "outputs": [
    {
     "data": {
      "text/plain": [
       "airline_name      0\n",
       "author            0\n",
       "date              0\n",
       "content           0\n",
       "dominant_topic    0\n",
       "dtype: int64"
      ]
     },
     "execution_count": 18,
     "metadata": {},
     "output_type": "execute_result"
    }
   ],
   "source": [
    "# Check for null\n",
    "df.isnull().sum()"
   ]
  },
  {
   "cell_type": "code",
   "execution_count": 19,
   "metadata": {},
   "outputs": [
    {
     "data": {
      "image/png": "[encoded data removed]",
      "text/plain": [
       "<Figure size 720x576 with 1 Axes>"
      ]
     },
     "metadata": {},
     "output_type": "display_data"
    }
   ],
   "source": [
    "topicvalue = df['dominant_topic'].value_counts()\n",
    "plt.figure(figsize=[10,8])\n",
    "sns.set_style(\"dark\")\n",
    "sns.barplot(topicvalue.index, topicvalue.values, alpha=0.8)\n",
    "plt.title('Number of occurances in each topic',fontsize=15)\n",
    "plt.ylabel('Number of Occurrences', fontsize=12)\n",
    "plt.xlabel('Topic', fontsize=12)\n",
    "plt.show()"
   ]
  },
  {
   "cell_type": "markdown",
   "metadata": {},
   "source": [
    "### Data Cleaning\n",
    "\n",
    "As we will be using word2vec and glove to vectorize the data, hence we will try to conserve the sentence structure. Simple pre-processing like removing of non-english words and unnecessary punctuations will be done on the content"
   ]
  },
  {
   "cell_type": "code",
   "execution_count": 21,
   "metadata": {},
   "outputs": [
    {
     "data": {
      "text/html": [
       "<div>\n",
       "<style scoped>\n",
       "    .dataframe tbody tr th:only-of-type {\n",
       "        vertical-align: middle;\n",
       "    }\n",
       "\n",
       "    .dataframe tbody tr th {\n",
       "        vertical-align: top;\n",
       "    }\n",
       "\n",
       "    .dataframe thead th {\n",
       "        text-align: right;\n",
       "    }\n",
       "</style>\n",
       "<table border=\"1\" class=\"dataframe\">\n",
       "  <thead>\n",
       "    <tr style=\"text-align: right;\">\n",
       "      <th></th>\n",
       "      <th>airline_name</th>\n",
       "      <th>author</th>\n",
       "      <th>date</th>\n",
       "      <th>content</th>\n",
       "      <th>dominant_topic</th>\n",
       "    </tr>\n",
       "  </thead>\n",
       "  <tbody>\n",
       "    <tr>\n",
       "      <th>0</th>\n",
       "      <td>british airways</td>\n",
       "      <td>russ king</td>\n",
       "      <td>1970-01-01</td>\n",
       "      <td>sin lhr ba12 b747 436 first class old aircraft...</td>\n",
       "      <td>0.0</td>\n",
       "    </tr>\n",
       "    <tr>\n",
       "      <th>1</th>\n",
       "      <td>jet airways</td>\n",
       "      <td>mike vaz</td>\n",
       "      <td>2007-04-14</td>\n",
       "      <td>stansted to las vegas return check in for both...</td>\n",
       "      <td>0.0</td>\n",
       "    </tr>\n",
       "    <tr>\n",
       "      <th>2</th>\n",
       "      <td>jet airways</td>\n",
       "      <td>j patton</td>\n",
       "      <td>2007-04-14</td>\n",
       "      <td>stn las stn very enjoyable trip on both flight...</td>\n",
       "      <td>0.0</td>\n",
       "    </tr>\n",
       "    <tr>\n",
       "      <th>3</th>\n",
       "      <td>jet airways</td>\n",
       "      <td>andres mesa</td>\n",
       "      <td>2007-04-19</td>\n",
       "      <td>stn las stn slow check in resulted from repeti...</td>\n",
       "      <td>0.0</td>\n",
       "    </tr>\n",
       "    <tr>\n",
       "      <th>4</th>\n",
       "      <td>tacv cabo</td>\n",
       "      <td>j van den berg</td>\n",
       "      <td>2007-04-19</td>\n",
       "      <td>all domestic flights 5 in total were on time t...</td>\n",
       "      <td>0.0</td>\n",
       "    </tr>\n",
       "  </tbody>\n",
       "</table>\n",
       "</div>"
      ],
      "text/plain": [
       "      airline_name          author       date  \\\n",
       "0  british airways       russ king 1970-01-01   \n",
       "1      jet airways        mike vaz 2007-04-14   \n",
       "2      jet airways        j patton 2007-04-14   \n",
       "3      jet airways     andres mesa 2007-04-19   \n",
       "4        tacv cabo  j van den berg 2007-04-19   \n",
       "\n",
       "                                             content  dominant_topic  \n",
       "0  sin lhr ba12 b747 436 first class old aircraft...             0.0  \n",
       "1  stansted to las vegas return check in for both...             0.0  \n",
       "2  stn las stn very enjoyable trip on both flight...             0.0  \n",
       "3  stn las stn slow check in resulted from repeti...             0.0  \n",
       "4  all domestic flights 5 in total were on time t...             0.0  "
      ]
     },
     "execution_count": 21,
     "metadata": {},
     "output_type": "execute_result"
    }
   ],
   "source": [
    "# Keep only alphabet, digit and space:\n",
    "df['content'] = df['content'].map(lambda s: re.sub(r'[\\W_]+', ' ', s))\n",
    "df.head()"
   ]
  },
  {
   "cell_type": "code",
   "execution_count": 36,
   "metadata": {},
   "outputs": [],
   "source": [
    "# Remove non-english words\n",
    "import nltk\n",
    "words = set(nltk.corpus.words.words())\n",
    "\n",
    "for i, sent in enumerate(df.loc[:,'content']):\n",
    "    \" \".join(w for w in nltk.wordpunct_tokenize(sent) \\\n",
    "                                if w.lower() in words or not w.isalpha())"
   ]
  },
  {
   "cell_type": "code",
   "execution_count": 37,
   "metadata": {},
   "outputs": [
    {
     "data": {
      "text/html": [
       "<div>\n",
       "<style scoped>\n",
       "    .dataframe tbody tr th:only-of-type {\n",
       "        vertical-align: middle;\n",
       "    }\n",
       "\n",
       "    .dataframe tbody tr th {\n",
       "        vertical-align: top;\n",
       "    }\n",
       "\n",
       "    .dataframe thead th {\n",
       "        text-align: right;\n",
       "    }\n",
       "</style>\n",
       "<table border=\"1\" class=\"dataframe\">\n",
       "  <thead>\n",
       "    <tr style=\"text-align: right;\">\n",
       "      <th></th>\n",
       "      <th>airline_name</th>\n",
       "      <th>author</th>\n",
       "      <th>date</th>\n",
       "      <th>content</th>\n",
       "      <th>dominant_topic</th>\n",
       "    </tr>\n",
       "  </thead>\n",
       "  <tbody>\n",
       "    <tr>\n",
       "      <th>0</th>\n",
       "      <td>british airways</td>\n",
       "      <td>russ king</td>\n",
       "      <td>1970-01-01</td>\n",
       "      <td>sin ba12 b747 436 first class old aircraft 199...</td>\n",
       "      <td>0.0</td>\n",
       "    </tr>\n",
       "    <tr>\n",
       "      <th>1</th>\n",
       "      <td>jet airways</td>\n",
       "      <td>mike vaz</td>\n",
       "      <td>2007-04-14</td>\n",
       "      <td>to las return check in for both excellent at f...</td>\n",
       "      <td>0.0</td>\n",
       "    </tr>\n",
       "    <tr>\n",
       "      <th>2</th>\n",
       "      <td>jet airways</td>\n",
       "      <td>j patton</td>\n",
       "      <td>2007-04-14</td>\n",
       "      <td>las very enjoyable trip on both comfortable me...</td>\n",
       "      <td>0.0</td>\n",
       "    </tr>\n",
       "    <tr>\n",
       "      <th>3</th>\n",
       "      <td>jet airways</td>\n",
       "      <td>andres mesa</td>\n",
       "      <td>2007-04-19</td>\n",
       "      <td>las slow check in from repetitive process befo...</td>\n",
       "      <td>0.0</td>\n",
       "    </tr>\n",
       "    <tr>\n",
       "      <th>4</th>\n",
       "      <td>tacv cabo</td>\n",
       "      <td>j van den berg</td>\n",
       "      <td>2007-04-19</td>\n",
       "      <td>all domestic 5 in total were on time the from ...</td>\n",
       "      <td>0.0</td>\n",
       "    </tr>\n",
       "  </tbody>\n",
       "</table>\n",
       "</div>"
      ],
      "text/plain": [
       "      airline_name          author       date  \\\n",
       "0  british airways       russ king 1970-01-01   \n",
       "1      jet airways        mike vaz 2007-04-14   \n",
       "2      jet airways        j patton 2007-04-14   \n",
       "3      jet airways     andres mesa 2007-04-19   \n",
       "4        tacv cabo  j van den berg 2007-04-19   \n",
       "\n",
       "                                             content  dominant_topic  \n",
       "0  sin ba12 b747 436 first class old aircraft 199...             0.0  \n",
       "1  to las return check in for both excellent at f...             0.0  \n",
       "2  las very enjoyable trip on both comfortable me...             0.0  \n",
       "3  las slow check in from repetitive process befo...             0.0  \n",
       "4  all domestic 5 in total were on time the from ...             0.0  "
      ]
     },
     "execution_count": 37,
     "metadata": {},
     "output_type": "execute_result"
    }
   ],
   "source": [
    "# Sanity check\n",
    "df.head()"
   ]
  },
  {
   "cell_type": "markdown",
   "metadata": {},
   "source": [
    "### Pre-processing"
   ]
  },
  {
   "cell_type": "code",
   "execution_count": 41,
   "metadata": {},
   "outputs": [
    {
     "name": "stdout",
     "output_type": "stream",
     "text": [
      "65199\n",
      "15321\n"
     ]
    }
   ],
   "source": [
    "# Number of reviews before year 2018\n",
    "print(len(df[df['date'] <= '2017-12-31']))\n",
    "\n",
    "# Number of reviews for year 2018 onwards\n",
    "print(len(df[df['date'] > '2017-12-31']))"
   ]
  },
  {
   "cell_type": "code",
   "execution_count": 42,
   "metadata": {},
   "outputs": [
    {
     "data": {
      "text/plain": [
       "0.0    0.620868\n",
       "1.0    0.285802\n",
       "2.0    0.093330\n",
       "Name: dominant_topic, dtype: float64"
      ]
     },
     "execution_count": 42,
     "metadata": {},
     "output_type": "execute_result"
    }
   ],
   "source": [
    "# Before Year 2018\n",
    "df[df['date'] <= '2017-12-31']['dominant_topic'].value_counts(normalize=True)"
   ]
  },
  {
   "cell_type": "code",
   "execution_count": 43,
   "metadata": {},
   "outputs": [
    {
     "data": {
      "text/plain": [
       "1.0    0.559755\n",
       "0.0    0.356308\n",
       "2.0    0.083937\n",
       "Name: dominant_topic, dtype: float64"
      ]
     },
     "execution_count": 43,
     "metadata": {},
     "output_type": "execute_result"
    }
   ],
   "source": [
    "# Year 2018 onwards\n",
    "df[df['date'] > '2017-12-31']['dominant_topic'].value_counts(normalize=True)"
   ]
  },
  {
   "cell_type": "code",
   "execution_count": 44,
   "metadata": {},
   "outputs": [
    {
     "data": {
      "text/plain": [
       "0.23498826669120693"
      ]
     },
     "execution_count": 44,
     "metadata": {},
     "output_type": "execute_result"
    }
   ],
   "source": [
    "# test to train ratio\n",
    "len(df[df['date'] > '2017-12-31']) / len(df[df['date'] <= '2017-12-31'])"
   ]
  },
  {
   "cell_type": "code",
   "execution_count": 45,
   "metadata": {},
   "outputs": [],
   "source": [
    "# Split train and test by dates\n",
    "train = df[df['date'] <= '2017-12-31']\n",
    "test = df[df['date'] > '2017-12-31']"
   ]
  },
  {
   "cell_type": "code",
   "execution_count": 46,
   "metadata": {},
   "outputs": [],
   "source": [
    "# Train-test-split\n",
    "X_train = train['content']\n",
    "y_train = train['dominant_topic']\n",
    "X_test = test['content']\n",
    "y_test = test['dominant_topic']"
   ]
  },
  {
   "cell_type": "markdown",
   "metadata": {},
   "source": [
    "## Modelling"
   ]
  },
  {
   "cell_type": "markdown",
   "metadata": {},
   "source": [
    "### Using LSA and Logistic Regression. \n",
    "\n",
    "Words are represented as high-dimensional vectors in this semantic space. SVD will reduce dimensionality and remove noise.\n"
   ]
  },
  {
   "cell_type": "code",
   "execution_count": 48,
   "metadata": {},
   "outputs": [],
   "source": [
    "# instantiate\n",
    "tfidf_vec = TfidfVectorizer()\n",
    "svd = TruncatedSVD(n_components=50)"
   ]
  },
  {
   "cell_type": "code",
   "execution_count": 50,
   "metadata": {},
   "outputs": [
    {
     "name": "stdout",
     "output_type": "stream",
     "text": [
      "TF-IDF output shape: (65199, 24959)\n"
     ]
    }
   ],
   "source": [
    "# TD-IDF\n",
    "transformed_x_train = tfidf_vec.fit_transform(X_train)\n",
    "transformed_x_test = tfidf_vec.transform(X_test)\n",
    "print('TF-IDF output shape:', transformed_x_train.shape)"
   ]
  },
  {
   "cell_type": "code",
   "execution_count": 51,
   "metadata": {},
   "outputs": [
    {
     "name": "stdout",
     "output_type": "stream",
     "text": [
      "LSA output shape: (65199, 50)\n"
     ]
    }
   ],
   "source": [
    "# SVD\n",
    "X_train_svd = svd.fit_transform(transformed_x_train)\n",
    "X_test_svd = svd.transform(transformed_x_test)\n",
    "print('LSA output shape:', X_train_svd.shape)"
   ]
  },
  {
   "cell_type": "code",
   "execution_count": 54,
   "metadata": {},
   "outputs": [
    {
     "data": {
      "text/plain": [
       "LogisticRegression(solver='newton-cg')"
      ]
     },
     "execution_count": 54,
     "metadata": {},
     "output_type": "execute_result"
    }
   ],
   "source": [
    "# Logistic regression\n",
    "lr = LogisticRegression(solver='newton-cg')\n",
    "lr.fit(X_train_svd, y_train)"
   ]
  },
  {
   "cell_type": "code",
   "execution_count": 55,
   "metadata": {},
   "outputs": [
    {
     "data": {
      "text/plain": [
       "0.8853356646574334"
      ]
     },
     "execution_count": 55,
     "metadata": {},
     "output_type": "execute_result"
    }
   ],
   "source": [
    "# Training Score\n",
    "lr.score(X_train_svd,y_train)"
   ]
  },
  {
   "cell_type": "code",
   "execution_count": 56,
   "metadata": {},
   "outputs": [
    {
     "data": {
      "text/plain": [
       "0.8951112851641537"
      ]
     },
     "execution_count": 56,
     "metadata": {},
     "output_type": "execute_result"
    }
   ],
   "source": [
    "# Testing score\n",
    "lr.score(X_test_svd,y_test)"
   ]
  },
  {
   "cell_type": "markdown",
   "metadata": {},
   "source": [
    "### TF-IDF and Logistic Regression"
   ]
  },
  {
   "cell_type": "code",
   "execution_count": 63,
   "metadata": {},
   "outputs": [],
   "source": [
    "lr_tf = LogisticRegression(max_iter=1000)"
   ]
  },
  {
   "cell_type": "code",
   "execution_count": 64,
   "metadata": {},
   "outputs": [
    {
     "data": {
      "text/plain": [
       "LogisticRegression(max_iter=1000)"
      ]
     },
     "execution_count": 64,
     "metadata": {},
     "output_type": "execute_result"
    }
   ],
   "source": [
    "lr_tf.fit(transformed_x_train,y_train)"
   ]
  },
  {
   "cell_type": "code",
   "execution_count": 65,
   "metadata": {},
   "outputs": [
    {
     "data": {
      "text/plain": [
       "0.946502246966978"
      ]
     },
     "execution_count": 65,
     "metadata": {},
     "output_type": "execute_result"
    }
   ],
   "source": [
    "lr_tf.score(transformed_x_train,y_train)"
   ]
  },
  {
   "cell_type": "code",
   "execution_count": 66,
   "metadata": {},
   "outputs": [
    {
     "data": {
      "text/plain": [
       "0.9322498531427452"
      ]
     },
     "execution_count": 66,
     "metadata": {},
     "output_type": "execute_result"
    }
   ],
   "source": [
    "lr_tf.score(transformed_x_test,y_test)"
   ]
  },
  {
   "cell_type": "markdown",
   "metadata": {},
   "source": [
    "### Naive Bayes Model"
   ]
  },
  {
   "cell_type": "code",
   "execution_count": null,
   "metadata": {},
   "outputs": [],
   "source": []
  }
 ],
 "metadata": {
  "kernelspec": {
   "display_name": "Python 3",
   "language": "python",
   "name": "python3"
  },
  "language_info": {
   "codemirror_mode": {
    "name": "ipython",
    "version": 3
   },
   "file_extension": ".py",
   "mimetype": "text/x-python",
   "name": "python",
   "nbconvert_exporter": "python",
   "pygments_lexer": "ipython3",
   "version": "3.6.10"
  }
 },
 "nbformat": 4,
 "nbformat_minor": 4
}
