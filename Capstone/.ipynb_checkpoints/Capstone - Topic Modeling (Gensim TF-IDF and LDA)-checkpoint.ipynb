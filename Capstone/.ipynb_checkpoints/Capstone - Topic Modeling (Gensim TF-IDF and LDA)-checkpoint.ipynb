{
 "cells": [
  {
   "cell_type": "code",
   "execution_count": 1,
   "metadata": {},
   "outputs": [],
   "source": [
    "# Libraries\n",
    "import pandas as pd\n",
    "import spacy\n",
    "import re\n",
    "import matplotlib.pyplot as plt\n",
    "from pprint import pprint\n",
    "\n",
    "# Gensim\n",
    "import gensim, logging, warnings\n",
    "import gensim.corpora as corpora\n",
    "from gensim.utils import simple_preprocess\n",
    "from gensim.models import CoherenceModel, TfidfModel\n",
    "\n",
    "# nltk\n",
    "import nltk\n",
    "from nltk.corpus import stopwords\n",
    "from tqdm.notebook import tqdm"
   ]
  },
  {
   "cell_type": "code",
   "execution_count": 2,
   "metadata": {},
   "outputs": [],
   "source": [
    "from gensim.test.utils import common_texts"
   ]
  },
  {
   "cell_type": "code",
   "execution_count": 3,
   "metadata": {},
   "outputs": [
    {
     "data": {
      "text/plain": [
       "[['human', 'interface', 'computer'],\n",
       " ['survey', 'user', 'computer', 'system', 'response', 'time'],\n",
       " ['eps', 'user', 'interface', 'system'],\n",
       " ['system', 'human', 'system', 'eps'],\n",
       " ['user', 'response', 'time'],\n",
       " ['trees'],\n",
       " ['graph', 'trees'],\n",
       " ['graph', 'minors', 'trees'],\n",
       " ['graph', 'minors', 'survey']]"
      ]
     },
     "execution_count": 3,
     "metadata": {},
     "output_type": "execute_result"
    }
   ],
   "source": [
    "# What gensim reads\n",
    "common_texts[:10]"
   ]
  },
  {
   "cell_type": "code",
   "execution_count": 4,
   "metadata": {},
   "outputs": [],
   "source": [
    "df = pd.read_csv('Data/airline_final.csv')"
   ]
  },
  {
   "cell_type": "code",
   "execution_count": 5,
   "metadata": {},
   "outputs": [
    {
     "data": {
      "text/html": [
       "<div>\n",
       "<style scoped>\n",
       "    .dataframe tbody tr th:only-of-type {\n",
       "        vertical-align: middle;\n",
       "    }\n",
       "\n",
       "    .dataframe tbody tr th {\n",
       "        vertical-align: top;\n",
       "    }\n",
       "\n",
       "    .dataframe thead th {\n",
       "        text-align: right;\n",
       "    }\n",
       "</style>\n",
       "<table border=\"1\" class=\"dataframe\">\n",
       "  <thead>\n",
       "    <tr style=\"text-align: right;\">\n",
       "      <th></th>\n",
       "      <th>airline_name</th>\n",
       "      <th>author</th>\n",
       "      <th>date</th>\n",
       "      <th>content</th>\n",
       "      <th>type_traveller</th>\n",
       "      <th>cabin_flown</th>\n",
       "      <th>overall_rating</th>\n",
       "      <th>seat_comfort_rating</th>\n",
       "      <th>cabin_staff_rating</th>\n",
       "      <th>food_beverages_rating</th>\n",
       "      <th>inflight_entertainment_rating</th>\n",
       "      <th>ground_service_rating</th>\n",
       "      <th>value_money_rating</th>\n",
       "      <th>recommended</th>\n",
       "      <th>hubs</th>\n",
       "      <th>country</th>\n",
       "    </tr>\n",
       "  </thead>\n",
       "  <tbody>\n",
       "    <tr>\n",
       "      <th>0</th>\n",
       "      <td>adria airways</td>\n",
       "      <td>d ito</td>\n",
       "      <td>2015-04-10</td>\n",
       "      <td>outbound flight fra/prn a319. 2 hours 10 min f...</td>\n",
       "      <td>NaN</td>\n",
       "      <td>economy</td>\n",
       "      <td>7</td>\n",
       "      <td>4</td>\n",
       "      <td>4</td>\n",
       "      <td>4</td>\n",
       "      <td>0</td>\n",
       "      <td>4</td>\n",
       "      <td>4</td>\n",
       "      <td>1</td>\n",
       "      <td>pristina international</td>\n",
       "      <td>kosovo</td>\n",
       "    </tr>\n",
       "    <tr>\n",
       "      <th>1</th>\n",
       "      <td>adria airways</td>\n",
       "      <td>ron kuhlmann</td>\n",
       "      <td>2015-01-05</td>\n",
       "      <td>two short hops zrh-lju and lju-vie. very fast ...</td>\n",
       "      <td>NaN</td>\n",
       "      <td>business class</td>\n",
       "      <td>10</td>\n",
       "      <td>4</td>\n",
       "      <td>5</td>\n",
       "      <td>4</td>\n",
       "      <td>1</td>\n",
       "      <td>5</td>\n",
       "      <td>5</td>\n",
       "      <td>1</td>\n",
       "      <td>pristina international</td>\n",
       "      <td>kosovo</td>\n",
       "    </tr>\n",
       "    <tr>\n",
       "      <th>2</th>\n",
       "      <td>adria airways</td>\n",
       "      <td>e albin</td>\n",
       "      <td>2014-09-14</td>\n",
       "      <td>flew zurich-ljubljana on jp365 newish crj900. ...</td>\n",
       "      <td>NaN</td>\n",
       "      <td>economy</td>\n",
       "      <td>9</td>\n",
       "      <td>5</td>\n",
       "      <td>5</td>\n",
       "      <td>4</td>\n",
       "      <td>0</td>\n",
       "      <td>5</td>\n",
       "      <td>5</td>\n",
       "      <td>1</td>\n",
       "      <td>pristina international</td>\n",
       "      <td>kosovo</td>\n",
       "    </tr>\n",
       "    <tr>\n",
       "      <th>3</th>\n",
       "      <td>adria airways</td>\n",
       "      <td>tercon bojan</td>\n",
       "      <td>2014-09-06</td>\n",
       "      <td>adria serves this 100 min flight from ljubljan...</td>\n",
       "      <td>NaN</td>\n",
       "      <td>business class</td>\n",
       "      <td>8</td>\n",
       "      <td>4</td>\n",
       "      <td>4</td>\n",
       "      <td>3</td>\n",
       "      <td>1</td>\n",
       "      <td>4</td>\n",
       "      <td>4</td>\n",
       "      <td>1</td>\n",
       "      <td>pristina international</td>\n",
       "      <td>kosovo</td>\n",
       "    </tr>\n",
       "    <tr>\n",
       "      <th>4</th>\n",
       "      <td>adria airways</td>\n",
       "      <td>l james</td>\n",
       "      <td>2014-06-16</td>\n",
       "      <td>waw-skj economy. no free snacks or drinks on t...</td>\n",
       "      <td>NaN</td>\n",
       "      <td>economy</td>\n",
       "      <td>4</td>\n",
       "      <td>4</td>\n",
       "      <td>2</td>\n",
       "      <td>1</td>\n",
       "      <td>2</td>\n",
       "      <td>2</td>\n",
       "      <td>2</td>\n",
       "      <td>0</td>\n",
       "      <td>pristina international</td>\n",
       "      <td>kosovo</td>\n",
       "    </tr>\n",
       "  </tbody>\n",
       "</table>\n",
       "</div>"
      ],
      "text/plain": [
       "    airline_name        author        date  \\\n",
       "0  adria airways         d ito  2015-04-10   \n",
       "1  adria airways  ron kuhlmann  2015-01-05   \n",
       "2  adria airways       e albin  2014-09-14   \n",
       "3  adria airways  tercon bojan  2014-09-06   \n",
       "4  adria airways       l james  2014-06-16   \n",
       "\n",
       "                                             content type_traveller  \\\n",
       "0  outbound flight fra/prn a319. 2 hours 10 min f...            NaN   \n",
       "1  two short hops zrh-lju and lju-vie. very fast ...            NaN   \n",
       "2  flew zurich-ljubljana on jp365 newish crj900. ...            NaN   \n",
       "3  adria serves this 100 min flight from ljubljan...            NaN   \n",
       "4  waw-skj economy. no free snacks or drinks on t...            NaN   \n",
       "\n",
       "      cabin_flown  overall_rating  seat_comfort_rating  cabin_staff_rating  \\\n",
       "0         economy               7                    4                   4   \n",
       "1  business class              10                    4                   5   \n",
       "2         economy               9                    5                   5   \n",
       "3  business class               8                    4                   4   \n",
       "4         economy               4                    4                   2   \n",
       "\n",
       "   food_beverages_rating  inflight_entertainment_rating  \\\n",
       "0                      4                              0   \n",
       "1                      4                              1   \n",
       "2                      4                              0   \n",
       "3                      3                              1   \n",
       "4                      1                              2   \n",
       "\n",
       "   ground_service_rating  value_money_rating  recommended  \\\n",
       "0                      4                   4            1   \n",
       "1                      5                   5            1   \n",
       "2                      5                   5            1   \n",
       "3                      4                   4            1   \n",
       "4                      2                   2            0   \n",
       "\n",
       "                     hubs country  \n",
       "0  pristina international  kosovo  \n",
       "1  pristina international  kosovo  \n",
       "2  pristina international  kosovo  \n",
       "3  pristina international  kosovo  \n",
       "4  pristina international  kosovo  "
      ]
     },
     "execution_count": 5,
     "metadata": {},
     "output_type": "execute_result"
    }
   ],
   "source": [
    "df.head()"
   ]
  },
  {
   "cell_type": "code",
   "execution_count": 6,
   "metadata": {},
   "outputs": [],
   "source": [
    "df = df['content']"
   ]
  },
  {
   "cell_type": "code",
   "execution_count": 7,
   "metadata": {},
   "outputs": [
    {
     "data": {
      "text/plain": [
       "0    outbound flight fra/prn a319. 2 hours 10 min f...\n",
       "1    two short hops zrh-lju and lju-vie. very fast ...\n",
       "2    flew zurich-ljubljana on jp365 newish crj900. ...\n",
       "3    adria serves this 100 min flight from ljubljan...\n",
       "4    waw-skj economy. no free snacks or drinks on t...\n",
       "Name: content, dtype: object"
      ]
     },
     "execution_count": 7,
     "metadata": {},
     "output_type": "execute_result"
    }
   ],
   "source": [
    "df.head()"
   ]
  },
  {
   "cell_type": "markdown",
   "metadata": {},
   "source": [
    "### Remove punctuation"
   ]
  },
  {
   "cell_type": "code",
   "execution_count": 8,
   "metadata": {},
   "outputs": [],
   "source": [
    "# Remove punctuation\n",
    "df = df.map(lambda x: re.sub('[,\\.!?]', '', x))"
   ]
  },
  {
   "cell_type": "code",
   "execution_count": 9,
   "metadata": {},
   "outputs": [
    {
     "data": {
      "text/plain": [
       "0    outbound flight fra/prn a319 2 hours 10 min fl...\n",
       "1    two short hops zrh-lju and lju-vie very fast o...\n",
       "2    flew zurich-ljubljana on jp365 newish crj900 f...\n",
       "3    adria serves this 100 min flight from ljubljan...\n",
       "4    waw-skj economy no free snacks or drinks on th...\n",
       "Name: content, dtype: object"
      ]
     },
     "execution_count": 9,
     "metadata": {},
     "output_type": "execute_result"
    }
   ],
   "source": [
    "df.head()"
   ]
  },
  {
   "cell_type": "markdown",
   "metadata": {},
   "source": [
    "### Tokenize words\n",
    "Convert a document into a list of lowercase tokens, ignoring tokens that are too short or too long."
   ]
  },
  {
   "cell_type": "code",
   "execution_count": 10,
   "metadata": {},
   "outputs": [
    {
     "data": {
      "application/vnd.jupyter.widget-view+json": {
       "model_id": "0f0818546930496b9d003036ba97f4a9",
       "version_major": 2,
       "version_minor": 0
      },
      "text/plain": [
       "HBox(children=(FloatProgress(value=0.0, max=80520.0), HTML(value='')))"
      ]
     },
     "metadata": {},
     "output_type": "display_data"
    },
    {
     "name": "stdout",
     "output_type": "stream",
     "text": [
      "\n",
      "[['outbound', 'flight', 'fra', 'prn', 'hours', 'min', 'flight', 'thought', 'drinks', 'snacks', 'for', 'sale', 'but', 'sandwich', 'soft', 'drinks', 'were', 'served', 'complimentary', 'inbound', 'flights', 'skp', 'lju', 'fra', 'crj', 'each', 'hour', 'min', 'flight', 'skyshop', 'menu', 'was', 'in', 'seat', 'pocket', 'and', 'drinks', 'snacks', 'were', 'for', 'sale', 'all', 'flight', 'crews', 'were', 'friendly', 'security', 'check', 'at', 'the', 'ljubljana', 'airport', 'for', 'transit', 'passengers', 'was', 'chaos', 'however', 'it', 'possible', 'to', 'go', 'to', 'gate', 'within', 'min'], ['two', 'short', 'hops', 'zrh', 'lju', 'and', 'lju', 'vie', 'very', 'fast', 'on', 'crj', 'seats', 'comfortable', 'and', 'crew', 'was', 'fine', 'ground', 'services', 'good', 'and', 'lounge', 'was', 'quite', 'nice']]\n"
     ]
    }
   ],
   "source": [
    "def sent_to_words(sentences):\n",
    "    for sentence in tqdm(sentences):\n",
    "        yield(gensim.utils.simple_preprocess(str(sentence), \n",
    "                                             deacc=True)) # deacc=True removes punctuations\n",
    "\n",
    "# collate values from all row and place into a list\n",
    "data = df.values.tolist() \n",
    "\n",
    "# send to function and return list\n",
    "data_words = list(sent_to_words(data))\n",
    "print(data_words[:2])"
   ]
  },
  {
   "cell_type": "markdown",
   "metadata": {},
   "source": [
    "### Creating Bigram and Trigram Models\n",
    "Gensim's Phrases model can build and implement the bigrams, trigrams, quadgrams and more. The two important arguments to Phrases are min_count and threshold."
   ]
  },
  {
   "cell_type": "code",
   "execution_count": 11,
   "metadata": {},
   "outputs": [],
   "source": [
    "# Build the bigram and trigram models\n",
    "bigram = gensim.models.Phrases(data_words, min_count=5, threshold=100) # higher threshold fewer phrases.\n",
    "trigram = gensim.models.Phrases(bigram[data_words], threshold=100)\n",
    "\n",
    "# Faster way to get a sentence clubbed as a trigram/bigram\n",
    "bigram_mod = gensim.models.phrases.Phraser(bigram)\n",
    "trigram_mod = gensim.models.phrases.Phraser(trigram)"
   ]
  },
  {
   "cell_type": "markdown",
   "metadata": {},
   "source": [
    "### Remove stopwords, make bigrams and Lemmatize\n",
    "\n",
    "The approach of pre-processing is using nltk stopwords to remove the common helping verbs, as well as pass through gensim's simple preprocess tools to discard any tokens shorter than min len of 2 characters as well as punctuations. As there's non english words in the corpus, we will use Spacy's pos tags to sieve out the NOUN, ADJ, VERB and ADV. "
   ]
  },
  {
   "cell_type": "code",
   "execution_count": 12,
   "metadata": {},
   "outputs": [],
   "source": [
    "stopwords = stopwords.words('english')\n",
    "stopwords.extend(['from','or','the','go','in','flight','wow','silk','kg','norwegian','wizz','icelandair','british_airway','gatwick'])"
   ]
  },
  {
   "cell_type": "code",
   "execution_count": 13,
   "metadata": {},
   "outputs": [],
   "source": [
    "# Define functions for stopwords, bigrams, trigrams and lemmatization\n",
    "\n",
    "def process_words(texts, stop_words=stopwords,allowed_postags=['NOUN','ADJ','VERB','ADV']):\n",
    "    \n",
    "    # Remove stopwords\n",
    "    texts = [[word for word in simple_preprocess(str(doc)) if word not in stopwords] for doc in tqdm(texts,desc='stopwords')]\n",
    "    \n",
    "    # Make bigram\n",
    "    texts = [bigram_mod[doc] for doc in tqdm(texts, desc='bigram')]\n",
    "    \n",
    "    # Make trigram\n",
    "    texts = [trigram_mod[bigram_mod[doc]] for doc in tqdm(texts, desc='trigram')]\n",
    "\n",
    "    # Lemmatize using spacy\n",
    "    texts_out = []\n",
    "    nlp = spacy.load(\"en_core_web_sm\", disable=['parser', 'ner'])\n",
    "    for sent in tqdm(texts, desc='lemma'):\n",
    "        doc = nlp(\" \".join(sent))\n",
    "        texts_out.append([token.lemma_ for token in doc if token.pos_ in allowed_postags])\n",
    "        \n",
    "    # remove stopwords once more after lemmatization\n",
    "    texts_out = [[word for word in simple_preprocess(str(doc)) if word not in stop_words] for doc in tqdm(texts_out, desc='stopwords')]    \n",
    "    return texts_out"
   ]
  },
  {
   "cell_type": "code",
   "execution_count": 14,
   "metadata": {},
   "outputs": [
    {
     "data": {
      "application/vnd.jupyter.widget-view+json": {
       "model_id": "92b04f2e583e4a0e80eca36291b2776d",
       "version_major": 2,
       "version_minor": 0
      },
      "text/plain": [
       "HBox(children=(FloatProgress(value=0.0, description='stopwords', max=80520.0, style=ProgressStyle(description_…"
      ]
     },
     "metadata": {},
     "output_type": "display_data"
    },
    {
     "name": "stdout",
     "output_type": "stream",
     "text": [
      "\n"
     ]
    },
    {
     "data": {
      "application/vnd.jupyter.widget-view+json": {
       "model_id": "034b0b382abc49269a293ef2c4e88e7a",
       "version_major": 2,
       "version_minor": 0
      },
      "text/plain": [
       "HBox(children=(FloatProgress(value=0.0, description='bigram', max=80520.0, style=ProgressStyle(description_wid…"
      ]
     },
     "metadata": {},
     "output_type": "display_data"
    },
    {
     "name": "stdout",
     "output_type": "stream",
     "text": [
      "\n"
     ]
    },
    {
     "data": {
      "application/vnd.jupyter.widget-view+json": {
       "model_id": "0f55f47400364f8db7108fdc43c72254",
       "version_major": 2,
       "version_minor": 0
      },
      "text/plain": [
       "HBox(children=(FloatProgress(value=0.0, description='trigram', max=80520.0, style=ProgressStyle(description_wi…"
      ]
     },
     "metadata": {},
     "output_type": "display_data"
    },
    {
     "name": "stdout",
     "output_type": "stream",
     "text": [
      "\n"
     ]
    },
    {
     "data": {
      "application/vnd.jupyter.widget-view+json": {
       "model_id": "fb1628da5e2a43b3908e061a39a20c8e",
       "version_major": 2,
       "version_minor": 0
      },
      "text/plain": [
       "HBox(children=(FloatProgress(value=0.0, description='lemma', max=80520.0, style=ProgressStyle(description_widt…"
      ]
     },
     "metadata": {},
     "output_type": "display_data"
    },
    {
     "name": "stdout",
     "output_type": "stream",
     "text": [
      "\n"
     ]
    },
    {
     "data": {
      "application/vnd.jupyter.widget-view+json": {
       "model_id": "27a3a4f181df41e3befe11c4cc82cd8f",
       "version_major": 2,
       "version_minor": 0
      },
      "text/plain": [
       "HBox(children=(FloatProgress(value=0.0, description='stopwords', max=80520.0, style=ProgressStyle(description_…"
      ]
     },
     "metadata": {},
     "output_type": "display_data"
    },
    {
     "name": "stdout",
     "output_type": "stream",
     "text": [
      "\n"
     ]
    }
   ],
   "source": [
    "# Processed text data\n",
    "data_ready = process_words(data_words)"
   ]
  },
  {
   "cell_type": "code",
   "execution_count": 15,
   "metadata": {},
   "outputs": [
    {
     "data": {
      "text/plain": [
       "80520"
      ]
     },
     "execution_count": 15,
     "metadata": {},
     "output_type": "execute_result"
    }
   ],
   "source": [
    "len(data_ready)"
   ]
  },
  {
   "cell_type": "markdown",
   "metadata": {},
   "source": [
    "### Data Transformation: Corpus and Dictionary"
   ]
  },
  {
   "cell_type": "code",
   "execution_count": 16,
   "metadata": {},
   "outputs": [
    {
     "data": {
      "application/vnd.jupyter.widget-view+json": {
       "model_id": "83cea8dcf9324ef9bdb14c7b3205b4d1",
       "version_major": 2,
       "version_minor": 0
      },
      "text/plain": [
       "HBox(children=(FloatProgress(value=0.0, description='Corpus', max=80520.0, style=ProgressStyle(description_wid…"
      ]
     },
     "metadata": {},
     "output_type": "display_data"
    },
    {
     "name": "stdout",
     "output_type": "stream",
     "text": [
      "\n",
      "[(0,\n",
      "  '0.009*\"pay\" + 0.007*\"charge\" + 0.007*\"bag\" + 0.006*\"airline\" + '\n",
      "  '0.005*\"carry\" + 0.005*\"seat\" + 0.005*\"check\" + 0.005*\"extra\" + 0.004*\"bad\" '\n",
      "  '+ 0.004*\"luggage\"'),\n",
      " (1,\n",
      "  '0.010*\"delay\" + 0.008*\"hour\" + 0.008*\"cancel\" + 0.007*\"day\" + 0.007*\"tell\" '\n",
      "  '+ 0.006*\"wait\" + 0.006*\"customer\" + 0.006*\"get\" + 0.006*\"airport\" + '\n",
      "  '0.006*\"call\"'),\n",
      " (2,\n",
      "  '0.008*\"good\" + 0.007*\"crew\" + 0.006*\"food\" + 0.006*\"cabin\" + 0.006*\"meal\" + '\n",
      "  '0.005*\"seat\" + 0.005*\"great\" + 0.005*\"friendly\" + 0.005*\"comfortable\" + '\n",
      "  '0.005*\"class\"')]\n"
     ]
    }
   ],
   "source": [
    "# Create Dictionary\n",
    "lexicon = corpora.Dictionary(data_ready)\n",
    "\n",
    "# TF-IDF (0-1)\n",
    "tfidf = TfidfModel(dictionary=lexicon, normalize=True)\n",
    "\n",
    "# Create Corpus: Term Document Frequency\n",
    "corpus = [tfidf[lexicon.doc2bow(text)] for text in tqdm(data_ready,desc='Corpus')]\n",
    "\n",
    "# Build LDA model\n",
    "lda_model = gensim.models.ldamodel.LdaModel(corpus=corpus,\n",
    "                                            id2word=lexicon,\n",
    "                                            num_topics=3,\n",
    "                                            random_state=42,\n",
    "                                            update_every=1,\n",
    "                                            passes=10,\n",
    "                                            alpha='symmetric',\n",
    "                                            iterations=100,\n",
    "                                            per_word_topics=True)\n",
    "\n",
    "pprint(lda_model.print_topics())"
   ]
  },
  {
   "cell_type": "code",
   "execution_count": 17,
   "metadata": {},
   "outputs": [
    {
     "data": {
      "application/vnd.jupyter.widget-view+json": {
       "model_id": "079e331596fb42b1822db91408a7ae3b",
       "version_major": 2,
       "version_minor": 0
      },
      "text/plain": [
       "HBox(children=(FloatProgress(value=1.0, bar_style='info', max=1.0), HTML(value='')))"
      ]
     },
     "metadata": {},
     "output_type": "display_data"
    },
    {
     "name": "stdout",
     "output_type": "stream",
     "text": [
      "\n"
     ]
    },
    {
     "data": {
      "text/html": [
       "<div>\n",
       "<style scoped>\n",
       "    .dataframe tbody tr th:only-of-type {\n",
       "        vertical-align: middle;\n",
       "    }\n",
       "\n",
       "    .dataframe tbody tr th {\n",
       "        vertical-align: top;\n",
       "    }\n",
       "\n",
       "    .dataframe thead th {\n",
       "        text-align: right;\n",
       "    }\n",
       "</style>\n",
       "<table border=\"1\" class=\"dataframe\">\n",
       "  <thead>\n",
       "    <tr style=\"text-align: right;\">\n",
       "      <th></th>\n",
       "      <th>Document_No</th>\n",
       "      <th>Dominant_Topic</th>\n",
       "      <th>Topic_Perc_Contrib</th>\n",
       "      <th>Keywords</th>\n",
       "      <th>Text</th>\n",
       "    </tr>\n",
       "  </thead>\n",
       "  <tbody>\n",
       "    <tr>\n",
       "      <th>0</th>\n",
       "      <td>0</td>\n",
       "      <td>2.0</td>\n",
       "      <td>0.7947</td>\n",
       "      <td>good, crew, food, cabin, meal, seat, great, fr...</td>\n",
       "      <td>[hour, think, drink, sale, sandwich, soft, dri...</td>\n",
       "    </tr>\n",
       "    <tr>\n",
       "      <th>1</th>\n",
       "      <td>1</td>\n",
       "      <td>2.0</td>\n",
       "      <td>0.8270</td>\n",
       "      <td>good, crew, food, cabin, meal, seat, great, fr...</td>\n",
       "      <td>[short_hop, fast, crj, seat, comfortable, crew...</td>\n",
       "    </tr>\n",
       "    <tr>\n",
       "      <th>2</th>\n",
       "      <td>2</td>\n",
       "      <td>2.0</td>\n",
       "      <td>0.8425</td>\n",
       "      <td>good, crew, food, cabin, meal, seat, great, fr...</td>\n",
       "      <td>[almost, full, departure, time, service, board...</td>\n",
       "    </tr>\n",
       "    <tr>\n",
       "      <th>3</th>\n",
       "      <td>3</td>\n",
       "      <td>2.0</td>\n",
       "      <td>0.8740</td>\n",
       "      <td>good, crew, food, cabin, meal, seat, great, fr...</td>\n",
       "      <td>[serve, hugely, improve, cabin, much, spacious...</td>\n",
       "    </tr>\n",
       "    <tr>\n",
       "      <th>4</th>\n",
       "      <td>4</td>\n",
       "      <td>0.0</td>\n",
       "      <td>0.7158</td>\n",
       "      <td>pay, charge, bag, airline, carry, seat, check,...</td>\n",
       "      <td>[economy, free, drink, partner, full, fare, ba...</td>\n",
       "    </tr>\n",
       "    <tr>\n",
       "      <th>5</th>\n",
       "      <td>5</td>\n",
       "      <td>2.0</td>\n",
       "      <td>0.8432</td>\n",
       "      <td>good, crew, food, cabin, meal, seat, great, fr...</td>\n",
       "      <td>[ljubljana, love, fly, small, airline, functio...</td>\n",
       "    </tr>\n",
       "    <tr>\n",
       "      <th>6</th>\n",
       "      <td>6</td>\n",
       "      <td>2.0</td>\n",
       "      <td>0.6798</td>\n",
       "      <td>good, crew, food, cabin, meal, seat, great, fr...</td>\n",
       "      <td>[provide, product, day, food, beverage, become...</td>\n",
       "    </tr>\n",
       "    <tr>\n",
       "      <th>7</th>\n",
       "      <td>7</td>\n",
       "      <td>2.0</td>\n",
       "      <td>0.8115</td>\n",
       "      <td>good, crew, food, cabin, meal, seat, great, fr...</td>\n",
       "      <td>[time, make, aircraft, comfortable, seat, staf...</td>\n",
       "    </tr>\n",
       "    <tr>\n",
       "      <th>8</th>\n",
       "      <td>8</td>\n",
       "      <td>2.0</td>\n",
       "      <td>0.7755</td>\n",
       "      <td>good, crew, food, cabin, meal, seat, great, fr...</td>\n",
       "      <td>[use, crj, next, generation, great, plane, lov...</td>\n",
       "    </tr>\n",
       "    <tr>\n",
       "      <th>9</th>\n",
       "      <td>9</td>\n",
       "      <td>2.0</td>\n",
       "      <td>0.8582</td>\n",
       "      <td>good, crew, food, cabin, meal, seat, great, fr...</td>\n",
       "      <td>[back, time, economy, class, serve, coffee, te...</td>\n",
       "    </tr>\n",
       "  </tbody>\n",
       "</table>\n",
       "</div>"
      ],
      "text/plain": [
       "   Document_No  Dominant_Topic  Topic_Perc_Contrib  \\\n",
       "0            0             2.0              0.7947   \n",
       "1            1             2.0              0.8270   \n",
       "2            2             2.0              0.8425   \n",
       "3            3             2.0              0.8740   \n",
       "4            4             0.0              0.7158   \n",
       "5            5             2.0              0.8432   \n",
       "6            6             2.0              0.6798   \n",
       "7            7             2.0              0.8115   \n",
       "8            8             2.0              0.7755   \n",
       "9            9             2.0              0.8582   \n",
       "\n",
       "                                            Keywords  \\\n",
       "0  good, crew, food, cabin, meal, seat, great, fr...   \n",
       "1  good, crew, food, cabin, meal, seat, great, fr...   \n",
       "2  good, crew, food, cabin, meal, seat, great, fr...   \n",
       "3  good, crew, food, cabin, meal, seat, great, fr...   \n",
       "4  pay, charge, bag, airline, carry, seat, check,...   \n",
       "5  good, crew, food, cabin, meal, seat, great, fr...   \n",
       "6  good, crew, food, cabin, meal, seat, great, fr...   \n",
       "7  good, crew, food, cabin, meal, seat, great, fr...   \n",
       "8  good, crew, food, cabin, meal, seat, great, fr...   \n",
       "9  good, crew, food, cabin, meal, seat, great, fr...   \n",
       "\n",
       "                                                Text  \n",
       "0  [hour, think, drink, sale, sandwich, soft, dri...  \n",
       "1  [short_hop, fast, crj, seat, comfortable, crew...  \n",
       "2  [almost, full, departure, time, service, board...  \n",
       "3  [serve, hugely, improve, cabin, much, spacious...  \n",
       "4  [economy, free, drink, partner, full, fare, ba...  \n",
       "5  [ljubljana, love, fly, small, airline, functio...  \n",
       "6  [provide, product, day, food, beverage, become...  \n",
       "7  [time, make, aircraft, comfortable, seat, staf...  \n",
       "8  [use, crj, next, generation, great, plane, lov...  \n",
       "9  [back, time, economy, class, serve, coffee, te...  "
      ]
     },
     "execution_count": 17,
     "metadata": {},
     "output_type": "execute_result"
    }
   ],
   "source": [
    "# Label the context in the df\n",
    "\n",
    "def format_topics_sentences(ldamodel=None, corpus=corpus, texts=data):\n",
    "    # Init output\n",
    "    sent_topics_df = pd.DataFrame()\n",
    "\n",
    "    # Get main topic in each document\n",
    "    for i, row_list in tqdm(enumerate(ldamodel[corpus])):\n",
    "        row = row_list[0] if ldamodel.per_word_topics else row_list            \n",
    "        \n",
    "        # print(row)\n",
    "        row = sorted(row, key=lambda x: (x[1]), reverse=True)\n",
    "        \n",
    "        # Get the Dominant topic, Perc Contribution and Keywords for each document\n",
    "        for j, (topic_num, prop_topic) in enumerate(row):\n",
    "            if j == 0:  # => dominant topic\n",
    "                wp = ldamodel.show_topic(topic_num)\n",
    "                topic_keywords = \", \".join([word for word, prop in wp])\n",
    "                sent_topics_df = sent_topics_df.append(pd.Series([int(topic_num), round(prop_topic,4), topic_keywords]), ignore_index=True)\n",
    "            else:\n",
    "                break\n",
    "    sent_topics_df.columns = ['Dominant_Topic', 'Perc_Contribution', 'Topic_Keywords']\n",
    "\n",
    "    # Add original text to the end of the output\n",
    "    contents = pd.Series(texts)\n",
    "    sent_topics_df = pd.concat([sent_topics_df, contents], axis=1)\n",
    "    return(sent_topics_df)\n",
    "\n",
    "\n",
    "df_topic_sents_keywords = format_topics_sentences(ldamodel=lda_model, corpus=corpus, texts=data_ready)\n",
    "\n",
    "# Format\n",
    "df_dominant_topic = df_topic_sents_keywords.reset_index()\n",
    "df_dominant_topic.columns = ['Document_No', 'Dominant_Topic', 'Topic_Perc_Contrib', 'Keywords', 'Text']\n",
    "df_dominant_topic.head(10)"
   ]
  },
  {
   "cell_type": "code",
   "execution_count": 18,
   "metadata": {},
   "outputs": [
    {
     "data": {
      "text/html": [
       "<div>\n",
       "<style scoped>\n",
       "    .dataframe tbody tr th:only-of-type {\n",
       "        vertical-align: middle;\n",
       "    }\n",
       "\n",
       "    .dataframe tbody tr th {\n",
       "        vertical-align: top;\n",
       "    }\n",
       "\n",
       "    .dataframe thead th {\n",
       "        text-align: right;\n",
       "    }\n",
       "</style>\n",
       "<table border=\"1\" class=\"dataframe\">\n",
       "  <thead>\n",
       "    <tr style=\"text-align: right;\">\n",
       "      <th></th>\n",
       "      <th>Topic_Num</th>\n",
       "      <th>Topic_Perc_Contrib</th>\n",
       "      <th>Keywords</th>\n",
       "      <th>Representative Text</th>\n",
       "    </tr>\n",
       "  </thead>\n",
       "  <tbody>\n",
       "    <tr>\n",
       "      <th>0</th>\n",
       "      <td>0.0</td>\n",
       "      <td>0.9168</td>\n",
       "      <td>pay, charge, bag, airline, carry, seat, check, extra, bad, luggage</td>\n",
       "      <td>[always, travel, excess, baggage, time, year, internationally, result, ultra, punitive, charge, ...</td>\n",
       "    </tr>\n",
       "    <tr>\n",
       "      <th>1</th>\n",
       "      <td>1.0</td>\n",
       "      <td>0.9301</td>\n",
       "      <td>delay, hour, cancel, day, tell, wait, customer, get, airport, call</td>\n",
       "      <td>[disastrous, get, delay, initially, already, board, gate, customer, air, representative, come, t...</td>\n",
       "    </tr>\n",
       "    <tr>\n",
       "      <th>2</th>\n",
       "      <td>2.0</td>\n",
       "      <td>0.9294</td>\n",
       "      <td>good, crew, food, cabin, meal, seat, great, friendly, comfortable, class</td>\n",
       "      <td>[little, apprehensive, pleasurable, fly, experience, recently, check, auh, premium, check, area,...</td>\n",
       "    </tr>\n",
       "  </tbody>\n",
       "</table>\n",
       "</div>"
      ],
      "text/plain": [
       "   Topic_Num  Topic_Perc_Contrib  \\\n",
       "0        0.0              0.9168   \n",
       "1        1.0              0.9301   \n",
       "2        2.0              0.9294   \n",
       "\n",
       "                                                                   Keywords  \\\n",
       "0        pay, charge, bag, airline, carry, seat, check, extra, bad, luggage   \n",
       "1        delay, hour, cancel, day, tell, wait, customer, get, airport, call   \n",
       "2  good, crew, food, cabin, meal, seat, great, friendly, comfortable, class   \n",
       "\n",
       "                                                                                   Representative Text  \n",
       "0  [always, travel, excess, baggage, time, year, internationally, result, ultra, punitive, charge, ...  \n",
       "1  [disastrous, get, delay, initially, already, board, gate, customer, air, representative, come, t...  \n",
       "2  [little, apprehensive, pleasurable, fly, experience, recently, check, auh, premium, check, area,...  "
      ]
     },
     "execution_count": 18,
     "metadata": {},
     "output_type": "execute_result"
    }
   ],
   "source": [
    "# Display setting to show more characters in column\n",
    "pd.options.display.max_colwidth = 100\n",
    "\n",
    "sent_topics_sorteddf_mallet = pd.DataFrame()\n",
    "sent_topics_outdf_grpd = df_topic_sents_keywords.groupby('Dominant_Topic')\n",
    "\n",
    "for i, grp in sent_topics_outdf_grpd:\n",
    "    sent_topics_sorteddf_mallet = pd.concat([sent_topics_sorteddf_mallet, \n",
    "                                             grp.sort_values(['Perc_Contribution'], ascending=False).head(1)], \n",
    "                                            axis=0)\n",
    "\n",
    "# Reset Index    \n",
    "sent_topics_sorteddf_mallet.reset_index(drop=True, inplace=True)\n",
    "\n",
    "# Format\n",
    "sent_topics_sorteddf_mallet.columns = ['Topic_Num', \"Topic_Perc_Contrib\", \"Keywords\", \"Representative Text\"]\n",
    "\n",
    "# Show\n",
    "sent_topics_sorteddf_mallet.head(10)"
   ]
  },
  {
   "cell_type": "code",
   "execution_count": 20,
   "metadata": {},
   "outputs": [
    {
     "data": {
      "image/png": "[encoded data removed]",
      "text/plain": [
       "<Figure size 720x720 with 3 Axes>"
      ]
     },
     "metadata": {
      "needs_background": "light"
     },
     "output_type": "display_data"
    }
   ],
   "source": [
    "# 1. Wordcloud of Top N words in each topic\n",
    "from matplotlib import pyplot as plt\n",
    "from wordcloud import WordCloud, STOPWORDS\n",
    "import matplotlib.colors as mcolors\n",
    "\n",
    "cols = [color for name, color in mcolors.TABLEAU_COLORS.items()]  # more colors: 'mcolors.XKCD_COLORS'\n",
    "\n",
    "cloud = WordCloud(stopwords=stopwords,\n",
    "                  background_color='white',\n",
    "                  width=2500,\n",
    "                  height=1800,\n",
    "                  max_words=10,\n",
    "                  colormap='tab10',\n",
    "                  color_func=lambda *args, **kwargs: cols[i],\n",
    "                  prefer_horizontal=1.0)\n",
    "\n",
    "topics = lda_model.show_topics(formatted=False)\n",
    "\n",
    "fig, axes = plt.subplots(1, 3, figsize=(10,10), sharex=True, sharey=True)\n",
    "\n",
    "for i, ax in enumerate(axes.flatten()):\n",
    "    fig.add_subplot(ax)\n",
    "    topic_words = dict(topics[i][1])\n",
    "    cloud.generate_from_frequencies(topic_words, max_font_size=300)\n",
    "    plt.gca().imshow(cloud)\n",
    "    plt.gca().set_title('Topic ' + str(i), fontdict=dict(size=16))\n",
    "    plt.gca().axis('off')\n",
    "\n",
    "\n",
    "plt.subplots_adjust(wspace=0, hspace=0)\n",
    "plt.axis('off')\n",
    "plt.margins(x=0, y=0)\n",
    "plt.tight_layout()\n",
    "plt.show()"
   ]
  },
  {
   "cell_type": "code",
   "execution_count": 21,
   "metadata": {},
   "outputs": [
    {
     "data": {
      "text/html": [
       "<div>\n",
       "<style scoped>\n",
       "    .dataframe tbody tr th:only-of-type {\n",
       "        vertical-align: middle;\n",
       "    }\n",
       "\n",
       "    .dataframe tbody tr th {\n",
       "        vertical-align: top;\n",
       "    }\n",
       "\n",
       "    .dataframe thead th {\n",
       "        text-align: right;\n",
       "    }\n",
       "</style>\n",
       "<table border=\"1\" class=\"dataframe\">\n",
       "  <thead>\n",
       "    <tr style=\"text-align: right;\">\n",
       "      <th></th>\n",
       "      <th>Document_No</th>\n",
       "      <th>Dominant_Topic</th>\n",
       "      <th>Topic_Perc_Contrib</th>\n",
       "      <th>Keywords</th>\n",
       "      <th>Text</th>\n",
       "    </tr>\n",
       "  </thead>\n",
       "  <tbody>\n",
       "    <tr>\n",
       "      <th>3</th>\n",
       "      <td>3</td>\n",
       "      <td>2.0</td>\n",
       "      <td>0.874</td>\n",
       "      <td>good, crew, food, cabin, meal, seat, great, friendly, comfortable, class</td>\n",
       "      <td>[serve, hugely, improve, cabin, much, spacious, high, ceiling, big, window, seat, seem, comforta...</td>\n",
       "    </tr>\n",
       "  </tbody>\n",
       "</table>\n",
       "</div>"
      ],
      "text/plain": [
       "   Document_No  Dominant_Topic  Topic_Perc_Contrib  \\\n",
       "3            3             2.0               0.874   \n",
       "\n",
       "                                                                   Keywords  \\\n",
       "3  good, crew, food, cabin, meal, seat, great, friendly, comfortable, class   \n",
       "\n",
       "                                                                                                  Text  \n",
       "3  [serve, hugely, improve, cabin, much, spacious, high, ceiling, big, window, seat, seem, comforta...  "
      ]
     },
     "execution_count": 21,
     "metadata": {},
     "output_type": "execute_result"
    }
   ],
   "source": [
    "df_dominant_topic[df_dominant_topic['Document_No']==3]"
   ]
  },
  {
   "cell_type": "code",
   "execution_count": 22,
   "metadata": {},
   "outputs": [
    {
     "data": {
      "text/html": [
       "\n",
       "<link rel=\"stylesheet\" type=\"text/css\" href=\"https://cdn.rawgit.com/bmabey/pyLDAvis/files/ldavis.v1.0.0.css\">\n",
       "\n",
       "\n",
       "<div id=\"ldavis_el982020768776258882332216125\"></div>\n",
       "<script type=\"text/javascript\">\n",
       "\n",
       "var ldavis_el982020768776258882332216125_data = {\"mdsDat\": {\"x\": [-0.18807065310639767, 0.14206174273123104, 0.04600891037516663], \"y\": [-0.03559514335331848, -0.08674492374490034, 0.12234006709821885], \"topics\": [1, 2, 3], \"cluster\": [1, 1, 1], \"Freq\": [45.285606384277344, 28.223682403564453, 26.49071502685547]}, \"tinfo\": {\"Term\": [\"delay\", \"cancel\", \"day\", \"charge\", \"good\", \"pay\", \"tell\", \"carry\", \"refund\", \"friendly\", \"comfortable\", \"meal\", \"customer\", \"wait\", \"email\", \"serve\", \"call\", \"hour\", \"bag\", \"hotel\", \"miss\", \"cabin\", \"seat\", \"clean\", \"great\", \"excellent\", \"class\", \"nice\", \"food\", \"entertainment\", \"comfortable\", \"friendly\", \"excellent\", \"clean\", \"movie\", \"efficient\", \"pleasant\", \"smooth\", \"attentive\", \"selection\", \"inflight\", \"professional\", \"breakfast\", \"tasty\", \"serve\", \"polite\", \"wine\", \"decent\", \"welcome\", \"product\", \"tea\", \"haul\", \"sandwich\", \"courteous\", \"warm\", \"pitch\", \"vegetarian\", \"spacious\", \"ife\", \"fantastic\", \"improve\", \"taste\", \"meal\", \"nice\", \"good\", \"great\", \"entertainment\", \"lounge\", \"quality\", \"class\", \"overall\", \"economy\", \"food\", \"cabin\", \"quick\", \"crew\", \"quite\", \"drink\", \"aircraft\", \"short\", \"choice\", \"business\", \"snack\", \"well\", \"seat\", \"service\", \"really\", \"staff\", \"time\", \"leg\", \"helpful\", \"offer\", \"experience\", \"fly\", \"cancel\", \"refund\", \"email\", \"hotel\", \"pm\", \"miss\", \"voucher\", \"compensation\", \"weather\", \"explanation\", \"cancellation\", \"communication\", \"send\", \"representative\", \"contact\", \"reschedule\", \"drive\", \"rebooke\", \"strand\", \"rebook\", \"original\", \"reimburse\", \"message\", \"office\", \"vuele\", \"sunwe\", \"taxi\", \"overbooke\", \"notify\", \"accommodation\", \"maintenance\", \"announce\", \"day\", \"information\", \"delay\", \"inform\", \"wait\", \"lose\", \"finally\", \"call\", \"later\", \"suppose\", \"tell\", \"connect\", \"hour\", \"airport\", \"desk\", \"customer\", \"next\", \"gate\", \"leave\", \"due\", \"get\", \"arrive\", \"minute\", \"ticket\", \"say\", \"book\", \"never\", \"airline\", \"luggage\", \"late\", \"would\", \"take\", \"time\", \"give\", \"carry\", \"ryanair\", \"child\", \"weight\", \"rule\", \"baby\", \"backpack\", \"weigh\", \"rip\", \"mother\", \"euros\", \"cash\", \"wheelchair\", \"parent\", \"carry_on\", \"purse\", \"infant\", \"overweight\", \"allocate\", \"disgusting\", \"excess\", \"pound\", \"dime\", \"nickel\", \"laugh\", \"euro\", \"scam\", \"filthy\", \"measure\", \"broken\", \"together\", \"scoot\", \"practice\", \"buck\", \"saving\", \"charge\", \"fee\", \"knee\", \"kid\", \"pay\", \"policy\", \"bag\", \"extra\", \"print\", \"fit\", \"rude\", \"son\", \"cost\", \"front\", \"uncomfortable\", \"sit\", \"allow\", \"people\", \"cheap\", \"want\", \"never\", \"bad\", \"ever\", \"seat\", \"airline\", \"check\", \"luggage\", \"ticket\", \"ask\", \"spirit\", \"even\", \"water\", \"fly\", \"travel\", \"say\", \"customer\", \"get\", \"baggage\", \"price\", \"book\"], \"Freq\": [1439.0, 951.0, 1025.0, 938.0, 1633.0, 1455.0, 1123.0, 616.0, 644.0, 1031.0, 1026.0, 1181.0, 1109.0, 879.0, 563.0, 908.0, 799.0, 1544.0, 1232.0, 504.0, 498.0, 1321.0, 1674.0, 768.0, 1093.0, 742.0, 1058.0, 857.0, 1359.0, 907.0, 1025.960205078125, 1030.533447265625, 742.203857421875, 767.4193115234375, 558.5988159179688, 544.2306518554688, 545.8085327148438, 519.7848510742188, 401.87640380859375, 485.33837890625, 444.9272766113281, 467.8240051269531, 397.203125, 320.3511962890625, 906.3894653320312, 369.297607421875, 286.0152282714844, 377.97406005859375, 289.0856628417969, 283.10302734375, 273.5216369628906, 263.1773986816406, 268.80303955078125, 272.4831848144531, 262.09356689453125, 252.01792907714844, 237.23031616210938, 211.96299743652344, 203.44212341308594, 217.7400360107422, 241.1382293701172, 216.43417358398438, 1149.981201171875, 839.0223999023438, 1572.241455078125, 1049.938232421875, 875.4773559570312, 563.4547729492188, 515.424560546875, 1001.6019897460938, 712.8785400390625, 885.9776000976562, 1254.138427734375, 1212.052490234375, 376.0812683105469, 1315.7332763671875, 645.8953247070312, 879.3513793945312, 874.3164672851562, 689.2222290039062, 580.4105834960938, 817.41015625, 610.6895751953125, 762.7608642578125, 1072.474853515625, 940.7977294921875, 683.560791015625, 802.30615234375, 832.5427856445312, 631.0519409179688, 600.84228515625, 661.938720703125, 681.0654296875, 705.4854736328125, 950.3006591796875, 643.2482299804688, 562.5579833984375, 503.6685791015625, 390.5599670410156, 497.2702331542969, 381.32733154296875, 281.271484375, 279.4045104980469, 248.5370330810547, 198.17384338378906, 219.9020233154297, 387.7613220214844, 184.66754150390625, 281.0263671875, 141.65438842773438, 151.42022705078125, 136.36856079101562, 133.2190704345703, 129.94664001464844, 192.93515014648438, 122.96637725830078, 137.3672332763672, 131.03652954101562, 350.1508483886719, 160.40213012695312, 131.1483612060547, 126.85565948486328, 117.28165435791016, 112.5975570678711, 121.5142822265625, 197.64437866210938, 919.2409057617188, 391.40374755859375, 1262.1065673828125, 313.25225830078125, 759.1888427734375, 410.1449279785156, 370.8218994140625, 692.1952514648438, 461.47332763671875, 316.3977966308594, 869.6964721679688, 416.05584716796875, 1037.06298828125, 731.1397705078125, 308.3080749511719, 751.1074829101562, 520.0936279296875, 476.7999572753906, 548.4932250976562, 484.1404724121094, 734.7113647460938, 579.4215698242188, 566.52392578125, 591.0711059570312, 565.5249633789062, 551.73876953125, 543.7586669921875, 621.3660888671875, 524.8706665039062, 480.77880859375, 522.7355346679688, 496.908935546875, 523.0552978515625, 481.97552490234375, 615.9185791015625, 287.5190124511719, 241.98129272460938, 158.1107177734375, 153.5338592529297, 142.26553344726562, 103.90117645263672, 99.01265716552734, 96.32366180419922, 94.92071533203125, 90.2913818359375, 90.80925750732422, 83.32615661621094, 113.0111312866211, 75.28839874267578, 70.89688110351562, 72.2267837524414, 65.72876739501953, 75.73531341552734, 74.2092514038086, 65.16816711425781, 64.15205383300781, 69.5866470336914, 60.53824234008789, 71.61847686767578, 66.43963623046875, 59.384857177734375, 55.96097183227539, 63.78450393676758, 58.384788513183594, 260.27447509765625, 96.54898071289062, 67.46138763427734, 78.73004150390625, 66.71021270751953, 841.5468139648438, 415.3848571777344, 91.5586166381836, 186.3009490966797, 1021.5843505859375, 188.9995880126953, 790.861328125, 542.771728515625, 239.11962890625, 151.7887725830078, 358.7566833496094, 129.59027099609375, 394.25872802734375, 272.5386047363281, 268.2221374511719, 339.0208740234375, 287.65020751953125, 378.2976379394531, 364.8350524902344, 343.5698547363281, 451.0526428222656, 497.6922607421875, 364.7156066894531, 601.8304443359375, 638.4321899414062, 571.4925537109375, 455.2427978515625, 451.3568115234375, 385.3757629394531, 299.90106201171875, 420.78204345703125, 328.40496826171875, 449.6701354980469, 356.7973937988281, 370.2377624511719, 357.5667419433594, 378.70062255859375, 320.2791748046875, 328.81854248046875, 328.6595458984375], \"Total\": [1439.0, 951.0, 1025.0, 938.0, 1633.0, 1455.0, 1123.0, 616.0, 644.0, 1031.0, 1026.0, 1181.0, 1109.0, 879.0, 563.0, 908.0, 799.0, 1544.0, 1232.0, 504.0, 498.0, 1321.0, 1674.0, 768.0, 1093.0, 742.0, 1058.0, 857.0, 1359.0, 907.0, 1026.5792236328125, 1031.20263671875, 742.78466796875, 768.0551147460938, 559.2119750976562, 544.8301391601562, 546.4750366210938, 520.421875, 402.44683837890625, 486.0283508300781, 445.56072998046875, 468.4963684082031, 397.8124694824219, 320.9142761230469, 908.0731201171875, 369.9841613769531, 286.5934753417969, 378.76641845703125, 289.69293212890625, 283.7091979980469, 274.1546630859375, 263.78863525390625, 269.43267822265625, 273.1421203613281, 262.7283630371094, 252.63755798339844, 237.86129760742188, 212.53497314453125, 204.00624084472656, 218.3440399169922, 241.8387908935547, 217.05551147460938, 1181.9310302734375, 857.984375, 1633.297119140625, 1093.5921630859375, 907.8472900390625, 578.0897216796875, 527.6696166992188, 1058.0457763671875, 744.5398559570312, 938.4146728515625, 1359.4892578125, 1321.732177734375, 382.8211669921875, 1464.930908203125, 681.9051513671875, 954.848388671875, 1001.6419067382812, 769.76513671875, 626.4137573242188, 957.39990234375, 674.7254028320312, 955.3643188476562, 1674.845947265625, 1481.666748046875, 909.3756103515625, 1386.0767822265625, 1552.53076171875, 788.2677612304688, 688.4443969726562, 999.8118286132812, 1208.8621826171875, 1544.1004638671875, 951.0106811523438, 644.0018310546875, 563.3194580078125, 504.3711853027344, 391.27447509765625, 498.1952819824219, 382.0437927246094, 281.9775695800781, 280.1721496582031, 249.3876953125, 198.87911987304688, 220.69252014160156, 389.2442626953125, 185.39854431152344, 282.3079833984375, 142.34283447265625, 152.16973876953125, 137.056396484375, 133.91448974609375, 130.6356201171875, 194.00270080566406, 123.6605224609375, 138.14373779296875, 131.7866668701172, 352.27081298828125, 161.39149475097656, 131.96543884277344, 127.6550521850586, 118.02494812011719, 113.31394958496094, 122.33566284179688, 201.89138793945312, 1025.7955322265625, 418.1839904785156, 1439.5697021484375, 332.4295959472656, 879.10546875, 450.8694763183594, 404.7336730957031, 799.7963256835938, 521.44287109375, 347.29425048828125, 1123.0902099609375, 486.1233215332031, 1544.7008056640625, 1043.147705078125, 353.10980224609375, 1109.1397705078125, 705.9463500976562, 645.092041015625, 832.3060913085938, 697.6468505859375, 1398.2431640625, 974.8931884765625, 1012.3280029296875, 1144.93359375, 1057.87255859375, 1018.8543701171875, 1019.16259765625, 1885.70751953125, 1119.131103515625, 825.236328125, 1286.0908203125, 1181.23291015625, 1552.53076171875, 1021.606689453125, 616.6492309570312, 288.335693359375, 242.7545623779297, 158.82701110839844, 154.27755737304688, 142.9704132080078, 104.58695983886719, 99.69200897216797, 97.0146713256836, 95.7279281616211, 91.07318115234375, 91.62046813964844, 84.086669921875, 114.04350280761719, 75.97904205322266, 71.55248260498047, 72.91682434082031, 66.41935729980469, 76.53486633300781, 75.0057144165039, 65.87076568603516, 64.84663391113281, 70.35025024414062, 61.21367645263672, 72.4280776977539, 67.22935485839844, 60.09239196777344, 56.647544860839844, 64.57134246826172, 59.12950134277344, 265.57659912109375, 98.08246612548828, 68.38514709472656, 80.0659408569336, 67.61575317382812, 938.7021484375, 485.9406433105469, 95.66841888427734, 209.4315643310547, 1455.3199462890625, 226.71971130371094, 1232.3094482421875, 807.6837158203125, 305.23931884765625, 177.74356079101562, 517.3109130859375, 153.0157012939453, 662.3690185546875, 408.9635314941406, 413.696044921875, 579.9397583007812, 462.86090087890625, 751.1983032226562, 717.0517578125, 662.997314453125, 1019.16259765625, 1188.6220703125, 750.578369140625, 1674.845947265625, 1885.70751953125, 1612.2127685546875, 1119.131103515625, 1144.93359375, 858.6357421875, 564.9298095703125, 1121.306396484375, 703.8126831054688, 1544.1004638671875, 918.650390625, 1057.87255859375, 1109.1397705078125, 1398.2431640625, 756.81005859375, 902.1737060546875, 1018.8543701171875], \"Category\": [\"Default\", \"Default\", \"Default\", \"Default\", \"Default\", \"Default\", \"Default\", \"Default\", \"Default\", \"Default\", \"Default\", \"Default\", \"Default\", \"Default\", \"Default\", \"Default\", \"Default\", \"Default\", \"Default\", \"Default\", \"Default\", \"Default\", \"Default\", \"Default\", \"Default\", \"Default\", \"Default\", \"Default\", \"Default\", \"Default\", \"Topic1\", \"Topic1\", \"Topic1\", \"Topic1\", \"Topic1\", \"Topic1\", \"Topic1\", \"Topic1\", \"Topic1\", \"Topic1\", \"Topic1\", \"Topic1\", \"Topic1\", \"Topic1\", \"Topic1\", \"Topic1\", \"Topic1\", \"Topic1\", \"Topic1\", \"Topic1\", \"Topic1\", \"Topic1\", \"Topic1\", \"Topic1\", \"Topic1\", \"Topic1\", \"Topic1\", \"Topic1\", \"Topic1\", \"Topic1\", \"Topic1\", \"Topic1\", \"Topic1\", \"Topic1\", \"Topic1\", \"Topic1\", \"Topic1\", \"Topic1\", \"Topic1\", \"Topic1\", \"Topic1\", \"Topic1\", \"Topic1\", \"Topic1\", \"Topic1\", \"Topic1\", \"Topic1\", \"Topic1\", \"Topic1\", \"Topic1\", \"Topic1\", \"Topic1\", \"Topic1\", \"Topic1\", \"Topic1\", \"Topic1\", \"Topic1\", \"Topic1\", \"Topic1\", \"Topic1\", \"Topic1\", \"Topic1\", \"Topic1\", \"Topic1\", \"Topic2\", \"Topic2\", \"Topic2\", \"Topic2\", \"Topic2\", \"Topic2\", \"Topic2\", \"Topic2\", \"Topic2\", \"Topic2\", \"Topic2\", \"Topic2\", \"Topic2\", \"Topic2\", \"Topic2\", \"Topic2\", \"Topic2\", \"Topic2\", \"Topic2\", \"Topic2\", \"Topic2\", \"Topic2\", \"Topic2\", \"Topic2\", \"Topic2\", \"Topic2\", \"Topic2\", \"Topic2\", \"Topic2\", \"Topic2\", \"Topic2\", \"Topic2\", \"Topic2\", \"Topic2\", \"Topic2\", \"Topic2\", \"Topic2\", \"Topic2\", \"Topic2\", \"Topic2\", \"Topic2\", \"Topic2\", \"Topic2\", \"Topic2\", \"Topic2\", \"Topic2\", \"Topic2\", \"Topic2\", \"Topic2\", \"Topic2\", \"Topic2\", \"Topic2\", \"Topic2\", \"Topic2\", \"Topic2\", \"Topic2\", \"Topic2\", \"Topic2\", \"Topic2\", \"Topic2\", \"Topic2\", \"Topic2\", \"Topic2\", \"Topic2\", \"Topic2\", \"Topic2\", \"Topic3\", \"Topic3\", \"Topic3\", \"Topic3\", \"Topic3\", \"Topic3\", \"Topic3\", \"Topic3\", \"Topic3\", \"Topic3\", \"Topic3\", \"Topic3\", \"Topic3\", \"Topic3\", \"Topic3\", \"Topic3\", \"Topic3\", \"Topic3\", \"Topic3\", \"Topic3\", \"Topic3\", \"Topic3\", \"Topic3\", \"Topic3\", \"Topic3\", \"Topic3\", \"Topic3\", \"Topic3\", \"Topic3\", \"Topic3\", \"Topic3\", \"Topic3\", \"Topic3\", \"Topic3\", \"Topic3\", \"Topic3\", \"Topic3\", \"Topic3\", \"Topic3\", \"Topic3\", \"Topic3\", \"Topic3\", \"Topic3\", \"Topic3\", \"Topic3\", \"Topic3\", \"Topic3\", \"Topic3\", \"Topic3\", \"Topic3\", \"Topic3\", \"Topic3\", \"Topic3\", \"Topic3\", \"Topic3\", \"Topic3\", \"Topic3\", \"Topic3\", \"Topic3\", \"Topic3\", \"Topic3\", \"Topic3\", \"Topic3\", \"Topic3\", \"Topic3\", \"Topic3\", \"Topic3\", \"Topic3\", \"Topic3\", \"Topic3\", \"Topic3\", \"Topic3\", \"Topic3\", \"Topic3\", \"Topic3\"], \"logprob\": [30.0, 29.0, 28.0, 27.0, 26.0, 25.0, 24.0, 23.0, 22.0, 21.0, 20.0, 19.0, 18.0, 17.0, 16.0, 15.0, 14.0, 13.0, 12.0, 11.0, 10.0, 9.0, 8.0, 7.0, 6.0, 5.0, 4.0, 3.0, 2.0, 1.0, -5.261499881744385, -5.256999969482422, -5.58519983291626, -5.551799774169922, -5.8694000244140625, -5.895500183105469, -5.892600059509277, -5.941400051116943, -6.198699951171875, -6.010000228881836, -6.09689998626709, -6.0467000007629395, -6.210400104522705, -6.4253997802734375, -5.38539981842041, -6.283199787139893, -6.53879976272583, -6.260000228881836, -6.52810001373291, -6.548999786376953, -6.583499908447266, -6.622000217437744, -6.600900173187256, -6.587299823760986, -6.626100063323975, -6.665299892425537, -6.725800037384033, -6.838399887084961, -6.879499912261963, -6.811500072479248, -6.709499835968018, -6.817599773406982, -5.147299766540527, -5.462600231170654, -4.83459997177124, -5.238399982452393, -5.420100212097168, -5.860799789428711, -5.94980001449585, -5.2855000495910645, -5.625500202178955, -5.408100128173828, -5.0605998039245605, -5.094799995422363, -6.264999866485596, -5.012700080871582, -5.7241997718811035, -5.4156999588012695, -5.42140007019043, -5.659299850463867, -5.831099987030029, -5.488699913024902, -5.780300140380859, -5.5578999519348145, -5.217100143432617, -5.348100185394287, -5.667500019073486, -5.507299900054932, -5.470399856567383, -5.747499942779541, -5.796500205993652, -5.699699878692627, -5.671199798583984, -5.636000156402588, -4.865200042724609, -5.255499839782715, -5.389500141143799, -5.500100135803223, -5.75439977645874, -5.512899875640869, -5.77839994430542, -6.082699775695801, -6.089399814605713, -6.206399917602539, -6.4328999519348145, -6.328800201416016, -5.761600017547607, -6.503499984741211, -6.083600044250488, -6.768599987030029, -6.702000141143799, -6.806700229644775, -6.829999923706055, -6.854899883270264, -6.459700107574463, -6.910099983215332, -6.7993998527526855, -6.846499919891357, -5.86359977722168, -6.6442999839782715, -6.845699787139893, -6.879000186920166, -6.957399845123291, -6.998199939727783, -6.921999931335449, -6.435500144958496, -4.898499965667725, -5.752299785614014, -4.581500053405762, -5.974999904632568, -5.089799880981445, -5.70550012588501, -5.806300163269043, -5.18209981918335, -5.587600231170654, -5.965000152587891, -4.95389986038208, -5.691199779510498, -4.777900218963623, -5.127399921417236, -5.990900039672852, -5.100500106811523, -5.4679999351501465, -5.554900169372559, -5.41480016708374, -5.539599895477295, -5.122499942779541, -5.360000133514404, -5.382500171661377, -5.340099811553955, -5.384300231933594, -5.408899784088135, -5.423500061035156, -5.29010009765625, -5.458899974822998, -5.546599864959717, -5.462900161743164, -5.513599872589111, -5.462299823760986, -5.544099807739258, -5.235499858856201, -5.997399806976318, -6.1697998046875, -6.595300197601318, -6.62470006942749, -6.700900077819824, -7.015200138092041, -7.063399791717529, -7.09089994430542, -7.105599880218506, -7.155600070953369, -7.149899959564209, -7.235899925231934, -6.93120002746582, -7.337299823760986, -7.39739990234375, -7.378799915313721, -7.473100185394287, -7.331399917602539, -7.351799964904785, -7.4816999435424805, -7.497399806976318, -7.416100025177002, -7.5553998947143555, -7.38730001449585, -7.462399959564209, -7.5746002197265625, -7.633999824523926, -7.5030999183654785, -7.591599941253662, -6.09689998626709, -7.088600158691406, -7.4471001625061035, -7.292600154876709, -7.4583001136779785, -4.923399925231934, -5.62939977645874, -7.14169979095459, -6.431300163269043, -4.729499816894531, -6.416900157928467, -4.985499858856201, -5.361999988555908, -6.181700229644775, -6.636199951171875, -5.776000022888184, -6.794300079345703, -5.681600093841553, -6.050899982452393, -6.066800117492676, -5.832600116729736, -5.9969000816345215, -5.7230000495910645, -5.759200096130371, -5.819300174713135, -5.547100067138672, -5.448699951171875, -5.759500026702881, -5.258699893951416, -5.1996002197265625, -5.310400009155273, -5.537799835205078, -5.54640007019043, -5.704400062561035, -5.9552001953125, -5.616499900817871, -5.8643999099731445, -5.550099849700928, -5.781499862670898, -5.744500160217285, -5.779300212860107, -5.72189998626709, -5.889500141143799, -5.863100051879883, -5.86359977722168], \"loglift\": [30.0, 29.0, 28.0, 27.0, 26.0, 25.0, 24.0, 23.0, 22.0, 21.0, 20.0, 19.0, 18.0, 17.0, 16.0, 15.0, 14.0, 13.0, 12.0, 11.0, 10.0, 9.0, 8.0, 7.0, 6.0, 5.0, 4.0, 3.0, 2.0, 1.0, 0.7915999889373779, 0.7914999723434448, 0.7914000153541565, 0.7914000153541565, 0.791100025177002, 0.791100025177002, 0.7910000085830688, 0.7910000085830688, 0.7907999753952026, 0.7907999753952026, 0.7907999753952026, 0.7907000184059143, 0.7906000018119812, 0.7904000282287598, 0.7903000116348267, 0.7903000116348267, 0.7901999950408936, 0.7900999784469604, 0.7900999784469604, 0.7900000214576721, 0.789900004863739, 0.789900004863739, 0.7897999882698059, 0.7897999882698059, 0.7897999882698059, 0.7896999716758728, 0.7894999980926514, 0.7894999980926514, 0.7893999814987183, 0.7893999814987183, 0.7893000245094299, 0.7893000245094299, 0.7648000121116638, 0.7698000073432922, 0.7541000247001648, 0.7513999938964844, 0.7559000253677368, 0.7664999961853027, 0.7687000036239624, 0.7373999953269958, 0.7487000226974487, 0.7347000241279602, 0.7114999890327454, 0.7056000232696533, 0.774399995803833, 0.6848000288009644, 0.7379000186920166, 0.7098000049591064, 0.6561999917030334, 0.6816999912261963, 0.7159000039100647, 0.6341000199317932, 0.6924999952316284, 0.5669999718666077, 0.3463999927043915, 0.33799999952316284, 0.5066999793052673, 0.24539999663829803, 0.16899999976158142, 0.5697000026702881, 0.6560999751091003, 0.3797999918460846, 0.2184000015258789, 0.008899999782443047, 1.264299988746643, 1.263800024986267, 1.263700008392334, 1.2635999917984009, 1.263200044631958, 1.263200044631958, 1.263100028038025, 1.2625000476837158, 1.2623000144958496, 1.2616000175476074, 1.2615000009536743, 1.2613999843597412, 1.261199951171875, 1.2611000537872314, 1.2604999542236328, 1.260200023651123, 1.26010000705719, 1.2599999904632568, 1.2597999572753906, 1.2596999406814575, 1.2595000267028809, 1.2594000101089478, 1.2594000101089478, 1.2592999935150146, 1.2589999437332153, 1.2589000463485718, 1.2588000297546387, 1.2587000131607056, 1.2587000131607056, 1.2587000131607056, 1.2582999467849731, 1.2437000274658203, 1.1553000211715698, 1.198799967765808, 1.1333999633789062, 1.2056000232696533, 1.118399977684021, 1.170300006866455, 1.1775000095367432, 1.1204999685287476, 1.142799973487854, 1.1718000173568726, 1.0092999935150146, 1.1094000339508057, 0.866599977016449, 0.909600019454956, 1.1292999982833862, 0.8751999735832214, 0.9595000147819519, 0.9627000093460083, 0.8479999899864197, 0.8996999859809875, 0.6215000152587891, 0.744700014591217, 0.684499979019165, 0.6037999987602234, 0.638700008392334, 0.6516000032424927, 0.6367999911308289, 0.15489999949932098, 0.5078999996185303, 0.7246999740600586, 0.36469998955726624, 0.39910000562667847, 0.17710000276565552, 0.5138000249862671, 1.3272000551223755, 1.3255000114440918, 1.3251999616622925, 1.3238999843597412, 1.3235000371932983, 1.3234000205993652, 1.3217999935150146, 1.3214999437332153, 1.3212000131607056, 1.3199000358581543, 1.3198000192642212, 1.3194999694824219, 1.3193000555038452, 1.3193000555038452, 1.319200038909912, 1.319200038909912, 1.3188999891281128, 1.3178999423980713, 1.3178999423980713, 1.3177000284194946, 1.3177000284194946, 1.3176000118255615, 1.3174999952316284, 1.3172999620437622, 1.3171000480651855, 1.31659996509552, 1.316499948501587, 1.3162000179290771, 1.316100001335144, 1.3157000541687012, 1.3082000017166138, 1.312600016593933, 1.3148000240325928, 1.3115999698638916, 1.3149000406265259, 1.219099998474121, 1.1714999675750732, 1.284500002861023, 1.211300015449524, 0.9745000004768372, 1.146399974822998, 0.8848999738693237, 0.930899977684021, 1.0842000246047974, 1.1705000400543213, 0.9624000191688538, 1.1621999740600586, 0.8095999956130981, 0.9225000143051147, 0.8950999975204468, 0.7914999723434448, 0.8526999950408936, 0.6424000263214111, 0.6527000069618225, 0.6710000038146973, 0.5131999850273132, 0.4578000009059906, 0.6065999865531921, 0.30489999055862427, 0.24529999494552612, 0.2912999987602234, 0.42890000343322754, 0.39750000834465027, 0.5271999835968018, 0.6951000094413757, 0.3481999933719635, 0.566100001335144, 0.09470000118017197, 0.38260000944137573, 0.2784999907016754, 0.1964000016450882, 0.022199999541044235, 0.4684999883174896, 0.3190999925136566, 0.19699999690055847]}, \"token.table\": {\"Topic\": [2, 1, 2, 3, 1, 2, 3, 1, 2, 3, 1, 3, 1, 2, 3, 1, 2, 3, 1, 2, 3, 1, 2, 3, 1, 3, 3, 1, 2, 3, 1, 2, 3, 1, 2, 3, 1, 2, 3, 1, 3, 2, 3, 1, 2, 3, 1, 3, 2, 3, 2, 2, 3, 3, 3, 1, 2, 3, 1, 2, 3, 1, 2, 3, 3, 1, 2, 3, 1, 3, 1, 1, 2, 2, 1, 2, 2, 3, 1, 2, 3, 1, 1, 2, 3, 2, 3, 1, 2, 3, 1, 1, 2, 3, 2, 3, 3, 3, 1, 3, 2, 1, 2, 3, 1, 3, 1, 2, 1, 3, 3, 3, 1, 2, 3, 1, 2, 3, 1, 3, 1, 2, 3, 2, 1, 2, 3, 1, 2, 3, 3, 2, 3, 1, 3, 1, 2, 3, 1, 2, 3, 1, 1, 2, 3, 1, 2, 3, 1, 2, 3, 1, 2, 3, 1, 2, 3, 1, 2, 3, 1, 1, 2, 3, 2, 1, 2, 3, 1, 1, 3, 1, 2, 3, 1, 2, 1, 2, 3, 1, 3, 1, 2, 3, 1, 2, 3, 3, 1, 2, 3, 1, 2, 3, 2, 3, 1, 2, 1, 2, 3, 2, 1, 2, 3, 2, 1, 2, 3, 2, 3, 1, 1, 2, 3, 1, 2, 3, 1, 2, 3, 3, 2, 1, 2, 3, 2, 2, 3, 1, 2, 3, 2, 3, 1, 3, 1, 2, 3, 1, 2, 3, 1, 1, 2, 2, 3, 1, 3, 2, 3, 1, 2, 3, 2, 3, 1, 1, 3, 1, 3, 1, 2, 1, 2, 3, 1, 2, 3, 2, 2, 2, 2, 2, 2, 3, 2, 3, 3, 3, 1, 3, 1, 2, 3, 3, 1, 2, 3, 1, 2, 3, 1, 2, 3, 1, 3, 1, 2, 3, 1, 2, 3, 1, 2, 3, 1, 1, 3, 2, 3, 1, 1, 2, 3, 1, 2, 3, 2, 2, 3, 2, 3, 1, 2, 3, 1, 1, 2, 1, 2, 3, 1, 2, 3, 1, 2, 3, 1, 3, 1, 2, 3, 1, 3, 1, 2, 1, 2, 3, 1, 2, 3, 1, 2, 3, 1, 1, 2, 3, 2, 3, 3, 1, 1, 2, 3, 3, 1, 1, 2, 3], \"Freq\": [0.9972293972969055, 0.8725672960281372, 0.0748770609498024, 0.0529131218791008, 0.3319709002971649, 0.3293193578720093, 0.3383345603942871, 0.181182399392128, 0.7007636427879333, 0.11791235208511353, 0.013065940700471401, 0.993011474609375, 0.1620357185602188, 0.21604762971401215, 0.6222171783447266, 0.004953158088028431, 0.9807253479957581, 0.019812632352113724, 0.3979923129081726, 0.5939112305641174, 0.008206027559936047, 0.13043947517871857, 0.42159903049468994, 0.44838571548461914, 0.998889684677124, 0.9932124614715576, 0.9943878054618835, 0.1918187439441681, 0.3895266652107239, 0.41897252202033997, 0.07303360104560852, 0.28483104705810547, 0.6418842077255249, 0.20480699837207794, 0.3712952733039856, 0.4228273630142212, 0.13544625043869019, 0.5417850017547607, 0.32291170954704285, 0.9979576468467712, 0.980897843837738, 0.012489705346524715, 0.9866867065429688, 0.8533529043197632, 0.05326927453279495, 0.09296011179685593, 0.9169784784317017, 0.08246754109859467, 0.865220308303833, 0.13378405570983887, 0.9989372491836548, 0.9955796003341675, 0.9989471435546875, 0.9871143102645874, 0.9932278394699097, 0.038350824266672134, 0.06498333811759949, 0.8969831466674805, 0.35283365845680237, 0.13945995271205902, 0.5090287923812866, 0.35417160391807556, 0.2915247976779938, 0.35417160391807556, 0.9968916773796082, 0.9259055852890015, 0.027138611301779747, 0.046295277774333954, 0.9470289945602417, 0.05292776599526405, 0.9986262321472168, 0.9994357824325562, 0.9968620538711548, 0.9965331554412842, 0.14399638772010803, 0.8557499051094055, 0.9953668117523193, 0.003542230697348714, 0.09813261032104492, 0.3064756989479065, 0.594834566116333, 0.9958186149597168, 0.898335874080658, 0.049831703305244446, 0.052562206983566284, 0.6771013140678406, 0.32277265191078186, 0.05654148384928703, 0.8958900570869446, 0.046792950481176376, 0.997976541519165, 0.10558710992336273, 0.876650869846344, 0.017366301268339157, 0.8722499012947083, 0.1246071308851242, 0.9950213432312012, 0.9865915179252625, 0.9205650091171265, 0.07854650169610977, 0.9923129081726074, 0.27234408259391785, 0.6937607526779175, 0.03296796977519989, 0.9441455006599426, 0.05541260167956352, 0.9984763264656067, 0.9994329214096069, 0.9638184905052185, 0.03524821996688843, 0.9817140102386475, 0.9882162809371948, 0.3139195442199707, 0.31035229563713074, 0.3754549026489258, 0.08926449716091156, 0.42367327213287354, 0.48629164695739746, 0.9989436268806458, 0.9867807030677795, 0.5633396506309509, 0.22996830940246582, 0.2068060338497162, 0.9984453916549683, 0.20428788661956787, 0.12381084263324738, 0.6722928881645203, 0.9984243512153625, 0.1440505087375641, 0.8540137410163879, 0.988568902015686, 0.9166521430015564, 0.08153510093688965, 0.14627815783023834, 0.8551645874977112, 0.45657649636268616, 0.25192660093307495, 0.29143181443214417, 0.9224052429199219, 0.033100664615631104, 0.044869791716337204, 0.9998034834861755, 0.29342469573020935, 0.0391232930123806, 0.6675412058830261, 0.09300998598337173, 0.7394293546676636, 0.167417973279953, 0.20382720232009888, 0.5256596207618713, 0.2710544168949127, 0.3200840353965759, 0.4718058407306671, 0.2084951102733612, 0.962470293045044, 0.021429046988487244, 0.01591872051358223, 0.9601385593414307, 0.015545099973678589, 0.02468927763402462, 0.997010350227356, 0.8729826211929321, 0.1016785129904747, 0.026145901530981064, 0.9992640614509583, 0.24147070944309235, 0.6713274121284485, 0.08674819022417068, 0.9950675964355469, 0.99653160572052, 0.9874264597892761, 0.9987415075302124, 0.9415527582168579, 0.05715496093034744, 0.06217359006404877, 0.9349951148033142, 0.09549658745527267, 0.014324488118290901, 0.8881182670593262, 0.041811082512140274, 0.9616548418998718, 0.3889794945716858, 0.5828633308410645, 0.02908257767558098, 0.06520368903875351, 0.8840853571891785, 0.04986164718866348, 0.9940896034240723, 0.24630361795425415, 0.6584116220474243, 0.09491700679063797, 0.8004894256591797, 0.008880231529474258, 0.19155927002429962, 0.9093540906906128, 0.08871746808290482, 0.9738972783088684, 0.024217693135142326, 0.12420350313186646, 0.46911394596099854, 0.40656542778015137, 0.9972562193870544, 0.9729840159416199, 0.027074337005615234, 0.991151750087738, 0.9917206764221191, 0.39117756485939026, 0.5600951313972473, 0.04939110577106476, 0.997600793838501, 0.9923958778381348, 0.9996209144592285, 0.02354874461889267, 0.5337715744972229, 0.4425201714038849, 0.13032151758670807, 0.736599862575531, 0.13315460085868835, 0.9778732657432556, 0.01631731353700161, 0.005827611777931452, 0.996509313583374, 0.9913158416748047, 0.6621245741844177, 0.255048006772995, 0.08201543241739273, 0.994030773639679, 0.9948315024375916, 0.005154567304998636, 0.9576384425163269, 0.022832894697785378, 0.020146671682596207, 0.9948685765266418, 0.9936861991882324, 0.00876858364790678, 0.9908499717712402, 0.0797075554728508, 0.21782152354717255, 0.7022510766983032, 0.09052203595638275, 0.4060179591178894, 0.5031960010528564, 0.9974763989448547, 0.9991307258605957, 0.9992985129356384, 0.1631971001625061, 0.8336284160614014, 0.9973399639129639, 0.9869440793991089, 0.014623058028519154, 0.9797449111938477, 0.5830363035202026, 0.05320483073592186, 0.36467477679252625, 0.21622377634048462, 0.7829921841621399, 0.9975002408027649, 0.9989405274391174, 0.9922786355018616, 0.9759894609451294, 0.02274150215089321, 0.9821818470954895, 0.015673113986849785, 0.9473458528518677, 0.010265356861054897, 0.04252791032195091, 0.7521644234657288, 0.08797244727611542, 0.16054971516132355, 0.9951344132423401, 0.9922922253608704, 0.9984443783760071, 0.9946585893630981, 0.9978503584861755, 0.997591495513916, 0.9895410537719727, 0.30542561411857605, 0.6939733624458313, 0.9982008934020996, 0.9988357424736023, 0.9983941316604614, 0.9908933639526367, 0.11532580107450485, 0.5350360870361328, 0.3497585654258728, 0.9818214774131775, 0.010195502080023289, 0.010195502080023289, 0.9889637231826782, 0.6400588750839233, 0.0005970698548480868, 0.35943603515625, 0.9978841543197632, 0.9968034029006958, 0.0025690807960927486, 0.997717022895813, 0.0011012329487130046, 0.6350955963134766, 0.2274465560913086, 0.13768278062343597, 0.895078182220459, 0.0753476545214653, 0.029879244044423103, 0.10690765827894211, 0.30865275859832764, 0.5845434665679932, 0.9991893768310547, 0.9055535793304443, 0.09485340118408203, 0.15031136572360992, 0.849586009979248, 0.9974828958511353, 0.030092233791947365, 0.43899258971214294, 0.5310394167900085, 0.5786115527153015, 0.21643821895122528, 0.20489485561847687, 0.9931710958480835, 0.991378128528595, 0.006196113303303719, 0.9098912477493286, 0.08638208359479904, 0.3462483882904053, 0.4207468330860138, 0.2336541712284088, 0.9951371550559998, 0.9971510171890259, 0.9926841259002686, 0.9994358420372009, 0.7746483683586121, 0.2252713143825531, 0.08996155112981796, 0.5161871314048767, 0.3939093053340912, 0.5365433096885681, 0.33686932921409607, 0.12688960134983063, 0.018826959654688835, 0.9790019392967224, 0.3428943157196045, 0.2688726782798767, 0.3886135518550873, 0.35049888491630554, 0.6478186249732971, 0.996379017829895, 0.9972678422927856, 0.0028387249913066626, 0.9935537576675415, 0.0028387249913066626, 0.058013517409563065, 0.8633776307106018, 0.07848887890577316, 0.2292618602514267, 0.2533946931362152, 0.5188558101654053, 0.997227668762207, 0.49018725752830505, 0.04404580965638161, 0.46603310108184814, 0.9958163499832153, 0.9930585026741028, 0.9947929978370667, 0.9976080656051636, 0.7986481785774231, 0.09420490264892578, 0.10781227797269821, 0.9870767593383789, 0.9979292154312134, 0.3475648760795593, 0.40665867924690247, 0.24570581316947937], \"Term\": [\"accommodation\", \"aircraft\", \"aircraft\", \"aircraft\", \"airline\", \"airline\", \"airline\", \"airport\", \"airport\", \"airport\", \"allocate\", \"allocate\", \"allow\", \"allow\", \"allow\", \"announce\", \"announce\", \"announce\", \"arrive\", \"arrive\", \"arrive\", \"ask\", \"ask\", \"ask\", \"attentive\", \"baby\", \"backpack\", \"bad\", \"bad\", \"bad\", \"bag\", \"bag\", \"bag\", \"baggage\", \"baggage\", \"baggage\", \"book\", \"book\", \"book\", \"breakfast\", \"broken\", \"buck\", \"buck\", \"business\", \"business\", \"business\", \"cabin\", \"cabin\", \"call\", \"call\", \"cancel\", \"cancellation\", \"carry\", \"carry_on\", \"cash\", \"charge\", \"charge\", \"charge\", \"cheap\", \"cheap\", \"cheap\", \"check\", \"check\", \"check\", \"child\", \"choice\", \"choice\", \"choice\", \"class\", \"class\", \"clean\", \"comfortable\", \"communication\", \"compensation\", \"connect\", \"connect\", \"contact\", \"contact\", \"cost\", \"cost\", \"cost\", \"courteous\", \"crew\", \"crew\", \"crew\", \"customer\", \"customer\", \"day\", \"day\", \"day\", \"decent\", \"delay\", \"delay\", \"delay\", \"desk\", \"desk\", \"dime\", \"disgusting\", \"drink\", \"drink\", \"drive\", \"due\", \"due\", \"due\", \"economy\", \"economy\", \"efficient\", \"email\", \"entertainment\", \"entertainment\", \"euro\", \"euros\", \"even\", \"even\", \"even\", \"ever\", \"ever\", \"ever\", \"excellent\", \"excess\", \"experience\", \"experience\", \"experience\", \"explanation\", \"extra\", \"extra\", \"extra\", \"fantastic\", \"fee\", \"fee\", \"filthy\", \"finally\", \"finally\", \"fit\", \"fit\", \"fly\", \"fly\", \"fly\", \"food\", \"food\", \"food\", \"friendly\", \"front\", \"front\", \"front\", \"gate\", \"gate\", \"gate\", \"get\", \"get\", \"get\", \"give\", \"give\", \"give\", \"good\", \"good\", \"good\", \"great\", \"great\", \"great\", \"haul\", \"helpful\", \"helpful\", \"helpful\", \"hotel\", \"hour\", \"hour\", \"hour\", \"ife\", \"improve\", \"infant\", \"inflight\", \"inform\", \"inform\", \"information\", \"information\", \"kid\", \"kid\", \"kid\", \"knee\", \"knee\", \"late\", \"late\", \"late\", \"later\", \"later\", \"later\", \"laugh\", \"leave\", \"leave\", \"leave\", \"leg\", \"leg\", \"leg\", \"lose\", \"lose\", \"lounge\", \"lounge\", \"luggage\", \"luggage\", \"luggage\", \"maintenance\", \"meal\", \"meal\", \"measure\", \"message\", \"minute\", \"minute\", \"minute\", \"miss\", \"mother\", \"movie\", \"never\", \"never\", \"never\", \"next\", \"next\", \"next\", \"nice\", \"nice\", \"nice\", \"nickel\", \"notify\", \"offer\", \"offer\", \"offer\", \"office\", \"original\", \"original\", \"overall\", \"overall\", \"overall\", \"overbooke\", \"overweight\", \"parent\", \"parent\", \"pay\", \"pay\", \"pay\", \"people\", \"people\", \"people\", \"pitch\", \"pleasant\", \"pm\", \"policy\", \"policy\", \"polite\", \"pound\", \"practice\", \"practice\", \"price\", \"price\", \"price\", \"print\", \"print\", \"product\", \"professional\", \"purse\", \"quality\", \"quality\", \"quick\", \"quick\", \"quite\", \"quite\", \"quite\", \"really\", \"really\", \"really\", \"rebook\", \"rebooke\", \"refund\", \"reimburse\", \"representative\", \"reschedule\", \"rip\", \"rude\", \"rude\", \"rule\", \"ryanair\", \"sandwich\", \"saving\", \"say\", \"say\", \"say\", \"scam\", \"scoot\", \"scoot\", \"scoot\", \"seat\", \"seat\", \"seat\", \"selection\", \"send\", \"send\", \"serve\", \"serve\", \"service\", \"service\", \"service\", \"short\", \"short\", \"short\", \"sit\", \"sit\", \"sit\", \"smooth\", \"snack\", \"snack\", \"son\", \"son\", \"spacious\", \"spirit\", \"spirit\", \"spirit\", \"staff\", \"staff\", \"staff\", \"strand\", \"sunwe\", \"sunwe\", \"suppose\", \"suppose\", \"take\", \"take\", \"take\", \"taste\", \"tasty\", \"taxi\", \"tea\", \"tell\", \"tell\", \"ticket\", \"ticket\", \"ticket\", \"time\", \"time\", \"time\", \"together\", \"together\", \"travel\", \"travel\", \"travel\", \"uncomfortable\", \"uncomfortable\", \"vegetarian\", \"voucher\", \"vuele\", \"vuele\", \"vuele\", \"wait\", \"wait\", \"wait\", \"want\", \"want\", \"want\", \"warm\", \"water\", \"water\", \"water\", \"weather\", \"weigh\", \"weight\", \"welcome\", \"well\", \"well\", \"well\", \"wheelchair\", \"wine\", \"would\", \"would\", \"would\"]}, \"R\": 30, \"lambda.step\": 0.01, \"plot.opts\": {\"xlab\": \"PC1\", \"ylab\": \"PC2\"}, \"topic.order\": [3, 2, 1]};\n",
       "\n",
       "function LDAvis_load_lib(url, callback){\n",
       "  var s = document.createElement('script');\n",
       "  s.src = url;\n",
       "  s.async = true;\n",
       "  s.onreadystatechange = s.onload = callback;\n",
       "  s.onerror = function(){console.warn(\"failed to load library \" + url);};\n",
       "  document.getElementsByTagName(\"head\")[0].appendChild(s);\n",
       "}\n",
       "\n",
       "if(typeof(LDAvis) !== \"undefined\"){\n",
       "   // already loaded: just create the visualization\n",
       "   !function(LDAvis){\n",
       "       new LDAvis(\"#\" + \"ldavis_el982020768776258882332216125\", ldavis_el982020768776258882332216125_data);\n",
       "   }(LDAvis);\n",
       "}else if(typeof define === \"function\" && define.amd){\n",
       "   // require.js is available: use it to load d3/LDAvis\n",
       "   require.config({paths: {d3: \"https://cdnjs.cloudflare.com/ajax/libs/d3/3.5.5/d3.min\"}});\n",
       "   require([\"d3\"], function(d3){\n",
       "      window.d3 = d3;\n",
       "      LDAvis_load_lib(\"https://cdn.rawgit.com/bmabey/pyLDAvis/files/ldavis.v1.0.0.js\", function(){\n",
       "        new LDAvis(\"#\" + \"ldavis_el982020768776258882332216125\", ldavis_el982020768776258882332216125_data);\n",
       "      });\n",
       "    });\n",
       "}else{\n",
       "    // require.js not available: dynamically load d3 & LDAvis\n",
       "    LDAvis_load_lib(\"https://cdnjs.cloudflare.com/ajax/libs/d3/3.5.5/d3.min.js\", function(){\n",
       "         LDAvis_load_lib(\"https://cdn.rawgit.com/bmabey/pyLDAvis/files/ldavis.v1.0.0.js\", function(){\n",
       "                 new LDAvis(\"#\" + \"ldavis_el982020768776258882332216125\", ldavis_el982020768776258882332216125_data);\n",
       "            })\n",
       "         });\n",
       "}\n",
       "</script>"
      ],
      "text/plain": [
       "PreparedData(topic_coordinates=              x         y  topics  cluster       Freq\n",
       "topic                                                \n",
       "2     -0.188071 -0.035595       1        1  45.285606\n",
       "1      0.142062 -0.086745       2        1  28.223682\n",
       "0      0.046009  0.122340       3        1  26.490715, topic_info=         Term         Freq        Total Category  logprob  loglift\n",
       "309     delay  1439.000000  1439.000000  Default  30.0000  30.0000\n",
       "734    cancel   951.000000   951.000000  Default  29.0000  29.0000\n",
       "128       day  1025.000000  1025.000000  Default  28.0000  28.0000\n",
       "513    charge   938.000000   938.000000  Default  27.0000  27.0000\n",
       "27       good  1633.000000  1633.000000  Default  26.0000  26.0000\n",
       "..        ...          ...          ...      ...      ...      ...\n",
       "745  customer   357.566742  1109.139771   Topic3  -5.7793   0.1964\n",
       "90        get   378.700623  1398.243164   Topic3  -5.7219   0.0222\n",
       "492   baggage   320.279175   756.810059   Topic3  -5.8895   0.4685\n",
       "146     price   328.818542   902.173706   Topic3  -5.8631   0.3191\n",
       "512      book   328.659546  1018.854370   Topic3  -5.8636   0.1970\n",
       "\n",
       "[235 rows x 6 columns], token_table=      Topic      Freq           Term\n",
       "term                                \n",
       "1848      2  0.997229  accommodation\n",
       "140       1  0.872567       aircraft\n",
       "140       2  0.074877       aircraft\n",
       "140       3  0.052913       aircraft\n",
       "74        1  0.331971        airline\n",
       "...     ...       ...            ...\n",
       "868       3  0.987077     wheelchair\n",
       "502       1  0.997929           wine\n",
       "106       1  0.347565          would\n",
       "106       2  0.406659          would\n",
       "106       3  0.245706          would\n",
       "\n",
       "[372 rows x 3 columns], R=30, lambda_step=0.01, plot_opts={'xlab': 'PC1', 'ylab': 'PC2'}, topic_order=[3, 2, 1])"
      ]
     },
     "execution_count": 22,
     "metadata": {},
     "output_type": "execute_result"
    }
   ],
   "source": [
    "import pyLDAvis.gensim\n",
    "pyLDAvis.enable_notebook()\n",
    "vis = pyLDAvis.gensim.prepare(lda_model, corpus, dictionary=lda_model.id2word)\n",
    "vis"
   ]
  },
  {
   "cell_type": "markdown",
   "metadata": {},
   "source": [
    "### Evaluation\n",
    "\n",
    "Topic coherence is one of the main techniques used to estimate the number of topics.We will use both UMass and c_v measure to see the coherence score of our LDA model. Coherence measures the relative distance between words within a topic. There are two major types C_V typically 0 < x < 1 and uMass -14 < x < 14."
   ]
  },
  {
   "cell_type": "code",
   "execution_count": 23,
   "metadata": {},
   "outputs": [
    {
     "name": "stdout",
     "output_type": "stream",
     "text": [
      "\n",
      "Coherence Score:  0.5371959604449738\n"
     ]
    }
   ],
   "source": [
    "# Compute Coherence Score using c_v\n",
    "\n",
    "coherence_model_lda = CoherenceModel(model=lda_model, texts=data_ready, dictionary=lexicon, coherence='c_v')\n",
    "coherence_lda = coherence_model_lda.get_coherence()\n",
    "print('\\nCoherence Score: ', coherence_lda)"
   ]
  },
  {
   "cell_type": "code",
   "execution_count": 24,
   "metadata": {},
   "outputs": [
    {
     "name": "stdout",
     "output_type": "stream",
     "text": [
      "\n",
      "Coherence Score:  -1.515901478619746\n"
     ]
    }
   ],
   "source": [
    "# Compute Coherence Score using UMass\n",
    "\n",
    "coherence_model_lda = CoherenceModel(model=lda_model, texts=data_ready, dictionary=lexicon, coherence=\"u_mass\")\n",
    "coherence_lda = coherence_model_lda.get_coherence()\n",
    "print('\\nCoherence Score: ', coherence_lda)"
   ]
  }
 ],
 "metadata": {
  "kernelspec": {
   "display_name": "Python 3",
   "language": "python",
   "name": "python3"
  },
  "language_info": {
   "codemirror_mode": {
    "name": "ipython",
    "version": 3
   },
   "file_extension": ".py",
   "mimetype": "text/x-python",
   "name": "python",
   "nbconvert_exporter": "python",
   "pygments_lexer": "ipython3",
   "version": "3.6.10"
  }
 },
 "nbformat": 4,
 "nbformat_minor": 4
}
