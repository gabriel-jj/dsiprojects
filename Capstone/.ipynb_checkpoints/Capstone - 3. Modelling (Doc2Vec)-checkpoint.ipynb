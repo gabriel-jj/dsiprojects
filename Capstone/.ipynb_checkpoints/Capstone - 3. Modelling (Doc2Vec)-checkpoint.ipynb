{
 "cells": [
  {
   "cell_type": "code",
   "execution_count": 42,
   "metadata": {},
   "outputs": [],
   "source": [
    "# Import libraries\n",
    "import pandas as pd\n",
    "import numpy as np\n",
    "import re\n",
    "import seaborn as sns\n",
    "import matplotlib.pyplot as plt\n",
    "from tqdm import tqdm\n",
    "tqdm.pandas(desc=\"progress-bar\")\n",
    "\n",
    "# Sklearn\n",
    "from sklearn.linear_model import LogisticRegression\n",
    "from sklearn import utils\n",
    "from sklearn.model_selection import train_test_split\n",
    "\n",
    "# Gensim\n",
    "import gensim\n",
    "from gensim.models import Doc2Vec\n",
    "from gensim.models.doc2vec import TaggedDocument\n",
    "\n",
    "# Nltk\n",
    "import nltk\n",
    "from nltk.corpus import stopwords\n",
    "\n",
    "%matplotlib inline"
   ]
  },
  {
   "cell_type": "code",
   "execution_count": 33,
   "metadata": {},
   "outputs": [],
   "source": [
    "df = pd.read_csv('Data/airline_labelled.csv',parse_dates=['date'])"
   ]
  },
  {
   "cell_type": "code",
   "execution_count": 34,
   "metadata": {},
   "outputs": [
    {
     "data": {
      "text/html": [
       "<div>\n",
       "<style scoped>\n",
       "    .dataframe tbody tr th:only-of-type {\n",
       "        vertical-align: middle;\n",
       "    }\n",
       "\n",
       "    .dataframe tbody tr th {\n",
       "        vertical-align: top;\n",
       "    }\n",
       "\n",
       "    .dataframe thead th {\n",
       "        text-align: right;\n",
       "    }\n",
       "</style>\n",
       "<table border=\"1\" class=\"dataframe\">\n",
       "  <thead>\n",
       "    <tr style=\"text-align: right;\">\n",
       "      <th></th>\n",
       "      <th>content</th>\n",
       "      <th>dominant_topic</th>\n",
       "      <th>date</th>\n",
       "    </tr>\n",
       "  </thead>\n",
       "  <tbody>\n",
       "    <tr>\n",
       "      <th>0</th>\n",
       "      <td>sin-lhr ba12 b747-436 first class. old aircraf...</td>\n",
       "      <td>0.0</td>\n",
       "      <td>1970-01-01</td>\n",
       "    </tr>\n",
       "    <tr>\n",
       "      <th>1</th>\n",
       "      <td>stansted to las vegas return. check-in for bot...</td>\n",
       "      <td>0.0</td>\n",
       "      <td>2007-04-14</td>\n",
       "    </tr>\n",
       "    <tr>\n",
       "      <th>2</th>\n",
       "      <td>stn-las-stn very enjoyable trip on both flight...</td>\n",
       "      <td>0.0</td>\n",
       "      <td>2007-04-14</td>\n",
       "    </tr>\n",
       "    <tr>\n",
       "      <th>3</th>\n",
       "      <td>stn-las-stn. slow check-in resulted from repet...</td>\n",
       "      <td>0.0</td>\n",
       "      <td>2007-04-19</td>\n",
       "    </tr>\n",
       "    <tr>\n",
       "      <th>4</th>\n",
       "      <td>all domestic flights (5 in total) were on time...</td>\n",
       "      <td>0.0</td>\n",
       "      <td>2007-04-19</td>\n",
       "    </tr>\n",
       "  </tbody>\n",
       "</table>\n",
       "</div>"
      ],
      "text/plain": [
       "                                             content  dominant_topic  \\\n",
       "0  sin-lhr ba12 b747-436 first class. old aircraf...             0.0   \n",
       "1  stansted to las vegas return. check-in for bot...             0.0   \n",
       "2  stn-las-stn very enjoyable trip on both flight...             0.0   \n",
       "3  stn-las-stn. slow check-in resulted from repet...             0.0   \n",
       "4  all domestic flights (5 in total) were on time...             0.0   \n",
       "\n",
       "        date  \n",
       "0 1970-01-01  \n",
       "1 2007-04-14  \n",
       "2 2007-04-14  \n",
       "3 2007-04-19  \n",
       "4 2007-04-19  "
      ]
     },
     "execution_count": 34,
     "metadata": {},
     "output_type": "execute_result"
    }
   ],
   "source": [
    "df = df[['content','dominant_topic','date']]\n",
    "df.head()"
   ]
  },
  {
   "cell_type": "code",
   "execution_count": 35,
   "metadata": {},
   "outputs": [
    {
     "data": {
      "text/plain": [
       "(80520, 3)"
      ]
     },
     "execution_count": 35,
     "metadata": {},
     "output_type": "execute_result"
    }
   ],
   "source": [
    "df.shape"
   ]
  },
  {
   "cell_type": "code",
   "execution_count": 36,
   "metadata": {},
   "outputs": [
    {
     "name": "stdout",
     "output_type": "stream",
     "text": [
      "<class 'pandas.core.frame.DataFrame'>\n",
      "RangeIndex: 80520 entries, 0 to 80519\n",
      "Data columns (total 3 columns):\n",
      " #   Column          Non-Null Count  Dtype         \n",
      "---  ------          --------------  -----         \n",
      " 0   content         80520 non-null  object        \n",
      " 1   dominant_topic  80520 non-null  float64       \n",
      " 2   date            80520 non-null  datetime64[ns]\n",
      "dtypes: datetime64[ns](1), float64(1), object(1)\n",
      "memory usage: 1.8+ MB\n"
     ]
    }
   ],
   "source": [
    "df.info()"
   ]
  },
  {
   "cell_type": "code",
   "execution_count": 37,
   "metadata": {},
   "outputs": [
    {
     "data": {
      "text/plain": [
       "content           0\n",
       "dominant_topic    0\n",
       "date              0\n",
       "dtype: int64"
      ]
     },
     "execution_count": 37,
     "metadata": {},
     "output_type": "execute_result"
    }
   ],
   "source": [
    "# Check for null\n",
    "df.isnull().sum()"
   ]
  },
  {
   "cell_type": "code",
   "execution_count": 38,
   "metadata": {},
   "outputs": [
    {
     "data": {
      "image/png": "[encoded data removed]",
      "text/plain": [
       "<Figure size 720x576 with 1 Axes>"
      ]
     },
     "metadata": {},
     "output_type": "display_data"
    }
   ],
   "source": [
    "topicvalue = df['dominant_topic'].value_counts()\n",
    "plt.figure(figsize=[10,8])\n",
    "sns.set_style(\"dark\")\n",
    "sns.barplot(topicvalue.index, topicvalue.values, alpha=0.8)\n",
    "plt.title('Number of occurances in each topic',fontsize=15)\n",
    "plt.ylabel('Number of Occurrences', fontsize=12)\n",
    "plt.xlabel('Topic', fontsize=12)\n",
    "plt.show()"
   ]
  },
  {
   "cell_type": "markdown",
   "metadata": {},
   "source": [
    "### Text Preprocessing\n",
    "\n",
    "As we will be using word2vec and glove to vectorize the data, hence we will try to conserve the sentence structure. Simple pre-processing like removing of non-english words and unnecessary punctuations will be done on the content"
   ]
  },
  {
   "cell_type": "code",
   "execution_count": 40,
   "metadata": {},
   "outputs": [
    {
     "name": "stdout",
     "output_type": "stream",
     "text": [
      "las-stn-las. seats comfortable service was good. both flights on time fast track through security wonderful. i think maxjet gives good value for the money will use them again - hoping they eventually having flights leaving from the los angeles area!\n",
      "Dominant_topic: 0.0\n"
     ]
    }
   ],
   "source": [
    "def print_complaint(index):\n",
    "    example = df[df.index == index][['content','dominant_topic']].values[0]\n",
    "    if len(example) > 0:\n",
    "        print(example[0])\n",
    "        print('Dominant_topic:', example[1])\n",
    "\n",
    "print_complaint(12)"
   ]
  },
  {
   "cell_type": "code",
   "execution_count": 41,
   "metadata": {},
   "outputs": [],
   "source": [
    "# Split train and test by dates\n",
    "train = df[df['date'] <= '2017-12-31']\n",
    "test = df[df['date'] > '2017-12-31']"
   ]
  },
  {
   "cell_type": "code",
   "execution_count": 29,
   "metadata": {},
   "outputs": [],
   "source": [
    "# Tokenize text\n",
    "def tokenize_text(text):\n",
    "    tokens = []\n",
    "    for sent in nltk.sent_tokenize(text):\n",
    "        for word in nltk.word_tokenize(sent):\n",
    "            if len(word) < 2:\n",
    "                continue\n",
    "            tokens.append(word.lower())\n",
    "    return tokens"
   ]
  },
  {
   "cell_type": "code",
   "execution_count": 51,
   "metadata": {},
   "outputs": [],
   "source": [
    "train_tagged = train.apply(lambda r: TaggedDocument(words=tokenize_text(r['content']),tags=[r.dominant_topic]),axis=1)\n",
    "test_tagged = test.apply(lambda r: TaggedDocument(words=tokenize_text(r['content']),tags=[r.dominant_topic]),axis=1)"
   ]
  },
  {
   "cell_type": "code",
   "execution_count": 57,
   "metadata": {},
   "outputs": [
    {
     "data": {
      "text/plain": [
       "TaggedDocument(words=['las-stn-las', 'seats', 'comfortable', 'service', 'was', 'good', 'both', 'flights', 'on', 'time', 'fast', 'track', 'through', 'security', 'wonderful', 'think', 'maxjet', 'gives', 'good', 'value', 'for', 'the', 'money', 'will', 'use', 'them', 'again', 'hoping', 'they', 'eventually', 'having', 'flights', 'leaving', 'from', 'the', 'los', 'angeles', 'area'], tags=[0.0])"
      ]
     },
     "execution_count": 57,
     "metadata": {},
     "output_type": "execute_result"
    }
   ],
   "source": [
    "train_tagged[12]"
   ]
  },
  {
   "cell_type": "code",
   "execution_count": 56,
   "metadata": {},
   "outputs": [
    {
     "data": {
      "text/plain": [
       "TaggedDocument(words=['booked', 'my', 'flight', 'to', 'kuching', 'from', 'singapore', 'and', 'this', 'is', 'not', 'the', 'first', 'time', 've', 'flown', 'with', 'scoot', 'don', 'expect', 'good', 'service', 'we', 'arrived', 'at', 'least', 'hrs', 'early', 'asked', 'if', 'we', 'could', 'be', 'moved', 'to', 'the', 'front', 'little', 'bit', 'and', 'got', 'front', 'seat', 'everything', 'went', 'well', 'until', 'they', 've', 'decided', 'to', 'take', 'that', 'back', 'and', 'moved', 'us', '20', 'seats', 'to', 'the', 'back', 'with', 'condescending', 'tone', 'in', 'front', 'of', 'all', 'of', 'the', 'customers', 'shouting', 'whether', 'we', 've', 'paid', 'for', 'the', 'front', 'seat', 'or', 'not', 'so', 'regardless', 'whether', 've', 'purchased', 'this', 'seat', 'or', 'not', 've', 'still', 'paid', 'for', 'my', 'ticket'], tags=[1.0])"
      ]
     },
     "execution_count": 56,
     "metadata": {},
     "output_type": "execute_result"
    }
   ],
   "source": [
    "test_tagged[80000]"
   ]
  },
  {
   "cell_type": "markdown",
   "metadata": {},
   "source": [
    "### Set up Doc2Vec \n",
    "Distributed Bag of Words (DBOW) is the doc2vec model analogous to Skip-gram model in word2vec."
   ]
  },
  {
   "cell_type": "code",
   "execution_count": 63,
   "metadata": {},
   "outputs": [
    {
     "name": "stderr",
     "output_type": "stream",
     "text": [
      "100%|███████████████████████████████████████████████████████████████████████| 65199/65199 [00:00<00:00, 3268486.10it/s]\n"
     ]
    }
   ],
   "source": [
    "# Instantiate and building a vocab\n",
    "model_dbow = Doc2Vec(dm=0, vector_size=300, negative=5, hs=0, min_count=2, sample = 0)\n",
    "model_dbow.build_vocab([x for x in tqdm(train_tagged.values)])"
   ]
  },
  {
   "cell_type": "code",
   "execution_count": 66,
   "metadata": {},
   "outputs": [
    {
     "name": "stderr",
     "output_type": "stream",
     "text": [
      "100%|███████████████████████████████████████████████████████████████████████| 65199/65199 [00:00<00:00, 3187676.91it/s]\n",
      "100%|███████████████████████████████████████████████████████████████████████| 65199/65199 [00:00<00:00, 3626031.62it/s]\n",
      "100%|███████████████████████████████████████████████████████████████████████| 65199/65199 [00:00<00:00, 1211268.37it/s]\n",
      "100%|███████████████████████████████████████████████████████████████████████| 65199/65199 [00:00<00:00, 2723966.32it/s]\n",
      "100%|███████████████████████████████████████████████████████████████████████| 65199/65199 [00:00<00:00, 4085949.48it/s]\n",
      "100%|███████████████████████████████████████████████████████████████████████| 65199/65199 [00:00<00:00, 4358276.65it/s]\n",
      "100%|███████████████████████████████████████████████████████████████████████| 65199/65199 [00:00<00:00, 2614707.63it/s]\n",
      "100%|███████████████████████████████████████████████████████████████████████| 65199/65199 [00:00<00:00, 3436043.91it/s]\n",
      "100%|███████████████████████████████████████████████████████████████████████| 65199/65199 [00:00<00:00, 1815905.19it/s]\n",
      "100%|███████████████████████████████████████████████████████████████████████| 65199/65199 [00:00<00:00, 1980994.66it/s]\n"
     ]
    }
   ],
   "source": [
    "# Train Doc2Vec\n",
    "for epoch in range(10):\n",
    "    model_dbow.train(utils.shuffle([x for x in tqdm(train_tagged.values)]), total_examples=len(train_tagged.values), epochs=1)\n",
    "    model_dbow.alpha -= 0.002\n",
    "    model_dbow.min_alpha = model_dbow.alpha"
   ]
  },
  {
   "cell_type": "code",
   "execution_count": 68,
   "metadata": {},
   "outputs": [],
   "source": [
    "def vec_for_learning(model, tagged_docs):\n",
    "    sents = tagged_docs.values\n",
    "    targets, regressors = zip(*[(doc.tags[0], model.infer_vector(doc.words, steps=20)) for doc in sents])\n",
    "    return targets, regressors"
   ]
  },
  {
   "cell_type": "code",
   "execution_count": 69,
   "metadata": {},
   "outputs": [],
   "source": [
    "# Train test split\n",
    "y_train, X_train = vec_for_learning(model_dbow, train_tagged)\n",
    "y_test, X_test = vec_for_learning(model_dbow, test_tagged)"
   ]
  },
  {
   "cell_type": "code",
   "execution_count": 71,
   "metadata": {},
   "outputs": [
    {
     "data": {
      "text/plain": [
       "array([-6.52322650e-01, -4.31096777e-02, -3.36264580e-01, -7.02069581e-01,\n",
       "        1.79574713e-01,  1.06617346e-01,  1.01416945e-01,  5.24133623e-01,\n",
       "        1.00030974e-01,  4.47010815e-01, -3.71748537e-01,  1.92440629e-01,\n",
       "       -3.10247838e-01,  5.60419202e-01,  2.88290322e-01,  1.51082739e-01,\n",
       "       -2.63215274e-01, -1.63042337e-01,  8.21018994e-01,  4.40103292e-01,\n",
       "        7.43157983e-01,  4.63404685e-01, -6.07213557e-01,  4.33606505e-01,\n",
       "       -3.61887872e-01, -1.13799490e-01,  3.31671953e-01, -2.73951560e-01,\n",
       "        2.07074359e-01, -6.14670813e-01, -6.55819237e-01, -2.84744859e-01,\n",
       "        1.44095108e-01, -3.40210080e-01, -4.29673158e-02, -3.32704261e-02,\n",
       "       -8.48372221e-01,  4.34941828e-01,  7.57413328e-01,  5.50717592e-01,\n",
       "        1.45886183e-01,  2.87377596e-01, -2.25236323e-02, -4.87208694e-01,\n",
       "       -1.41287118e-01,  3.60817194e-01, -9.17468518e-02,  4.65768456e-01,\n",
       "        3.12208831e-01, -2.75889039e-01,  1.42903641e-01,  1.34346569e-02,\n",
       "       -4.03735369e-01,  4.32833374e-01,  2.28109166e-01,  5.85772634e-01,\n",
       "       -5.84446728e-01, -3.31799477e-01, -8.17919672e-02,  1.95285514e-01,\n",
       "       -3.21296692e-01,  1.81395039e-01,  3.14631611e-01, -7.88286179e-02,\n",
       "       -2.43372321e-01,  6.76349521e-01,  8.75602216e-02, -5.91035560e-02,\n",
       "        3.55826616e-02, -4.02805418e-01, -4.11739618e-01, -3.05756986e-01,\n",
       "        6.90248609e-01, -9.12713587e-01, -2.75775820e-01,  3.85136396e-01,\n",
       "        3.58753860e-01,  1.29256874e-01,  7.48982012e-01,  8.04432750e-01,\n",
       "       -5.71044683e-02, -1.86314985e-01, -2.78184503e-01, -1.42601013e-01,\n",
       "       -2.83267707e-01,  1.68300986e-01,  4.10474420e-01,  1.66810513e-01,\n",
       "        9.20440078e-01, -1.66278765e-01,  8.09612513e-01,  2.97296286e-01,\n",
       "       -2.16043100e-01, -6.72372952e-02,  1.02660336e-01,  6.66356310e-02,\n",
       "       -2.47833118e-01, -2.11420745e-01,  3.05507854e-02, -4.09472108e-01,\n",
       "       -4.48259354e-01,  5.57954729e-01, -1.08985975e-01, -3.10528725e-01,\n",
       "       -1.84000807e-03,  8.47676396e-02, -1.01578951e+00, -4.87682253e-01,\n",
       "       -1.06057040e-01, -1.26523644e-01,  6.74555957e-01,  3.16161335e-01,\n",
       "       -3.42446547e-05,  5.46509564e-01,  7.50007510e-01,  1.89936429e-01,\n",
       "        6.37169242e-01,  3.15274239e-01,  3.81959826e-01,  1.01535225e+00,\n",
       "       -4.97612000e-01,  6.19166791e-01,  7.79511333e-01, -5.55810571e-01,\n",
       "       -2.37288252e-01, -1.46060288e-01, -3.00352037e-01, -6.79459274e-01,\n",
       "        2.81192660e-01,  4.93436515e-01, -3.00526947e-01, -8.84760916e-02,\n",
       "       -5.12658060e-02, -3.48436572e-02,  2.42258370e-01, -6.71691239e-01,\n",
       "        9.61322933e-02,  1.34563521e-01,  2.72621155e-01, -8.51444155e-02,\n",
       "        9.60100770e-01,  5.59706390e-01,  2.75884271e-01,  5.76630592e-01,\n",
       "        1.41635969e-01, -1.91752478e-01,  6.15918860e-02, -1.87971666e-01,\n",
       "       -6.85530603e-01,  3.61604132e-02,  5.13334215e-01, -5.78568935e-01,\n",
       "       -2.13171959e-01,  3.73380333e-02,  9.76414904e-02,  7.35950172e-02,\n",
       "        3.14225733e-01,  6.73906684e-01,  5.35043120e-01,  4.69230592e-01,\n",
       "       -9.01614502e-02, -3.56781065e-01, -6.55448496e-01, -1.81179121e-01,\n",
       "       -8.80004093e-02,  6.19220912e-01, -1.32453904e-01, -4.25353229e-01,\n",
       "       -2.61648446e-01,  2.34043553e-01,  2.97458529e-01,  3.80443275e-01,\n",
       "       -4.57205921e-01,  4.77120519e-01, -1.90708891e-01, -1.67403877e-01,\n",
       "       -7.50753433e-02, -2.34836727e-01,  6.10547423e-01,  3.38002294e-01,\n",
       "       -5.43554068e-01,  5.63210905e-01,  6.13242686e-01,  8.00461769e-01,\n",
       "       -1.46266863e-01,  4.07682270e-01,  7.80186713e-01,  1.26564428e-02,\n",
       "       -3.15563053e-01,  3.22526604e-01,  9.30032060e-02, -2.85533696e-01,\n",
       "        3.73561941e-02,  5.94940901e-01,  8.05483222e-01,  4.74840373e-01,\n",
       "       -6.38435900e-01, -8.70426744e-02,  5.40650785e-02,  1.00386178e+00,\n",
       "        5.20058334e-01, -9.71047878e-02, -1.92239329e-01, -1.74829304e-01,\n",
       "        9.17586029e-01, -2.60620385e-01, -6.63162708e-01,  2.33381376e-01,\n",
       "       -2.69871891e-01, -1.69118881e-01, -2.36939445e-01, -2.24664792e-01,\n",
       "       -4.97619212e-01, -3.02111834e-01, -3.35374385e-01, -3.02497029e-01,\n",
       "       -5.30129135e-01,  3.49453539e-01, -6.11532331e-01, -2.80898660e-01,\n",
       "       -4.24880497e-02, -6.18180037e-01, -6.86987536e-03,  6.39160052e-02,\n",
       "       -6.73394263e-01,  2.21000358e-01, -3.24438140e-02,  2.62853146e-01,\n",
       "        4.50353697e-02,  2.93102622e-01, -2.54176855e-02,  5.68651736e-01,\n",
       "        5.90653457e-02,  3.27807039e-01, -5.44976652e-01, -9.66142192e-02,\n",
       "        4.11911964e-01,  2.94947326e-02, -2.52922461e-03,  2.76311457e-01,\n",
       "        4.54158038e-01,  5.61791122e-01, -5.57742059e-01,  1.95142895e-01,\n",
       "       -3.42543572e-01, -2.85302371e-01,  4.19414729e-01, -2.17273995e-01,\n",
       "        4.53406423e-01,  2.14126915e-01, -3.09996843e-01,  5.69712341e-01,\n",
       "       -8.21369365e-02,  1.44421160e-02, -3.64622653e-01, -2.22679332e-01,\n",
       "       -7.63184279e-02,  3.27038407e-01,  2.21203379e-02, -5.16306341e-01,\n",
       "        1.78015120e-02, -2.91875601e-01, -5.71532667e-01,  2.45291144e-01,\n",
       "        6.02712095e-01, -4.56330776e-02,  4.41367865e-01,  3.11340205e-02,\n",
       "       -1.86626375e-01, -3.67036164e-01,  3.49920303e-01, -1.77499522e-02,\n",
       "       -2.06637103e-02, -5.79053164e-01, -1.25581369e-01,  3.41227889e-01,\n",
       "       -3.16180080e-01, -1.99961796e-01,  1.60000950e-01, -1.43045187e-01,\n",
       "        1.33978620e-01,  4.59775060e-01, -9.54629481e-01, -1.98803663e-01,\n",
       "       -2.85239905e-01, -1.17914163e-01, -8.09611008e-02,  7.20353127e-02,\n",
       "       -4.45900440e-01, -4.18209612e-01, -7.07805753e-02, -1.73779219e-01,\n",
       "       -4.13484842e-01,  1.63569264e-02,  9.80948880e-02, -3.81864384e-02,\n",
       "        1.13067463e-01,  1.58137456e-01,  5.84713280e-01,  7.84902096e-01],\n",
       "      dtype=float32)"
      ]
     },
     "execution_count": 71,
     "metadata": {},
     "output_type": "execute_result"
    }
   ],
   "source": [
    "X_train[0]"
   ]
  },
  {
   "cell_type": "markdown",
   "metadata": {},
   "source": [
    "### Modelling"
   ]
  },
  {
   "cell_type": "code",
   "execution_count": 75,
   "metadata": {},
   "outputs": [
    {
     "data": {
      "text/plain": [
       "LogisticRegression(max_iter=10000)"
      ]
     },
     "execution_count": 75,
     "metadata": {},
     "output_type": "execute_result"
    }
   ],
   "source": [
    "logreg = LogisticRegression(max_iter=10000)\n",
    "logreg.fit(X_train,y_train)"
   ]
  },
  {
   "cell_type": "code",
   "execution_count": 76,
   "metadata": {},
   "outputs": [
    {
     "data": {
      "text/plain": [
       "0.6536910075307903"
      ]
     },
     "execution_count": 76,
     "metadata": {},
     "output_type": "execute_result"
    }
   ],
   "source": [
    "logreg.score(X_train,y_train)"
   ]
  },
  {
   "cell_type": "code",
   "execution_count": 77,
   "metadata": {},
   "outputs": [
    {
     "data": {
      "text/plain": [
       "0.49096012009659945"
      ]
     },
     "execution_count": 77,
     "metadata": {},
     "output_type": "execute_result"
    }
   ],
   "source": [
    "logreg.score(X_test,y_test)"
   ]
  }
 ],
 "metadata": {
  "kernelspec": {
   "display_name": "Python 3",
   "language": "python",
   "name": "python3"
  },
  "language_info": {
   "codemirror_mode": {
    "name": "ipython",
    "version": 3
   },
   "file_extension": ".py",
   "mimetype": "text/x-python",
   "name": "python",
   "nbconvert_exporter": "python",
   "pygments_lexer": "ipython3",
   "version": "3.6.10"
  }
 },
 "nbformat": 4,
 "nbformat_minor": 4
}
