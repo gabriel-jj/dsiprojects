{
 "cells": [
  {
   "cell_type": "code",
   "execution_count": 5,
   "metadata": {},
   "outputs": [],
   "source": [
    "from flask import Flask, render_template\n",
    "from joblib import load"
   ]
  },
  {
   "cell_type": "code",
   "execution_count": 6,
   "metadata": {},
   "outputs": [],
   "source": [
    "pipeline = load(\"text_classification.joblib\")"
   ]
  },
  {
   "cell_type": "code",
   "execution_count": 15,
   "metadata": {},
   "outputs": [],
   "source": [
    "def requestinput(text_input):\n",
    "    # get the text\n",
    "    text = text_input\n",
    "    \n",
    "    # get the predicted label\n",
    "    prediction = pipeline.predict([text])\n",
    "    \n",
    "    # output the label\n",
    "    if prediction == 0:\n",
    "        return str(\"In-flight experience\")\n",
    "    elif prediction == 1:\n",
    "        return str('Flight operations')\n",
    "    else:\n",
    "        return str(\"Passenger handling\")"
   ]
  }
 ],
 "metadata": {
  "kernelspec": {
   "display_name": "Python 3",
   "language": "python",
   "name": "python3"
  },
  "language_info": {
   "codemirror_mode": {
    "name": "ipython",
    "version": 3
   },
   "file_extension": ".py",
   "mimetype": "text/x-python",
   "name": "python",
   "nbconvert_exporter": "python",
   "pygments_lexer": "ipython3",
   "version": "3.6.10"
  }
 },
 "nbformat": 4,
 "nbformat_minor": 4
}
