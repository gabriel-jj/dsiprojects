{
 "cells": [
  {
   "cell_type": "markdown",
   "metadata": {},
   "source": [
    "## About datasets\n",
    "\n",
    "The datasets is sourced from various platforms and self scraping for some newer reviews for the airlines.\n",
    "\n",
    "airline dataset source: https://github.com/quankiquanki/skytrax-reviews-dataset \n",
    "\n",
    "airline dataset 2 source: https://www.kaggle.com/efehandanisman/skytrax-airline-reviews\n",
    "\n",
    "airline dataset 3 source: https://www.airlinequality.com/review-pages/a-z-airline-reviews/"
   ]
  },
  {
   "cell_type": "code",
   "execution_count": 1,
   "metadata": {},
   "outputs": [],
   "source": [
    "# Import Libraries\n",
    "import pandas as pd\n",
    "import numpy as np\n",
    "import re\n",
    "import glob\n",
    "import os"
   ]
  },
  {
   "cell_type": "code",
   "execution_count": 2,
   "metadata": {},
   "outputs": [],
   "source": [
    "# Read in both csv files\n",
    "airline = pd.read_csv('data/airline.csv',parse_dates=['date'])\n",
    "airline2 = pd.read_csv('data/capstone_airline_review.csv',parse_dates=['review_date'])"
   ]
  },
  {
   "cell_type": "markdown",
   "metadata": {},
   "source": [
    "## Step 1: Airline dataset 2 \n",
    "\n",
    "Airline dataset 2 has single spacing in between each reviews, the space needs to be removed. In addition under the customer review there are some special characters hence we will only keep the reviews. Lastly, the columns also needs to be rearranged before we concatenate it with other datasets."
   ]
  },
  {
   "cell_type": "code",
   "execution_count": 3,
   "metadata": {},
   "outputs": [
    {
     "data": {
      "text/html": [
       "<div>\n",
       "<style scoped>\n",
       "    .dataframe tbody tr th:only-of-type {\n",
       "        vertical-align: middle;\n",
       "    }\n",
       "\n",
       "    .dataframe tbody tr th {\n",
       "        vertical-align: top;\n",
       "    }\n",
       "\n",
       "    .dataframe thead th {\n",
       "        text-align: right;\n",
       "    }\n",
       "</style>\n",
       "<table border=\"1\" class=\"dataframe\">\n",
       "  <thead>\n",
       "    <tr style=\"text-align: right;\">\n",
       "      <th></th>\n",
       "      <th>airline</th>\n",
       "      <th>overall</th>\n",
       "      <th>author</th>\n",
       "      <th>review_date</th>\n",
       "      <th>customer_review</th>\n",
       "      <th>aircraft</th>\n",
       "      <th>traveller_type</th>\n",
       "      <th>cabin</th>\n",
       "      <th>route</th>\n",
       "      <th>date_flown</th>\n",
       "      <th>seat_comfort</th>\n",
       "      <th>cabin_service</th>\n",
       "      <th>food_bev</th>\n",
       "      <th>entertainment</th>\n",
       "      <th>ground_service</th>\n",
       "      <th>value_for_money</th>\n",
       "      <th>recommended</th>\n",
       "    </tr>\n",
       "  </thead>\n",
       "  <tbody>\n",
       "    <tr>\n",
       "      <th>0</th>\n",
       "      <td>NaN</td>\n",
       "      <td>NaN</td>\n",
       "      <td>NaN</td>\n",
       "      <td>NaT</td>\n",
       "      <td>NaN</td>\n",
       "      <td>NaN</td>\n",
       "      <td>NaN</td>\n",
       "      <td>NaN</td>\n",
       "      <td>NaN</td>\n",
       "      <td>NaN</td>\n",
       "      <td>NaN</td>\n",
       "      <td>NaN</td>\n",
       "      <td>NaN</td>\n",
       "      <td>NaN</td>\n",
       "      <td>NaN</td>\n",
       "      <td>NaN</td>\n",
       "      <td>NaN</td>\n",
       "    </tr>\n",
       "    <tr>\n",
       "      <th>1</th>\n",
       "      <td>Turkish Airlines</td>\n",
       "      <td>7.0</td>\n",
       "      <td>Christopher Hackley</td>\n",
       "      <td>2019-05-08</td>\n",
       "      <td>âœ… Trip Verified | London to Izmir via Istanb...</td>\n",
       "      <td>NaN</td>\n",
       "      <td>Business</td>\n",
       "      <td>Economy Class</td>\n",
       "      <td>London to Izmir via Istanbul</td>\n",
       "      <td>2019-05-01 00:00:00</td>\n",
       "      <td>4.0</td>\n",
       "      <td>5.0</td>\n",
       "      <td>4.0</td>\n",
       "      <td>4.0</td>\n",
       "      <td>2.0</td>\n",
       "      <td>4.0</td>\n",
       "      <td>yes</td>\n",
       "    </tr>\n",
       "    <tr>\n",
       "      <th>2</th>\n",
       "      <td>NaN</td>\n",
       "      <td>NaN</td>\n",
       "      <td>NaN</td>\n",
       "      <td>NaT</td>\n",
       "      <td>NaN</td>\n",
       "      <td>NaN</td>\n",
       "      <td>NaN</td>\n",
       "      <td>NaN</td>\n",
       "      <td>NaN</td>\n",
       "      <td>NaN</td>\n",
       "      <td>NaN</td>\n",
       "      <td>NaN</td>\n",
       "      <td>NaN</td>\n",
       "      <td>NaN</td>\n",
       "      <td>NaN</td>\n",
       "      <td>NaN</td>\n",
       "      <td>NaN</td>\n",
       "    </tr>\n",
       "    <tr>\n",
       "      <th>3</th>\n",
       "      <td>Turkish Airlines</td>\n",
       "      <td>2.0</td>\n",
       "      <td>Adriana Pisoi</td>\n",
       "      <td>2019-05-07</td>\n",
       "      <td>âœ… Trip Verified | Istanbul to Bucharest. We ...</td>\n",
       "      <td>NaN</td>\n",
       "      <td>Family Leisure</td>\n",
       "      <td>Economy Class</td>\n",
       "      <td>Istanbul to Bucharest</td>\n",
       "      <td>2019-05-01 00:00:00</td>\n",
       "      <td>4.0</td>\n",
       "      <td>1.0</td>\n",
       "      <td>1.0</td>\n",
       "      <td>1.0</td>\n",
       "      <td>1.0</td>\n",
       "      <td>1.0</td>\n",
       "      <td>no</td>\n",
       "    </tr>\n",
       "    <tr>\n",
       "      <th>4</th>\n",
       "      <td>NaN</td>\n",
       "      <td>NaN</td>\n",
       "      <td>NaN</td>\n",
       "      <td>NaT</td>\n",
       "      <td>NaN</td>\n",
       "      <td>NaN</td>\n",
       "      <td>NaN</td>\n",
       "      <td>NaN</td>\n",
       "      <td>NaN</td>\n",
       "      <td>NaN</td>\n",
       "      <td>NaN</td>\n",
       "      <td>NaN</td>\n",
       "      <td>NaN</td>\n",
       "      <td>NaN</td>\n",
       "      <td>NaN</td>\n",
       "      <td>NaN</td>\n",
       "      <td>NaN</td>\n",
       "    </tr>\n",
       "  </tbody>\n",
       "</table>\n",
       "</div>"
      ],
      "text/plain": [
       "            airline  overall               author review_date  \\\n",
       "0               NaN      NaN                  NaN         NaT   \n",
       "1  Turkish Airlines      7.0  Christopher Hackley  2019-05-08   \n",
       "2               NaN      NaN                  NaN         NaT   \n",
       "3  Turkish Airlines      2.0        Adriana Pisoi  2019-05-07   \n",
       "4               NaN      NaN                  NaN         NaT   \n",
       "\n",
       "                                     customer_review aircraft  traveller_type  \\\n",
       "0                                                NaN      NaN             NaN   \n",
       "1  âœ… Trip Verified | London to Izmir via Istanb...      NaN        Business   \n",
       "2                                                NaN      NaN             NaN   \n",
       "3  âœ… Trip Verified | Istanbul to Bucharest. We ...      NaN  Family Leisure   \n",
       "4                                                NaN      NaN             NaN   \n",
       "\n",
       "           cabin                         route           date_flown  \\\n",
       "0            NaN                           NaN                  NaN   \n",
       "1  Economy Class  London to Izmir via Istanbul  2019-05-01 00:00:00   \n",
       "2            NaN                           NaN                  NaN   \n",
       "3  Economy Class         Istanbul to Bucharest  2019-05-01 00:00:00   \n",
       "4            NaN                           NaN                  NaN   \n",
       "\n",
       "   seat_comfort  cabin_service  food_bev  entertainment  ground_service  \\\n",
       "0           NaN            NaN       NaN            NaN             NaN   \n",
       "1           4.0            5.0       4.0            4.0             2.0   \n",
       "2           NaN            NaN       NaN            NaN             NaN   \n",
       "3           4.0            1.0       1.0            1.0             1.0   \n",
       "4           NaN            NaN       NaN            NaN             NaN   \n",
       "\n",
       "   value_for_money recommended  \n",
       "0              NaN         NaN  \n",
       "1              4.0         yes  \n",
       "2              NaN         NaN  \n",
       "3              1.0          no  \n",
       "4              NaN         NaN  "
      ]
     },
     "execution_count": 3,
     "metadata": {},
     "output_type": "execute_result"
    }
   ],
   "source": [
    "airline2.head()"
   ]
  },
  {
   "cell_type": "code",
   "execution_count": 4,
   "metadata": {},
   "outputs": [],
   "source": [
    "# Drop the spacing row\n",
    "airline2.dropna(axis = 0, how = 'all', inplace = True)"
   ]
  },
  {
   "cell_type": "code",
   "execution_count": 5,
   "metadata": {},
   "outputs": [],
   "source": [
    "# reset index column\n",
    "airline2.reset_index(inplace=True,drop=True)"
   ]
  },
  {
   "cell_type": "code",
   "execution_count": 6,
   "metadata": {},
   "outputs": [
    {
     "name": "stdout",
     "output_type": "stream",
     "text": [
      "<class 'pandas.core.frame.DataFrame'>\n",
      "RangeIndex: 65947 entries, 0 to 65946\n",
      "Data columns (total 17 columns):\n",
      " #   Column           Non-Null Count  Dtype         \n",
      "---  ------           --------------  -----         \n",
      " 0   airline          65947 non-null  object        \n",
      " 1   overall          64017 non-null  float64       \n",
      " 2   author           65947 non-null  object        \n",
      " 3   review_date      65947 non-null  datetime64[ns]\n",
      " 4   customer_review  65947 non-null  object        \n",
      " 5   aircraft         19718 non-null  object        \n",
      " 6   traveller_type   39755 non-null  object        \n",
      " 7   cabin            63303 non-null  object        \n",
      " 8   route            39726 non-null  object        \n",
      " 9   date_flown       39633 non-null  object        \n",
      " 10  seat_comfort     60681 non-null  float64       \n",
      " 11  cabin_service    60715 non-null  float64       \n",
      " 12  food_bev         52608 non-null  float64       \n",
      " 13  entertainment    44193 non-null  float64       \n",
      " 14  ground_service   39358 non-null  float64       \n",
      " 15  value_for_money  63975 non-null  float64       \n",
      " 16  recommended      64440 non-null  object        \n",
      "dtypes: datetime64[ns](1), float64(7), object(9)\n",
      "memory usage: 8.6+ MB\n"
     ]
    }
   ],
   "source": [
    "# info\n",
    "airline2.info()"
   ]
  },
  {
   "cell_type": "code",
   "execution_count": 7,
   "metadata": {},
   "outputs": [],
   "source": [
    "# Rearrange columns\n",
    "airline2= airline2[['airline','author','review_date','customer_review', 'traveller_type', 'cabin','overall','seat_comfort','cabin_service', 'food_bev','entertainment', 'ground_service','value_for_money', 'recommended']]"
   ]
  },
  {
   "cell_type": "code",
   "execution_count": 8,
   "metadata": {},
   "outputs": [],
   "source": [
    "# Remove special characters and \"Trip Verified\"\n",
    "airline2['customer_review'] = airline2.loc[:,'customer_review'].map(lambda exp:exp.split('| ')[1] if \"Trip Verified\" in exp else exp)"
   ]
  },
  {
   "cell_type": "code",
   "execution_count": 9,
   "metadata": {},
   "outputs": [
    {
     "data": {
      "text/plain": [
       "'Istanbul to Bucharest. We make our check in in the airport, they Take our luggage , we go to the gate and at the gate surprise they dont let uÈ™ board with two children, because they say the flight is overbooked. We had to wait in the airport with two children until 5 oclock in the morning until they bring uÈ™ to a hotel 2 hours far away from the airport without luggage, without eat without nothing. Our first and last flight with this airline.'"
      ]
     },
     "execution_count": 9,
     "metadata": {},
     "output_type": "execute_result"
    }
   ],
   "source": [
    "# Sanity Check for review\n",
    "airline2['customer_review'][1]"
   ]
  },
  {
   "cell_type": "code",
   "execution_count": 10,
   "metadata": {},
   "outputs": [],
   "source": [
    "# Change all words to lower caps\n",
    "airline2[['airline', 'author', 'customer_review', 'traveller_type', 'cabin',\n",
    "       'recommended']] = airline2[['airline', 'author', 'customer_review', 'traveller_type', 'cabin',\n",
    "       'recommended']].apply(lambda x: x.str.lower())"
   ]
  },
  {
   "cell_type": "code",
   "execution_count": 11,
   "metadata": {},
   "outputs": [],
   "source": [
    "# Change recommended columns to binary (yes=1,No=0)\n",
    "airline2['recommended'] = airline2['recommended'].map({'yes':1,'no':0})"
   ]
  },
  {
   "cell_type": "code",
   "execution_count": 12,
   "metadata": {},
   "outputs": [],
   "source": [
    "# Rename columns\n",
    "airline2.columns = ['airline_name', 'author', 'date', 'content','type_traveller', 'cabin_flown', 'overall_rating',\n",
    "       'seat_comfort_rating', 'cabin_staff_rating', 'food_beverages_rating','inflight_entertainment_rating', 'ground_service_rating',\n",
    "       'value_money_rating', 'recommended']"
   ]
  },
  {
   "cell_type": "code",
   "execution_count": 13,
   "metadata": {},
   "outputs": [
    {
     "data": {
      "text/plain": [
       "airline_name                         0\n",
       "author                               0\n",
       "date                                 0\n",
       "content                              0\n",
       "type_traveller                   26192\n",
       "cabin_flown                       2644\n",
       "overall_rating                    1930\n",
       "seat_comfort_rating               5266\n",
       "cabin_staff_rating                5232\n",
       "food_beverages_rating            13339\n",
       "inflight_entertainment_rating    21754\n",
       "ground_service_rating            26589\n",
       "value_money_rating                1972\n",
       "recommended                       1507\n",
       "dtype: int64"
      ]
     },
     "execution_count": 13,
     "metadata": {},
     "output_type": "execute_result"
    }
   ],
   "source": [
    "# airline dataset 2 null values\n",
    "airline2.isnull().sum()"
   ]
  },
  {
   "cell_type": "code",
   "execution_count": 14,
   "metadata": {},
   "outputs": [
    {
     "data": {
      "text/plain": [
       "(65947, 14)"
      ]
     },
     "execution_count": 14,
     "metadata": {},
     "output_type": "execute_result"
    }
   ],
   "source": [
    "# check airline2 shape\n",
    "airline2.shape"
   ]
  },
  {
   "cell_type": "code",
   "execution_count": 15,
   "metadata": {},
   "outputs": [
    {
     "data": {
      "text/html": [
       "<div>\n",
       "<style scoped>\n",
       "    .dataframe tbody tr th:only-of-type {\n",
       "        vertical-align: middle;\n",
       "    }\n",
       "\n",
       "    .dataframe tbody tr th {\n",
       "        vertical-align: top;\n",
       "    }\n",
       "\n",
       "    .dataframe thead th {\n",
       "        text-align: right;\n",
       "    }\n",
       "</style>\n",
       "<table border=\"1\" class=\"dataframe\">\n",
       "  <thead>\n",
       "    <tr style=\"text-align: right;\">\n",
       "      <th></th>\n",
       "      <th>airline_name</th>\n",
       "      <th>author</th>\n",
       "      <th>date</th>\n",
       "      <th>content</th>\n",
       "      <th>type_traveller</th>\n",
       "      <th>cabin_flown</th>\n",
       "      <th>overall_rating</th>\n",
       "      <th>seat_comfort_rating</th>\n",
       "      <th>cabin_staff_rating</th>\n",
       "      <th>food_beverages_rating</th>\n",
       "      <th>inflight_entertainment_rating</th>\n",
       "      <th>ground_service_rating</th>\n",
       "      <th>value_money_rating</th>\n",
       "      <th>recommended</th>\n",
       "    </tr>\n",
       "  </thead>\n",
       "  <tbody>\n",
       "    <tr>\n",
       "      <th>0</th>\n",
       "      <td>turkish airlines</td>\n",
       "      <td>christopher hackley</td>\n",
       "      <td>2019-05-08</td>\n",
       "      <td>london to izmir via istanbul. first time iâ€™d...</td>\n",
       "      <td>business</td>\n",
       "      <td>economy class</td>\n",
       "      <td>7.0</td>\n",
       "      <td>4.0</td>\n",
       "      <td>5.0</td>\n",
       "      <td>4.0</td>\n",
       "      <td>4.0</td>\n",
       "      <td>2.0</td>\n",
       "      <td>4.0</td>\n",
       "      <td>1.0</td>\n",
       "    </tr>\n",
       "    <tr>\n",
       "      <th>1</th>\n",
       "      <td>turkish airlines</td>\n",
       "      <td>adriana pisoi</td>\n",
       "      <td>2019-05-07</td>\n",
       "      <td>istanbul to bucharest. we make our check in in...</td>\n",
       "      <td>family leisure</td>\n",
       "      <td>economy class</td>\n",
       "      <td>2.0</td>\n",
       "      <td>4.0</td>\n",
       "      <td>1.0</td>\n",
       "      <td>1.0</td>\n",
       "      <td>1.0</td>\n",
       "      <td>1.0</td>\n",
       "      <td>1.0</td>\n",
       "      <td>0.0</td>\n",
       "    </tr>\n",
       "    <tr>\n",
       "      <th>2</th>\n",
       "      <td>turkish airlines</td>\n",
       "      <td>m galerko</td>\n",
       "      <td>2019-05-07</td>\n",
       "      <td>rome to prishtina via istanbul. i flew with th...</td>\n",
       "      <td>business</td>\n",
       "      <td>economy class</td>\n",
       "      <td>3.0</td>\n",
       "      <td>1.0</td>\n",
       "      <td>4.0</td>\n",
       "      <td>1.0</td>\n",
       "      <td>3.0</td>\n",
       "      <td>1.0</td>\n",
       "      <td>2.0</td>\n",
       "      <td>0.0</td>\n",
       "    </tr>\n",
       "    <tr>\n",
       "      <th>3</th>\n",
       "      <td>turkish airlines</td>\n",
       "      <td>zeshan shah</td>\n",
       "      <td>2019-05-06</td>\n",
       "      <td>flew on turkish airlines iad-ist-khi and retur...</td>\n",
       "      <td>solo leisure</td>\n",
       "      <td>economy class</td>\n",
       "      <td>10.0</td>\n",
       "      <td>4.0</td>\n",
       "      <td>5.0</td>\n",
       "      <td>5.0</td>\n",
       "      <td>5.0</td>\n",
       "      <td>5.0</td>\n",
       "      <td>5.0</td>\n",
       "      <td>1.0</td>\n",
       "    </tr>\n",
       "    <tr>\n",
       "      <th>4</th>\n",
       "      <td>turkish airlines</td>\n",
       "      <td>pooja jain</td>\n",
       "      <td>2019-05-06</td>\n",
       "      <td>mumbai to dublin via istanbul. never book turk...</td>\n",
       "      <td>solo leisure</td>\n",
       "      <td>economy class</td>\n",
       "      <td>1.0</td>\n",
       "      <td>1.0</td>\n",
       "      <td>1.0</td>\n",
       "      <td>1.0</td>\n",
       "      <td>1.0</td>\n",
       "      <td>1.0</td>\n",
       "      <td>1.0</td>\n",
       "      <td>0.0</td>\n",
       "    </tr>\n",
       "  </tbody>\n",
       "</table>\n",
       "</div>"
      ],
      "text/plain": [
       "       airline_name               author       date  \\\n",
       "0  turkish airlines  christopher hackley 2019-05-08   \n",
       "1  turkish airlines        adriana pisoi 2019-05-07   \n",
       "2  turkish airlines            m galerko 2019-05-07   \n",
       "3  turkish airlines          zeshan shah 2019-05-06   \n",
       "4  turkish airlines           pooja jain 2019-05-06   \n",
       "\n",
       "                                             content  type_traveller  \\\n",
       "0  london to izmir via istanbul. first time iâ€™d...        business   \n",
       "1  istanbul to bucharest. we make our check in in...  family leisure   \n",
       "2  rome to prishtina via istanbul. i flew with th...        business   \n",
       "3  flew on turkish airlines iad-ist-khi and retur...    solo leisure   \n",
       "4  mumbai to dublin via istanbul. never book turk...    solo leisure   \n",
       "\n",
       "     cabin_flown  overall_rating  seat_comfort_rating  cabin_staff_rating  \\\n",
       "0  economy class             7.0                  4.0                 5.0   \n",
       "1  economy class             2.0                  4.0                 1.0   \n",
       "2  economy class             3.0                  1.0                 4.0   \n",
       "3  economy class            10.0                  4.0                 5.0   \n",
       "4  economy class             1.0                  1.0                 1.0   \n",
       "\n",
       "   food_beverages_rating  inflight_entertainment_rating  \\\n",
       "0                    4.0                            4.0   \n",
       "1                    1.0                            1.0   \n",
       "2                    1.0                            3.0   \n",
       "3                    5.0                            5.0   \n",
       "4                    1.0                            1.0   \n",
       "\n",
       "   ground_service_rating  value_money_rating  recommended  \n",
       "0                    2.0                 4.0          1.0  \n",
       "1                    1.0                 1.0          0.0  \n",
       "2                    1.0                 2.0          0.0  \n",
       "3                    5.0                 5.0          1.0  \n",
       "4                    1.0                 1.0          0.0  "
      ]
     },
     "execution_count": 15,
     "metadata": {},
     "output_type": "execute_result"
    }
   ],
   "source": [
    "# sanity check\n",
    "airline2.head()"
   ]
  },
  {
   "cell_type": "markdown",
   "metadata": {},
   "source": [
    "## Step 2: Airline Dataset 1\n",
    "\n",
    "In order to concatenate these datasets together, we will rearrange the columns in each dataframe"
   ]
  },
  {
   "cell_type": "code",
   "execution_count": 16,
   "metadata": {},
   "outputs": [],
   "source": [
    "# Rearrange columns\n",
    "airline = airline[['airline_name', 'author', 'date','content', 'type_traveller', 'cabin_flown','overall_rating', 'seat_comfort_rating', 'cabin_staff_rating','food_beverages_rating', 'inflight_entertainment_rating','ground_service_rating','value_money_rating', 'recommended']]"
   ]
  },
  {
   "cell_type": "code",
   "execution_count": 17,
   "metadata": {},
   "outputs": [
    {
     "data": {
      "text/html": [
       "<div>\n",
       "<style scoped>\n",
       "    .dataframe tbody tr th:only-of-type {\n",
       "        vertical-align: middle;\n",
       "    }\n",
       "\n",
       "    .dataframe tbody tr th {\n",
       "        vertical-align: top;\n",
       "    }\n",
       "\n",
       "    .dataframe thead th {\n",
       "        text-align: right;\n",
       "    }\n",
       "</style>\n",
       "<table border=\"1\" class=\"dataframe\">\n",
       "  <thead>\n",
       "    <tr style=\"text-align: right;\">\n",
       "      <th></th>\n",
       "      <th>airline_name</th>\n",
       "      <th>author</th>\n",
       "      <th>date</th>\n",
       "      <th>content</th>\n",
       "      <th>type_traveller</th>\n",
       "      <th>cabin_flown</th>\n",
       "      <th>overall_rating</th>\n",
       "      <th>seat_comfort_rating</th>\n",
       "      <th>cabin_staff_rating</th>\n",
       "      <th>food_beverages_rating</th>\n",
       "      <th>inflight_entertainment_rating</th>\n",
       "      <th>ground_service_rating</th>\n",
       "      <th>value_money_rating</th>\n",
       "      <th>recommended</th>\n",
       "    </tr>\n",
       "  </thead>\n",
       "  <tbody>\n",
       "    <tr>\n",
       "      <th>0</th>\n",
       "      <td>adria-airways</td>\n",
       "      <td>D Ito</td>\n",
       "      <td>2015-04-10</td>\n",
       "      <td>Outbound flight FRA/PRN A319. 2 hours 10 min f...</td>\n",
       "      <td>NaN</td>\n",
       "      <td>Economy</td>\n",
       "      <td>7.0</td>\n",
       "      <td>4.0</td>\n",
       "      <td>4.0</td>\n",
       "      <td>4.0</td>\n",
       "      <td>0.0</td>\n",
       "      <td>NaN</td>\n",
       "      <td>4.0</td>\n",
       "      <td>1</td>\n",
       "    </tr>\n",
       "    <tr>\n",
       "      <th>1</th>\n",
       "      <td>adria-airways</td>\n",
       "      <td>Ron Kuhlmann</td>\n",
       "      <td>2015-01-05</td>\n",
       "      <td>Two short hops ZRH-LJU and LJU-VIE. Very fast ...</td>\n",
       "      <td>NaN</td>\n",
       "      <td>Business Class</td>\n",
       "      <td>10.0</td>\n",
       "      <td>4.0</td>\n",
       "      <td>5.0</td>\n",
       "      <td>4.0</td>\n",
       "      <td>1.0</td>\n",
       "      <td>NaN</td>\n",
       "      <td>5.0</td>\n",
       "      <td>1</td>\n",
       "    </tr>\n",
       "    <tr>\n",
       "      <th>2</th>\n",
       "      <td>adria-airways</td>\n",
       "      <td>E Albin</td>\n",
       "      <td>2014-09-14</td>\n",
       "      <td>Flew Zurich-Ljubljana on JP365 newish CRJ900. ...</td>\n",
       "      <td>NaN</td>\n",
       "      <td>Economy</td>\n",
       "      <td>9.0</td>\n",
       "      <td>5.0</td>\n",
       "      <td>5.0</td>\n",
       "      <td>4.0</td>\n",
       "      <td>0.0</td>\n",
       "      <td>NaN</td>\n",
       "      <td>5.0</td>\n",
       "      <td>1</td>\n",
       "    </tr>\n",
       "    <tr>\n",
       "      <th>3</th>\n",
       "      <td>adria-airways</td>\n",
       "      <td>Tercon Bojan</td>\n",
       "      <td>2014-09-06</td>\n",
       "      <td>Adria serves this 100 min flight from Ljubljan...</td>\n",
       "      <td>NaN</td>\n",
       "      <td>Business Class</td>\n",
       "      <td>8.0</td>\n",
       "      <td>4.0</td>\n",
       "      <td>4.0</td>\n",
       "      <td>3.0</td>\n",
       "      <td>1.0</td>\n",
       "      <td>NaN</td>\n",
       "      <td>4.0</td>\n",
       "      <td>1</td>\n",
       "    </tr>\n",
       "    <tr>\n",
       "      <th>4</th>\n",
       "      <td>adria-airways</td>\n",
       "      <td>L James</td>\n",
       "      <td>2014-06-16</td>\n",
       "      <td>WAW-SKJ Economy. No free snacks or drinks on t...</td>\n",
       "      <td>NaN</td>\n",
       "      <td>Economy</td>\n",
       "      <td>4.0</td>\n",
       "      <td>4.0</td>\n",
       "      <td>2.0</td>\n",
       "      <td>1.0</td>\n",
       "      <td>2.0</td>\n",
       "      <td>NaN</td>\n",
       "      <td>2.0</td>\n",
       "      <td>0</td>\n",
       "    </tr>\n",
       "  </tbody>\n",
       "</table>\n",
       "</div>"
      ],
      "text/plain": [
       "    airline_name        author       date  \\\n",
       "0  adria-airways         D Ito 2015-04-10   \n",
       "1  adria-airways  Ron Kuhlmann 2015-01-05   \n",
       "2  adria-airways       E Albin 2014-09-14   \n",
       "3  adria-airways  Tercon Bojan 2014-09-06   \n",
       "4  adria-airways       L James 2014-06-16   \n",
       "\n",
       "                                             content type_traveller  \\\n",
       "0  Outbound flight FRA/PRN A319. 2 hours 10 min f...            NaN   \n",
       "1  Two short hops ZRH-LJU and LJU-VIE. Very fast ...            NaN   \n",
       "2  Flew Zurich-Ljubljana on JP365 newish CRJ900. ...            NaN   \n",
       "3  Adria serves this 100 min flight from Ljubljan...            NaN   \n",
       "4  WAW-SKJ Economy. No free snacks or drinks on t...            NaN   \n",
       "\n",
       "      cabin_flown  overall_rating  seat_comfort_rating  cabin_staff_rating  \\\n",
       "0         Economy             7.0                  4.0                 4.0   \n",
       "1  Business Class            10.0                  4.0                 5.0   \n",
       "2         Economy             9.0                  5.0                 5.0   \n",
       "3  Business Class             8.0                  4.0                 4.0   \n",
       "4         Economy             4.0                  4.0                 2.0   \n",
       "\n",
       "   food_beverages_rating  inflight_entertainment_rating  \\\n",
       "0                    4.0                            0.0   \n",
       "1                    4.0                            1.0   \n",
       "2                    4.0                            0.0   \n",
       "3                    3.0                            1.0   \n",
       "4                    1.0                            2.0   \n",
       "\n",
       "   ground_service_rating  value_money_rating  recommended  \n",
       "0                    NaN                 4.0            1  \n",
       "1                    NaN                 5.0            1  \n",
       "2                    NaN                 5.0            1  \n",
       "3                    NaN                 4.0            1  \n",
       "4                    NaN                 2.0            0  "
      ]
     },
     "execution_count": 17,
     "metadata": {},
     "output_type": "execute_result"
    }
   ],
   "source": [
    "airline.head()"
   ]
  },
  {
   "cell_type": "code",
   "execution_count": 18,
   "metadata": {},
   "outputs": [
    {
     "name": "stdout",
     "output_type": "stream",
     "text": [
      "<class 'pandas.core.frame.DataFrame'>\n",
      "RangeIndex: 41396 entries, 0 to 41395\n",
      "Data columns (total 14 columns):\n",
      " #   Column                         Non-Null Count  Dtype         \n",
      "---  ------                         --------------  -----         \n",
      " 0   airline_name                   41396 non-null  object        \n",
      " 1   author                         41396 non-null  object        \n",
      " 2   date                           41396 non-null  datetime64[ns]\n",
      " 3   content                        41396 non-null  object        \n",
      " 4   type_traveller                 2378 non-null   object        \n",
      " 5   cabin_flown                    38520 non-null  object        \n",
      " 6   overall_rating                 36861 non-null  float64       \n",
      " 7   seat_comfort_rating            33706 non-null  float64       \n",
      " 8   cabin_staff_rating             33708 non-null  float64       \n",
      " 9   food_beverages_rating          33264 non-null  float64       \n",
      " 10  inflight_entertainment_rating  31114 non-null  float64       \n",
      " 11  ground_service_rating          2203 non-null   float64       \n",
      " 12  value_money_rating             39723 non-null  float64       \n",
      " 13  recommended                    41396 non-null  int64         \n",
      "dtypes: datetime64[ns](1), float64(7), int64(1), object(5)\n",
      "memory usage: 4.4+ MB\n"
     ]
    }
   ],
   "source": [
    "airline.info()"
   ]
  },
  {
   "cell_type": "code",
   "execution_count": 19,
   "metadata": {},
   "outputs": [
    {
     "data": {
      "text/plain": [
       "Index(['airline_name', 'author', 'date', 'content', 'type_traveller',\n",
       "       'cabin_flown', 'overall_rating', 'seat_comfort_rating',\n",
       "       'cabin_staff_rating', 'food_beverages_rating',\n",
       "       'inflight_entertainment_rating', 'ground_service_rating',\n",
       "       'value_money_rating', 'recommended'],\n",
       "      dtype='object')"
      ]
     },
     "execution_count": 19,
     "metadata": {},
     "output_type": "execute_result"
    }
   ],
   "source": [
    "# Check columns\n",
    "airline.columns"
   ]
  },
  {
   "cell_type": "code",
   "execution_count": 20,
   "metadata": {},
   "outputs": [
    {
     "data": {
      "text/plain": [
       "(41396, 14)"
      ]
     },
     "execution_count": 20,
     "metadata": {},
     "output_type": "execute_result"
    }
   ],
   "source": [
    "# Check shape\n",
    "airline.shape"
   ]
  },
  {
   "cell_type": "code",
   "execution_count": 21,
   "metadata": {},
   "outputs": [],
   "source": [
    "# Change recommended column to float\n",
    "airline['recommended'] = airline['recommended'].astype(float)"
   ]
  },
  {
   "cell_type": "code",
   "execution_count": 22,
   "metadata": {},
   "outputs": [],
   "source": [
    "# change all words to lower caps\n",
    "airline[['airline_name', 'author', 'content', 'type_traveller', 'cabin_flown']] = airline[['airline_name', 'author', 'content', 'type_traveller', 'cabin_flown']].apply(lambda x: x.str.lower())"
   ]
  },
  {
   "cell_type": "code",
   "execution_count": 23,
   "metadata": {},
   "outputs": [],
   "source": [
    "# Remove dash from airline name\n",
    "airline['airline_name'] = airline['airline_name'].str.replace('-', ' ')"
   ]
  },
  {
   "cell_type": "code",
   "execution_count": 24,
   "metadata": {},
   "outputs": [
    {
     "data": {
      "text/html": [
       "<div>\n",
       "<style scoped>\n",
       "    .dataframe tbody tr th:only-of-type {\n",
       "        vertical-align: middle;\n",
       "    }\n",
       "\n",
       "    .dataframe tbody tr th {\n",
       "        vertical-align: top;\n",
       "    }\n",
       "\n",
       "    .dataframe thead th {\n",
       "        text-align: right;\n",
       "    }\n",
       "</style>\n",
       "<table border=\"1\" class=\"dataframe\">\n",
       "  <thead>\n",
       "    <tr style=\"text-align: right;\">\n",
       "      <th></th>\n",
       "      <th>airline_name</th>\n",
       "      <th>author</th>\n",
       "      <th>date</th>\n",
       "      <th>content</th>\n",
       "      <th>type_traveller</th>\n",
       "      <th>cabin_flown</th>\n",
       "      <th>overall_rating</th>\n",
       "      <th>seat_comfort_rating</th>\n",
       "      <th>cabin_staff_rating</th>\n",
       "      <th>food_beverages_rating</th>\n",
       "      <th>inflight_entertainment_rating</th>\n",
       "      <th>ground_service_rating</th>\n",
       "      <th>value_money_rating</th>\n",
       "      <th>recommended</th>\n",
       "    </tr>\n",
       "  </thead>\n",
       "  <tbody>\n",
       "    <tr>\n",
       "      <th>0</th>\n",
       "      <td>adria airways</td>\n",
       "      <td>d ito</td>\n",
       "      <td>2015-04-10</td>\n",
       "      <td>outbound flight fra/prn a319. 2 hours 10 min f...</td>\n",
       "      <td>NaN</td>\n",
       "      <td>economy</td>\n",
       "      <td>7.0</td>\n",
       "      <td>4.0</td>\n",
       "      <td>4.0</td>\n",
       "      <td>4.0</td>\n",
       "      <td>0.0</td>\n",
       "      <td>NaN</td>\n",
       "      <td>4.0</td>\n",
       "      <td>1.0</td>\n",
       "    </tr>\n",
       "    <tr>\n",
       "      <th>1</th>\n",
       "      <td>adria airways</td>\n",
       "      <td>ron kuhlmann</td>\n",
       "      <td>2015-01-05</td>\n",
       "      <td>two short hops zrh-lju and lju-vie. very fast ...</td>\n",
       "      <td>NaN</td>\n",
       "      <td>business class</td>\n",
       "      <td>10.0</td>\n",
       "      <td>4.0</td>\n",
       "      <td>5.0</td>\n",
       "      <td>4.0</td>\n",
       "      <td>1.0</td>\n",
       "      <td>NaN</td>\n",
       "      <td>5.0</td>\n",
       "      <td>1.0</td>\n",
       "    </tr>\n",
       "    <tr>\n",
       "      <th>2</th>\n",
       "      <td>adria airways</td>\n",
       "      <td>e albin</td>\n",
       "      <td>2014-09-14</td>\n",
       "      <td>flew zurich-ljubljana on jp365 newish crj900. ...</td>\n",
       "      <td>NaN</td>\n",
       "      <td>economy</td>\n",
       "      <td>9.0</td>\n",
       "      <td>5.0</td>\n",
       "      <td>5.0</td>\n",
       "      <td>4.0</td>\n",
       "      <td>0.0</td>\n",
       "      <td>NaN</td>\n",
       "      <td>5.0</td>\n",
       "      <td>1.0</td>\n",
       "    </tr>\n",
       "    <tr>\n",
       "      <th>3</th>\n",
       "      <td>adria airways</td>\n",
       "      <td>tercon bojan</td>\n",
       "      <td>2014-09-06</td>\n",
       "      <td>adria serves this 100 min flight from ljubljan...</td>\n",
       "      <td>NaN</td>\n",
       "      <td>business class</td>\n",
       "      <td>8.0</td>\n",
       "      <td>4.0</td>\n",
       "      <td>4.0</td>\n",
       "      <td>3.0</td>\n",
       "      <td>1.0</td>\n",
       "      <td>NaN</td>\n",
       "      <td>4.0</td>\n",
       "      <td>1.0</td>\n",
       "    </tr>\n",
       "    <tr>\n",
       "      <th>4</th>\n",
       "      <td>adria airways</td>\n",
       "      <td>l james</td>\n",
       "      <td>2014-06-16</td>\n",
       "      <td>waw-skj economy. no free snacks or drinks on t...</td>\n",
       "      <td>NaN</td>\n",
       "      <td>economy</td>\n",
       "      <td>4.0</td>\n",
       "      <td>4.0</td>\n",
       "      <td>2.0</td>\n",
       "      <td>1.0</td>\n",
       "      <td>2.0</td>\n",
       "      <td>NaN</td>\n",
       "      <td>2.0</td>\n",
       "      <td>0.0</td>\n",
       "    </tr>\n",
       "  </tbody>\n",
       "</table>\n",
       "</div>"
      ],
      "text/plain": [
       "    airline_name        author       date  \\\n",
       "0  adria airways         d ito 2015-04-10   \n",
       "1  adria airways  ron kuhlmann 2015-01-05   \n",
       "2  adria airways       e albin 2014-09-14   \n",
       "3  adria airways  tercon bojan 2014-09-06   \n",
       "4  adria airways       l james 2014-06-16   \n",
       "\n",
       "                                             content type_traveller  \\\n",
       "0  outbound flight fra/prn a319. 2 hours 10 min f...            NaN   \n",
       "1  two short hops zrh-lju and lju-vie. very fast ...            NaN   \n",
       "2  flew zurich-ljubljana on jp365 newish crj900. ...            NaN   \n",
       "3  adria serves this 100 min flight from ljubljan...            NaN   \n",
       "4  waw-skj economy. no free snacks or drinks on t...            NaN   \n",
       "\n",
       "      cabin_flown  overall_rating  seat_comfort_rating  cabin_staff_rating  \\\n",
       "0         economy             7.0                  4.0                 4.0   \n",
       "1  business class            10.0                  4.0                 5.0   \n",
       "2         economy             9.0                  5.0                 5.0   \n",
       "3  business class             8.0                  4.0                 4.0   \n",
       "4         economy             4.0                  4.0                 2.0   \n",
       "\n",
       "   food_beverages_rating  inflight_entertainment_rating  \\\n",
       "0                    4.0                            0.0   \n",
       "1                    4.0                            1.0   \n",
       "2                    4.0                            0.0   \n",
       "3                    3.0                            1.0   \n",
       "4                    1.0                            2.0   \n",
       "\n",
       "   ground_service_rating  value_money_rating  recommended  \n",
       "0                    NaN                 4.0          1.0  \n",
       "1                    NaN                 5.0          1.0  \n",
       "2                    NaN                 5.0          1.0  \n",
       "3                    NaN                 4.0          1.0  \n",
       "4                    NaN                 2.0          0.0  "
      ]
     },
     "execution_count": 24,
     "metadata": {},
     "output_type": "execute_result"
    }
   ],
   "source": [
    "# sanity check\n",
    "airline.head()"
   ]
  },
  {
   "cell_type": "markdown",
   "metadata": {},
   "source": [
    "## Step 3: Concatenate Airline 1 and Airline 2\n",
    "\n",
    "Here, we will concatenate both airline 1 and airline 2 datasets and drop any duplicates contains in the dataset"
   ]
  },
  {
   "cell_type": "code",
   "execution_count": 25,
   "metadata": {},
   "outputs": [],
   "source": [
    "# concatenate and name it airline_merged\n",
    "airline_merged = pd.concat([airline,airline2],axis=0,join='outer')"
   ]
  },
  {
   "cell_type": "code",
   "execution_count": 26,
   "metadata": {},
   "outputs": [],
   "source": [
    "# Reset index\n",
    "airline_merged.reset_index(level=0, inplace=True,drop=True)"
   ]
  },
  {
   "cell_type": "code",
   "execution_count": 27,
   "metadata": {},
   "outputs": [
    {
     "data": {
      "text/plain": [
       "27320"
      ]
     },
     "execution_count": 27,
     "metadata": {},
     "output_type": "execute_result"
    }
   ],
   "source": [
    "# check duplicates\n",
    "airline_merged.duplicated(subset=['content']).sum()"
   ]
  },
  {
   "cell_type": "code",
   "execution_count": 28,
   "metadata": {
    "scrolled": false
   },
   "outputs": [],
   "source": [
    "# Drop duplicates and reset index\n",
    "airline_merged.drop_duplicates(subset=['content'],inplace=True)\n",
    "airline_merged.reset_index(level=0, inplace=True,drop=True)"
   ]
  },
  {
   "cell_type": "code",
   "execution_count": 29,
   "metadata": {},
   "outputs": [
    {
     "name": "stdout",
     "output_type": "stream",
     "text": [
      "<class 'pandas.core.frame.DataFrame'>\n",
      "RangeIndex: 80023 entries, 0 to 80022\n",
      "Data columns (total 14 columns):\n",
      " #   Column                         Non-Null Count  Dtype         \n",
      "---  ------                         --------------  -----         \n",
      " 0   airline_name                   80023 non-null  object        \n",
      " 1   author                         80023 non-null  object        \n",
      " 2   date                           80023 non-null  datetime64[ns]\n",
      " 3   content                        80023 non-null  object        \n",
      " 4   type_traveller                 38763 non-null  object        \n",
      " 5   cabin_flown                    75697 non-null  object        \n",
      " 6   overall_rating                 75361 non-null  float64       \n",
      " 7   seat_comfort_rating            69810 non-null  float64       \n",
      " 8   cabin_staff_rating             69750 non-null  float64       \n",
      " 9   food_beverages_rating          62621 non-null  float64       \n",
      " 10  inflight_entertainment_rating  54575 non-null  float64       \n",
      " 11  ground_service_rating          38260 non-null  float64       \n",
      " 12  value_money_rating             76906 non-null  float64       \n",
      " 13  recommended                    78601 non-null  float64       \n",
      "dtypes: datetime64[ns](1), float64(8), object(5)\n",
      "memory usage: 8.5+ MB\n"
     ]
    }
   ],
   "source": [
    "# Check final info\n",
    "airline_merged.info()"
   ]
  },
  {
   "cell_type": "code",
   "execution_count": 30,
   "metadata": {},
   "outputs": [
    {
     "data": {
      "text/plain": [
       "Index(['airline_name', 'author', 'date', 'content', 'type_traveller',\n",
       "       'cabin_flown', 'overall_rating', 'seat_comfort_rating',\n",
       "       'cabin_staff_rating', 'food_beverages_rating',\n",
       "       'inflight_entertainment_rating', 'ground_service_rating',\n",
       "       'value_money_rating', 'recommended'],\n",
       "      dtype='object')"
      ]
     },
     "execution_count": 30,
     "metadata": {},
     "output_type": "execute_result"
    }
   ],
   "source": [
    "airline_merged.columns"
   ]
  },
  {
   "cell_type": "code",
   "execution_count": 31,
   "metadata": {},
   "outputs": [
    {
     "data": {
      "text/plain": [
       "(80023, 14)"
      ]
     },
     "execution_count": 31,
     "metadata": {},
     "output_type": "execute_result"
    }
   ],
   "source": [
    "airline_merged.shape"
   ]
  },
  {
   "cell_type": "code",
   "execution_count": 32,
   "metadata": {},
   "outputs": [],
   "source": [
    "# Correct name of airline acccording to the skytrax official name\n",
    "airline_merged['airline_name'] = airline_merged['airline_name'].str.replace('thomas cook belgium airlines customer','thomas cook airlines belgium')\n",
    "airline_merged['airline_name'] = airline_merged['airline_name'].str.replace('ukraine international airlines','ukraine international')\n",
    "airline_merged['airline_name'] = airline_merged['airline_name'].str.replace('tarom romanian airlines','tarom romanian')\n",
    "airline_merged['airline_name'] = airline_merged['airline_name'].str.replace('taca','taca airlines')\n",
    "airline_merged['airline_name'] = airline_merged['airline_name'].str.replace('swiss international air lines','swiss intl air lines')\n",
    "airline_merged['airline_name'] = airline_merged['airline_name'].str.replace('star per','star peru')\n",
    "airline_merged['airline_name'] = airline_merged['airline_name'].str.replace('spring','spring airlines')\n",
    "airline_merged['airline_name'] = airline_merged['airline_name'].str.replace('sky express airlines','sky airline')\n",
    "airline_merged['airline_name'] = airline_merged['airline_name'].str.replace('sas scandinavian airlines','sas scandinavian')\n",
    "airline_merged['airline_name'] = airline_merged['airline_name'].str.replace('precision','precision air')\n",
    "airline_merged['airline_name'] = airline_merged['airline_name'].str.replace('indigo airlines','indigo')\n",
    "airline_merged['airline_name'] = airline_merged['airline_name'].str.replace('hong kong airlines','hong kong')"
   ]
  },
  {
   "cell_type": "code",
   "execution_count": 33,
   "metadata": {},
   "outputs": [],
   "source": [
    "airline_merged.to_csv('Data/airline merged.csv',index=False)"
   ]
  },
  {
   "cell_type": "code",
   "execution_count": 34,
   "metadata": {},
   "outputs": [
    {
     "data": {
      "text/html": [
       "<div>\n",
       "<style scoped>\n",
       "    .dataframe tbody tr th:only-of-type {\n",
       "        vertical-align: middle;\n",
       "    }\n",
       "\n",
       "    .dataframe tbody tr th {\n",
       "        vertical-align: top;\n",
       "    }\n",
       "\n",
       "    .dataframe thead th {\n",
       "        text-align: right;\n",
       "    }\n",
       "</style>\n",
       "<table border=\"1\" class=\"dataframe\">\n",
       "  <thead>\n",
       "    <tr style=\"text-align: right;\">\n",
       "      <th></th>\n",
       "      <th>airline_name</th>\n",
       "      <th>author</th>\n",
       "      <th>date</th>\n",
       "      <th>content</th>\n",
       "      <th>type_traveller</th>\n",
       "      <th>cabin_flown</th>\n",
       "      <th>overall_rating</th>\n",
       "      <th>seat_comfort_rating</th>\n",
       "      <th>cabin_staff_rating</th>\n",
       "      <th>food_beverages_rating</th>\n",
       "      <th>inflight_entertainment_rating</th>\n",
       "      <th>ground_service_rating</th>\n",
       "      <th>value_money_rating</th>\n",
       "      <th>recommended</th>\n",
       "    </tr>\n",
       "  </thead>\n",
       "  <tbody>\n",
       "    <tr>\n",
       "      <th>0</th>\n",
       "      <td>adria airways</td>\n",
       "      <td>d ito</td>\n",
       "      <td>2015-04-10</td>\n",
       "      <td>outbound flight fra/prn a319. 2 hours 10 min f...</td>\n",
       "      <td>NaN</td>\n",
       "      <td>economy</td>\n",
       "      <td>7.0</td>\n",
       "      <td>4.0</td>\n",
       "      <td>4.0</td>\n",
       "      <td>4.0</td>\n",
       "      <td>0.0</td>\n",
       "      <td>NaN</td>\n",
       "      <td>4.0</td>\n",
       "      <td>1.0</td>\n",
       "    </tr>\n",
       "    <tr>\n",
       "      <th>1</th>\n",
       "      <td>adria airways</td>\n",
       "      <td>ron kuhlmann</td>\n",
       "      <td>2015-01-05</td>\n",
       "      <td>two short hops zrh-lju and lju-vie. very fast ...</td>\n",
       "      <td>NaN</td>\n",
       "      <td>business class</td>\n",
       "      <td>10.0</td>\n",
       "      <td>4.0</td>\n",
       "      <td>5.0</td>\n",
       "      <td>4.0</td>\n",
       "      <td>1.0</td>\n",
       "      <td>NaN</td>\n",
       "      <td>5.0</td>\n",
       "      <td>1.0</td>\n",
       "    </tr>\n",
       "    <tr>\n",
       "      <th>2</th>\n",
       "      <td>adria airways</td>\n",
       "      <td>e albin</td>\n",
       "      <td>2014-09-14</td>\n",
       "      <td>flew zurich-ljubljana on jp365 newish crj900. ...</td>\n",
       "      <td>NaN</td>\n",
       "      <td>economy</td>\n",
       "      <td>9.0</td>\n",
       "      <td>5.0</td>\n",
       "      <td>5.0</td>\n",
       "      <td>4.0</td>\n",
       "      <td>0.0</td>\n",
       "      <td>NaN</td>\n",
       "      <td>5.0</td>\n",
       "      <td>1.0</td>\n",
       "    </tr>\n",
       "    <tr>\n",
       "      <th>3</th>\n",
       "      <td>adria airways</td>\n",
       "      <td>tercon bojan</td>\n",
       "      <td>2014-09-06</td>\n",
       "      <td>adria serves this 100 min flight from ljubljan...</td>\n",
       "      <td>NaN</td>\n",
       "      <td>business class</td>\n",
       "      <td>8.0</td>\n",
       "      <td>4.0</td>\n",
       "      <td>4.0</td>\n",
       "      <td>3.0</td>\n",
       "      <td>1.0</td>\n",
       "      <td>NaN</td>\n",
       "      <td>4.0</td>\n",
       "      <td>1.0</td>\n",
       "    </tr>\n",
       "    <tr>\n",
       "      <th>4</th>\n",
       "      <td>adria airways</td>\n",
       "      <td>l james</td>\n",
       "      <td>2014-06-16</td>\n",
       "      <td>waw-skj economy. no free snacks or drinks on t...</td>\n",
       "      <td>NaN</td>\n",
       "      <td>economy</td>\n",
       "      <td>4.0</td>\n",
       "      <td>4.0</td>\n",
       "      <td>2.0</td>\n",
       "      <td>1.0</td>\n",
       "      <td>2.0</td>\n",
       "      <td>NaN</td>\n",
       "      <td>2.0</td>\n",
       "      <td>0.0</td>\n",
       "    </tr>\n",
       "  </tbody>\n",
       "</table>\n",
       "</div>"
      ],
      "text/plain": [
       "    airline_name        author       date  \\\n",
       "0  adria airways         d ito 2015-04-10   \n",
       "1  adria airways  ron kuhlmann 2015-01-05   \n",
       "2  adria airways       e albin 2014-09-14   \n",
       "3  adria airways  tercon bojan 2014-09-06   \n",
       "4  adria airways       l james 2014-06-16   \n",
       "\n",
       "                                             content type_traveller  \\\n",
       "0  outbound flight fra/prn a319. 2 hours 10 min f...            NaN   \n",
       "1  two short hops zrh-lju and lju-vie. very fast ...            NaN   \n",
       "2  flew zurich-ljubljana on jp365 newish crj900. ...            NaN   \n",
       "3  adria serves this 100 min flight from ljubljan...            NaN   \n",
       "4  waw-skj economy. no free snacks or drinks on t...            NaN   \n",
       "\n",
       "      cabin_flown  overall_rating  seat_comfort_rating  cabin_staff_rating  \\\n",
       "0         economy             7.0                  4.0                 4.0   \n",
       "1  business class            10.0                  4.0                 5.0   \n",
       "2         economy             9.0                  5.0                 5.0   \n",
       "3  business class             8.0                  4.0                 4.0   \n",
       "4         economy             4.0                  4.0                 2.0   \n",
       "\n",
       "   food_beverages_rating  inflight_entertainment_rating  \\\n",
       "0                    4.0                            0.0   \n",
       "1                    4.0                            1.0   \n",
       "2                    4.0                            0.0   \n",
       "3                    3.0                            1.0   \n",
       "4                    1.0                            2.0   \n",
       "\n",
       "   ground_service_rating  value_money_rating  recommended  \n",
       "0                    NaN                 4.0          1.0  \n",
       "1                    NaN                 5.0          1.0  \n",
       "2                    NaN                 5.0          1.0  \n",
       "3                    NaN                 4.0          1.0  \n",
       "4                    NaN                 2.0          0.0  "
      ]
     },
     "execution_count": 34,
     "metadata": {},
     "output_type": "execute_result"
    }
   ],
   "source": [
    "# Sanity Check\n",
    "airline_merged.head()"
   ]
  },
  {
   "cell_type": "markdown",
   "metadata": {},
   "source": [
    "## Step 4:  Scraped data"
   ]
  },
  {
   "cell_type": "code",
   "execution_count": 35,
   "metadata": {},
   "outputs": [],
   "source": [
    "# Read all scraped csv into dataframe and concat them together\n",
    "\n",
    "#path = r'C:\\Users\\gchoo\\Desktop\\General Assembly\\DSI project\\Capstone\\Webscraping\\Data'\n",
    "#all_files = glob.glob(os.path.join(path, \"*.csv\"))\n",
    "\n",
    "#df_each_file = (pd.read_csv(f) for f in all_files)\n",
    "#concat_df = pd.concat(df_each_file, ignore_index=True)\n",
    "#concat_df.to_csv('Data/scraped_airline.csv',index=False)"
   ]
  },
  {
   "cell_type": "code",
   "execution_count": 36,
   "metadata": {},
   "outputs": [],
   "source": [
    "# Read in the scraped airlines data as airline 3\n",
    "airline3 = pd.read_csv('Data/scraped_airline.csv',parse_dates=['date'])"
   ]
  },
  {
   "cell_type": "code",
   "execution_count": 37,
   "metadata": {
    "scrolled": false
   },
   "outputs": [
    {
     "data": {
      "text/html": [
       "<div>\n",
       "<style scoped>\n",
       "    .dataframe tbody tr th:only-of-type {\n",
       "        vertical-align: middle;\n",
       "    }\n",
       "\n",
       "    .dataframe tbody tr th {\n",
       "        vertical-align: top;\n",
       "    }\n",
       "\n",
       "    .dataframe thead th {\n",
       "        text-align: right;\n",
       "    }\n",
       "</style>\n",
       "<table border=\"1\" class=\"dataframe\">\n",
       "  <thead>\n",
       "    <tr style=\"text-align: right;\">\n",
       "      <th></th>\n",
       "      <th>airline_name</th>\n",
       "      <th>author</th>\n",
       "      <th>date</th>\n",
       "      <th>content</th>\n",
       "      <th>type_traveller</th>\n",
       "      <th>cabin_flown</th>\n",
       "      <th>overall_rating</th>\n",
       "      <th>seat_comfort_rating</th>\n",
       "      <th>cabin_staff_rating</th>\n",
       "      <th>food_beverages_rating</th>\n",
       "      <th>inflight_entertainment_rating</th>\n",
       "      <th>ground_service_rating</th>\n",
       "      <th>value_money_rating</th>\n",
       "      <th>recommended</th>\n",
       "    </tr>\n",
       "  </thead>\n",
       "  <tbody>\n",
       "    <tr>\n",
       "      <th>0</th>\n",
       "      <td>adria airways</td>\n",
       "      <td>D Praetextatus</td>\n",
       "      <td>2019-09-28</td>\n",
       "      <td>Not Verified |  Please do a favor yourself and...</td>\n",
       "      <td>Solo Leisure</td>\n",
       "      <td>Economy Class</td>\n",
       "      <td>1.0</td>\n",
       "      <td>1.0</td>\n",
       "      <td>1.0</td>\n",
       "      <td>NaN</td>\n",
       "      <td>NaN</td>\n",
       "      <td>1.0</td>\n",
       "      <td>1.0</td>\n",
       "      <td>no</td>\n",
       "    </tr>\n",
       "    <tr>\n",
       "      <th>1</th>\n",
       "      <td>adria airways</td>\n",
       "      <td>D Meijer</td>\n",
       "      <td>2019-09-24</td>\n",
       "      <td>✅ Trip Verified | Do not book a flight with th...</td>\n",
       "      <td>Couple Leisure</td>\n",
       "      <td>Economy Class</td>\n",
       "      <td>1.0</td>\n",
       "      <td>1.0</td>\n",
       "      <td>1.0</td>\n",
       "      <td>1.0</td>\n",
       "      <td>1.0</td>\n",
       "      <td>1.0</td>\n",
       "      <td>1.0</td>\n",
       "      <td>no</td>\n",
       "    </tr>\n",
       "    <tr>\n",
       "      <th>2</th>\n",
       "      <td>adria airways</td>\n",
       "      <td>Herbse Mayer</td>\n",
       "      <td>2019-09-17</td>\n",
       "      <td>✅ Trip Verified |  Had very bad experience wit...</td>\n",
       "      <td>Couple Leisure</td>\n",
       "      <td>Economy Class</td>\n",
       "      <td>1.0</td>\n",
       "      <td>1.0</td>\n",
       "      <td>1.0</td>\n",
       "      <td>1.0</td>\n",
       "      <td>1.0</td>\n",
       "      <td>1.0</td>\n",
       "      <td>1.0</td>\n",
       "      <td>no</td>\n",
       "    </tr>\n",
       "    <tr>\n",
       "      <th>3</th>\n",
       "      <td>adria airways</td>\n",
       "      <td>D Bole</td>\n",
       "      <td>2019-09-06</td>\n",
       "      <td>Not Verified |  Ljubljana to Zürich. Firstly, ...</td>\n",
       "      <td>Business</td>\n",
       "      <td>Economy Class</td>\n",
       "      <td>1.0</td>\n",
       "      <td>1.0</td>\n",
       "      <td>1.0</td>\n",
       "      <td>1.0</td>\n",
       "      <td>NaN</td>\n",
       "      <td>1.0</td>\n",
       "      <td>1.0</td>\n",
       "      <td>no</td>\n",
       "    </tr>\n",
       "    <tr>\n",
       "      <th>4</th>\n",
       "      <td>adria airways</td>\n",
       "      <td>B Cosmin</td>\n",
       "      <td>2019-08-24</td>\n",
       "      <td>Not Verified |  First of all, I am not complai...</td>\n",
       "      <td>Solo Leisure</td>\n",
       "      <td>Economy Class</td>\n",
       "      <td>1.0</td>\n",
       "      <td>1.0</td>\n",
       "      <td>1.0</td>\n",
       "      <td>1.0</td>\n",
       "      <td>1.0</td>\n",
       "      <td>1.0</td>\n",
       "      <td>1.0</td>\n",
       "      <td>no</td>\n",
       "    </tr>\n",
       "  </tbody>\n",
       "</table>\n",
       "</div>"
      ],
      "text/plain": [
       "    airline_name          author       date  \\\n",
       "0  adria airways  D Praetextatus 2019-09-28   \n",
       "1  adria airways        D Meijer 2019-09-24   \n",
       "2  adria airways    Herbse Mayer 2019-09-17   \n",
       "3  adria airways          D Bole 2019-09-06   \n",
       "4  adria airways       B Cosmin  2019-08-24   \n",
       "\n",
       "                                             content  type_traveller  \\\n",
       "0  Not Verified |  Please do a favor yourself and...    Solo Leisure   \n",
       "1  ✅ Trip Verified | Do not book a flight with th...  Couple Leisure   \n",
       "2  ✅ Trip Verified |  Had very bad experience wit...  Couple Leisure   \n",
       "3  Not Verified |  Ljubljana to Zürich. Firstly, ...        Business   \n",
       "4  Not Verified |  First of all, I am not complai...    Solo Leisure   \n",
       "\n",
       "     cabin_flown  overall_rating  seat_comfort_rating  cabin_staff_rating  \\\n",
       "0  Economy Class             1.0                  1.0                 1.0   \n",
       "1  Economy Class             1.0                  1.0                 1.0   \n",
       "2  Economy Class             1.0                  1.0                 1.0   \n",
       "3  Economy Class             1.0                  1.0                 1.0   \n",
       "4  Economy Class             1.0                  1.0                 1.0   \n",
       "\n",
       "   food_beverages_rating  inflight_entertainment_rating  \\\n",
       "0                    NaN                            NaN   \n",
       "1                    1.0                            1.0   \n",
       "2                    1.0                            1.0   \n",
       "3                    1.0                            NaN   \n",
       "4                    1.0                            1.0   \n",
       "\n",
       "   ground_service_rating  value_money_rating recommended  \n",
       "0                    1.0                 1.0          no  \n",
       "1                    1.0                 1.0          no  \n",
       "2                    1.0                 1.0          no  \n",
       "3                    1.0                 1.0          no  \n",
       "4                    1.0                 1.0          no  "
      ]
     },
     "execution_count": 37,
     "metadata": {},
     "output_type": "execute_result"
    }
   ],
   "source": [
    "airline3.head()"
   ]
  },
  {
   "cell_type": "code",
   "execution_count": 38,
   "metadata": {},
   "outputs": [
    {
     "name": "stdout",
     "output_type": "stream",
     "text": [
      "<class 'pandas.core.frame.DataFrame'>\n",
      "RangeIndex: 1350 entries, 0 to 1349\n",
      "Data columns (total 14 columns):\n",
      " #   Column                         Non-Null Count  Dtype         \n",
      "---  ------                         --------------  -----         \n",
      " 0   airline_name                   1350 non-null   object        \n",
      " 1   author                         1350 non-null   object        \n",
      " 2   date                           1350 non-null   datetime64[ns]\n",
      " 3   content                        1350 non-null   object        \n",
      " 4   type_traveller                 1252 non-null   object        \n",
      " 5   cabin_flown                    1349 non-null   object        \n",
      " 6   overall_rating                 1336 non-null   float64       \n",
      " 7   seat_comfort_rating            1187 non-null   float64       \n",
      " 8   cabin_staff_rating             1187 non-null   float64       \n",
      " 9   food_beverages_rating          927 non-null    float64       \n",
      " 10  inflight_entertainment_rating  648 non-null    float64       \n",
      " 11  ground_service_rating          1190 non-null   float64       \n",
      " 12  value_money_rating             1347 non-null   float64       \n",
      " 13  recommended                    1350 non-null   object        \n",
      "dtypes: datetime64[ns](1), float64(7), object(6)\n",
      "memory usage: 147.8+ KB\n"
     ]
    }
   ],
   "source": [
    "airline3.info()"
   ]
  },
  {
   "cell_type": "code",
   "execution_count": 39,
   "metadata": {},
   "outputs": [
    {
     "data": {
      "text/plain": [
       "(1350, 14)"
      ]
     },
     "execution_count": 39,
     "metadata": {},
     "output_type": "execute_result"
    }
   ],
   "source": [
    "airline3.shape"
   ]
  },
  {
   "cell_type": "code",
   "execution_count": 40,
   "metadata": {},
   "outputs": [
    {
     "data": {
      "text/plain": [
       "airline_name                       0\n",
       "author                             0\n",
       "date                               0\n",
       "content                            0\n",
       "type_traveller                    98\n",
       "cabin_flown                        1\n",
       "overall_rating                    14\n",
       "seat_comfort_rating              163\n",
       "cabin_staff_rating               163\n",
       "food_beverages_rating            423\n",
       "inflight_entertainment_rating    702\n",
       "ground_service_rating            160\n",
       "value_money_rating                 3\n",
       "recommended                        0\n",
       "dtype: int64"
      ]
     },
     "execution_count": 40,
     "metadata": {},
     "output_type": "execute_result"
    }
   ],
   "source": [
    "airline3.isnull().sum()"
   ]
  },
  {
   "cell_type": "code",
   "execution_count": 41,
   "metadata": {},
   "outputs": [],
   "source": [
    "# Change all words to lower caps\n",
    "airline3[['airline_name', 'author', 'content', 'type_traveller', 'cabin_flown','recommended']] = airline3[['airline_name', 'author', 'content', 'type_traveller', 'cabin_flown','recommended']].apply(lambda x: x.str.lower())"
   ]
  },
  {
   "cell_type": "code",
   "execution_count": 42,
   "metadata": {},
   "outputs": [],
   "source": [
    "# Change recommended columns to binary (yes=1,No=0)\n",
    "airline3['recommended'] = airline3['recommended'].map({'yes':1,'no':0})"
   ]
  },
  {
   "cell_type": "code",
   "execution_count": 43,
   "metadata": {},
   "outputs": [],
   "source": [
    "# Change recommended column to float\n",
    "airline3['recommended'] = airline3['recommended'].astype(float)"
   ]
  },
  {
   "cell_type": "code",
   "execution_count": 44,
   "metadata": {},
   "outputs": [],
   "source": [
    "# Remove special characters and \"Trip Verified\"\n",
    "airline3['content'] = airline3['content'].map(lambda exp:exp.split('|')[1] if 'trip verified' in exp else exp)"
   ]
  },
  {
   "cell_type": "code",
   "execution_count": 45,
   "metadata": {},
   "outputs": [],
   "source": [
    "# Remove special characters and \"not Verified\"\n",
    "airline3['content'] = airline3['content'].map(lambda exp:exp.split('|')[1] if 'not verified' in exp else exp)"
   ]
  },
  {
   "cell_type": "code",
   "execution_count": 46,
   "metadata": {},
   "outputs": [
    {
     "data": {
      "text/html": [
       "<div>\n",
       "<style scoped>\n",
       "    .dataframe tbody tr th:only-of-type {\n",
       "        vertical-align: middle;\n",
       "    }\n",
       "\n",
       "    .dataframe tbody tr th {\n",
       "        vertical-align: top;\n",
       "    }\n",
       "\n",
       "    .dataframe thead th {\n",
       "        text-align: right;\n",
       "    }\n",
       "</style>\n",
       "<table border=\"1\" class=\"dataframe\">\n",
       "  <thead>\n",
       "    <tr style=\"text-align: right;\">\n",
       "      <th></th>\n",
       "      <th>airline_name</th>\n",
       "      <th>author</th>\n",
       "      <th>date</th>\n",
       "      <th>content</th>\n",
       "      <th>type_traveller</th>\n",
       "      <th>cabin_flown</th>\n",
       "      <th>overall_rating</th>\n",
       "      <th>seat_comfort_rating</th>\n",
       "      <th>cabin_staff_rating</th>\n",
       "      <th>food_beverages_rating</th>\n",
       "      <th>inflight_entertainment_rating</th>\n",
       "      <th>ground_service_rating</th>\n",
       "      <th>value_money_rating</th>\n",
       "      <th>recommended</th>\n",
       "    </tr>\n",
       "  </thead>\n",
       "  <tbody>\n",
       "    <tr>\n",
       "      <th>0</th>\n",
       "      <td>adria airways</td>\n",
       "      <td>d praetextatus</td>\n",
       "      <td>2019-09-28</td>\n",
       "      <td>please do a favor yourself and do not fly wi...</td>\n",
       "      <td>solo leisure</td>\n",
       "      <td>economy class</td>\n",
       "      <td>1.0</td>\n",
       "      <td>1.0</td>\n",
       "      <td>1.0</td>\n",
       "      <td>NaN</td>\n",
       "      <td>NaN</td>\n",
       "      <td>1.0</td>\n",
       "      <td>1.0</td>\n",
       "      <td>0.0</td>\n",
       "    </tr>\n",
       "    <tr>\n",
       "      <th>1</th>\n",
       "      <td>adria airways</td>\n",
       "      <td>d meijer</td>\n",
       "      <td>2019-09-24</td>\n",
       "      <td>do not book a flight with this airline! my fr...</td>\n",
       "      <td>couple leisure</td>\n",
       "      <td>economy class</td>\n",
       "      <td>1.0</td>\n",
       "      <td>1.0</td>\n",
       "      <td>1.0</td>\n",
       "      <td>1.0</td>\n",
       "      <td>1.0</td>\n",
       "      <td>1.0</td>\n",
       "      <td>1.0</td>\n",
       "      <td>0.0</td>\n",
       "    </tr>\n",
       "    <tr>\n",
       "      <th>2</th>\n",
       "      <td>adria airways</td>\n",
       "      <td>herbse mayer</td>\n",
       "      <td>2019-09-17</td>\n",
       "      <td>had very bad experience with rerouted and ca...</td>\n",
       "      <td>couple leisure</td>\n",
       "      <td>economy class</td>\n",
       "      <td>1.0</td>\n",
       "      <td>1.0</td>\n",
       "      <td>1.0</td>\n",
       "      <td>1.0</td>\n",
       "      <td>1.0</td>\n",
       "      <td>1.0</td>\n",
       "      <td>1.0</td>\n",
       "      <td>0.0</td>\n",
       "    </tr>\n",
       "    <tr>\n",
       "      <th>3</th>\n",
       "      <td>adria airways</td>\n",
       "      <td>d bole</td>\n",
       "      <td>2019-09-06</td>\n",
       "      <td>ljubljana to zürich. firstly, ljubljana airp...</td>\n",
       "      <td>business</td>\n",
       "      <td>economy class</td>\n",
       "      <td>1.0</td>\n",
       "      <td>1.0</td>\n",
       "      <td>1.0</td>\n",
       "      <td>1.0</td>\n",
       "      <td>NaN</td>\n",
       "      <td>1.0</td>\n",
       "      <td>1.0</td>\n",
       "      <td>0.0</td>\n",
       "    </tr>\n",
       "    <tr>\n",
       "      <th>4</th>\n",
       "      <td>adria airways</td>\n",
       "      <td>b cosmin</td>\n",
       "      <td>2019-08-24</td>\n",
       "      <td>first of all, i am not complaining about a s...</td>\n",
       "      <td>solo leisure</td>\n",
       "      <td>economy class</td>\n",
       "      <td>1.0</td>\n",
       "      <td>1.0</td>\n",
       "      <td>1.0</td>\n",
       "      <td>1.0</td>\n",
       "      <td>1.0</td>\n",
       "      <td>1.0</td>\n",
       "      <td>1.0</td>\n",
       "      <td>0.0</td>\n",
       "    </tr>\n",
       "  </tbody>\n",
       "</table>\n",
       "</div>"
      ],
      "text/plain": [
       "    airline_name          author       date  \\\n",
       "0  adria airways  d praetextatus 2019-09-28   \n",
       "1  adria airways        d meijer 2019-09-24   \n",
       "2  adria airways    herbse mayer 2019-09-17   \n",
       "3  adria airways          d bole 2019-09-06   \n",
       "4  adria airways       b cosmin  2019-08-24   \n",
       "\n",
       "                                             content  type_traveller  \\\n",
       "0    please do a favor yourself and do not fly wi...    solo leisure   \n",
       "1   do not book a flight with this airline! my fr...  couple leisure   \n",
       "2    had very bad experience with rerouted and ca...  couple leisure   \n",
       "3    ljubljana to zürich. firstly, ljubljana airp...        business   \n",
       "4    first of all, i am not complaining about a s...    solo leisure   \n",
       "\n",
       "     cabin_flown  overall_rating  seat_comfort_rating  cabin_staff_rating  \\\n",
       "0  economy class             1.0                  1.0                 1.0   \n",
       "1  economy class             1.0                  1.0                 1.0   \n",
       "2  economy class             1.0                  1.0                 1.0   \n",
       "3  economy class             1.0                  1.0                 1.0   \n",
       "4  economy class             1.0                  1.0                 1.0   \n",
       "\n",
       "   food_beverages_rating  inflight_entertainment_rating  \\\n",
       "0                    NaN                            NaN   \n",
       "1                    1.0                            1.0   \n",
       "2                    1.0                            1.0   \n",
       "3                    1.0                            NaN   \n",
       "4                    1.0                            1.0   \n",
       "\n",
       "   ground_service_rating  value_money_rating  recommended  \n",
       "0                    1.0                 1.0          0.0  \n",
       "1                    1.0                 1.0          0.0  \n",
       "2                    1.0                 1.0          0.0  \n",
       "3                    1.0                 1.0          0.0  \n",
       "4                    1.0                 1.0          0.0  "
      ]
     },
     "execution_count": 46,
     "metadata": {},
     "output_type": "execute_result"
    }
   ],
   "source": [
    "# sanity check\n",
    "airline3.head()"
   ]
  },
  {
   "cell_type": "markdown",
   "metadata": {},
   "source": [
    "## Final Merge"
   ]
  },
  {
   "cell_type": "code",
   "execution_count": 47,
   "metadata": {},
   "outputs": [
    {
     "data": {
      "text/html": [
       "<div>\n",
       "<style scoped>\n",
       "    .dataframe tbody tr th:only-of-type {\n",
       "        vertical-align: middle;\n",
       "    }\n",
       "\n",
       "    .dataframe tbody tr th {\n",
       "        vertical-align: top;\n",
       "    }\n",
       "\n",
       "    .dataframe thead th {\n",
       "        text-align: right;\n",
       "    }\n",
       "</style>\n",
       "<table border=\"1\" class=\"dataframe\">\n",
       "  <thead>\n",
       "    <tr style=\"text-align: right;\">\n",
       "      <th></th>\n",
       "      <th>airline_name</th>\n",
       "      <th>author</th>\n",
       "      <th>date</th>\n",
       "      <th>content</th>\n",
       "      <th>type_traveller</th>\n",
       "      <th>cabin_flown</th>\n",
       "      <th>overall_rating</th>\n",
       "      <th>seat_comfort_rating</th>\n",
       "      <th>cabin_staff_rating</th>\n",
       "      <th>food_beverages_rating</th>\n",
       "      <th>inflight_entertainment_rating</th>\n",
       "      <th>ground_service_rating</th>\n",
       "      <th>value_money_rating</th>\n",
       "      <th>recommended</th>\n",
       "    </tr>\n",
       "  </thead>\n",
       "  <tbody>\n",
       "    <tr>\n",
       "      <th>0</th>\n",
       "      <td>adria airways</td>\n",
       "      <td>d ito</td>\n",
       "      <td>2015-04-10</td>\n",
       "      <td>outbound flight fra/prn a319. 2 hours 10 min f...</td>\n",
       "      <td>NaN</td>\n",
       "      <td>economy</td>\n",
       "      <td>7.0</td>\n",
       "      <td>4.0</td>\n",
       "      <td>4.0</td>\n",
       "      <td>4.0</td>\n",
       "      <td>0.0</td>\n",
       "      <td>NaN</td>\n",
       "      <td>4.0</td>\n",
       "      <td>1.0</td>\n",
       "    </tr>\n",
       "    <tr>\n",
       "      <th>1</th>\n",
       "      <td>adria airways</td>\n",
       "      <td>ron kuhlmann</td>\n",
       "      <td>2015-01-05</td>\n",
       "      <td>two short hops zrh-lju and lju-vie. very fast ...</td>\n",
       "      <td>NaN</td>\n",
       "      <td>business class</td>\n",
       "      <td>10.0</td>\n",
       "      <td>4.0</td>\n",
       "      <td>5.0</td>\n",
       "      <td>4.0</td>\n",
       "      <td>1.0</td>\n",
       "      <td>NaN</td>\n",
       "      <td>5.0</td>\n",
       "      <td>1.0</td>\n",
       "    </tr>\n",
       "    <tr>\n",
       "      <th>2</th>\n",
       "      <td>adria airways</td>\n",
       "      <td>e albin</td>\n",
       "      <td>2014-09-14</td>\n",
       "      <td>flew zurich-ljubljana on jp365 newish crj900. ...</td>\n",
       "      <td>NaN</td>\n",
       "      <td>economy</td>\n",
       "      <td>9.0</td>\n",
       "      <td>5.0</td>\n",
       "      <td>5.0</td>\n",
       "      <td>4.0</td>\n",
       "      <td>0.0</td>\n",
       "      <td>NaN</td>\n",
       "      <td>5.0</td>\n",
       "      <td>1.0</td>\n",
       "    </tr>\n",
       "    <tr>\n",
       "      <th>3</th>\n",
       "      <td>adria airways</td>\n",
       "      <td>tercon bojan</td>\n",
       "      <td>2014-09-06</td>\n",
       "      <td>adria serves this 100 min flight from ljubljan...</td>\n",
       "      <td>NaN</td>\n",
       "      <td>business class</td>\n",
       "      <td>8.0</td>\n",
       "      <td>4.0</td>\n",
       "      <td>4.0</td>\n",
       "      <td>3.0</td>\n",
       "      <td>1.0</td>\n",
       "      <td>NaN</td>\n",
       "      <td>4.0</td>\n",
       "      <td>1.0</td>\n",
       "    </tr>\n",
       "    <tr>\n",
       "      <th>4</th>\n",
       "      <td>adria airways</td>\n",
       "      <td>l james</td>\n",
       "      <td>2014-06-16</td>\n",
       "      <td>waw-skj economy. no free snacks or drinks on t...</td>\n",
       "      <td>NaN</td>\n",
       "      <td>economy</td>\n",
       "      <td>4.0</td>\n",
       "      <td>4.0</td>\n",
       "      <td>2.0</td>\n",
       "      <td>1.0</td>\n",
       "      <td>2.0</td>\n",
       "      <td>NaN</td>\n",
       "      <td>2.0</td>\n",
       "      <td>0.0</td>\n",
       "    </tr>\n",
       "  </tbody>\n",
       "</table>\n",
       "</div>"
      ],
      "text/plain": [
       "    airline_name        author       date  \\\n",
       "0  adria airways         d ito 2015-04-10   \n",
       "1  adria airways  ron kuhlmann 2015-01-05   \n",
       "2  adria airways       e albin 2014-09-14   \n",
       "3  adria airways  tercon bojan 2014-09-06   \n",
       "4  adria airways       l james 2014-06-16   \n",
       "\n",
       "                                             content type_traveller  \\\n",
       "0  outbound flight fra/prn a319. 2 hours 10 min f...            NaN   \n",
       "1  two short hops zrh-lju and lju-vie. very fast ...            NaN   \n",
       "2  flew zurich-ljubljana on jp365 newish crj900. ...            NaN   \n",
       "3  adria serves this 100 min flight from ljubljan...            NaN   \n",
       "4  waw-skj economy. no free snacks or drinks on t...            NaN   \n",
       "\n",
       "      cabin_flown  overall_rating  seat_comfort_rating  cabin_staff_rating  \\\n",
       "0         economy             7.0                  4.0                 4.0   \n",
       "1  business class            10.0                  4.0                 5.0   \n",
       "2         economy             9.0                  5.0                 5.0   \n",
       "3  business class             8.0                  4.0                 4.0   \n",
       "4         economy             4.0                  4.0                 2.0   \n",
       "\n",
       "   food_beverages_rating  inflight_entertainment_rating  \\\n",
       "0                    4.0                            0.0   \n",
       "1                    4.0                            1.0   \n",
       "2                    4.0                            0.0   \n",
       "3                    3.0                            1.0   \n",
       "4                    1.0                            2.0   \n",
       "\n",
       "   ground_service_rating  value_money_rating  recommended  \n",
       "0                    NaN                 4.0          1.0  \n",
       "1                    NaN                 5.0          1.0  \n",
       "2                    NaN                 5.0          1.0  \n",
       "3                    NaN                 4.0          1.0  \n",
       "4                    NaN                 2.0          0.0  "
      ]
     },
     "execution_count": 47,
     "metadata": {},
     "output_type": "execute_result"
    }
   ],
   "source": [
    "# concatenate and name it airline_final\n",
    "airline_final = pd.concat([airline_merged,airline3],axis=0,join='outer')\n",
    "\n",
    "# Reset index\n",
    "airline_final.reset_index(level=0, inplace=True,drop=True)\n",
    "\n",
    "airline_final.head()"
   ]
  },
  {
   "cell_type": "code",
   "execution_count": 48,
   "metadata": {},
   "outputs": [
    {
     "data": {
      "text/plain": [
       "(81373, 14)"
      ]
     },
     "execution_count": 48,
     "metadata": {},
     "output_type": "execute_result"
    }
   ],
   "source": [
    "airline_final.shape"
   ]
  },
  {
   "cell_type": "code",
   "execution_count": 49,
   "metadata": {},
   "outputs": [
    {
     "data": {
      "text/plain": [
       "105"
      ]
     },
     "execution_count": 49,
     "metadata": {},
     "output_type": "execute_result"
    }
   ],
   "source": [
    "# check duplicates\n",
    "airline_final.duplicated(subset=['content']).sum()"
   ]
  },
  {
   "cell_type": "code",
   "execution_count": 50,
   "metadata": {},
   "outputs": [],
   "source": [
    "# Drop duplicates and reset index\n",
    "airline_final.drop_duplicates(subset=['content'],inplace=True)\n",
    "airline_final.reset_index(level=0, inplace=True,drop=True)"
   ]
  },
  {
   "cell_type": "code",
   "execution_count": 53,
   "metadata": {},
   "outputs": [
    {
     "data": {
      "text/plain": [
       "(81268, 14)"
      ]
     },
     "execution_count": 53,
     "metadata": {},
     "output_type": "execute_result"
    }
   ],
   "source": [
    "# Final shape\n",
    "airline_final.shape"
   ]
  },
  {
   "cell_type": "markdown",
   "metadata": {},
   "source": [
    "## Imputation Null Values"
   ]
  },
  {
   "cell_type": "code",
   "execution_count": null,
   "metadata": {},
   "outputs": [],
   "source": []
  }
 ],
 "metadata": {
  "kernelspec": {
   "display_name": "Python 3",
   "language": "python",
   "name": "python3"
  },
  "language_info": {
   "codemirror_mode": {
    "name": "ipython",
    "version": 3
   },
   "file_extension": ".py",
   "mimetype": "text/x-python",
   "name": "python",
   "nbconvert_exporter": "python",
   "pygments_lexer": "ipython3",
   "version": "3.7.6"
  }
 },
 "nbformat": 4,
 "nbformat_minor": 4
}
