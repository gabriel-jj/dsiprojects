{
 "cells": [
  {
   "cell_type": "code",
   "execution_count": 81,
   "metadata": {},
   "outputs": [],
   "source": [
    "# Import libraries\n",
    "import pandas as pd\n",
    "import spacy\n",
    "import re\n",
    "import matplotlib.pyplot as plt\n",
    "import seaborn as sns\n",
    "import eli5\n",
    "import numpy as np\n",
    "\n",
    "# Gensim\n",
    "import gensim, logging, warnings\n",
    "import gensim.corpora as corpora\n",
    "from gensim.utils import simple_preprocess\n",
    "\n",
    "# nltk\n",
    "import nltk\n",
    "from nltk.corpus import stopwords\n",
    "from tqdm.notebook import tqdm\n",
    "\n",
    "# sklearn\n",
    "from sklearn.linear_model import LogisticRegression\n",
    "from sklearn.naive_bayes import MultinomialNB\n",
    "from sklearn.pipeline import Pipeline, make_pipeline\n",
    "from sklearn.feature_extraction.text import TfidfVectorizer\n",
    "from sklearn.decomposition import TruncatedSVD\n",
    "from sklearn.model_selection import GridSearchCV\n",
    "from sklearn.metrics import confusion_matrix, roc_auc_score, classification_report\n",
    "from sklearn.preprocessing import LabelBinarizer"
   ]
  },
  {
   "cell_type": "code",
   "execution_count": 2,
   "metadata": {},
   "outputs": [],
   "source": [
    "df = pd.read_csv('Data/airline_labelled.csv',parse_dates=['date'])"
   ]
  },
  {
   "cell_type": "code",
   "execution_count": 3,
   "metadata": {},
   "outputs": [
    {
     "data": {
      "text/html": [
       "<div>\n",
       "<style scoped>\n",
       "    .dataframe tbody tr th:only-of-type {\n",
       "        vertical-align: middle;\n",
       "    }\n",
       "\n",
       "    .dataframe tbody tr th {\n",
       "        vertical-align: top;\n",
       "    }\n",
       "\n",
       "    .dataframe thead th {\n",
       "        text-align: right;\n",
       "    }\n",
       "</style>\n",
       "<table border=\"1\" class=\"dataframe\">\n",
       "  <thead>\n",
       "    <tr style=\"text-align: right;\">\n",
       "      <th></th>\n",
       "      <th>airline_name</th>\n",
       "      <th>author</th>\n",
       "      <th>date</th>\n",
       "      <th>content</th>\n",
       "      <th>dominant_topic</th>\n",
       "    </tr>\n",
       "  </thead>\n",
       "  <tbody>\n",
       "    <tr>\n",
       "      <th>0</th>\n",
       "      <td>british airways</td>\n",
       "      <td>russ king</td>\n",
       "      <td>1970-01-01</td>\n",
       "      <td>sin-lhr ba12 b747-436 first class. old aircraf...</td>\n",
       "      <td>0.0</td>\n",
       "    </tr>\n",
       "    <tr>\n",
       "      <th>1</th>\n",
       "      <td>jet airways</td>\n",
       "      <td>mike vaz</td>\n",
       "      <td>2007-04-14</td>\n",
       "      <td>stansted to las vegas return. check-in for bot...</td>\n",
       "      <td>0.0</td>\n",
       "    </tr>\n",
       "    <tr>\n",
       "      <th>2</th>\n",
       "      <td>jet airways</td>\n",
       "      <td>j patton</td>\n",
       "      <td>2007-04-14</td>\n",
       "      <td>stn-las-stn very enjoyable trip on both flight...</td>\n",
       "      <td>0.0</td>\n",
       "    </tr>\n",
       "    <tr>\n",
       "      <th>3</th>\n",
       "      <td>jet airways</td>\n",
       "      <td>andres mesa</td>\n",
       "      <td>2007-04-19</td>\n",
       "      <td>stn-las-stn. slow check-in resulted from repet...</td>\n",
       "      <td>0.0</td>\n",
       "    </tr>\n",
       "    <tr>\n",
       "      <th>4</th>\n",
       "      <td>tacv cabo</td>\n",
       "      <td>j van den berg</td>\n",
       "      <td>2007-04-19</td>\n",
       "      <td>all domestic flights (5 in total) were on time...</td>\n",
       "      <td>0.0</td>\n",
       "    </tr>\n",
       "  </tbody>\n",
       "</table>\n",
       "</div>"
      ],
      "text/plain": [
       "      airline_name          author       date  \\\n",
       "0  british airways       russ king 1970-01-01   \n",
       "1      jet airways        mike vaz 2007-04-14   \n",
       "2      jet airways        j patton 2007-04-14   \n",
       "3      jet airways     andres mesa 2007-04-19   \n",
       "4        tacv cabo  j van den berg 2007-04-19   \n",
       "\n",
       "                                             content  dominant_topic  \n",
       "0  sin-lhr ba12 b747-436 first class. old aircraf...             0.0  \n",
       "1  stansted to las vegas return. check-in for bot...             0.0  \n",
       "2  stn-las-stn very enjoyable trip on both flight...             0.0  \n",
       "3  stn-las-stn. slow check-in resulted from repet...             0.0  \n",
       "4  all domestic flights (5 in total) were on time...             0.0  "
      ]
     },
     "execution_count": 3,
     "metadata": {},
     "output_type": "execute_result"
    }
   ],
   "source": [
    "df.head()"
   ]
  },
  {
   "cell_type": "code",
   "execution_count": 4,
   "metadata": {},
   "outputs": [
    {
     "data": {
      "text/plain": [
       "(80520, 5)"
      ]
     },
     "execution_count": 4,
     "metadata": {},
     "output_type": "execute_result"
    }
   ],
   "source": [
    "df.shape"
   ]
  },
  {
   "cell_type": "code",
   "execution_count": 5,
   "metadata": {},
   "outputs": [
    {
     "name": "stdout",
     "output_type": "stream",
     "text": [
      "<class 'pandas.core.frame.DataFrame'>\n",
      "RangeIndex: 80520 entries, 0 to 80519\n",
      "Data columns (total 5 columns):\n",
      " #   Column          Non-Null Count  Dtype         \n",
      "---  ------          --------------  -----         \n",
      " 0   airline_name    80520 non-null  object        \n",
      " 1   author          80520 non-null  object        \n",
      " 2   date            80520 non-null  datetime64[ns]\n",
      " 3   content         80520 non-null  object        \n",
      " 4   dominant_topic  80520 non-null  float64       \n",
      "dtypes: datetime64[ns](1), float64(1), object(3)\n",
      "memory usage: 3.1+ MB\n"
     ]
    }
   ],
   "source": [
    "df.info()"
   ]
  },
  {
   "cell_type": "code",
   "execution_count": 6,
   "metadata": {},
   "outputs": [
    {
     "data": {
      "text/plain": [
       "airline_name      0\n",
       "author            0\n",
       "date              0\n",
       "content           0\n",
       "dominant_topic    0\n",
       "dtype: int64"
      ]
     },
     "execution_count": 6,
     "metadata": {},
     "output_type": "execute_result"
    }
   ],
   "source": [
    "# Check for null\n",
    "df.isnull().sum()"
   ]
  },
  {
   "cell_type": "code",
   "execution_count": 7,
   "metadata": {},
   "outputs": [
    {
     "data": {
      "image/png": "[encoded data removed]",
      "text/plain": [
       "<Figure size 720x576 with 1 Axes>"
      ]
     },
     "metadata": {
      "needs_background": "light"
     },
     "output_type": "display_data"
    }
   ],
   "source": [
    "topicvalue = df['dominant_topic'].value_counts()\n",
    "plt.figure(figsize=[10,8])\n",
    "sns.set_style(\"dark\")\n",
    "sns.barplot(topicvalue.index, topicvalue.values, alpha=0.8)\n",
    "plt.title('Number of occurances in each topic',fontsize=15)\n",
    "plt.ylabel('Number of Occurrences', fontsize=12)\n",
    "plt.xlabel('Topic', fontsize=12)\n",
    "plt.show()"
   ]
  },
  {
   "cell_type": "markdown",
   "metadata": {},
   "source": [
    "### Data Cleaning\n",
    "\n",
    "As we will be using word2vec and glove to vectorize the data, hence we will try to conserve the sentence structure. Simple pre-processing like removing of non-english words and unnecessary punctuations will be done on the content"
   ]
  },
  {
   "cell_type": "code",
   "execution_count": 8,
   "metadata": {},
   "outputs": [
    {
     "data": {
      "text/html": [
       "<div>\n",
       "<style scoped>\n",
       "    .dataframe tbody tr th:only-of-type {\n",
       "        vertical-align: middle;\n",
       "    }\n",
       "\n",
       "    .dataframe tbody tr th {\n",
       "        vertical-align: top;\n",
       "    }\n",
       "\n",
       "    .dataframe thead th {\n",
       "        text-align: right;\n",
       "    }\n",
       "</style>\n",
       "<table border=\"1\" class=\"dataframe\">\n",
       "  <thead>\n",
       "    <tr style=\"text-align: right;\">\n",
       "      <th></th>\n",
       "      <th>airline_name</th>\n",
       "      <th>author</th>\n",
       "      <th>date</th>\n",
       "      <th>content</th>\n",
       "      <th>dominant_topic</th>\n",
       "    </tr>\n",
       "  </thead>\n",
       "  <tbody>\n",
       "    <tr>\n",
       "      <th>0</th>\n",
       "      <td>british airways</td>\n",
       "      <td>russ king</td>\n",
       "      <td>1970-01-01</td>\n",
       "      <td>sin lhr ba12 b747 436 first class old aircraft...</td>\n",
       "      <td>0.0</td>\n",
       "    </tr>\n",
       "    <tr>\n",
       "      <th>1</th>\n",
       "      <td>jet airways</td>\n",
       "      <td>mike vaz</td>\n",
       "      <td>2007-04-14</td>\n",
       "      <td>stansted to las vegas return check in for both...</td>\n",
       "      <td>0.0</td>\n",
       "    </tr>\n",
       "    <tr>\n",
       "      <th>2</th>\n",
       "      <td>jet airways</td>\n",
       "      <td>j patton</td>\n",
       "      <td>2007-04-14</td>\n",
       "      <td>stn las stn very enjoyable trip on both flight...</td>\n",
       "      <td>0.0</td>\n",
       "    </tr>\n",
       "    <tr>\n",
       "      <th>3</th>\n",
       "      <td>jet airways</td>\n",
       "      <td>andres mesa</td>\n",
       "      <td>2007-04-19</td>\n",
       "      <td>stn las stn slow check in resulted from repeti...</td>\n",
       "      <td>0.0</td>\n",
       "    </tr>\n",
       "    <tr>\n",
       "      <th>4</th>\n",
       "      <td>tacv cabo</td>\n",
       "      <td>j van den berg</td>\n",
       "      <td>2007-04-19</td>\n",
       "      <td>all domestic flights 5 in total were on time t...</td>\n",
       "      <td>0.0</td>\n",
       "    </tr>\n",
       "  </tbody>\n",
       "</table>\n",
       "</div>"
      ],
      "text/plain": [
       "      airline_name          author       date  \\\n",
       "0  british airways       russ king 1970-01-01   \n",
       "1      jet airways        mike vaz 2007-04-14   \n",
       "2      jet airways        j patton 2007-04-14   \n",
       "3      jet airways     andres mesa 2007-04-19   \n",
       "4        tacv cabo  j van den berg 2007-04-19   \n",
       "\n",
       "                                             content  dominant_topic  \n",
       "0  sin lhr ba12 b747 436 first class old aircraft...             0.0  \n",
       "1  stansted to las vegas return check in for both...             0.0  \n",
       "2  stn las stn very enjoyable trip on both flight...             0.0  \n",
       "3  stn las stn slow check in resulted from repeti...             0.0  \n",
       "4  all domestic flights 5 in total were on time t...             0.0  "
      ]
     },
     "execution_count": 8,
     "metadata": {},
     "output_type": "execute_result"
    }
   ],
   "source": [
    "# Keep only alphabet, digit and space:\n",
    "df['content'] = df['content'].map(lambda s: re.sub(r'[\\W_]+', ' ', s))\n",
    "df.head()"
   ]
  },
  {
   "cell_type": "code",
   "execution_count": 9,
   "metadata": {},
   "outputs": [],
   "source": [
    "# Remove non-english words\n",
    "import nltk\n",
    "words = set(nltk.corpus.words.words())\n",
    "\n",
    "for i, sent in enumerate(df.loc[:,'content']):\n",
    "    \" \".join(w for w in nltk.wordpunct_tokenize(sent) \\\n",
    "                                if w.lower() in words or not w.isalpha())"
   ]
  },
  {
   "cell_type": "code",
   "execution_count": 10,
   "metadata": {},
   "outputs": [
    {
     "data": {
      "text/html": [
       "<div>\n",
       "<style scoped>\n",
       "    .dataframe tbody tr th:only-of-type {\n",
       "        vertical-align: middle;\n",
       "    }\n",
       "\n",
       "    .dataframe tbody tr th {\n",
       "        vertical-align: top;\n",
       "    }\n",
       "\n",
       "    .dataframe thead th {\n",
       "        text-align: right;\n",
       "    }\n",
       "</style>\n",
       "<table border=\"1\" class=\"dataframe\">\n",
       "  <thead>\n",
       "    <tr style=\"text-align: right;\">\n",
       "      <th></th>\n",
       "      <th>airline_name</th>\n",
       "      <th>author</th>\n",
       "      <th>date</th>\n",
       "      <th>content</th>\n",
       "      <th>dominant_topic</th>\n",
       "    </tr>\n",
       "  </thead>\n",
       "  <tbody>\n",
       "    <tr>\n",
       "      <th>0</th>\n",
       "      <td>british airways</td>\n",
       "      <td>russ king</td>\n",
       "      <td>1970-01-01</td>\n",
       "      <td>sin lhr ba12 b747 436 first class old aircraft...</td>\n",
       "      <td>0.0</td>\n",
       "    </tr>\n",
       "    <tr>\n",
       "      <th>1</th>\n",
       "      <td>jet airways</td>\n",
       "      <td>mike vaz</td>\n",
       "      <td>2007-04-14</td>\n",
       "      <td>stansted to las vegas return check in for both...</td>\n",
       "      <td>0.0</td>\n",
       "    </tr>\n",
       "    <tr>\n",
       "      <th>2</th>\n",
       "      <td>jet airways</td>\n",
       "      <td>j patton</td>\n",
       "      <td>2007-04-14</td>\n",
       "      <td>stn las stn very enjoyable trip on both flight...</td>\n",
       "      <td>0.0</td>\n",
       "    </tr>\n",
       "    <tr>\n",
       "      <th>3</th>\n",
       "      <td>jet airways</td>\n",
       "      <td>andres mesa</td>\n",
       "      <td>2007-04-19</td>\n",
       "      <td>stn las stn slow check in resulted from repeti...</td>\n",
       "      <td>0.0</td>\n",
       "    </tr>\n",
       "    <tr>\n",
       "      <th>4</th>\n",
       "      <td>tacv cabo</td>\n",
       "      <td>j van den berg</td>\n",
       "      <td>2007-04-19</td>\n",
       "      <td>all domestic flights 5 in total were on time t...</td>\n",
       "      <td>0.0</td>\n",
       "    </tr>\n",
       "  </tbody>\n",
       "</table>\n",
       "</div>"
      ],
      "text/plain": [
       "      airline_name          author       date  \\\n",
       "0  british airways       russ king 1970-01-01   \n",
       "1      jet airways        mike vaz 2007-04-14   \n",
       "2      jet airways        j patton 2007-04-14   \n",
       "3      jet airways     andres mesa 2007-04-19   \n",
       "4        tacv cabo  j van den berg 2007-04-19   \n",
       "\n",
       "                                             content  dominant_topic  \n",
       "0  sin lhr ba12 b747 436 first class old aircraft...             0.0  \n",
       "1  stansted to las vegas return check in for both...             0.0  \n",
       "2  stn las stn very enjoyable trip on both flight...             0.0  \n",
       "3  stn las stn slow check in resulted from repeti...             0.0  \n",
       "4  all domestic flights 5 in total were on time t...             0.0  "
      ]
     },
     "execution_count": 10,
     "metadata": {},
     "output_type": "execute_result"
    }
   ],
   "source": [
    "# Sanity check\n",
    "df.head()"
   ]
  },
  {
   "cell_type": "markdown",
   "metadata": {},
   "source": [
    "### Pre-processing"
   ]
  },
  {
   "cell_type": "code",
   "execution_count": 11,
   "metadata": {},
   "outputs": [
    {
     "name": "stdout",
     "output_type": "stream",
     "text": [
      "65199\n",
      "15321\n"
     ]
    }
   ],
   "source": [
    "# Number of reviews before year 2018\n",
    "print(len(df[df['date'] <= '2017-12-31']))\n",
    "\n",
    "# Number of reviews for year 2018 onwards\n",
    "print(len(df[df['date'] > '2017-12-31']))"
   ]
  },
  {
   "cell_type": "code",
   "execution_count": 12,
   "metadata": {},
   "outputs": [
    {
     "data": {
      "text/plain": [
       "0.0    0.620868\n",
       "1.0    0.285802\n",
       "2.0    0.093330\n",
       "Name: dominant_topic, dtype: float64"
      ]
     },
     "execution_count": 12,
     "metadata": {},
     "output_type": "execute_result"
    }
   ],
   "source": [
    "# Before Year 2018\n",
    "df[df['date'] <= '2017-12-31']['dominant_topic'].value_counts(normalize=True)"
   ]
  },
  {
   "cell_type": "code",
   "execution_count": 13,
   "metadata": {},
   "outputs": [
    {
     "data": {
      "text/plain": [
       "1.0    0.559755\n",
       "0.0    0.356308\n",
       "2.0    0.083937\n",
       "Name: dominant_topic, dtype: float64"
      ]
     },
     "execution_count": 13,
     "metadata": {},
     "output_type": "execute_result"
    }
   ],
   "source": [
    "# Year 2018 onwards\n",
    "df[df['date'] > '2017-12-31']['dominant_topic'].value_counts(normalize=True)"
   ]
  },
  {
   "cell_type": "code",
   "execution_count": 14,
   "metadata": {},
   "outputs": [
    {
     "data": {
      "text/plain": [
       "0.23498826669120693"
      ]
     },
     "execution_count": 14,
     "metadata": {},
     "output_type": "execute_result"
    }
   ],
   "source": [
    "# test to train ratio\n",
    "len(df[df['date'] > '2017-12-31']) / len(df[df['date'] <= '2017-12-31'])"
   ]
  },
  {
   "cell_type": "code",
   "execution_count": 15,
   "metadata": {},
   "outputs": [],
   "source": [
    "# Split train and test by dates\n",
    "train = df[df['date'] <= '2017-12-31']\n",
    "test = df[df['date'] > '2017-12-31']"
   ]
  },
  {
   "cell_type": "code",
   "execution_count": 16,
   "metadata": {},
   "outputs": [],
   "source": [
    "# Train-test-split\n",
    "X_train = train['content']\n",
    "y_train = train['dominant_topic']\n",
    "X_test = test['content']\n",
    "y_test = test['dominant_topic']"
   ]
  },
  {
   "cell_type": "markdown",
   "metadata": {},
   "source": [
    "## Modelling"
   ]
  },
  {
   "cell_type": "markdown",
   "metadata": {},
   "source": [
    "### Using LSA and Logistic Regression. \n",
    "\n",
    "Words are represented as high-dimensional vectors in this semantic space. SVD will reduce dimensionality and remove noise.\n",
    "\n",
    "![](Image/LSA.png)"
   ]
  },
  {
   "cell_type": "code",
   "execution_count": 37,
   "metadata": {},
   "outputs": [],
   "source": [
    "# instantiate\n",
    "tvec = TfidfVectorizer()\n",
    "svd = TruncatedSVD()\n",
    "lr = LogisticRegression(max_iter=1000)"
   ]
  },
  {
   "cell_type": "code",
   "execution_count": 38,
   "metadata": {},
   "outputs": [],
   "source": [
    "# Setup pipeline\n",
    "pipe_lsa = make_pipeline(tvec,svd,lr)"
   ]
  },
  {
   "cell_type": "code",
   "execution_count": 40,
   "metadata": {},
   "outputs": [],
   "source": [
    "# Set the pipe params\n",
    "pipe_lsa_params = {\n",
    "    'truncatedsvd__n_components': [50,100],\n",
    "    'logisticregression__C': [1.0,0.9,0.8],\n",
    "    'logisticregression__solver': ['lbfgs','newton-cg']    \n",
    "}"
   ]
  },
  {
   "cell_type": "code",
   "execution_count": 41,
   "metadata": {},
   "outputs": [],
   "source": [
    "# Instantiate gridsearchCV\n",
    "gs_lsa = GridSearchCV(pipe_lsa,\n",
    "                     param_grid=pipe_lsa_params,\n",
    "                     cv=5,\n",
    "                     verbose=1)"
   ]
  },
  {
   "cell_type": "code",
   "execution_count": 42,
   "metadata": {},
   "outputs": [
    {
     "name": "stdout",
     "output_type": "stream",
     "text": [
      "Fitting 5 folds for each of 12 candidates, totalling 60 fits\n"
     ]
    },
    {
     "name": "stderr",
     "output_type": "stream",
     "text": [
      "[Parallel(n_jobs=1)]: Using backend SequentialBackend with 1 concurrent workers.\n",
      "[Parallel(n_jobs=1)]: Done  60 out of  60 | elapsed: 13.3min finished\n"
     ]
    },
    {
     "data": {
      "text/plain": [
       "GridSearchCV(cv=5,\n",
       "             estimator=Pipeline(steps=[('tfidfvectorizer', TfidfVectorizer()),\n",
       "                                       ('truncatedsvd', TruncatedSVD()),\n",
       "                                       ('logisticregression',\n",
       "                                        LogisticRegression(max_iter=1000))]),\n",
       "             param_grid={'logisticregression__C': [1.0, 0.9, 0.8],\n",
       "                         'logisticregression__solver': ['lbfgs', 'newton-cg'],\n",
       "                         'truncatedsvd__n_components': [50, 100]},\n",
       "             verbose=1)"
      ]
     },
     "execution_count": 42,
     "metadata": {},
     "output_type": "execute_result"
    }
   ],
   "source": [
    "# Fit gridsearch\n",
    "gs_lsa.fit(X_train,y_train)"
   ]
  },
  {
   "cell_type": "code",
   "execution_count": 43,
   "metadata": {},
   "outputs": [
    {
     "data": {
      "text/plain": [
       "0.9071459147804344"
      ]
     },
     "execution_count": 43,
     "metadata": {},
     "output_type": "execute_result"
    }
   ],
   "source": [
    "# Gridsearch best score\n",
    "gs_lsa.best_score_"
   ]
  },
  {
   "cell_type": "code",
   "execution_count": 44,
   "metadata": {},
   "outputs": [
    {
     "data": {
      "text/plain": [
       "{'logisticregression__C': 0.9,\n",
       " 'logisticregression__solver': 'lbfgs',\n",
       " 'truncatedsvd__n_components': 100}"
      ]
     },
     "execution_count": 44,
     "metadata": {},
     "output_type": "execute_result"
    }
   ],
   "source": [
    "# Get the best hyperparameters\n",
    "gs_lsa.best_params_"
   ]
  },
  {
   "cell_type": "code",
   "execution_count": 45,
   "metadata": {},
   "outputs": [
    {
     "data": {
      "text/plain": [
       "0.9100753079034954"
      ]
     },
     "execution_count": 45,
     "metadata": {},
     "output_type": "execute_result"
    }
   ],
   "source": [
    "# Score model on training set\n",
    "gs_lsa.score(X_train,y_train)"
   ]
  },
  {
   "cell_type": "code",
   "execution_count": 46,
   "metadata": {},
   "outputs": [
    {
     "data": {
      "text/plain": [
       "0.9146269825729391"
      ]
     },
     "execution_count": 46,
     "metadata": {},
     "output_type": "execute_result"
    }
   ],
   "source": [
    "# Score model on testing set\n",
    "gs_lsa.score(X_test,y_test)"
   ]
  },
  {
   "cell_type": "code",
   "execution_count": 47,
   "metadata": {},
   "outputs": [],
   "source": [
    "# make pred on y_test\n",
    "y_pred = gs_lsa.predict(X_test)"
   ]
  },
  {
   "cell_type": "code",
   "execution_count": 50,
   "metadata": {},
   "outputs": [
    {
     "data": {
      "text/plain": [
       "array([[5149,  244,   66],\n",
       "       [ 354, 8060,  162],\n",
       "       [ 193,  289,  804]], dtype=int64)"
      ]
     },
     "execution_count": 50,
     "metadata": {},
     "output_type": "execute_result"
    }
   ],
   "source": [
    "# Confusion matrix\n",
    "lsa_matrix = confusion_matrix(y_test,y_pred)\n",
    "lsa_matrix"
   ]
  },
  {
   "cell_type": "code",
   "execution_count": 67,
   "metadata": {},
   "outputs": [
    {
     "data": {
      "image/png": "[encoded data removed]",
      "text/plain": [
       "<Figure size 504x360 with 2 Axes>"
      ]
     },
     "metadata": {},
     "output_type": "display_data"
    }
   ],
   "source": [
    "# Plot Confusion matrix\n",
    "label_names=[0,1,2]\n",
    "fig, ax = plt.subplots(figsize=(7,5))\n",
    "tick_marks = np.arange(len(label_names))\n",
    "plt.xticks(tick_marks, label_names)\n",
    "plt.yticks(tick_marks, label_names)\n",
    "sns.heatmap(pd.DataFrame(lsa_matrix), annot=True, cmap=\"coolwarm\" ,fmt='g')\n",
    "ax.xaxis.set_label_position(\"bottom\")\n",
    "plt.tight_layout()\n",
    "plt.title('Confusion matrix', y=1.1, fontsize=15)\n",
    "plt.ylabel('Actual label')\n",
    "plt.xlabel('Predicted label');"
   ]
  },
  {
   "cell_type": "code",
   "execution_count": 76,
   "metadata": {},
   "outputs": [
    {
     "name": "stdout",
     "output_type": "stream",
     "text": [
      "              precision    recall  f1-score   support\n",
      "\n",
      "         0.0       0.90      0.94      0.92      5459\n",
      "         1.0       0.94      0.94      0.94      8576\n",
      "         2.0       0.78      0.63      0.69      1286\n",
      "\n",
      "    accuracy                           0.91     15321\n",
      "   macro avg       0.87      0.84      0.85     15321\n",
      "weighted avg       0.91      0.91      0.91     15321\n",
      "\n"
     ]
    }
   ],
   "source": [
    "# Classification score\n",
    "lsa_report = classification_report(\n",
    "    digits=2,\n",
    "    y_true=y_test,\n",
    "    y_pred=gs_lsa.predict(X_test)\n",
    ")\n",
    "\n",
    "print(lsa_report)"
   ]
  },
  {
   "cell_type": "code",
   "execution_count": 85,
   "metadata": {},
   "outputs": [
    {
     "data": {
      "text/plain": [
       "0.8929179186176203"
      ]
     },
     "execution_count": 85,
     "metadata": {},
     "output_type": "execute_result"
    }
   ],
   "source": [
    "# ROC AUC score\n",
    "def multiclass_roc_auc_score(y_test, y_pred, average=\"macro\"):\n",
    "    lb = LabelBinarizer()\n",
    "    lb.fit(y_test)\n",
    "\n",
    "    y_test = lb.transform(y_test)\n",
    "    y_pred = lb.transform(y_pred)\n",
    "\n",
    "    return roc_auc_score(y_test, y_pred, average=average)\n",
    "\n",
    "multiclass_roc_auc_score(y_test,gs_lsa.predict(X_test))"
   ]
  },
  {
   "cell_type": "markdown",
   "metadata": {},
   "source": [
    "### TF-IDF and Logistic Regression"
   ]
  },
  {
   "cell_type": "code",
   "execution_count": 86,
   "metadata": {},
   "outputs": [],
   "source": [
    "# instantiate\n",
    "tvec = TfidfVectorizer()\n",
    "lr_tf = LogisticRegression(max_iter=1000)"
   ]
  },
  {
   "cell_type": "code",
   "execution_count": 87,
   "metadata": {},
   "outputs": [],
   "source": [
    "# Setup pipeline\n",
    "pipe_tvec = make_pipeline(tvec,lr_tf)"
   ]
  },
  {
   "cell_type": "code",
   "execution_count": 89,
   "metadata": {},
   "outputs": [],
   "source": [
    "# Set the pipe params\n",
    "pipe_tvec_params = {\n",
    "    'tfidfvectorizer__min_df': [2, 3],\n",
    "    'tfidfvectorizer__max_df': [.9, .95],\n",
    "    'tfidfvectorizer__ngram_range': [(1,1), (1,2)],\n",
    "    'logisticregression__C': [1.0,0.9,0.8], \n",
    "}"
   ]
  },
  {
   "cell_type": "code",
   "execution_count": 91,
   "metadata": {},
   "outputs": [],
   "source": [
    "# Instantiate gridsearchCV\n",
    "gs_tvec = GridSearchCV(pipe_tvec,\n",
    "                     param_grid=pipe_tvec_params,\n",
    "                     cv=5,\n",
    "                     verbose=1)"
   ]
  },
  {
   "cell_type": "code",
   "execution_count": 92,
   "metadata": {},
   "outputs": [
    {
     "name": "stdout",
     "output_type": "stream",
     "text": [
      "Fitting 5 folds for each of 24 candidates, totalling 120 fits\n"
     ]
    },
    {
     "name": "stderr",
     "output_type": "stream",
     "text": [
      "[Parallel(n_jobs=1)]: Using backend SequentialBackend with 1 concurrent workers.\n",
      "[Parallel(n_jobs=1)]: Done 120 out of 120 | elapsed: 78.7min finished\n"
     ]
    },
    {
     "data": {
      "text/plain": [
       "GridSearchCV(cv=5,\n",
       "             estimator=Pipeline(steps=[('tfidfvectorizer', TfidfVectorizer()),\n",
       "                                       ('logisticregression',\n",
       "                                        LogisticRegression(max_iter=1000))]),\n",
       "             param_grid={'logisticregression__C': [1.0, 0.9, 0.8],\n",
       "                         'tfidfvectorizer__max_df': [0.9, 0.95],\n",
       "                         'tfidfvectorizer__min_df': [2, 3],\n",
       "                         'tfidfvectorizer__ngram_range': [(1, 1), (1, 2)]},\n",
       "             verbose=1)"
      ]
     },
     "execution_count": 92,
     "metadata": {},
     "output_type": "execute_result"
    }
   ],
   "source": [
    "# Fit gridsearch\n",
    "gs_tvec.fit(X_train,y_train)"
   ]
  },
  {
   "cell_type": "code",
   "execution_count": 93,
   "metadata": {},
   "outputs": [
    {
     "data": {
      "text/plain": [
       "0.9314407755967586"
      ]
     },
     "execution_count": 93,
     "metadata": {},
     "output_type": "execute_result"
    }
   ],
   "source": [
    "# Gridsearch best score\n",
    "gs_tvec.best_score_"
   ]
  },
  {
   "cell_type": "code",
   "execution_count": 94,
   "metadata": {},
   "outputs": [
    {
     "data": {
      "text/plain": [
       "{'logisticregression__C': 1.0,\n",
       " 'tfidfvectorizer__max_df': 0.9,\n",
       " 'tfidfvectorizer__min_df': 3,\n",
       " 'tfidfvectorizer__ngram_range': (1, 1)}"
      ]
     },
     "execution_count": 94,
     "metadata": {},
     "output_type": "execute_result"
    }
   ],
   "source": [
    "# Get the best hyperparameters\n",
    "gs_tvec.best_params_"
   ]
  },
  {
   "cell_type": "code",
   "execution_count": 95,
   "metadata": {},
   "outputs": [
    {
     "data": {
      "text/plain": [
       "0.9654902682556481"
      ]
     },
     "execution_count": 95,
     "metadata": {},
     "output_type": "execute_result"
    }
   ],
   "source": [
    "# Score model on training set\n",
    "gs_tvec.score(X_train,y_train)"
   ]
  },
  {
   "cell_type": "code",
   "execution_count": 96,
   "metadata": {},
   "outputs": [
    {
     "data": {
      "text/plain": [
       "0.9449122119966059"
      ]
     },
     "execution_count": 96,
     "metadata": {},
     "output_type": "execute_result"
    }
   ],
   "source": [
    "# Score model on testing set\n",
    "gs_tvec.score(X_test,y_test)"
   ]
  },
  {
   "cell_type": "code",
   "execution_count": 97,
   "metadata": {},
   "outputs": [],
   "source": [
    "# make pred on y_test\n",
    "y_pred = gs_tvec.predict(X_test)"
   ]
  },
  {
   "cell_type": "code",
   "execution_count": 98,
   "metadata": {},
   "outputs": [
    {
     "data": {
      "text/plain": [
       "array([[5282,  132,   45],\n",
       "       [ 222, 8267,   87],\n",
       "       [ 148,  210,  928]], dtype=int64)"
      ]
     },
     "execution_count": 98,
     "metadata": {},
     "output_type": "execute_result"
    }
   ],
   "source": [
    "# Confusion matrix\n",
    "tvec_matrix = confusion_matrix(y_test,y_pred)\n",
    "tvec_matrix"
   ]
  },
  {
   "cell_type": "code",
   "execution_count": 99,
   "metadata": {},
   "outputs": [
    {
     "data": {
      "image/png": "[encoded data removed]",
      "text/plain": [
       "<Figure size 504x360 with 2 Axes>"
      ]
     },
     "metadata": {},
     "output_type": "display_data"
    }
   ],
   "source": [
    "# Plot Confusion matrix\n",
    "label_names=[0,1,2]\n",
    "fig, ax = plt.subplots(figsize=(7,5))\n",
    "tick_marks = np.arange(len(label_names))\n",
    "plt.xticks(tick_marks, label_names)\n",
    "plt.yticks(tick_marks, label_names)\n",
    "sns.heatmap(pd.DataFrame(tvec_matrix), annot=True, cmap=\"coolwarm\" ,fmt='g')\n",
    "ax.xaxis.set_label_position(\"bottom\")\n",
    "plt.tight_layout()\n",
    "plt.title('Confusion matrix', y=1.1, fontsize=15)\n",
    "plt.ylabel('Actual label')\n",
    "plt.xlabel('Predicted label');"
   ]
  },
  {
   "cell_type": "code",
   "execution_count": 103,
   "metadata": {},
   "outputs": [
    {
     "name": "stdout",
     "output_type": "stream",
     "text": [
      "              precision    recall  f1-score   support\n",
      "\n",
      "         0.0       0.93      0.97      0.95      5459\n",
      "         1.0       0.96      0.96      0.96      8576\n",
      "         2.0       0.88      0.72      0.79      1286\n",
      "\n",
      "    accuracy                           0.94     15321\n",
      "   macro avg       0.92      0.88      0.90     15321\n",
      "weighted avg       0.94      0.94      0.94     15321\n",
      "\n"
     ]
    }
   ],
   "source": [
    "# Classification score\n",
    "tvec_report = classification_report(\n",
    "    digits=2,\n",
    "    y_true=y_test,\n",
    "    y_pred=gs_tvec.predict(X_test)\n",
    ")\n",
    "\n",
    "print(tvec_report)"
   ]
  },
  {
   "cell_type": "code",
   "execution_count": 102,
   "metadata": {},
   "outputs": [
    {
     "data": {
      "text/plain": [
       "0.9259226808274948"
      ]
     },
     "execution_count": 102,
     "metadata": {},
     "output_type": "execute_result"
    }
   ],
   "source": [
    "# ROC AUC score\n",
    "def multiclass_roc_auc_score(y_test, y_pred, average=\"macro\"):\n",
    "    lb = LabelBinarizer()\n",
    "    lb.fit(y_test)\n",
    "\n",
    "    y_test = lb.transform(y_test)\n",
    "    y_pred = lb.transform(y_pred)\n",
    "\n",
    "    return roc_auc_score(y_test, y_pred, average=average)\n",
    "\n",
    "multiclass_roc_auc_score(y_test,gs_tvec.predict(X_test))"
   ]
  }
 ],
 "metadata": {
  "kernelspec": {
   "display_name": "Python 3",
   "language": "python",
   "name": "python3"
  },
  "language_info": {
   "codemirror_mode": {
    "name": "ipython",
    "version": 3
   },
   "file_extension": ".py",
   "mimetype": "text/x-python",
   "name": "python",
   "nbconvert_exporter": "python",
   "pygments_lexer": "ipython3",
   "version": "3.6.10"
  }
 },
 "nbformat": 4,
 "nbformat_minor": 4
}
