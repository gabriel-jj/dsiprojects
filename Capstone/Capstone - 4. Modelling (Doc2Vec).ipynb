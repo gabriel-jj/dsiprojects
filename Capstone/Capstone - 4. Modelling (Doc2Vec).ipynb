{
 "cells": [
  {
   "cell_type": "code",
   "execution_count": 29,
   "metadata": {},
   "outputs": [],
   "source": [
    "# Import libraries\n",
    "import pandas as pd\n",
    "import numpy as np\n",
    "import re\n",
    "import seaborn as sns\n",
    "import matplotlib.pyplot as plt\n",
    "from tqdm import tqdm\n",
    "tqdm.pandas(desc=\"progress-bar\")\n",
    "\n",
    "# Sklearn\n",
    "from sklearn.linear_model import LogisticRegression\n",
    "from sklearn import utils\n",
    "from sklearn.model_selection import train_test_split\n",
    "from sklearn.metrics import confusion_matrix, roc_auc_score, classification_report\n",
    "from sklearn.preprocessing import LabelBinarizer\n",
    "\n",
    "# Gensim\n",
    "import gensim\n",
    "from gensim.models import Doc2Vec\n",
    "from gensim.models.doc2vec import TaggedDocument\n",
    "\n",
    "# Nltk\n",
    "import nltk\n",
    "from nltk.corpus import stopwords\n",
    "\n",
    "%matplotlib inline"
   ]
  },
  {
   "cell_type": "code",
   "execution_count": 2,
   "metadata": {},
   "outputs": [],
   "source": [
    "df = pd.read_csv('Data/airline_labelled.csv',parse_dates=['date'])"
   ]
  },
  {
   "cell_type": "code",
   "execution_count": 3,
   "metadata": {},
   "outputs": [
    {
     "data": {
      "text/html": [
       "<div>\n",
       "<style scoped>\n",
       "    .dataframe tbody tr th:only-of-type {\n",
       "        vertical-align: middle;\n",
       "    }\n",
       "\n",
       "    .dataframe tbody tr th {\n",
       "        vertical-align: top;\n",
       "    }\n",
       "\n",
       "    .dataframe thead th {\n",
       "        text-align: right;\n",
       "    }\n",
       "</style>\n",
       "<table border=\"1\" class=\"dataframe\">\n",
       "  <thead>\n",
       "    <tr style=\"text-align: right;\">\n",
       "      <th></th>\n",
       "      <th>content</th>\n",
       "      <th>dominant_topic</th>\n",
       "      <th>date</th>\n",
       "    </tr>\n",
       "  </thead>\n",
       "  <tbody>\n",
       "    <tr>\n",
       "      <th>0</th>\n",
       "      <td>sin-lhr ba12 b747-436 first class. old aircraf...</td>\n",
       "      <td>0.0</td>\n",
       "      <td>1970-01-01</td>\n",
       "    </tr>\n",
       "    <tr>\n",
       "      <th>1</th>\n",
       "      <td>stansted to las vegas return. check-in for bot...</td>\n",
       "      <td>0.0</td>\n",
       "      <td>2007-04-14</td>\n",
       "    </tr>\n",
       "    <tr>\n",
       "      <th>2</th>\n",
       "      <td>stn-las-stn very enjoyable trip on both flight...</td>\n",
       "      <td>0.0</td>\n",
       "      <td>2007-04-14</td>\n",
       "    </tr>\n",
       "    <tr>\n",
       "      <th>3</th>\n",
       "      <td>stn-las-stn. slow check-in resulted from repet...</td>\n",
       "      <td>0.0</td>\n",
       "      <td>2007-04-19</td>\n",
       "    </tr>\n",
       "    <tr>\n",
       "      <th>4</th>\n",
       "      <td>all domestic flights (5 in total) were on time...</td>\n",
       "      <td>0.0</td>\n",
       "      <td>2007-04-19</td>\n",
       "    </tr>\n",
       "  </tbody>\n",
       "</table>\n",
       "</div>"
      ],
      "text/plain": [
       "                                             content  dominant_topic  \\\n",
       "0  sin-lhr ba12 b747-436 first class. old aircraf...             0.0   \n",
       "1  stansted to las vegas return. check-in for bot...             0.0   \n",
       "2  stn-las-stn very enjoyable trip on both flight...             0.0   \n",
       "3  stn-las-stn. slow check-in resulted from repet...             0.0   \n",
       "4  all domestic flights (5 in total) were on time...             0.0   \n",
       "\n",
       "        date  \n",
       "0 1970-01-01  \n",
       "1 2007-04-14  \n",
       "2 2007-04-14  \n",
       "3 2007-04-19  \n",
       "4 2007-04-19  "
      ]
     },
     "execution_count": 3,
     "metadata": {},
     "output_type": "execute_result"
    }
   ],
   "source": [
    "df = df[['content','dominant_topic','date']]\n",
    "df.head()"
   ]
  },
  {
   "cell_type": "code",
   "execution_count": 4,
   "metadata": {},
   "outputs": [
    {
     "data": {
      "text/plain": [
       "(80520, 3)"
      ]
     },
     "execution_count": 4,
     "metadata": {},
     "output_type": "execute_result"
    }
   ],
   "source": [
    "df.shape"
   ]
  },
  {
   "cell_type": "code",
   "execution_count": 5,
   "metadata": {},
   "outputs": [
    {
     "name": "stdout",
     "output_type": "stream",
     "text": [
      "<class 'pandas.core.frame.DataFrame'>\n",
      "RangeIndex: 80520 entries, 0 to 80519\n",
      "Data columns (total 3 columns):\n",
      " #   Column          Non-Null Count  Dtype         \n",
      "---  ------          --------------  -----         \n",
      " 0   content         80520 non-null  object        \n",
      " 1   dominant_topic  80520 non-null  float64       \n",
      " 2   date            80520 non-null  datetime64[ns]\n",
      "dtypes: datetime64[ns](1), float64(1), object(1)\n",
      "memory usage: 1.8+ MB\n"
     ]
    }
   ],
   "source": [
    "df.info()"
   ]
  },
  {
   "cell_type": "code",
   "execution_count": 6,
   "metadata": {},
   "outputs": [
    {
     "data": {
      "text/plain": [
       "content           0\n",
       "dominant_topic    0\n",
       "date              0\n",
       "dtype: int64"
      ]
     },
     "execution_count": 6,
     "metadata": {},
     "output_type": "execute_result"
    }
   ],
   "source": [
    "# Check for null\n",
    "df.isnull().sum()"
   ]
  },
  {
   "cell_type": "code",
   "execution_count": 7,
   "metadata": {},
   "outputs": [
    {
     "data": {
      "image/png": "[encoded data removed]",
      "text/plain": [
       "<Figure size 720x576 with 1 Axes>"
      ]
     },
     "metadata": {
      "needs_background": "light"
     },
     "output_type": "display_data"
    }
   ],
   "source": [
    "topicvalue = df['dominant_topic'].value_counts()\n",
    "plt.figure(figsize=[10,8])\n",
    "sns.set_style(\"dark\")\n",
    "sns.barplot(topicvalue.index, topicvalue.values, alpha=0.8)\n",
    "plt.title('Number of occurances in each topic',fontsize=15)\n",
    "plt.ylabel('Number of Occurrences', fontsize=12)\n",
    "plt.xlabel('Topic', fontsize=12)\n",
    "plt.show()"
   ]
  },
  {
   "cell_type": "markdown",
   "metadata": {},
   "source": [
    "### Text Preprocessing"
   ]
  },
  {
   "cell_type": "code",
   "execution_count": 8,
   "metadata": {},
   "outputs": [
    {
     "name": "stdout",
     "output_type": "stream",
     "text": [
      "las-stn-las. seats comfortable service was good. both flights on time fast track through security wonderful. i think maxjet gives good value for the money will use them again - hoping they eventually having flights leaving from the los angeles area!\n",
      "Dominant_topic: 0.0\n"
     ]
    }
   ],
   "source": [
    "def print_complaint(index):\n",
    "    example = df[df.index == index][['content','dominant_topic']].values[0]\n",
    "    if len(example) > 0:\n",
    "        print(example[0])\n",
    "        print('Dominant_topic:', example[1])\n",
    "\n",
    "print_complaint(12)"
   ]
  },
  {
   "cell_type": "code",
   "execution_count": 9,
   "metadata": {},
   "outputs": [],
   "source": [
    "# Split train and test by dates\n",
    "train = df[df['date'] <= '2017-12-31']\n",
    "test = df[df['date'] > '2017-12-31']"
   ]
  },
  {
   "cell_type": "code",
   "execution_count": 10,
   "metadata": {},
   "outputs": [],
   "source": [
    "# Tokenize text\n",
    "def tokenize_text(text):\n",
    "    tokens = []\n",
    "    for sent in nltk.sent_tokenize(text):\n",
    "        for word in nltk.word_tokenize(sent):\n",
    "            if len(word) < 2:\n",
    "                continue\n",
    "            tokens.append(word.lower())\n",
    "    return tokens"
   ]
  },
  {
   "cell_type": "code",
   "execution_count": 11,
   "metadata": {},
   "outputs": [],
   "source": [
    "train_tagged = train.apply(lambda r: TaggedDocument(words=tokenize_text(r['content']),tags=[r.dominant_topic]),axis=1)\n",
    "test_tagged = test.apply(lambda r: TaggedDocument(words=tokenize_text(r['content']),tags=[r.dominant_topic]),axis=1)"
   ]
  },
  {
   "cell_type": "code",
   "execution_count": 12,
   "metadata": {},
   "outputs": [
    {
     "data": {
      "text/plain": [
       "TaggedDocument(words=['las-stn-las', 'seats', 'comfortable', 'service', 'was', 'good', 'both', 'flights', 'on', 'time', 'fast', 'track', 'through', 'security', 'wonderful', 'think', 'maxjet', 'gives', 'good', 'value', 'for', 'the', 'money', 'will', 'use', 'them', 'again', 'hoping', 'they', 'eventually', 'having', 'flights', 'leaving', 'from', 'the', 'los', 'angeles', 'area'], tags=[0.0])"
      ]
     },
     "execution_count": 12,
     "metadata": {},
     "output_type": "execute_result"
    }
   ],
   "source": [
    "train_tagged[12]"
   ]
  },
  {
   "cell_type": "code",
   "execution_count": 13,
   "metadata": {},
   "outputs": [
    {
     "data": {
      "text/plain": [
       "TaggedDocument(words=['booked', 'my', 'flight', 'to', 'kuching', 'from', 'singapore', 'and', 'this', 'is', 'not', 'the', 'first', 'time', 've', 'flown', 'with', 'scoot', 'don', 'expect', 'good', 'service', 'we', 'arrived', 'at', 'least', 'hrs', 'early', 'asked', 'if', 'we', 'could', 'be', 'moved', 'to', 'the', 'front', 'little', 'bit', 'and', 'got', 'front', 'seat', 'everything', 'went', 'well', 'until', 'they', 've', 'decided', 'to', 'take', 'that', 'back', 'and', 'moved', 'us', '20', 'seats', 'to', 'the', 'back', 'with', 'condescending', 'tone', 'in', 'front', 'of', 'all', 'of', 'the', 'customers', 'shouting', 'whether', 'we', 've', 'paid', 'for', 'the', 'front', 'seat', 'or', 'not', 'so', 'regardless', 'whether', 've', 'purchased', 'this', 'seat', 'or', 'not', 've', 'still', 'paid', 'for', 'my', 'ticket'], tags=[1.0])"
      ]
     },
     "execution_count": 13,
     "metadata": {},
     "output_type": "execute_result"
    }
   ],
   "source": [
    "test_tagged[80000]"
   ]
  },
  {
   "cell_type": "markdown",
   "metadata": {},
   "source": [
    "### Set up Doc2Vec \n",
    "Distributed Bag of Words (DBOW) is the doc2vec model analogous to Skip-gram model in word2vec. \n",
    "\n",
    "Since we are using DBOW for modelling, hence dm=0 is used. Otherwise if we set dm=1, ‘distributed memory’ (PV-DM) will be used. We set the vector size to 300, noise word to 5 and minimum word count of 2 to look for more context."
   ]
  },
  {
   "cell_type": "code",
   "execution_count": 14,
   "metadata": {},
   "outputs": [
    {
     "name": "stderr",
     "output_type": "stream",
     "text": [
      "100%|███████████████████████████████████████████████████████████████████████| 65199/65199 [00:00<00:00, 2971502.75it/s]\n"
     ]
    }
   ],
   "source": [
    "# Instantiate and building a vocab\n",
    "model_dbow = Doc2Vec(dm=0, vector_size=300, negative=5, hs=0, min_count=2, sample = 0)\n",
    "model_dbow.build_vocab([x for x in tqdm(train_tagged.values)])"
   ]
  },
  {
   "cell_type": "code",
   "execution_count": 33,
   "metadata": {},
   "outputs": [
    {
     "data": {
      "text/plain": [
       "10000"
      ]
     },
     "execution_count": 33,
     "metadata": {},
     "output_type": "execute_result"
    }
   ],
   "source": [
    "model_dbow.batch_words"
   ]
  },
  {
   "cell_type": "code",
   "execution_count": 34,
   "metadata": {},
   "outputs": [
    {
     "data": {
      "text/plain": [
       "65199"
      ]
     },
     "execution_count": 34,
     "metadata": {},
     "output_type": "execute_result"
    }
   ],
   "source": [
    "model_dbow.corpus_count"
   ]
  },
  {
   "cell_type": "code",
   "execution_count": 15,
   "metadata": {},
   "outputs": [
    {
     "name": "stderr",
     "output_type": "stream",
     "text": [
      "100%|███████████████████████████████████████████████████████████████████████| 65199/65199 [00:00<00:00, 2421796.58it/s]\n",
      "100%|███████████████████████████████████████████████████████████████████████| 65199/65199 [00:00<00:00, 1922732.16it/s]\n",
      "100%|███████████████████████████████████████████████████████████████████████| 65199/65199 [00:00<00:00, 1634379.79it/s]\n",
      "100%|███████████████████████████████████████████████████████████████████████| 65199/65199 [00:00<00:00, 1766725.84it/s]\n",
      "100%|███████████████████████████████████████████████████████████████████████| 65199/65199 [00:00<00:00, 1816001.66it/s]\n",
      "100%|███████████████████████████████████████████████████████████████████████| 65199/65199 [00:00<00:00, 2724020.58it/s]\n",
      "100%|███████████████████████████████████████████████████████████████████████| 65199/65199 [00:00<00:00, 3617158.63it/s]\n",
      "100%|███████████████████████████████████████████████████████████████████████| 65199/65199 [00:00<00:00, 1676153.40it/s]\n",
      "100%|███████████████████████████████████████████████████████████████████████| 65199/65199 [00:00<00:00, 3269228.51it/s]\n",
      "100%|███████████████████████████████████████████████████████████████████████| 65199/65199 [00:00<00:00, 3263065.01it/s]\n"
     ]
    }
   ],
   "source": [
    "# Train Doc2Vec\n",
    "for epoch in range(10):\n",
    "    model_dbow.train(utils.shuffle([x for x in tqdm(train_tagged.values)]), total_examples=len(train_tagged.values), epochs=1)\n",
    "    model_dbow.alpha -= 0.002\n",
    "    model_dbow.min_alpha = model_dbow.alpha"
   ]
  },
  {
   "cell_type": "code",
   "execution_count": 16,
   "metadata": {},
   "outputs": [],
   "source": [
    "# Create a function to separate X and y\n",
    "def vec_for_learning(model, tagged_docs):\n",
    "    sents = tagged_docs.values\n",
    "    targets, regressors = zip(*[(doc.tags[0], model.infer_vector(doc.words, steps=20)) for doc in sents])\n",
    "    return targets, regressors"
   ]
  },
  {
   "cell_type": "code",
   "execution_count": 17,
   "metadata": {},
   "outputs": [],
   "source": [
    "# Train test split\n",
    "y_train, X_train = vec_for_learning(model_dbow, train_tagged)\n",
    "y_test, X_test = vec_for_learning(model_dbow, test_tagged)"
   ]
  },
  {
   "cell_type": "code",
   "execution_count": 18,
   "metadata": {},
   "outputs": [
    {
     "data": {
      "text/plain": [
       "array([ 0.0697744 ,  0.01037303,  0.09417571, -0.0438769 ,  0.12842071,\n",
       "        0.08186076,  0.1072651 , -0.1705455 ,  0.15867667, -0.03089998,\n",
       "        0.10939848,  0.07014254, -0.15093698, -0.11417512,  0.05328814,\n",
       "       -0.1759545 ,  0.04893817,  0.17489009, -0.05800259,  0.09724172,\n",
       "        0.12427691, -0.09154159, -0.14365041, -0.14573734,  0.130948  ,\n",
       "       -0.0335513 , -0.16359206, -0.18005392, -0.15073639, -0.02701836,\n",
       "       -0.06442001, -0.14344807, -0.01759286, -0.11223412, -0.21265042,\n",
       "        0.10872187,  0.04329442,  0.0107305 ,  0.22659515,  0.11071468,\n",
       "       -0.0311975 , -0.08828086,  0.04980436, -0.15778713,  0.19684944,\n",
       "        0.12061492,  0.19963318, -0.12674956,  0.02425482,  0.05129864,\n",
       "        0.11522079, -0.24152312, -0.14081678, -0.15360099, -0.0486399 ,\n",
       "       -0.04379202,  0.10962055, -0.02320223, -0.05651839, -0.21808606,\n",
       "       -0.03244929, -0.11745255, -0.00691699, -0.2377072 ,  0.12197714,\n",
       "       -0.24701546, -0.24602096, -0.09172856,  0.0926096 , -0.26946354,\n",
       "       -0.19685706,  0.21709515,  0.05198224,  0.16534764, -0.08675769,\n",
       "       -0.27128106, -0.1286529 , -0.21238835,  0.14762032,  0.1252436 ,\n",
       "       -0.03265072, -0.0044378 ,  0.23951487,  0.01543311, -0.00525799,\n",
       "       -0.06628577,  0.16830008, -0.09069185,  0.00322191,  0.02720485,\n",
       "       -0.1066876 , -0.06824791,  0.10792148, -0.23996477,  0.03839164,\n",
       "        0.1564235 ,  0.05785449,  0.07402411, -0.00259336,  0.16393025,\n",
       "       -0.05383415, -0.17048484,  0.08471178,  0.18104948,  0.02100421,\n",
       "       -0.25335258,  0.03715754, -0.26461875, -0.14420435,  0.10104968,\n",
       "       -0.22117676,  0.16008493,  0.10299635,  0.10626901,  0.2052489 ,\n",
       "       -0.00616435, -0.16523671,  0.05692997, -0.05479883,  0.13598162,\n",
       "        0.09383006,  0.11725753,  0.08935662, -0.12481358, -0.12395573,\n",
       "       -0.23019429,  0.23718965,  0.10668942,  0.02621123, -0.09935025,\n",
       "       -0.02093261,  0.21833359,  0.20485362, -0.08933061, -0.07462147,\n",
       "       -0.07963281, -0.04992317,  0.13565141, -0.03811445, -0.14557756,\n",
       "        0.08667863, -0.00808246,  0.05032166, -0.09918717,  0.01049204,\n",
       "        0.18689504, -0.14158688,  0.1909791 , -0.05401829, -0.13728803,\n",
       "       -0.17708357, -0.08290876,  0.04664101, -0.12221796, -0.0191979 ,\n",
       "       -0.12578878,  0.03330335, -0.16815922, -0.0787854 ,  0.10993692,\n",
       "       -0.10608122,  0.07198266,  0.18505108,  0.09051387, -0.15990861,\n",
       "        0.03190488, -0.13747862, -0.18260576,  0.05253459, -0.04167905,\n",
       "       -0.06942308,  0.18993892,  0.14301783, -0.17443042, -0.00165812,\n",
       "       -0.01810375,  0.11769475,  0.17165273,  0.19641213, -0.04386862,\n",
       "        0.08923144,  0.19245878, -0.0487794 ,  0.13595644,  0.2123892 ,\n",
       "       -0.00941021,  0.18357722, -0.08540882, -0.03750322, -0.01280808,\n",
       "       -0.10003646, -0.08951119,  0.08946554, -0.20991834, -0.10289077,\n",
       "        0.01068408, -0.20278308,  0.14343733, -0.07643567,  0.15486412,\n",
       "        0.10333163,  0.09991796, -0.13223864,  0.16611153, -0.00618777,\n",
       "       -0.20593122,  0.02974873, -0.04219265, -0.03177617, -0.01181923,\n",
       "        0.19789834,  0.12865683, -0.13101219,  0.22773929, -0.08870552,\n",
       "       -0.11456537, -0.10388119, -0.14080298, -0.07248838, -0.16467524,\n",
       "        0.08557581,  0.09612449, -0.21710478, -0.08084644,  0.0567543 ,\n",
       "        0.12951434,  0.02333677,  0.1301372 , -0.173746  , -0.06407992,\n",
       "        0.04449521,  0.1441133 , -0.0632827 ,  0.00114232,  0.07746943,\n",
       "        0.10313634, -0.08883909,  0.1618032 ,  0.13031141, -0.02125969,\n",
       "       -0.05640027,  0.11290424, -0.17097135, -0.02475258, -0.18002784,\n",
       "        0.14345755, -0.13708355,  0.15374756, -0.18414126,  0.00156897,\n",
       "        0.19076243, -0.09076704, -0.04266549,  0.15154234,  0.03349701,\n",
       "        0.16827162, -0.09438948,  0.02396501,  0.09712003, -0.06393597,\n",
       "       -0.00212974,  0.01138874, -0.1422565 ,  0.1114656 ,  0.00165916,\n",
       "       -0.07488687, -0.11666247,  0.12745422, -0.05890979,  0.0190456 ,\n",
       "       -0.00287577,  0.07741959,  0.05614254, -0.02258018, -0.18447898,\n",
       "        0.04035805,  0.02632067, -0.02662236,  0.08038436, -0.0272002 ,\n",
       "        0.17407256, -0.12780583,  0.04939542, -0.1311664 ,  0.01445771,\n",
       "        0.12759665, -0.13688958,  0.1190014 ,  0.02430473, -0.1981196 ,\n",
       "        0.09229147, -0.04297441,  0.09497735,  0.09696876, -0.17084579,\n",
       "       -0.22695635,  0.0576241 ,  0.14262873, -0.02251185,  0.18859127],\n",
       "      dtype=float32)"
      ]
     },
     "execution_count": 18,
     "metadata": {},
     "output_type": "execute_result"
    }
   ],
   "source": [
    "X_train[0]"
   ]
  },
  {
   "cell_type": "markdown",
   "metadata": {},
   "source": [
    "### Modelling"
   ]
  },
  {
   "cell_type": "code",
   "execution_count": 19,
   "metadata": {},
   "outputs": [
    {
     "data": {
      "text/plain": [
       "LogisticRegression(max_iter=10000)"
      ]
     },
     "execution_count": 19,
     "metadata": {},
     "output_type": "execute_result"
    }
   ],
   "source": [
    "# Fit to Logistic Regression Model\n",
    "logreg = LogisticRegression(max_iter=10000)\n",
    "logreg.fit(X_train,y_train)"
   ]
  },
  {
   "cell_type": "code",
   "execution_count": 20,
   "metadata": {},
   "outputs": [
    {
     "data": {
      "text/plain": [
       "0.9303363548520683"
      ]
     },
     "execution_count": 20,
     "metadata": {},
     "output_type": "execute_result"
    }
   ],
   "source": [
    "# Train Score\n",
    "logreg.score(X_train,y_train)"
   ]
  },
  {
   "cell_type": "code",
   "execution_count": 21,
   "metadata": {},
   "outputs": [
    {
     "data": {
      "text/plain": [
       "0.9237647673128386"
      ]
     },
     "execution_count": 21,
     "metadata": {},
     "output_type": "execute_result"
    }
   ],
   "source": [
    "# Test score\n",
    "logreg.score(X_test,y_test)"
   ]
  },
  {
   "cell_type": "code",
   "execution_count": 22,
   "metadata": {},
   "outputs": [],
   "source": [
    "# make pred on y_test\n",
    "y_pred = logreg.predict(X_test)"
   ]
  },
  {
   "cell_type": "code",
   "execution_count": 25,
   "metadata": {},
   "outputs": [
    {
     "data": {
      "text/plain": [
       "array([[5145,  218,   96],\n",
       "       [ 230, 8221,  125],\n",
       "       [ 188,  311,  787]], dtype=int64)"
      ]
     },
     "execution_count": 25,
     "metadata": {},
     "output_type": "execute_result"
    }
   ],
   "source": [
    "# Confusion matrix\n",
    "logreg_matrix = confusion_matrix(y_test,y_pred)\n",
    "logreg_matrix"
   ]
  },
  {
   "cell_type": "code",
   "execution_count": 26,
   "metadata": {},
   "outputs": [
    {
     "data": {
      "image/png": "[encoded data removed]",
      "text/plain": [
       "<Figure size 504x360 with 2 Axes>"
      ]
     },
     "metadata": {
      "needs_background": "light"
     },
     "output_type": "display_data"
    }
   ],
   "source": [
    "# Plot Confusion matrix\n",
    "label_names=[0,1,2]\n",
    "fig, ax = plt.subplots(figsize=(7,5))\n",
    "tick_marks = np.arange(len(label_names))\n",
    "plt.xticks(tick_marks, label_names)\n",
    "plt.yticks(tick_marks, label_names)\n",
    "sns.heatmap(pd.DataFrame(logreg_matrix), annot=True, cmap=\"coolwarm\" ,fmt='g')\n",
    "ax.xaxis.set_label_position(\"bottom\")\n",
    "plt.tight_layout()\n",
    "plt.title('Confusion matrix', y=1.1, fontsize=15)\n",
    "plt.ylabel('Actual label')\n",
    "plt.xlabel('Predicted label');"
   ]
  },
  {
   "cell_type": "code",
   "execution_count": 27,
   "metadata": {},
   "outputs": [
    {
     "name": "stdout",
     "output_type": "stream",
     "text": [
      "              precision    recall  f1-score   support\n",
      "\n",
      "         0.0       0.92      0.94      0.93      5459\n",
      "         1.0       0.94      0.96      0.95      8576\n",
      "         2.0       0.78      0.61      0.69      1286\n",
      "\n",
      "    accuracy                           0.92     15321\n",
      "   macro avg       0.88      0.84      0.86     15321\n",
      "weighted avg       0.92      0.92      0.92     15321\n",
      "\n"
     ]
    }
   ],
   "source": [
    "# Classification score\n",
    "logreg_report = classification_report(\n",
    "    digits=2,\n",
    "    y_true=y_test,\n",
    "    y_pred=logreg.predict(X_test)\n",
    ")\n",
    "\n",
    "print(logreg_report)"
   ]
  },
  {
   "cell_type": "code",
   "execution_count": 30,
   "metadata": {},
   "outputs": [
    {
     "data": {
      "text/plain": [
       "0.8960835181849799"
      ]
     },
     "execution_count": 30,
     "metadata": {},
     "output_type": "execute_result"
    }
   ],
   "source": [
    "# ROC AUC score\n",
    "def multiclass_roc_auc_score(y_test, y_pred, average=\"macro\"):\n",
    "    lb = LabelBinarizer()\n",
    "    lb.fit(y_test)\n",
    "\n",
    "    y_test = lb.transform(y_test)\n",
    "    y_pred = lb.transform(y_pred)\n",
    "\n",
    "    return roc_auc_score(y_test, y_pred, average=average)\n",
    "\n",
    "multiclass_roc_auc_score(y_test,logreg.predict(X_test))"
   ]
  }
 ],
 "metadata": {
  "kernelspec": {
   "display_name": "Python 3",
   "language": "python",
   "name": "python3"
  },
  "language_info": {
   "codemirror_mode": {
    "name": "ipython",
    "version": 3
   },
   "file_extension": ".py",
   "mimetype": "text/x-python",
   "name": "python",
   "nbconvert_exporter": "python",
   "pygments_lexer": "ipython3",
   "version": "3.6.10"
  }
 },
 "nbformat": 4,
 "nbformat_minor": 4
}
