{
 "cells": [
  {
   "cell_type": "markdown",
   "metadata": {},
   "source": [
    "## Scraping Data "
   ]
  },
  {
   "cell_type": "markdown",
   "metadata": {},
   "source": [
    "### Ask Men"
   ]
  },
  {
   "cell_type": "code",
   "execution_count": 1,
   "metadata": {},
   "outputs": [],
   "source": [
    "# Import Libraries\n",
    "\n",
    "import pandas as pd\n",
    "import requests\n",
    "import time\n",
    "import random"
   ]
  },
  {
   "cell_type": "code",
   "execution_count": 32,
   "metadata": {},
   "outputs": [],
   "source": [
    "# Askmen URL\n",
    "\n",
    "url = \"https://www.reddit.com/r/askmen/top.json?t=all\""
   ]
  },
  {
   "cell_type": "code",
   "execution_count": 33,
   "metadata": {},
   "outputs": [],
   "source": [
    "# Request using different user-agent\n",
    "\n",
    "res = requests.get(url, headers={'User-agent': 'Pony Inc 1.0'})"
   ]
  },
  {
   "cell_type": "code",
   "execution_count": 34,
   "metadata": {},
   "outputs": [
    {
     "data": {
      "text/plain": [
       "200"
      ]
     },
     "execution_count": 34,
     "metadata": {},
     "output_type": "execute_result"
    }
   ],
   "source": [
    "# Check status code\n",
    "\n",
    "res.status_code"
   ]
  },
  {
   "cell_type": "code",
   "execution_count": 35,
   "metadata": {},
   "outputs": [],
   "source": [
    "# Json format\n",
    "\n",
    "askmen_dict = res.json()"
   ]
  },
  {
   "cell_type": "code",
   "execution_count": 36,
   "metadata": {},
   "outputs": [
    {
     "data": {
      "text/plain": [
       "dict_keys(['modhash', 'dist', 'children', 'after', 'before'])"
      ]
     },
     "execution_count": 36,
     "metadata": {},
     "output_type": "execute_result"
    }
   ],
   "source": [
    "askmen_dict['data'].keys()"
   ]
  },
  {
   "cell_type": "code",
   "execution_count": 37,
   "metadata": {},
   "outputs": [],
   "source": [
    "# Targeted posts in a list\n",
    "\n",
    "askmen_data = askmen_dict['data']['children']"
   ]
  },
  {
   "cell_type": "code",
   "execution_count": 38,
   "metadata": {
    "scrolled": false
   },
   "outputs": [
    {
     "data": {
      "text/plain": [
       "\"Like, for real, it's fun.\""
      ]
     },
     "execution_count": 38,
     "metadata": {},
     "output_type": "execute_result"
    }
   ],
   "source": [
    "# First post in the list\n",
    "\n",
    "askmen_data[0]['data']['selftext']"
   ]
  },
  {
   "cell_type": "code",
   "execution_count": 39,
   "metadata": {},
   "outputs": [
    {
     "data": {
      "text/html": [
       "<div>\n",
       "<style scoped>\n",
       "    .dataframe tbody tr th:only-of-type {\n",
       "        vertical-align: middle;\n",
       "    }\n",
       "\n",
       "    .dataframe tbody tr th {\n",
       "        vertical-align: top;\n",
       "    }\n",
       "\n",
       "    .dataframe thead th {\n",
       "        text-align: right;\n",
       "    }\n",
       "</style>\n",
       "<table border=\"1\" class=\"dataframe\">\n",
       "  <thead>\n",
       "    <tr style=\"text-align: right;\">\n",
       "      <th></th>\n",
       "      <th>approved_at_utc</th>\n",
       "      <th>subreddit</th>\n",
       "      <th>selftext</th>\n",
       "      <th>author_fullname</th>\n",
       "      <th>saved</th>\n",
       "      <th>mod_reason_title</th>\n",
       "      <th>gilded</th>\n",
       "      <th>clicked</th>\n",
       "      <th>title</th>\n",
       "      <th>link_flair_richtext</th>\n",
       "      <th>...</th>\n",
       "      <th>permalink</th>\n",
       "      <th>parent_whitelist_status</th>\n",
       "      <th>stickied</th>\n",
       "      <th>url</th>\n",
       "      <th>subreddit_subscribers</th>\n",
       "      <th>created_utc</th>\n",
       "      <th>num_crossposts</th>\n",
       "      <th>media</th>\n",
       "      <th>is_video</th>\n",
       "      <th>link_flair_template_id</th>\n",
       "    </tr>\n",
       "  </thead>\n",
       "  <tbody>\n",
       "    <tr>\n",
       "      <th>0</th>\n",
       "      <td>None</td>\n",
       "      <td>AskMen</td>\n",
       "      <td>Like, for real, it's fun.</td>\n",
       "      <td>t2_136js3ce</td>\n",
       "      <td>False</td>\n",
       "      <td>None</td>\n",
       "      <td>25</td>\n",
       "      <td>False</td>\n",
       "      <td>Men of reddit who don't comment on posts, why ...</td>\n",
       "      <td>[]</td>\n",
       "      <td>...</td>\n",
       "      <td>/r/AskMen/comments/crbrjt/men_of_reddit_who_do...</td>\n",
       "      <td>all_ads</td>\n",
       "      <td>False</td>\n",
       "      <td>https://www.reddit.com/r/AskMen/comments/crbrj...</td>\n",
       "      <td>1894323</td>\n",
       "      <td>1.565986e+09</td>\n",
       "      <td>12</td>\n",
       "      <td>None</td>\n",
       "      <td>False</td>\n",
       "      <td>NaN</td>\n",
       "    </tr>\n",
       "    <tr>\n",
       "      <th>1</th>\n",
       "      <td>None</td>\n",
       "      <td>AskMen</td>\n",
       "      <td>Background story: I've been dating my current ...</td>\n",
       "      <td>t2_5mbmd</td>\n",
       "      <td>False</td>\n",
       "      <td>None</td>\n",
       "      <td>4</td>\n",
       "      <td>False</td>\n",
       "      <td>I cheated and I feel like crap. Not sure how t...</td>\n",
       "      <td>[{'e': 'text', 't': 'Fuck you OP'}]</td>\n",
       "      <td>...</td>\n",
       "      <td>/r/AskMen/comments/6kfzpq/i_cheated_and_i_feel...</td>\n",
       "      <td>all_ads</td>\n",
       "      <td>False</td>\n",
       "      <td>https://www.reddit.com/r/AskMen/comments/6kfzp...</td>\n",
       "      <td>1894323</td>\n",
       "      <td>1.498830e+09</td>\n",
       "      <td>1</td>\n",
       "      <td>None</td>\n",
       "      <td>False</td>\n",
       "      <td>NaN</td>\n",
       "    </tr>\n",
       "    <tr>\n",
       "      <th>2</th>\n",
       "      <td>None</td>\n",
       "      <td>AskMen</td>\n",
       "      <td></td>\n",
       "      <td>t2_tqavy</td>\n",
       "      <td>False</td>\n",
       "      <td>None</td>\n",
       "      <td>2</td>\n",
       "      <td>False</td>\n",
       "      <td>I went to hug a girl and she grabbed my hand a...</td>\n",
       "      <td>[{'e': 'text', 't': 'OP Gets Rekt'}]</td>\n",
       "      <td>...</td>\n",
       "      <td>/r/AskMen/comments/7oevis/i_went_to_hug_a_girl...</td>\n",
       "      <td>all_ads</td>\n",
       "      <td>False</td>\n",
       "      <td>https://www.reddit.com/r/AskMen/comments/7oevi...</td>\n",
       "      <td>1894323</td>\n",
       "      <td>1.515191e+09</td>\n",
       "      <td>1</td>\n",
       "      <td>None</td>\n",
       "      <td>False</td>\n",
       "      <td>8acb8730-a047-11e5-b492-0e02ace890fd</td>\n",
       "    </tr>\n",
       "    <tr>\n",
       "      <th>3</th>\n",
       "      <td>None</td>\n",
       "      <td>AskMen</td>\n",
       "      <td>Basically it goes like this.  Somebody posts a...</td>\n",
       "      <td>t2_ucwwf</td>\n",
       "      <td>False</td>\n",
       "      <td>None</td>\n",
       "      <td>1</td>\n",
       "      <td>False</td>\n",
       "      <td>Wanna play the, \"how filthy can we make this t...</td>\n",
       "      <td>[{'e': 'text', 't': 'OP Gets Rekt'}]</td>\n",
       "      <td>...</td>\n",
       "      <td>/r/AskMen/comments/4biemc/wanna_play_the_how_f...</td>\n",
       "      <td>all_ads</td>\n",
       "      <td>False</td>\n",
       "      <td>https://www.reddit.com/r/AskMen/comments/4biem...</td>\n",
       "      <td>1894323</td>\n",
       "      <td>1.458668e+09</td>\n",
       "      <td>0</td>\n",
       "      <td>None</td>\n",
       "      <td>False</td>\n",
       "      <td>NaN</td>\n",
       "    </tr>\n",
       "    <tr>\n",
       "      <th>4</th>\n",
       "      <td>None</td>\n",
       "      <td>AskMen</td>\n",
       "      <td>Sup, shitladies. We need to talk. \\n\\nI'm remo...</td>\n",
       "      <td>t2_17c1y6</td>\n",
       "      <td>False</td>\n",
       "      <td>None</td>\n",
       "      <td>0</td>\n",
       "      <td>False</td>\n",
       "      <td>THERE WILL BE NO MORE \"HOW CAN I MAKE MY SO FE...</td>\n",
       "      <td>[{'e': 'text', 't': 'typical mod garbage'}]</td>\n",
       "      <td>...</td>\n",
       "      <td>/r/AskMen/comments/gh3783/there_will_be_no_mor...</td>\n",
       "      <td>all_ads</td>\n",
       "      <td>True</td>\n",
       "      <td>https://www.reddit.com/r/AskMen/comments/gh378...</td>\n",
       "      <td>1894323</td>\n",
       "      <td>1.589124e+09</td>\n",
       "      <td>0</td>\n",
       "      <td>None</td>\n",
       "      <td>False</td>\n",
       "      <td>34e92fc0-c657-11e6-af3a-0eaf20a60ef4</td>\n",
       "    </tr>\n",
       "  </tbody>\n",
       "</table>\n",
       "<p>5 rows × 102 columns</p>\n",
       "</div>"
      ],
      "text/plain": [
       "  approved_at_utc subreddit  \\\n",
       "0            None    AskMen   \n",
       "1            None    AskMen   \n",
       "2            None    AskMen   \n",
       "3            None    AskMen   \n",
       "4            None    AskMen   \n",
       "\n",
       "                                            selftext author_fullname  saved  \\\n",
       "0                          Like, for real, it's fun.     t2_136js3ce  False   \n",
       "1  Background story: I've been dating my current ...        t2_5mbmd  False   \n",
       "2                                                           t2_tqavy  False   \n",
       "3  Basically it goes like this.  Somebody posts a...        t2_ucwwf  False   \n",
       "4  Sup, shitladies. We need to talk. \\n\\nI'm remo...       t2_17c1y6  False   \n",
       "\n",
       "  mod_reason_title  gilded  clicked  \\\n",
       "0             None      25    False   \n",
       "1             None       4    False   \n",
       "2             None       2    False   \n",
       "3             None       1    False   \n",
       "4             None       0    False   \n",
       "\n",
       "                                               title  \\\n",
       "0  Men of reddit who don't comment on posts, why ...   \n",
       "1  I cheated and I feel like crap. Not sure how t...   \n",
       "2  I went to hug a girl and she grabbed my hand a...   \n",
       "3  Wanna play the, \"how filthy can we make this t...   \n",
       "4  THERE WILL BE NO MORE \"HOW CAN I MAKE MY SO FE...   \n",
       "\n",
       "                           link_flair_richtext  ...  \\\n",
       "0                                           []  ...   \n",
       "1          [{'e': 'text', 't': 'Fuck you OP'}]  ...   \n",
       "2         [{'e': 'text', 't': 'OP Gets Rekt'}]  ...   \n",
       "3         [{'e': 'text', 't': 'OP Gets Rekt'}]  ...   \n",
       "4  [{'e': 'text', 't': 'typical mod garbage'}]  ...   \n",
       "\n",
       "                                           permalink  parent_whitelist_status  \\\n",
       "0  /r/AskMen/comments/crbrjt/men_of_reddit_who_do...                  all_ads   \n",
       "1  /r/AskMen/comments/6kfzpq/i_cheated_and_i_feel...                  all_ads   \n",
       "2  /r/AskMen/comments/7oevis/i_went_to_hug_a_girl...                  all_ads   \n",
       "3  /r/AskMen/comments/4biemc/wanna_play_the_how_f...                  all_ads   \n",
       "4  /r/AskMen/comments/gh3783/there_will_be_no_mor...                  all_ads   \n",
       "\n",
       "   stickied                                                url  \\\n",
       "0     False  https://www.reddit.com/r/AskMen/comments/crbrj...   \n",
       "1     False  https://www.reddit.com/r/AskMen/comments/6kfzp...   \n",
       "2     False  https://www.reddit.com/r/AskMen/comments/7oevi...   \n",
       "3     False  https://www.reddit.com/r/AskMen/comments/4biem...   \n",
       "4      True  https://www.reddit.com/r/AskMen/comments/gh378...   \n",
       "\n",
       "   subreddit_subscribers   created_utc num_crossposts  media is_video  \\\n",
       "0                1894323  1.565986e+09             12   None    False   \n",
       "1                1894323  1.498830e+09              1   None    False   \n",
       "2                1894323  1.515191e+09              1   None    False   \n",
       "3                1894323  1.458668e+09              0   None    False   \n",
       "4                1894323  1.589124e+09              0   None    False   \n",
       "\n",
       "                 link_flair_template_id  \n",
       "0                                   NaN  \n",
       "1                                   NaN  \n",
       "2  8acb8730-a047-11e5-b492-0e02ace890fd  \n",
       "3                                   NaN  \n",
       "4  34e92fc0-c657-11e6-af3a-0eaf20a60ef4  \n",
       "\n",
       "[5 rows x 102 columns]"
      ]
     },
     "execution_count": 39,
     "metadata": {},
     "output_type": "execute_result"
    }
   ],
   "source": [
    "# create a dataframe call askmen\n",
    "\n",
    "askmen = [p['data'] for p in askmen_data]\n",
    "pd.DataFrame(askmen).head()"
   ]
  },
  {
   "cell_type": "code",
   "execution_count": 45,
   "metadata": {},
   "outputs": [
    {
     "data": {
      "text/plain": [
       "'https://www.reddit.com/r/askmen/top.json?t=all?after=t3_e3y86v&limit=100'"
      ]
     },
     "execution_count": 45,
     "metadata": {},
     "output_type": "execute_result"
    }
   ],
   "source": [
    "# url after\n",
    "\n",
    "url + '?after=' + askmen_dict['data']['after'] + '&limit=100'"
   ]
  },
  {
   "cell_type": "code",
   "execution_count": 31,
   "metadata": {},
   "outputs": [
    {
     "name": "stdout",
     "output_type": "stream",
     "text": [
      "https://www.reddit.com/r/askmen/top.json?t=all\n",
      "t3_e3y86v\n",
      "3\n",
      "https://www.reddit.com/r/askmen/top.json?t=all&after=t3_e3y86v&limit=100\n",
      "t3_b68g7m\n",
      "(125, 103)\n",
      "4\n",
      "https://www.reddit.com/r/askmen/top.json?t=all&after=t3_b68g7m&limit=100\n",
      "t3_dmfqdp\n",
      "(225, 103)\n",
      "2\n",
      "https://www.reddit.com/r/askmen/top.json?t=all&after=t3_dmfqdp&limit=100\n",
      "t3_cmpu0h\n",
      "(325, 103)\n",
      "4\n",
      "https://www.reddit.com/r/askmen/top.json?t=all&after=t3_cmpu0h&limit=100\n",
      "t3_9znrae\n",
      "(425, 103)\n",
      "6\n",
      "https://www.reddit.com/r/askmen/top.json?t=all&after=t3_9znrae&limit=100\n",
      "t3_a82hus\n",
      "(525, 105)\n",
      "6\n",
      "https://www.reddit.com/r/askmen/top.json?t=all&after=t3_a82hus&limit=100\n",
      "t3_ddmykv\n",
      "(625, 105)\n",
      "6\n",
      "https://www.reddit.com/r/askmen/top.json?t=all&after=t3_ddmykv&limit=100\n",
      "t3_61ii7q\n",
      "(725, 105)\n",
      "3\n",
      "https://www.reddit.com/r/askmen/top.json?t=all&after=t3_61ii7q&limit=100\n",
      "t3_foqz51\n",
      "(825, 105)\n",
      "6\n",
      "https://www.reddit.com/r/askmen/top.json?t=all&after=t3_foqz51&limit=100\n",
      "t3_7e8u2x\n",
      "(925, 105)\n",
      "5\n"
     ]
    }
   ],
   "source": [
    "# Looping through the post, 100 posts at a time\n",
    "\n",
    "url = \"https://www.reddit.com/r/askmen/top.json?t=all\"\n",
    "askmen = []\n",
    "after = None\n",
    "\n",
    "for a in range(10):\n",
    "    \n",
    "    # URL\n",
    "    if after == None:\n",
    "        current_url = url\n",
    "    else:\n",
    "        current_url = url + '&after=' + after + '&limit=100'\n",
    "    \n",
    "    # Request\n",
    "    print(current_url)\n",
    "    res = requests.get(current_url, headers={'User-agent':'Pony Inc 1.0'})\n",
    "    \n",
    "    # Check status code\n",
    "    if res.status_code != 200:\n",
    "        print('Status error', res.status_code)\n",
    "        break\n",
    "        \n",
    "    # List and extend all the posts\n",
    "    current_dict = res.json()\n",
    "    current_posts = [p['data'] for p in current_dict['data']['children']]\n",
    "    askmen.extend(current_posts)\n",
    "    after = current_dict['data']['after']\n",
    "    print(after)\n",
    "    \n",
    "    if a > 0:\n",
    "        prev_posts = pd.read_csv('datasets/askmen.csv')\n",
    "        current_df = pd.DataFrame(askmen)\n",
    "        current_df.to_csv('datasets/askmen.csv',index = False)\n",
    "        print(current_df.shape)\n",
    "    else:\n",
    "        pd.DataFrame(askmen).to_csv('datasets/askmen.csv',index = False)\n",
    "        \n",
    "    # Generate a random sleep duration to look more 'natural'\n",
    "    sleep_duration = random.randint(2,6)\n",
    "    print(sleep_duration)\n",
    "    time.sleep(sleep_duration) # putting program to sleep"
   ]
  },
  {
   "cell_type": "code",
   "execution_count": 48,
   "metadata": {},
   "outputs": [
    {
     "data": {
      "text/plain": [
       "925"
      ]
     },
     "execution_count": 48,
     "metadata": {},
     "output_type": "execute_result"
    }
   ],
   "source": [
    "len(current_df)"
   ]
  },
  {
   "cell_type": "code",
   "execution_count": 16,
   "metadata": {},
   "outputs": [],
   "source": [
    "pd.DataFrame(askmen).to_csv('datasets/askmen.csv', index = False)"
   ]
  }
 ],
 "metadata": {
  "kernelspec": {
   "display_name": "Python 3",
   "language": "python",
   "name": "python3"
  },
  "language_info": {
   "codemirror_mode": {
    "name": "ipython",
    "version": 3
   },
   "file_extension": ".py",
   "mimetype": "text/x-python",
   "name": "python",
   "nbconvert_exporter": "python",
   "pygments_lexer": "ipython3",
   "version": "3.7.6"
  }
 },
 "nbformat": 4,
 "nbformat_minor": 4
}
