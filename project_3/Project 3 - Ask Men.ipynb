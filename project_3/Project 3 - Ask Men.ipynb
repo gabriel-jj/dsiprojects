{
 "cells": [
  {
   "cell_type": "markdown",
   "metadata": {},
   "source": [
    "Data source\n",
    "\n",
    "- [Ask Men](https://www.reddit.com/r/AskMen/)\n",
    "- [Ask Women](https://www.reddit.com/r/AskWomen/)\n"
   ]
  },
  {
   "cell_type": "markdown",
   "metadata": {},
   "source": [
    "## Scraping Data "
   ]
  },
  {
   "cell_type": "markdown",
   "metadata": {},
   "source": [
    "### Ask Men"
   ]
  },
  {
   "cell_type": "code",
   "execution_count": 1,
   "metadata": {},
   "outputs": [],
   "source": [
    "# Import Libraries\n",
    "\n",
    "import pandas as pd\n",
    "import requests\n",
    "import time\n",
    "import random"
   ]
  },
  {
   "cell_type": "code",
   "execution_count": 2,
   "metadata": {},
   "outputs": [],
   "source": [
    "# Askmen URL\n",
    "\n",
    "url = 'https://www.reddit.com/r/AskMen/.json'"
   ]
  },
  {
   "cell_type": "code",
   "execution_count": 3,
   "metadata": {},
   "outputs": [],
   "source": [
    "# Request using different user-agent\n",
    "\n",
    "res = requests.get(url, headers={'User-agent': 'Pony Inc 1.0'})"
   ]
  },
  {
   "cell_type": "code",
   "execution_count": 4,
   "metadata": {},
   "outputs": [
    {
     "data": {
      "text/plain": [
       "200"
      ]
     },
     "execution_count": 4,
     "metadata": {},
     "output_type": "execute_result"
    }
   ],
   "source": [
    "# Check status code\n",
    "\n",
    "res.status_code"
   ]
  },
  {
   "cell_type": "code",
   "execution_count": 5,
   "metadata": {},
   "outputs": [],
   "source": [
    "# Json format\n",
    "\n",
    "askmen_dict = res.json()"
   ]
  },
  {
   "cell_type": "code",
   "execution_count": 8,
   "metadata": {},
   "outputs": [
    {
     "data": {
      "text/plain": [
       "dict_keys(['modhash', 'dist', 'children', 'after', 'before'])"
      ]
     },
     "execution_count": 8,
     "metadata": {},
     "output_type": "execute_result"
    }
   ],
   "source": [
    "askmen_dict['data'].keys()"
   ]
  },
  {
   "cell_type": "code",
   "execution_count": 9,
   "metadata": {},
   "outputs": [],
   "source": [
    "# Targeted posts in a list\n",
    "\n",
    "askmen_data = askmen_dict['data']['children']"
   ]
  },
  {
   "cell_type": "code",
   "execution_count": 15,
   "metadata": {
    "scrolled": false
   },
   "outputs": [
    {
     "data": {
      "text/plain": [
       "'Sup shitlords,\\n\\nThis is a very hectic time in the world.  Lots of people are panicking over the spread of the global pandemic known as COVID-19 or the \"Coronavirus\".  I\\'m sure the 5 of you that actually have jobs are probably working from home right now.\\n\\nHowever, as per the guidance of the World Health Organization, we must not let fear set in and take hold of our community, filling people with fear and filling our feeds with crappy reposts about how we are responding to the virus.  \"Corona panic\" is a condition which can do irreparable harm to any community (even one as crappy as this one).  \\n\\nTo attempt to contain the effects, any individual who tests positive for Corona panic will receive a 14 day quarantine for the safety of not just the community, but for themselves as well.  \\n\\nIf you have any questions [please do not hesitate](http://i.imgur.com/GfAgEfl.gifv) [to contact the moderators](https://www.reddit.com/message/compose?to=%2Fr%2FAskMen), or contact resources for your local health department, which you can do using that handy google website.\\n\\nFinally, in true Rudy Gobert fashion, I will now [touch every microphone here before dipping](https://streamable.com/o2eju).\\n\\nStay thirsty my friends,\\n\\nThe mods'"
      ]
     },
     "execution_count": 15,
     "metadata": {},
     "output_type": "execute_result"
    }
   ],
   "source": [
    "# First post in the list\n",
    "\n",
    "askmen_data[0]['data']['selftext']"
   ]
  },
  {
   "cell_type": "code",
   "execution_count": 11,
   "metadata": {},
   "outputs": [
    {
     "data": {
      "text/html": [
       "<div>\n",
       "<style scoped>\n",
       "    .dataframe tbody tr th:only-of-type {\n",
       "        vertical-align: middle;\n",
       "    }\n",
       "\n",
       "    .dataframe tbody tr th {\n",
       "        vertical-align: top;\n",
       "    }\n",
       "\n",
       "    .dataframe thead th {\n",
       "        text-align: right;\n",
       "    }\n",
       "</style>\n",
       "<table border=\"1\" class=\"dataframe\">\n",
       "  <thead>\n",
       "    <tr style=\"text-align: right;\">\n",
       "      <th></th>\n",
       "      <th>approved_at_utc</th>\n",
       "      <th>subreddit</th>\n",
       "      <th>selftext</th>\n",
       "      <th>author_fullname</th>\n",
       "      <th>saved</th>\n",
       "      <th>mod_reason_title</th>\n",
       "      <th>gilded</th>\n",
       "      <th>clicked</th>\n",
       "      <th>title</th>\n",
       "      <th>link_flair_richtext</th>\n",
       "      <th>...</th>\n",
       "      <th>permalink</th>\n",
       "      <th>parent_whitelist_status</th>\n",
       "      <th>stickied</th>\n",
       "      <th>url</th>\n",
       "      <th>subreddit_subscribers</th>\n",
       "      <th>created_utc</th>\n",
       "      <th>num_crossposts</th>\n",
       "      <th>media</th>\n",
       "      <th>is_video</th>\n",
       "      <th>link_flair_template_id</th>\n",
       "    </tr>\n",
       "  </thead>\n",
       "  <tbody>\n",
       "    <tr>\n",
       "      <th>0</th>\n",
       "      <td>None</td>\n",
       "      <td>AskMen</td>\n",
       "      <td>Sup shitlords,\\n\\nThis is a very hectic time i...</td>\n",
       "      <td>t2_8g6p5</td>\n",
       "      <td>False</td>\n",
       "      <td>None</td>\n",
       "      <td>0</td>\n",
       "      <td>False</td>\n",
       "      <td>Askmen Coronavirus Response</td>\n",
       "      <td>[]</td>\n",
       "      <td>...</td>\n",
       "      <td>/r/AskMen/comments/fh9l00/askmen_coronavirus_r...</td>\n",
       "      <td>all_ads</td>\n",
       "      <td>True</td>\n",
       "      <td>https://www.reddit.com/r/AskMen/comments/fh9l0...</td>\n",
       "      <td>1877836</td>\n",
       "      <td>1.583982e+09</td>\n",
       "      <td>5</td>\n",
       "      <td>None</td>\n",
       "      <td>False</td>\n",
       "      <td>NaN</td>\n",
       "    </tr>\n",
       "    <tr>\n",
       "      <th>1</th>\n",
       "      <td>None</td>\n",
       "      <td>AskMen</td>\n",
       "      <td>In the four years that I’ve been a mod here, t...</td>\n",
       "      <td>t2_b7wnh</td>\n",
       "      <td>False</td>\n",
       "      <td>None</td>\n",
       "      <td>1</td>\n",
       "      <td>False</td>\n",
       "      <td>ThE sUb Is CaLlEd \"AsKmEn\" NoT \"aSkWoMeN \"</td>\n",
       "      <td>[{'e': 'text', 't': 'typical mod garbage'}]</td>\n",
       "      <td>...</td>\n",
       "      <td>/r/AskMen/comments/gdhhx0/the_sub_is_called_as...</td>\n",
       "      <td>all_ads</td>\n",
       "      <td>True</td>\n",
       "      <td>https://www.reddit.com/r/AskMen/comments/gdhhx...</td>\n",
       "      <td>1877836</td>\n",
       "      <td>1.588618e+09</td>\n",
       "      <td>3</td>\n",
       "      <td>None</td>\n",
       "      <td>False</td>\n",
       "      <td>34e92fc0-c657-11e6-af3a-0eaf20a60ef4</td>\n",
       "    </tr>\n",
       "    <tr>\n",
       "      <th>2</th>\n",
       "      <td>None</td>\n",
       "      <td>AskMen</td>\n",
       "      <td>Probably tmi, and I should probably make an al...</td>\n",
       "      <td>t2_2dschgw</td>\n",
       "      <td>False</td>\n",
       "      <td>None</td>\n",
       "      <td>0</td>\n",
       "      <td>False</td>\n",
       "      <td>As an adult, have you ever pooped your pants? ...</td>\n",
       "      <td>[{'e': 'text', 't': 'Literal Shitpost'}]</td>\n",
       "      <td>...</td>\n",
       "      <td>/r/AskMen/comments/gemiod/as_an_adult_have_you...</td>\n",
       "      <td>all_ads</td>\n",
       "      <td>False</td>\n",
       "      <td>https://www.reddit.com/r/AskMen/comments/gemio...</td>\n",
       "      <td>1877836</td>\n",
       "      <td>1.588780e+09</td>\n",
       "      <td>4</td>\n",
       "      <td>None</td>\n",
       "      <td>False</td>\n",
       "      <td>d4fe4a1c-272b-11e5-97e6-0e5ca32a3025</td>\n",
       "    </tr>\n",
       "    <tr>\n",
       "      <th>3</th>\n",
       "      <td>None</td>\n",
       "      <td>AskMen</td>\n",
       "      <td>Personally, it has given me (23F) a completely...</td>\n",
       "      <td>t2_3171olsn</td>\n",
       "      <td>False</td>\n",
       "      <td>None</td>\n",
       "      <td>1</td>\n",
       "      <td>False</td>\n",
       "      <td>What is the most impactful thing you have lear...</td>\n",
       "      <td>[]</td>\n",
       "      <td>...</td>\n",
       "      <td>/r/AskMen/comments/ge7iia/what_is_the_most_imp...</td>\n",
       "      <td>all_ads</td>\n",
       "      <td>False</td>\n",
       "      <td>https://www.reddit.com/r/AskMen/comments/ge7ii...</td>\n",
       "      <td>1877836</td>\n",
       "      <td>1.588717e+09</td>\n",
       "      <td>0</td>\n",
       "      <td>None</td>\n",
       "      <td>False</td>\n",
       "      <td>NaN</td>\n",
       "    </tr>\n",
       "    <tr>\n",
       "      <th>4</th>\n",
       "      <td>None</td>\n",
       "      <td>AskMen</td>\n",
       "      <td>I for one am struggling as a 25 year old with ...</td>\n",
       "      <td>t2_5snk8</td>\n",
       "      <td>False</td>\n",
       "      <td>None</td>\n",
       "      <td>0</td>\n",
       "      <td>False</td>\n",
       "      <td>Men whose fathers didn’t really teach you abou...</td>\n",
       "      <td>[]</td>\n",
       "      <td>...</td>\n",
       "      <td>/r/AskMen/comments/gew2td/men_whose_fathers_di...</td>\n",
       "      <td>all_ads</td>\n",
       "      <td>False</td>\n",
       "      <td>https://www.reddit.com/r/AskMen/comments/gew2t...</td>\n",
       "      <td>1877836</td>\n",
       "      <td>1.588811e+09</td>\n",
       "      <td>0</td>\n",
       "      <td>None</td>\n",
       "      <td>False</td>\n",
       "      <td>NaN</td>\n",
       "    </tr>\n",
       "  </tbody>\n",
       "</table>\n",
       "<p>5 rows × 102 columns</p>\n",
       "</div>"
      ],
      "text/plain": [
       "  approved_at_utc subreddit  \\\n",
       "0            None    AskMen   \n",
       "1            None    AskMen   \n",
       "2            None    AskMen   \n",
       "3            None    AskMen   \n",
       "4            None    AskMen   \n",
       "\n",
       "                                            selftext author_fullname  saved  \\\n",
       "0  Sup shitlords,\\n\\nThis is a very hectic time i...        t2_8g6p5  False   \n",
       "1  In the four years that I’ve been a mod here, t...        t2_b7wnh  False   \n",
       "2  Probably tmi, and I should probably make an al...      t2_2dschgw  False   \n",
       "3  Personally, it has given me (23F) a completely...     t2_3171olsn  False   \n",
       "4  I for one am struggling as a 25 year old with ...        t2_5snk8  False   \n",
       "\n",
       "  mod_reason_title  gilded  clicked  \\\n",
       "0             None       0    False   \n",
       "1             None       1    False   \n",
       "2             None       0    False   \n",
       "3             None       1    False   \n",
       "4             None       0    False   \n",
       "\n",
       "                                               title  \\\n",
       "0                        Askmen Coronavirus Response   \n",
       "1         ThE sUb Is CaLlEd \"AsKmEn\" NoT \"aSkWoMeN \"   \n",
       "2  As an adult, have you ever pooped your pants? ...   \n",
       "3  What is the most impactful thing you have lear...   \n",
       "4  Men whose fathers didn’t really teach you abou...   \n",
       "\n",
       "                           link_flair_richtext  ...  \\\n",
       "0                                           []  ...   \n",
       "1  [{'e': 'text', 't': 'typical mod garbage'}]  ...   \n",
       "2     [{'e': 'text', 't': 'Literal Shitpost'}]  ...   \n",
       "3                                           []  ...   \n",
       "4                                           []  ...   \n",
       "\n",
       "                                           permalink  parent_whitelist_status  \\\n",
       "0  /r/AskMen/comments/fh9l00/askmen_coronavirus_r...                  all_ads   \n",
       "1  /r/AskMen/comments/gdhhx0/the_sub_is_called_as...                  all_ads   \n",
       "2  /r/AskMen/comments/gemiod/as_an_adult_have_you...                  all_ads   \n",
       "3  /r/AskMen/comments/ge7iia/what_is_the_most_imp...                  all_ads   \n",
       "4  /r/AskMen/comments/gew2td/men_whose_fathers_di...                  all_ads   \n",
       "\n",
       "   stickied                                                url  \\\n",
       "0      True  https://www.reddit.com/r/AskMen/comments/fh9l0...   \n",
       "1      True  https://www.reddit.com/r/AskMen/comments/gdhhx...   \n",
       "2     False  https://www.reddit.com/r/AskMen/comments/gemio...   \n",
       "3     False  https://www.reddit.com/r/AskMen/comments/ge7ii...   \n",
       "4     False  https://www.reddit.com/r/AskMen/comments/gew2t...   \n",
       "\n",
       "   subreddit_subscribers   created_utc num_crossposts  media is_video  \\\n",
       "0                1877836  1.583982e+09              5   None    False   \n",
       "1                1877836  1.588618e+09              3   None    False   \n",
       "2                1877836  1.588780e+09              4   None    False   \n",
       "3                1877836  1.588717e+09              0   None    False   \n",
       "4                1877836  1.588811e+09              0   None    False   \n",
       "\n",
       "                 link_flair_template_id  \n",
       "0                                   NaN  \n",
       "1  34e92fc0-c657-11e6-af3a-0eaf20a60ef4  \n",
       "2  d4fe4a1c-272b-11e5-97e6-0e5ca32a3025  \n",
       "3                                   NaN  \n",
       "4                                   NaN  \n",
       "\n",
       "[5 rows x 102 columns]"
      ]
     },
     "execution_count": 11,
     "metadata": {},
     "output_type": "execute_result"
    }
   ],
   "source": [
    "# create a dataframe call askmen\n",
    "\n",
    "askmen = [p['data'] for p in askmen_data]\n",
    "pd.DataFrame(askmen).head()"
   ]
  },
  {
   "cell_type": "code",
   "execution_count": 12,
   "metadata": {},
   "outputs": [],
   "source": [
    "#pd.DataFrame(askmen).to_csv('datasets/askmen_trial.csv')"
   ]
  },
  {
   "cell_type": "code",
   "execution_count": 18,
   "metadata": {},
   "outputs": [
    {
     "data": {
      "text/plain": [
       "'t3_gezgsl'"
      ]
     },
     "execution_count": 18,
     "metadata": {},
     "output_type": "execute_result"
    }
   ],
   "source": [
    "# fullname of the listing that follows after this page\n",
    "\n",
    "askmen_dict['data']['after']"
   ]
  },
  {
   "cell_type": "code",
   "execution_count": 19,
   "metadata": {},
   "outputs": [
    {
     "data": {
      "text/plain": [
       "0     t3_fh9l00\n",
       "1     t3_gdhhx0\n",
       "2     t3_gemiod\n",
       "3     t3_ge7iia\n",
       "4     t3_gew2td\n",
       "5     t3_gem1ge\n",
       "6     t3_geqbt4\n",
       "7     t3_geyhsw\n",
       "8     t3_gewe3n\n",
       "9     t3_gehpni\n",
       "10    t3_gemf97\n",
       "11    t3_gevhvq\n",
       "12    t3_geqb6u\n",
       "13    t3_gevskw\n",
       "14    t3_gemg0d\n",
       "15    t3_gerijd\n",
       "16    t3_gekj55\n",
       "17    t3_geqhrx\n",
       "18    t3_gf0c5m\n",
       "19    t3_gete51\n",
       "20    t3_gezxcl\n",
       "21    t3_gezvss\n",
       "22    t3_geup0b\n",
       "23    t3_gelxx0\n",
       "24    t3_get56c\n",
       "25    t3_geo746\n",
       "26    t3_gezgsl\n",
       "Name: name, dtype: object"
      ]
     },
     "execution_count": 19,
     "metadata": {},
     "output_type": "execute_result"
    }
   ],
   "source": [
    "pd.DataFrame(askmen)['name']"
   ]
  },
  {
   "cell_type": "code",
   "execution_count": 26,
   "metadata": {},
   "outputs": [
    {
     "data": {
      "text/plain": [
       "'https://www.reddit.com/r/AskMen/.json?after=t3_gezgsl&limit=100'"
      ]
     },
     "execution_count": 26,
     "metadata": {},
     "output_type": "execute_result"
    }
   ],
   "source": [
    "# url\n",
    "\n",
    "url + '?after=' + askmen_dict['data']['after'] + '&limit=100'"
   ]
  },
  {
   "cell_type": "code",
   "execution_count": 36,
   "metadata": {},
   "outputs": [
    {
     "name": "stdout",
     "output_type": "stream",
     "text": [
      "https://www.reddit.com/r/AskMen/.json\n",
      "2\n",
      "https://www.reddit.com/r/AskMen/.json?after=&limit=100\n",
      "3\n",
      "https://www.reddit.com/r/AskMen/.json?after=&limit=100\n",
      "6\n",
      "https://www.reddit.com/r/AskMen/.json?after=&limit=100\n",
      "6\n",
      "https://www.reddit.com/r/AskMen/.json?after=&limit=100\n",
      "3\n",
      "https://www.reddit.com/r/AskMen/.json?after=&limit=100\n",
      "5\n",
      "https://www.reddit.com/r/AskMen/.json?after=&limit=100\n",
      "5\n",
      "https://www.reddit.com/r/AskMen/.json?after=&limit=100\n",
      "6\n",
      "https://www.reddit.com/r/AskMen/.json?after=&limit=100\n",
      "2\n",
      "https://www.reddit.com/r/AskMen/.json?after=&limit=100\n",
      "4\n",
      "https://www.reddit.com/r/AskMen/.json?after=&limit=100\n",
      "5\n",
      "https://www.reddit.com/r/AskMen/.json?after=&limit=100\n",
      "3\n"
     ]
    }
   ],
   "source": [
    "# Looping through the post, 100 posts at a time\n",
    "\n",
    "askmen = []\n",
    "after = None\n",
    "\n",
    "for a in range(12):\n",
    "    \n",
    "    # URL\n",
    "    if after == None:\n",
    "        current_url = url\n",
    "    else:\n",
    "        current_url = url + '?after=' + '&limit=100'\n",
    "    \n",
    "    # Request\n",
    "    print(current_url)\n",
    "    res = requests.get(current_url, headers={'User-agent':'Pony Inc 1.0'})\n",
    "    \n",
    "    # Check status code\n",
    "    if res.status_code != 200:\n",
    "        print('Status error', res.status_code)\n",
    "        break\n",
    "    \n",
    "    # List and extend all the posts\n",
    "    current_dict = res.json()\n",
    "    current_posts = [p['data'] for p in current_dict['data']['children']]\n",
    "    askmen.extend(current_posts)\n",
    "    after = current_dict['data']['after']\n",
    "    \n",
    "    if a > 0:\n",
    "        prev_posts = pd.read_csv('datasets/askmen.csv')\n",
    "        current_df = pd.DataFrame()\n",
    "        \n",
    "    else:\n",
    "        pd.DataFrame(askmen).to_csv('datasets/askmen.csv',index = False)\n",
    "    \n",
    "    # Generate a random sleep duration to look for 'natural'\n",
    "    sleep_duration = random.randint(2,6)\n",
    "    print(sleep_duration)\n",
    "    time.sleep(sleep_duration) # putting program to sleep"
   ]
  },
  {
   "cell_type": "code",
   "execution_count": 37,
   "metadata": {},
   "outputs": [
    {
     "data": {
      "text/plain": [
       "1149"
      ]
     },
     "execution_count": 37,
     "metadata": {},
     "output_type": "execute_result"
    }
   ],
   "source": [
    "len(askmen)"
   ]
  },
  {
   "cell_type": "code",
   "execution_count": 38,
   "metadata": {},
   "outputs": [],
   "source": [
    "pd.DataFrame(askmen).to_csv('datasets/askmen.csv', index = False)"
   ]
  },
  {
   "cell_type": "code",
   "execution_count": null,
   "metadata": {},
   "outputs": [],
   "source": []
  }
 ],
 "metadata": {
  "kernelspec": {
   "display_name": "Python 3",
   "language": "python",
   "name": "python3"
  },
  "language_info": {
   "codemirror_mode": {
    "name": "ipython",
    "version": 3
   },
   "file_extension": ".py",
   "mimetype": "text/x-python",
   "name": "python",
   "nbconvert_exporter": "python",
   "pygments_lexer": "ipython3",
   "version": "3.7.6"
  }
 },
 "nbformat": 4,
 "nbformat_minor": 4
}
