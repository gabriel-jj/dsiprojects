{
 "cells": [
  {
   "cell_type": "markdown",
   "metadata": {},
   "source": [
    "## Scraping Data"
   ]
  },
  {
   "cell_type": "markdown",
   "metadata": {},
   "source": [
    "### Ask Women"
   ]
  },
  {
   "cell_type": "code",
   "execution_count": 1,
   "metadata": {},
   "outputs": [],
   "source": [
    "# Import Libraries\n",
    "\n",
    "import pandas as pd\n",
    "import requests\n",
    "import time\n",
    "import random"
   ]
  },
  {
   "cell_type": "code",
   "execution_count": 2,
   "metadata": {},
   "outputs": [],
   "source": [
    "# Askwomen URL\n",
    "\n",
    "url = 'https://www.reddit.com/r/AskWomen/.json'"
   ]
  },
  {
   "cell_type": "code",
   "execution_count": 3,
   "metadata": {},
   "outputs": [],
   "source": [
    "# Request using different user-agent\n",
    "\n",
    "res = requests.get(url,headers={'user-agent':'Pony Inc 1.0'})"
   ]
  },
  {
   "cell_type": "code",
   "execution_count": 4,
   "metadata": {},
   "outputs": [
    {
     "data": {
      "text/plain": [
       "200"
      ]
     },
     "execution_count": 4,
     "metadata": {},
     "output_type": "execute_result"
    }
   ],
   "source": [
    "# Check Status code\n",
    "\n",
    "res.status_code"
   ]
  },
  {
   "cell_type": "code",
   "execution_count": 5,
   "metadata": {},
   "outputs": [],
   "source": [
    "# Json format\n",
    "\n",
    "askwomen_dict = res.json()"
   ]
  },
  {
   "cell_type": "code",
   "execution_count": 6,
   "metadata": {},
   "outputs": [
    {
     "data": {
      "text/plain": [
       "dict_keys(['modhash', 'dist', 'children', 'after', 'before'])"
      ]
     },
     "execution_count": 6,
     "metadata": {},
     "output_type": "execute_result"
    }
   ],
   "source": [
    "askwomen_dict['data'].keys()"
   ]
  },
  {
   "cell_type": "code",
   "execution_count": 7,
   "metadata": {},
   "outputs": [],
   "source": [
    "# Targeted posts in a list\n",
    "\n",
    "askwomen_data = askwomen_dict['data']['children']"
   ]
  },
  {
   "cell_type": "code",
   "execution_count": 8,
   "metadata": {},
   "outputs": [
    {
     "data": {
      "text/plain": [
       "\"This is the third version of our COVID-19 post. We do not want to overrun [r/AskWomen](https://www.reddit.com/r/AskWomen/)  with coronavirus related questions. While the top comment doesn't need  to be a question, we will still be enforcing our rules on gendered  slurs, bigoted/disrespectful/hateful commentary, and invalidation.\\n\\nPlease  note that we advocate social distancing-comments that do not comport  with this will be removed. Remember to wash your hands, stop touching  your face, and **stay home** if at at possible-this is a serious health crisis. Follow the WHO guidelines [here](https://www.who.int/emergencies/diseases/novel-coronavirus-2019).\\n\\n\\\\~The AskWomen Mod Team\""
      ]
     },
     "execution_count": 8,
     "metadata": {},
     "output_type": "execute_result"
    }
   ],
   "source": [
    "# First post in the list\n",
    "\n",
    "askwomen_data[0]['data']['selftext']"
   ]
  },
  {
   "cell_type": "code",
   "execution_count": 9,
   "metadata": {},
   "outputs": [
    {
     "data": {
      "text/html": [
       "<div>\n",
       "<style scoped>\n",
       "    .dataframe tbody tr th:only-of-type {\n",
       "        vertical-align: middle;\n",
       "    }\n",
       "\n",
       "    .dataframe tbody tr th {\n",
       "        vertical-align: top;\n",
       "    }\n",
       "\n",
       "    .dataframe thead th {\n",
       "        text-align: right;\n",
       "    }\n",
       "</style>\n",
       "<table border=\"1\" class=\"dataframe\">\n",
       "  <thead>\n",
       "    <tr style=\"text-align: right;\">\n",
       "      <th></th>\n",
       "      <th>approved_at_utc</th>\n",
       "      <th>subreddit</th>\n",
       "      <th>selftext</th>\n",
       "      <th>author_fullname</th>\n",
       "      <th>saved</th>\n",
       "      <th>mod_reason_title</th>\n",
       "      <th>gilded</th>\n",
       "      <th>clicked</th>\n",
       "      <th>title</th>\n",
       "      <th>link_flair_richtext</th>\n",
       "      <th>...</th>\n",
       "      <th>author_flair_text_color</th>\n",
       "      <th>permalink</th>\n",
       "      <th>parent_whitelist_status</th>\n",
       "      <th>stickied</th>\n",
       "      <th>url</th>\n",
       "      <th>subreddit_subscribers</th>\n",
       "      <th>created_utc</th>\n",
       "      <th>num_crossposts</th>\n",
       "      <th>media</th>\n",
       "      <th>is_video</th>\n",
       "    </tr>\n",
       "  </thead>\n",
       "  <tbody>\n",
       "    <tr>\n",
       "      <th>0</th>\n",
       "      <td>None</td>\n",
       "      <td>AskWomen</td>\n",
       "      <td>This is the third version of our COVID-19 post...</td>\n",
       "      <td>t2_2i2lkmum</td>\n",
       "      <td>False</td>\n",
       "      <td>None</td>\n",
       "      <td>0</td>\n",
       "      <td>False</td>\n",
       "      <td>Don't Bring May Flowers - Coronavrius Mega Thr...</td>\n",
       "      <td>[]</td>\n",
       "      <td>...</td>\n",
       "      <td>dark</td>\n",
       "      <td>/r/AskWomen/comments/gbhk3a/dont_bring_may_flo...</td>\n",
       "      <td>all_ads</td>\n",
       "      <td>True</td>\n",
       "      <td>https://www.reddit.com/r/AskWomen/comments/gbh...</td>\n",
       "      <td>1443606</td>\n",
       "      <td>1.588338e+09</td>\n",
       "      <td>0</td>\n",
       "      <td>None</td>\n",
       "      <td>False</td>\n",
       "    </tr>\n",
       "    <tr>\n",
       "      <th>1</th>\n",
       "      <td>None</td>\n",
       "      <td>AskWomen</td>\n",
       "      <td></td>\n",
       "      <td>t2_65s0n6w2</td>\n",
       "      <td>False</td>\n",
       "      <td>None</td>\n",
       "      <td>0</td>\n",
       "      <td>False</td>\n",
       "      <td>What are the best parts about living on your own?</td>\n",
       "      <td>[]</td>\n",
       "      <td>...</td>\n",
       "      <td>None</td>\n",
       "      <td>/r/AskWomen/comments/geui6z/what_are_the_best_...</td>\n",
       "      <td>all_ads</td>\n",
       "      <td>False</td>\n",
       "      <td>https://www.reddit.com/r/AskWomen/comments/geu...</td>\n",
       "      <td>1443606</td>\n",
       "      <td>1.588805e+09</td>\n",
       "      <td>0</td>\n",
       "      <td>None</td>\n",
       "      <td>False</td>\n",
       "    </tr>\n",
       "    <tr>\n",
       "      <th>2</th>\n",
       "      <td>None</td>\n",
       "      <td>AskWomen</td>\n",
       "      <td></td>\n",
       "      <td>t2_6csyrwb9</td>\n",
       "      <td>False</td>\n",
       "      <td>None</td>\n",
       "      <td>0</td>\n",
       "      <td>False</td>\n",
       "      <td>Does anyone experience \"emotional hangovers,\" ...</td>\n",
       "      <td>[]</td>\n",
       "      <td>...</td>\n",
       "      <td>None</td>\n",
       "      <td>/r/AskWomen/comments/ged4th/does_anyone_experi...</td>\n",
       "      <td>all_ads</td>\n",
       "      <td>False</td>\n",
       "      <td>https://www.reddit.com/r/AskWomen/comments/ged...</td>\n",
       "      <td>1443606</td>\n",
       "      <td>1.588739e+09</td>\n",
       "      <td>0</td>\n",
       "      <td>None</td>\n",
       "      <td>False</td>\n",
       "    </tr>\n",
       "    <tr>\n",
       "      <th>3</th>\n",
       "      <td>None</td>\n",
       "      <td>AskWomen</td>\n",
       "      <td>For example, having strong opinions on persona...</td>\n",
       "      <td>t2_3abqs5qd</td>\n",
       "      <td>False</td>\n",
       "      <td>None</td>\n",
       "      <td>0</td>\n",
       "      <td>False</td>\n",
       "      <td>How do you deal with critical people that spea...</td>\n",
       "      <td>[]</td>\n",
       "      <td>...</td>\n",
       "      <td>None</td>\n",
       "      <td>/r/AskWomen/comments/geq47t/how_do_you_deal_wi...</td>\n",
       "      <td>all_ads</td>\n",
       "      <td>False</td>\n",
       "      <td>https://www.reddit.com/r/AskWomen/comments/geq...</td>\n",
       "      <td>1443606</td>\n",
       "      <td>1.588791e+09</td>\n",
       "      <td>0</td>\n",
       "      <td>None</td>\n",
       "      <td>False</td>\n",
       "    </tr>\n",
       "    <tr>\n",
       "      <th>4</th>\n",
       "      <td>None</td>\n",
       "      <td>AskWomen</td>\n",
       "      <td></td>\n",
       "      <td>t2_68ckhkmv</td>\n",
       "      <td>False</td>\n",
       "      <td>None</td>\n",
       "      <td>0</td>\n",
       "      <td>False</td>\n",
       "      <td>What’s one mistake your mother made that you v...</td>\n",
       "      <td>[]</td>\n",
       "      <td>...</td>\n",
       "      <td>None</td>\n",
       "      <td>/r/AskWomen/comments/gervl3/whats_one_mistake_...</td>\n",
       "      <td>all_ads</td>\n",
       "      <td>False</td>\n",
       "      <td>https://www.reddit.com/r/AskWomen/comments/ger...</td>\n",
       "      <td>1443606</td>\n",
       "      <td>1.588797e+09</td>\n",
       "      <td>0</td>\n",
       "      <td>None</td>\n",
       "      <td>False</td>\n",
       "    </tr>\n",
       "  </tbody>\n",
       "</table>\n",
       "<p>5 rows × 102 columns</p>\n",
       "</div>"
      ],
      "text/plain": [
       "  approved_at_utc subreddit  \\\n",
       "0            None  AskWomen   \n",
       "1            None  AskWomen   \n",
       "2            None  AskWomen   \n",
       "3            None  AskWomen   \n",
       "4            None  AskWomen   \n",
       "\n",
       "                                            selftext author_fullname  saved  \\\n",
       "0  This is the third version of our COVID-19 post...     t2_2i2lkmum  False   \n",
       "1                                                        t2_65s0n6w2  False   \n",
       "2                                                        t2_6csyrwb9  False   \n",
       "3  For example, having strong opinions on persona...     t2_3abqs5qd  False   \n",
       "4                                                        t2_68ckhkmv  False   \n",
       "\n",
       "  mod_reason_title  gilded  clicked  \\\n",
       "0             None       0    False   \n",
       "1             None       0    False   \n",
       "2             None       0    False   \n",
       "3             None       0    False   \n",
       "4             None       0    False   \n",
       "\n",
       "                                               title link_flair_richtext  ...  \\\n",
       "0  Don't Bring May Flowers - Coronavrius Mega Thr...                  []  ...   \n",
       "1  What are the best parts about living on your own?                  []  ...   \n",
       "2  Does anyone experience \"emotional hangovers,\" ...                  []  ...   \n",
       "3  How do you deal with critical people that spea...                  []  ...   \n",
       "4  What’s one mistake your mother made that you v...                  []  ...   \n",
       "\n",
       "  author_flair_text_color                                          permalink  \\\n",
       "0                    dark  /r/AskWomen/comments/gbhk3a/dont_bring_may_flo...   \n",
       "1                    None  /r/AskWomen/comments/geui6z/what_are_the_best_...   \n",
       "2                    None  /r/AskWomen/comments/ged4th/does_anyone_experi...   \n",
       "3                    None  /r/AskWomen/comments/geq47t/how_do_you_deal_wi...   \n",
       "4                    None  /r/AskWomen/comments/gervl3/whats_one_mistake_...   \n",
       "\n",
       "   parent_whitelist_status stickied  \\\n",
       "0                  all_ads     True   \n",
       "1                  all_ads    False   \n",
       "2                  all_ads    False   \n",
       "3                  all_ads    False   \n",
       "4                  all_ads    False   \n",
       "\n",
       "                                                 url  subreddit_subscribers  \\\n",
       "0  https://www.reddit.com/r/AskWomen/comments/gbh...                1443606   \n",
       "1  https://www.reddit.com/r/AskWomen/comments/geu...                1443606   \n",
       "2  https://www.reddit.com/r/AskWomen/comments/ged...                1443606   \n",
       "3  https://www.reddit.com/r/AskWomen/comments/geq...                1443606   \n",
       "4  https://www.reddit.com/r/AskWomen/comments/ger...                1443606   \n",
       "\n",
       "    created_utc  num_crossposts media  is_video  \n",
       "0  1.588338e+09               0  None     False  \n",
       "1  1.588805e+09               0  None     False  \n",
       "2  1.588739e+09               0  None     False  \n",
       "3  1.588791e+09               0  None     False  \n",
       "4  1.588797e+09               0  None     False  \n",
       "\n",
       "[5 rows x 102 columns]"
      ]
     },
     "execution_count": 9,
     "metadata": {},
     "output_type": "execute_result"
    }
   ],
   "source": [
    "# create a dataframe call askmen\n",
    "\n",
    "askwomen = [p['data'] for p in askwomen_data]\n",
    "pd.DataFrame(askwomen).head()"
   ]
  },
  {
   "cell_type": "code",
   "execution_count": 10,
   "metadata": {},
   "outputs": [],
   "source": [
    "#pd.DataFrame(askwomen).to_csv('datasets/askwomen_trial.csv')"
   ]
  },
  {
   "cell_type": "code",
   "execution_count": 11,
   "metadata": {},
   "outputs": [
    {
     "data": {
      "text/plain": [
       "'t3_gezcbs'"
      ]
     },
     "execution_count": 11,
     "metadata": {},
     "output_type": "execute_result"
    }
   ],
   "source": [
    "# fullname of the listing that follows after this page\n",
    "\n",
    "askwomen_dict['data']['after']"
   ]
  },
  {
   "cell_type": "code",
   "execution_count": 12,
   "metadata": {},
   "outputs": [
    {
     "data": {
      "text/plain": [
       "0     t3_gbhk3a\n",
       "1     t3_geui6z\n",
       "2     t3_ged4th\n",
       "3     t3_geq47t\n",
       "4     t3_gervl3\n",
       "5     t3_geqbbj\n",
       "6     t3_geka0q\n",
       "7     t3_gev47v\n",
       "8     t3_geq04u\n",
       "9     t3_gf00ls\n",
       "10    t3_geuy9j\n",
       "11    t3_gey5u7\n",
       "12    t3_gevnla\n",
       "13    t3_get4ru\n",
       "14    t3_gewcbn\n",
       "15    t3_geugk8\n",
       "16    t3_geovp5\n",
       "17    t3_gf0s0g\n",
       "18    t3_gf1o0l\n",
       "19    t3_geulju\n",
       "20    t3_gezvko\n",
       "21    t3_gextwz\n",
       "22    t3_ges7r4\n",
       "23    t3_gf0j0s\n",
       "24    t3_gf09nu\n",
       "25    t3_gezcbs\n",
       "Name: name, dtype: object"
      ]
     },
     "execution_count": 12,
     "metadata": {},
     "output_type": "execute_result"
    }
   ],
   "source": [
    "pd.DataFrame(askwomen)['name']"
   ]
  },
  {
   "cell_type": "code",
   "execution_count": 13,
   "metadata": {},
   "outputs": [
    {
     "data": {
      "text/plain": [
       "'https://www.reddit.com/r/AskWomen/.json?after=t3_gezcbs&limit=100'"
      ]
     },
     "execution_count": 13,
     "metadata": {},
     "output_type": "execute_result"
    }
   ],
   "source": [
    "# url\n",
    "\n",
    "url + '?after=' + askwomen_dict['data']['after'] + '&limit=100'"
   ]
  },
  {
   "cell_type": "code",
   "execution_count": 21,
   "metadata": {},
   "outputs": [
    {
     "name": "stdout",
     "output_type": "stream",
     "text": [
      "https://www.reddit.com/r/AskWomen/.json\n",
      "4\n",
      "https://www.reddit.com/r/AskWomen/.json?after=&limit=100\n",
      "3\n",
      "https://www.reddit.com/r/AskWomen/.json?after=&limit=100\n",
      "2\n",
      "https://www.reddit.com/r/AskWomen/.json?after=&limit=100\n",
      "6\n",
      "https://www.reddit.com/r/AskWomen/.json?after=&limit=100\n",
      "3\n",
      "https://www.reddit.com/r/AskWomen/.json?after=&limit=100\n",
      "2\n",
      "https://www.reddit.com/r/AskWomen/.json?after=&limit=100\n",
      "6\n",
      "https://www.reddit.com/r/AskWomen/.json?after=&limit=100\n",
      "3\n",
      "https://www.reddit.com/r/AskWomen/.json?after=&limit=100\n",
      "2\n",
      "https://www.reddit.com/r/AskWomen/.json?after=&limit=100\n",
      "6\n",
      "https://www.reddit.com/r/AskWomen/.json?after=&limit=100\n",
      "5\n",
      "https://www.reddit.com/r/AskWomen/.json?after=&limit=100\n",
      "2\n"
     ]
    }
   ],
   "source": [
    "# Looping through the post, 100 posts at a time\n",
    "\n",
    "askwomen = []\n",
    "after = None\n",
    "\n",
    "for a in range(12):\n",
    "    \n",
    "    # URL\n",
    "    if after == None:\n",
    "        current_url = url\n",
    "    else:\n",
    "        current_url = url + '?after=' + '&limit=100'\n",
    "    \n",
    "    # Request\n",
    "    print(current_url)\n",
    "    res = requests.get(current_url, headers={'User-agent':'Pony Inc 1.0'})\n",
    "    \n",
    "    # Check status code\n",
    "    if res.status_code != 200:\n",
    "        print('Status error', res.status_code)\n",
    "        break\n",
    "    \n",
    "    # List and extend all the posts\n",
    "    current_dict = res.json()\n",
    "    current_posts = [p['data'] for p in current_dict['data']['children']]\n",
    "    askwomen.extend(current_posts)\n",
    "    after = current_dict['data']['after']\n",
    "    \n",
    "    if a > 0:\n",
    "        prev_posts = pd.read_csv('datasets/askwomen.csv')\n",
    "        current_df = pd.DataFrame()\n",
    "        \n",
    "    else:\n",
    "        pd.DataFrame(askwomen).to_csv('datasets/askwomen.csv',index = False)\n",
    "    \n",
    "    # Generate a random sleep duration to look for 'natural'\n",
    "    sleep_duration = random.randint(2,6)\n",
    "    print(sleep_duration)\n",
    "    time.sleep(sleep_duration) # putting program to sleep"
   ]
  },
  {
   "cell_type": "code",
   "execution_count": 22,
   "metadata": {},
   "outputs": [
    {
     "data": {
      "text/plain": [
       "1137"
      ]
     },
     "execution_count": 22,
     "metadata": {},
     "output_type": "execute_result"
    }
   ],
   "source": [
    "len(askwomen)"
   ]
  },
  {
   "cell_type": "code",
   "execution_count": 23,
   "metadata": {},
   "outputs": [],
   "source": [
    "pd.DataFrame(askwomen).to_csv('datasets/askwomen.csv', index = False)"
   ]
  },
  {
   "cell_type": "code",
   "execution_count": null,
   "metadata": {},
   "outputs": [],
   "source": []
  }
 ],
 "metadata": {
  "kernelspec": {
   "display_name": "Python 3",
   "language": "python",
   "name": "python3"
  },
  "language_info": {
   "codemirror_mode": {
    "name": "ipython",
    "version": 3
   },
   "file_extension": ".py",
   "mimetype": "text/x-python",
   "name": "python",
   "nbconvert_exporter": "python",
   "pygments_lexer": "ipython3",
   "version": "3.7.6"
  }
 },
 "nbformat": 4,
 "nbformat_minor": 4
}
