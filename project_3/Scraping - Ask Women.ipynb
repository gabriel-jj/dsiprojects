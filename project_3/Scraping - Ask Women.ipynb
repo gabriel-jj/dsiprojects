{
 "cells": [
  {
   "cell_type": "markdown",
   "metadata": {},
   "source": [
    "## Scraping Data"
   ]
  },
  {
   "cell_type": "markdown",
   "metadata": {},
   "source": [
    "### Ask Women"
   ]
  },
  {
   "cell_type": "code",
   "execution_count": 2,
   "metadata": {},
   "outputs": [],
   "source": [
    "# Import Libraries\n",
    "\n",
    "import pandas as pd\n",
    "import requests\n",
    "import time\n",
    "import random"
   ]
  },
  {
   "cell_type": "code",
   "execution_count": 3,
   "metadata": {},
   "outputs": [],
   "source": [
    "# Askwomen URL\n",
    "\n",
    "url = \"https://www.reddit.com/r/AskWomen/top.json?t=all\""
   ]
  },
  {
   "cell_type": "code",
   "execution_count": 4,
   "metadata": {},
   "outputs": [],
   "source": [
    "# Request using different user-agent\n",
    "\n",
    "res = requests.get(url,headers={'user-agent':'Pony Inc 1.0'})"
   ]
  },
  {
   "cell_type": "code",
   "execution_count": 5,
   "metadata": {},
   "outputs": [
    {
     "data": {
      "text/plain": [
       "200"
      ]
     },
     "execution_count": 5,
     "metadata": {},
     "output_type": "execute_result"
    }
   ],
   "source": [
    "# Check Status code\n",
    "\n",
    "res.status_code"
   ]
  },
  {
   "cell_type": "code",
   "execution_count": 6,
   "metadata": {},
   "outputs": [],
   "source": [
    "# Json format\n",
    "\n",
    "askwomen_dict = res.json()"
   ]
  },
  {
   "cell_type": "code",
   "execution_count": 7,
   "metadata": {},
   "outputs": [
    {
     "data": {
      "text/plain": [
       "dict_keys(['modhash', 'dist', 'children', 'after', 'before'])"
      ]
     },
     "execution_count": 7,
     "metadata": {},
     "output_type": "execute_result"
    }
   ],
   "source": [
    "askwomen_dict['data'].keys()"
   ]
  },
  {
   "cell_type": "code",
   "execution_count": 8,
   "metadata": {},
   "outputs": [],
   "source": [
    "# Targeted posts in a list\n",
    "\n",
    "askwomen_data = askwomen_dict['data']['children']"
   ]
  },
  {
   "cell_type": "code",
   "execution_count": 9,
   "metadata": {},
   "outputs": [
    {
     "data": {
      "text/plain": [
       "''"
      ]
     },
     "execution_count": 9,
     "metadata": {},
     "output_type": "execute_result"
    }
   ],
   "source": [
    "# First post in the list\n",
    "\n",
    "askwomen_data[0]['data']['selftext']"
   ]
  },
  {
   "cell_type": "code",
   "execution_count": 10,
   "metadata": {},
   "outputs": [
    {
     "data": {
      "text/html": [
       "<div>\n",
       "<style scoped>\n",
       "    .dataframe tbody tr th:only-of-type {\n",
       "        vertical-align: middle;\n",
       "    }\n",
       "\n",
       "    .dataframe tbody tr th {\n",
       "        vertical-align: top;\n",
       "    }\n",
       "\n",
       "    .dataframe thead th {\n",
       "        text-align: right;\n",
       "    }\n",
       "</style>\n",
       "<table border=\"1\" class=\"dataframe\">\n",
       "  <thead>\n",
       "    <tr style=\"text-align: right;\">\n",
       "      <th></th>\n",
       "      <th>approved_at_utc</th>\n",
       "      <th>subreddit</th>\n",
       "      <th>selftext</th>\n",
       "      <th>author_fullname</th>\n",
       "      <th>saved</th>\n",
       "      <th>mod_reason_title</th>\n",
       "      <th>gilded</th>\n",
       "      <th>clicked</th>\n",
       "      <th>title</th>\n",
       "      <th>link_flair_richtext</th>\n",
       "      <th>...</th>\n",
       "      <th>parent_whitelist_status</th>\n",
       "      <th>stickied</th>\n",
       "      <th>url</th>\n",
       "      <th>subreddit_subscribers</th>\n",
       "      <th>created_utc</th>\n",
       "      <th>num_crossposts</th>\n",
       "      <th>media</th>\n",
       "      <th>is_video</th>\n",
       "      <th>link_flair_template_id</th>\n",
       "      <th>author_cakeday</th>\n",
       "    </tr>\n",
       "  </thead>\n",
       "  <tbody>\n",
       "    <tr>\n",
       "      <th>0</th>\n",
       "      <td>None</td>\n",
       "      <td>AskWomen</td>\n",
       "      <td></td>\n",
       "      <td>t2_zako139</td>\n",
       "      <td>False</td>\n",
       "      <td>None</td>\n",
       "      <td>0</td>\n",
       "      <td>False</td>\n",
       "      <td>As an introvert, how do you feel about this qu...</td>\n",
       "      <td>[]</td>\n",
       "      <td>...</td>\n",
       "      <td>all_ads</td>\n",
       "      <td>False</td>\n",
       "      <td>https://www.reddit.com/r/AskWomen/comments/9fu...</td>\n",
       "      <td>1455513</td>\n",
       "      <td>1.536948e+09</td>\n",
       "      <td>6</td>\n",
       "      <td>None</td>\n",
       "      <td>False</td>\n",
       "      <td>NaN</td>\n",
       "      <td>NaN</td>\n",
       "    </tr>\n",
       "    <tr>\n",
       "      <th>1</th>\n",
       "      <td>None</td>\n",
       "      <td>AskWomen</td>\n",
       "      <td></td>\n",
       "      <td>t2_10zxg2tw</td>\n",
       "      <td>False</td>\n",
       "      <td>None</td>\n",
       "      <td>0</td>\n",
       "      <td>False</td>\n",
       "      <td>What is the most intimate, non-sex thing you d...</td>\n",
       "      <td>[]</td>\n",
       "      <td>...</td>\n",
       "      <td>all_ads</td>\n",
       "      <td>False</td>\n",
       "      <td>https://www.reddit.com/r/AskWomen/comments/a4l...</td>\n",
       "      <td>1455513</td>\n",
       "      <td>1.544364e+09</td>\n",
       "      <td>5</td>\n",
       "      <td>None</td>\n",
       "      <td>False</td>\n",
       "      <td>NaN</td>\n",
       "      <td>NaN</td>\n",
       "    </tr>\n",
       "    <tr>\n",
       "      <th>2</th>\n",
       "      <td>None</td>\n",
       "      <td>AskWomen</td>\n",
       "      <td></td>\n",
       "      <td>t2_2ovwp4uz</td>\n",
       "      <td>False</td>\n",
       "      <td>None</td>\n",
       "      <td>1</td>\n",
       "      <td>False</td>\n",
       "      <td>What do women do, that men would never think a...</td>\n",
       "      <td>[]</td>\n",
       "      <td>...</td>\n",
       "      <td>all_ads</td>\n",
       "      <td>False</td>\n",
       "      <td>https://www.reddit.com/r/AskWomen/comments/aba...</td>\n",
       "      <td>1455513</td>\n",
       "      <td>1.546287e+09</td>\n",
       "      <td>1</td>\n",
       "      <td>None</td>\n",
       "      <td>False</td>\n",
       "      <td>NaN</td>\n",
       "      <td>NaN</td>\n",
       "    </tr>\n",
       "    <tr>\n",
       "      <th>3</th>\n",
       "      <td>None</td>\n",
       "      <td>AskWomen</td>\n",
       "      <td></td>\n",
       "      <td>t2_2om5ih48</td>\n",
       "      <td>False</td>\n",
       "      <td>None</td>\n",
       "      <td>0</td>\n",
       "      <td>False</td>\n",
       "      <td>Women who gave \"nice guys\" a chance how did it...</td>\n",
       "      <td>[]</td>\n",
       "      <td>...</td>\n",
       "      <td>all_ads</td>\n",
       "      <td>False</td>\n",
       "      <td>https://www.reddit.com/r/AskWomen/comments/a2c...</td>\n",
       "      <td>1455513</td>\n",
       "      <td>1.543750e+09</td>\n",
       "      <td>5</td>\n",
       "      <td>None</td>\n",
       "      <td>False</td>\n",
       "      <td>2a15fbc4-02f5-11e3-99ea-12313d14a9cb</td>\n",
       "      <td>NaN</td>\n",
       "    </tr>\n",
       "    <tr>\n",
       "      <th>4</th>\n",
       "      <td>None</td>\n",
       "      <td>AskWomen</td>\n",
       "      <td>What made a guy once think you wanted him, whi...</td>\n",
       "      <td>t2_2nilu1kr</td>\n",
       "      <td>False</td>\n",
       "      <td>None</td>\n",
       "      <td>1</td>\n",
       "      <td>False</td>\n",
       "      <td>What are some things that guys misinterpret fr...</td>\n",
       "      <td>[]</td>\n",
       "      <td>...</td>\n",
       "      <td>all_ads</td>\n",
       "      <td>False</td>\n",
       "      <td>https://www.reddit.com/r/AskWomen/comments/a15...</td>\n",
       "      <td>1455513</td>\n",
       "      <td>1.543408e+09</td>\n",
       "      <td>0</td>\n",
       "      <td>None</td>\n",
       "      <td>False</td>\n",
       "      <td>NaN</td>\n",
       "      <td>NaN</td>\n",
       "    </tr>\n",
       "  </tbody>\n",
       "</table>\n",
       "<p>5 rows × 103 columns</p>\n",
       "</div>"
      ],
      "text/plain": [
       "  approved_at_utc subreddit  \\\n",
       "0            None  AskWomen   \n",
       "1            None  AskWomen   \n",
       "2            None  AskWomen   \n",
       "3            None  AskWomen   \n",
       "4            None  AskWomen   \n",
       "\n",
       "                                            selftext author_fullname  saved  \\\n",
       "0                                                         t2_zako139  False   \n",
       "1                                                        t2_10zxg2tw  False   \n",
       "2                                                        t2_2ovwp4uz  False   \n",
       "3                                                        t2_2om5ih48  False   \n",
       "4  What made a guy once think you wanted him, whi...     t2_2nilu1kr  False   \n",
       "\n",
       "  mod_reason_title  gilded  clicked  \\\n",
       "0             None       0    False   \n",
       "1             None       0    False   \n",
       "2             None       1    False   \n",
       "3             None       0    False   \n",
       "4             None       1    False   \n",
       "\n",
       "                                               title link_flair_richtext  ...  \\\n",
       "0  As an introvert, how do you feel about this qu...                  []  ...   \n",
       "1  What is the most intimate, non-sex thing you d...                  []  ...   \n",
       "2  What do women do, that men would never think a...                  []  ...   \n",
       "3  Women who gave \"nice guys\" a chance how did it...                  []  ...   \n",
       "4  What are some things that guys misinterpret fr...                  []  ...   \n",
       "\n",
       "  parent_whitelist_status  stickied  \\\n",
       "0                 all_ads     False   \n",
       "1                 all_ads     False   \n",
       "2                 all_ads     False   \n",
       "3                 all_ads     False   \n",
       "4                 all_ads     False   \n",
       "\n",
       "                                                 url subreddit_subscribers  \\\n",
       "0  https://www.reddit.com/r/AskWomen/comments/9fu...               1455513   \n",
       "1  https://www.reddit.com/r/AskWomen/comments/a4l...               1455513   \n",
       "2  https://www.reddit.com/r/AskWomen/comments/aba...               1455513   \n",
       "3  https://www.reddit.com/r/AskWomen/comments/a2c...               1455513   \n",
       "4  https://www.reddit.com/r/AskWomen/comments/a15...               1455513   \n",
       "\n",
       "    created_utc  num_crossposts media  is_video  \\\n",
       "0  1.536948e+09               6  None     False   \n",
       "1  1.544364e+09               5  None     False   \n",
       "2  1.546287e+09               1  None     False   \n",
       "3  1.543750e+09               5  None     False   \n",
       "4  1.543408e+09               0  None     False   \n",
       "\n",
       "                 link_flair_template_id  author_cakeday  \n",
       "0                                   NaN             NaN  \n",
       "1                                   NaN             NaN  \n",
       "2                                   NaN             NaN  \n",
       "3  2a15fbc4-02f5-11e3-99ea-12313d14a9cb             NaN  \n",
       "4                                   NaN             NaN  \n",
       "\n",
       "[5 rows x 103 columns]"
      ]
     },
     "execution_count": 10,
     "metadata": {},
     "output_type": "execute_result"
    }
   ],
   "source": [
    "# create a dataframe call askmen\n",
    "\n",
    "askwomen = [p['data'] for p in askwomen_data]\n",
    "pd.DataFrame(askwomen).head()"
   ]
  },
  {
   "cell_type": "code",
   "execution_count": 11,
   "metadata": {},
   "outputs": [
    {
     "data": {
      "text/plain": [
       "'https://www.reddit.com/r/AskWomen/top.json?t=all?after=t3_adkt10&limit=100'"
      ]
     },
     "execution_count": 11,
     "metadata": {},
     "output_type": "execute_result"
    }
   ],
   "source": [
    "# url\n",
    "\n",
    "url + '?after=' + askwomen_dict['data']['after'] + '&limit=100'"
   ]
  },
  {
   "cell_type": "code",
   "execution_count": 14,
   "metadata": {
    "scrolled": false
   },
   "outputs": [
    {
     "name": "stdout",
     "output_type": "stream",
     "text": [
      "https://www.reddit.com/r/AskWomen/top.json?t=all\n",
      "t3_adkt10\n",
      "5\n",
      "https://www.reddit.com/r/AskWomen/top.json?t=all&after=t3_adkt10&limit=100\n",
      "t3_g9ub60\n",
      "(125, 103)\n",
      "2\n",
      "https://www.reddit.com/r/AskWomen/top.json?t=all&after=t3_g9ub60&limit=100\n",
      "t3_f0kfp3\n",
      "(225, 103)\n",
      "3\n",
      "https://www.reddit.com/r/AskWomen/top.json?t=all&after=t3_f0kfp3&limit=100\n",
      "t3_ahd8tp\n",
      "(325, 103)\n",
      "5\n",
      "https://www.reddit.com/r/AskWomen/top.json?t=all&after=t3_ahd8tp&limit=100\n",
      "t3_f4xbm3\n",
      "(425, 103)\n",
      "2\n",
      "https://www.reddit.com/r/AskWomen/top.json?t=all&after=t3_f4xbm3&limit=100\n",
      "t3_8vi2ow\n",
      "(525, 103)\n",
      "3\n",
      "https://www.reddit.com/r/AskWomen/top.json?t=all&after=t3_8vi2ow&limit=100\n",
      "t3_s572b\n",
      "(625, 103)\n",
      "2\n",
      "https://www.reddit.com/r/AskWomen/top.json?t=all&after=t3_s572b&limit=100\n",
      "t3_e9l24x\n",
      "(725, 103)\n",
      "6\n",
      "https://www.reddit.com/r/AskWomen/top.json?t=all&after=t3_e9l24x&limit=100\n",
      "t3_4n7rtd\n",
      "(825, 103)\n",
      "6\n",
      "https://www.reddit.com/r/AskWomen/top.json?t=all&after=t3_4n7rtd&limit=100\n",
      "t3_80wgr2\n",
      "(925, 103)\n",
      "4\n"
     ]
    }
   ],
   "source": [
    "# Looping through the post, 100 posts at a time\n",
    "\n",
    "url = \"https://www.reddit.com/r/AskWomen/top.json?t=all\"\n",
    "askwomen = []\n",
    "after = None\n",
    "\n",
    "for a in range(10):\n",
    "    \n",
    "    # URL\n",
    "    if after == None:\n",
    "        current_url = url\n",
    "    else:\n",
    "        current_url = url + '&after=' + after + '&limit=100'\n",
    "    \n",
    "    # Request\n",
    "    print(current_url)\n",
    "    res = requests.get(current_url, headers={'User-agent':'Pony Inc 1.0'})\n",
    "    \n",
    "    # Check status code\n",
    "    if res.status_code != 200:\n",
    "        print('Status error', res.status_code)\n",
    "        break\n",
    "    \n",
    "    # List and extend all the posts\n",
    "    current_dict = res.json()\n",
    "    current_posts = [p['data'] for p in current_dict['data']['children']]\n",
    "    askwomen.extend(current_posts)\n",
    "    after = current_dict['data']['after']\n",
    "    print(after)\n",
    "    \n",
    "    if a > 0:\n",
    "        prev_posts = pd.read_csv('datasets/askwomen.csv')\n",
    "        current_df = pd.DataFrame(askwomen)\n",
    "        current_df.to_csv('datasets/askwomen.csv',index = False)\n",
    "        print(current_df.shape)\n",
    "    else:\n",
    "        pd.DataFrame(askwomen).to_csv('datasets/askwomen.csv',index = False)\n",
    "    \n",
    "    # Generate a random sleep duration to look for 'natural'\n",
    "    sleep_duration = random.randint(2,6)\n",
    "    print(sleep_duration)\n",
    "    time.sleep(sleep_duration) # putting program to sleep"
   ]
  },
  {
   "cell_type": "code",
   "execution_count": 15,
   "metadata": {},
   "outputs": [
    {
     "data": {
      "text/plain": [
       "925"
      ]
     },
     "execution_count": 15,
     "metadata": {},
     "output_type": "execute_result"
    }
   ],
   "source": [
    "len(current_df)"
   ]
  },
  {
   "cell_type": "code",
   "execution_count": 23,
   "metadata": {},
   "outputs": [],
   "source": [
    "pd.DataFrame(askwomen).to_csv('datasets/askwomen.csv', index = False)"
   ]
  },
  {
   "cell_type": "code",
   "execution_count": null,
   "metadata": {},
   "outputs": [],
   "source": []
  }
 ],
 "metadata": {
  "kernelspec": {
   "display_name": "Python 3",
   "language": "python",
   "name": "python3"
  },
  "language_info": {
   "codemirror_mode": {
    "name": "ipython",
    "version": 3
   },
   "file_extension": ".py",
   "mimetype": "text/x-python",
   "name": "python",
   "nbconvert_exporter": "python",
   "pygments_lexer": "ipython3",
   "version": "3.7.6"
  }
 },
 "nbformat": 4,
 "nbformat_minor": 4
}
